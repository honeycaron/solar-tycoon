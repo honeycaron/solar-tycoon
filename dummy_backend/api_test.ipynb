{
 "cells": [
  {
   "cell_type": "code",
   "execution_count": 1,
   "metadata": {
    "ExecuteTime": {
     "end_time": "2024-08-07T22:42:59.364545100Z",
     "start_time": "2024-08-07T22:42:58.867224400Z"
    }
   },
   "outputs": [],
   "source": [
    "import requests\n",
    "import json\n",
    "import websocket\n",
    "import traceback\n",
    "\n",
    "class MyWebSocket:\n",
    "    def __init__(self):\n",
    "        self.received_data = None\n",
    "\n",
    "    def on_error(self, ws, error):\n",
    "        traceback_error = ''.join(traceback.format_tb(error.__traceback__))\n",
    "        print(f\"WebSocket error: {traceback_error}\")\n",
    "\n",
    "    def on_close(self, ws, a, b):\n",
    "        print(\"WebSocket connection closed\")\n",
    "\n",
    "    def on_message(self, ws, message):\n",
    "        message = json.loads(message)\n",
    "\n",
    "        if 'errorCodes' in message.keys():\n",
    "            print(\"Received disconnect signal, closing connection\")\n",
    "            print(message)\n",
    "            ws.close()\n",
    "        else:\n",
    "            if message['finished'] == 'Y'  and message['message_id'] != '':\n",
    "                self.received_data = message\n",
    "                print(\"\\nReceived disconnect signal, closing connection\")\n",
    "                ws.close()\n",
    "\n",
    "            else:\n",
    "                if message['response_content'] == '':\n",
    "                    if message['wait_message'] == '추천 질문 리스트를 생성 중입니다':\n",
    "                        print(f\"\\n\\n- {message['wait_message']}\")\n",
    "\n",
    "                    elif message['wait_message'] == '답변을 생성 중입니다':\n",
    "                        print(f\"- {message['wait_message']}\\n\")\n",
    "\n",
    "                    else:\n",
    "                        print(f\"- {message['wait_message']}\")\n",
    "\n",
    "                elif message['response_type'] == 'text':\n",
    "                    print(message['response_content'], end='')\n",
    "                else:\n",
    "                    print(message['response_content'])\n",
    "\n",
    "    def on_open(self, ws, data):\n",
    "        print(\"WebSocket connection opened\")\n",
    "        ws.send(json.dumps(data))\n",
    "\n",
    "    def get_received_data(self):\n",
    "        return self.received_data\n",
    "\n",
    "    def run(self, url, body):\n",
    "        ws = websocket.WebSocketApp(url,\n",
    "                                    on_message=self.on_message,\n",
    "                                    on_error=self.on_error,\n",
    "                                    on_close=self.on_close)\n",
    "\n",
    "        ws.on_open = lambda ws: self.on_open(ws, body)\n",
    "        ws.run_forever()"
   ]
  },
  {
   "cell_type": "markdown",
   "metadata": {},
   "source": [
    "# DNS 설정"
   ]
  },
  {
   "cell_type": "code",
   "execution_count": 14,
   "metadata": {
    "ExecuteTime": {
     "end_time": "2024-08-07T22:52:52.502475100Z",
     "start_time": "2024-08-07T22:52:52.495957900Z"
    }
   },
   "outputs": [],
   "source": [
    "aia_dns = 'http://127.0.0.1:4000'\n",
    "t2s_dns = 'http://127.0.0.1:5000'"
   ]
  },
  {
   "cell_type": "markdown",
   "metadata": {},
   "source": [
    "# AIA"
   ]
  },
  {
   "cell_type": "markdown",
   "metadata": {},
   "source": [
    "## login"
   ]
  },
  {
   "cell_type": "code",
   "execution_count": 16,
   "metadata": {
    "ExecuteTime": {
     "end_time": "2024-08-07T22:52:57.405309100Z",
     "start_time": "2024-08-07T22:52:57.403791Z"
    }
   },
   "outputs": [],
   "source": [
    "id='hello'\n",
    "password='bye'"
   ]
  },
  {
   "cell_type": "code",
   "execution_count": 17,
   "metadata": {
    "ExecuteTime": {
     "end_time": "2024-08-07T22:52:58.133313Z",
     "start_time": "2024-08-07T22:52:58.121030800Z"
    }
   },
   "outputs": [],
   "source": [
    "response = requests.post(url = f'{aia_dns}/login', json = {\"id\":id, \"password\": password})"
   ]
  },
  {
   "cell_type": "code",
   "execution_count": 18,
   "metadata": {
    "ExecuteTime": {
     "end_time": "2024-08-07T22:52:59.714273700Z",
     "start_time": "2024-08-07T22:52:59.705567200Z"
    }
   },
   "outputs": [
    {
     "data": {
      "text/plain": "{'status': 'success', 'message': 'hello login success'}"
     },
     "execution_count": 18,
     "metadata": {},
     "output_type": "execute_result"
    }
   ],
   "source": [
    "eval(response.text)"
   ]
  },
  {
   "cell_type": "markdown",
   "metadata": {},
   "source": [
    "## home"
   ]
  },
  {
   "cell_type": "code",
   "execution_count": 19,
   "metadata": {
    "ExecuteTime": {
     "end_time": "2024-08-07T22:53:03.676683800Z",
     "start_time": "2024-08-07T22:53:03.666708900Z"
    }
   },
   "outputs": [],
   "source": [
    "response = requests.post(url = f'{aia_dns}/home', json = {\"id\":\"hello\"})"
   ]
  },
  {
   "cell_type": "code",
   "execution_count": 20,
   "metadata": {
    "ExecuteTime": {
     "end_time": "2024-08-07T22:53:04.639782100Z",
     "start_time": "2024-08-07T22:53:04.631494900Z"
    }
   },
   "outputs": [
    {
     "data": {
      "text/plain": "{'id': 'hello',\n 'favorites': 'N',\n 'favorites_list': [],\n 'svc_list': [{'svc_id': '1',\n   'svc_nm': '사내 업무 정보 검색',\n   'svc_dns': 'http://127.0.0.1:4000',\n   'svc_ws': 'ws://127.0.0.1:4000',\n   'backend_svc_id': 'aia',\n   'user_type': '카드회사에서 고객의 문의를 상담해주고 있는 Call Center 상담원',\n   'response_style': 'bullet point 형식으로 간결하게',\n   'selected': 'Y'},\n  {'svc_id': '2',\n   'svc_nm': 'ERP 데이터 조회',\n   'svc_dns': 'http://127.0.0.1:5000',\n   'svc_ws': 'ws://127.0.0.1:5000',\n   'backend_svc_id': 't2s',\n   'user_type': '지점에서 지계수 데이터를 취합하는 현업 직원',\n   'response_style': '질의에 적합한 SQL 쿼리와 데이터 추출',\n   'selected': 'N'},\n  {'svc_id': '3',\n   'svc_nm': '이벤트 홍보 문구 및 이미지 생성',\n   'svc_dns': 'http://127.0.0.1:6000',\n   'svc_ws': 'ws://127.0.0.1:6000',\n   'backend_svc_id': 'epa',\n   'user_type': '현업 이벤트 기획 담당자',\n   'response_style': '이벤트 컨텐츠 제작 요청 문서 초안 생성',\n   'selected': 'N'}]}"
     },
     "execution_count": 20,
     "metadata": {},
     "output_type": "execute_result"
    }
   ],
   "source": [
    "eval(response.text)"
   ]
  },
  {
   "cell_type": "markdown",
   "metadata": {},
   "source": [
    "## question"
   ]
  },
  {
   "cell_type": "code",
   "execution_count": 21,
   "metadata": {
    "ExecuteTime": {
     "end_time": "2024-08-07T22:53:15.475577500Z",
     "start_time": "2024-08-07T22:53:15.467062600Z"
    }
   },
   "outputs": [],
   "source": [
    "chat_id = '1234561ddddd'"
   ]
  },
  {
   "cell_type": "code",
   "execution_count": 22,
   "metadata": {
    "ExecuteTime": {
     "end_time": "2024-08-07T22:53:15.702877500Z",
     "start_time": "2024-08-07T22:53:15.700360800Z"
    }
   },
   "outputs": [],
   "source": [
    "ws_dns = aia_dns.replace('http:', 'ws:')"
   ]
  },
  {
   "cell_type": "code",
   "execution_count": 23,
   "metadata": {
    "ExecuteTime": {
     "end_time": "2024-08-07T22:53:16.914277400Z",
     "start_time": "2024-08-07T22:53:16.911758900Z"
    }
   },
   "outputs": [],
   "source": [
    "body = {\"question\": \"Hello, WebSocket!\"}"
   ]
  },
  {
   "cell_type": "code",
   "execution_count": 24,
   "metadata": {
    "ExecuteTime": {
     "end_time": "2024-08-07T22:53:21.380588900Z",
     "start_time": "2024-08-07T22:53:17.349916400Z"
    }
   },
   "outputs": [
    {
     "name": "stdout",
     "output_type": "stream",
     "text": [
      "WebSocket connection opened\n",
      "- 메뉴얼 탐색 중입니다\n",
      "안녕하세요 수민님. 잘 부탁드립니다.테스트를 위해좀 더 내용을 늘려 보았습니다.[[FD팀 BL] 해외거래정지 3495/3496/2499 (그외\n",
      "기타)](https://www.naver.com)\n",
      "https://www.shinhancard.com/pconts/images/contents/card/plate/cdCreaditBJCBLP.png\n",
      "FastAPI 로 Backend 구축하는 방법은?\n",
      "소캣을 활용하여 스트리밍 구현하는 방법은?\n",
      "\n",
      "Received disconnect signal, closing connection\n",
      "WebSocket connection closed\n"
     ]
    }
   ],
   "source": [
    "ws = MyWebSocket()\n",
    "ws.run(f'{ws_dns}/question/{id}/{chat_id}', body)\n",
    "message_id = ws.get_received_data()['message_id']"
   ]
  },
  {
   "cell_type": "markdown",
   "metadata": {},
   "source": [
    "## feedback"
   ]
  },
  {
   "cell_type": "code",
   "execution_count": 23,
   "metadata": {},
   "outputs": [
    {
     "ename": "NameError",
     "evalue": "name 'response_json' is not defined",
     "output_type": "error",
     "traceback": [
      "\u001B[0;31m---------------------------------------------------------------------------\u001B[0m",
      "\u001B[0;31mNameError\u001B[0m                                 Traceback (most recent call last)",
      "Cell \u001B[0;32mIn[23], line 1\u001B[0m\n\u001B[0;32m----> 1\u001B[0m \u001B[38;5;28mid\u001B[39m \u001B[38;5;241m=\u001B[39m \u001B[43mresponse_json\u001B[49m[\u001B[38;5;124m'\u001B[39m\u001B[38;5;124mid\u001B[39m\u001B[38;5;124m'\u001B[39m]\n\u001B[1;32m      2\u001B[0m chat_id \u001B[38;5;241m=\u001B[39m response_json[\u001B[38;5;124m'\u001B[39m\u001B[38;5;124mchat_id\u001B[39m\u001B[38;5;124m'\u001B[39m]\n\u001B[1;32m      3\u001B[0m message_id \u001B[38;5;241m=\u001B[39m response_json[\u001B[38;5;124m'\u001B[39m\u001B[38;5;124mmessage_id\u001B[39m\u001B[38;5;124m'\u001B[39m]\n",
      "\u001B[0;31mNameError\u001B[0m: name 'response_json' is not defined"
     ]
    }
   ],
   "source": [
    "# id = response_json['id']\n",
    "# chat_id = response_json['chat_id']\n",
    "# message_id = response_json['message_id']\n",
    "# message_id = 'kkk'"
   ]
  },
  {
   "cell_type": "code",
   "execution_count": 22,
   "metadata": {},
   "outputs": [],
   "source": [
    "response = requests.post(url = f'{aia_dns}/feedback', json = {\"id\":id,\n",
    "                                                   \"chat_id\" : chat_id,\n",
    "                                                #    \"message_id\": 'kkk',\n",
    "                                                   \"message_id\": message_id,\n",
    "                                                   \"feedback\": \"positive\"\n",
    "                                                   })"
   ]
  },
  {
   "cell_type": "code",
   "execution_count": 23,
   "metadata": {},
   "outputs": [
    {
     "data": {
      "text/plain": [
       "{'status': 'success', 'message': 'positive feedback log success'}"
      ]
     },
     "execution_count": 23,
     "metadata": {},
     "output_type": "execute_result"
    }
   ],
   "source": [
    "eval(response.text)"
   ]
  },
  {
   "cell_type": "markdown",
   "metadata": {},
   "source": [
    "## T2S"
   ]
  },
  {
   "cell_type": "markdown",
   "metadata": {},
   "source": [
    "## home"
   ]
  },
  {
   "cell_type": "code",
   "execution_count": 24,
   "metadata": {},
   "outputs": [],
   "source": [
    "response = requests.post(url = f'{t2s_dns}/home', json = {\"id\":\"hello\"})"
   ]
  },
  {
   "cell_type": "code",
   "execution_count": 25,
   "metadata": {},
   "outputs": [
    {
     "data": {
      "text/plain": [
       "{'id': 'hello',\n",
       " 'favorites': 'N',\n",
       " 'favorites_list': [],\n",
       " 'svc_list': [{'svc_id': '1',\n",
       "   'svc_nm': '상담원 업무 정보 검색',\n",
       "   'svc_dns': 'http://127.0.0.1:5000',\n",
       "   'svc_ws': 'ws://127.0.0.1:5000',\n",
       "   'backend_svc_id': 'aia',\n",
       "   'user_type': '카드회사에서 고객의 문의를 상담해주고 있는 Call Center 상담원',\n",
       "   'response_style': 'bullet point 형식으로 간결하게',\n",
       "   'selected': 'Y'},\n",
       "  {'svc_id': '2',\n",
       "   'svc_nm': '지점 지계수 조회',\n",
       "   'svc_dns': 'http://127.0.0.1:4000',\n",
       "   'svc_ws': 'ws://127.0.0.1:4000',\n",
       "   'backend_svc_id': 't2s',\n",
       "   'user_type': '지점에서 지계수 데이터를 취합하는 현업 직원',\n",
       "   'response_style': '질의에 적합한 SQL 쿼리와 데이터 추출',\n",
       "   'selected': 'N'},\n",
       "  {'svc_id': '3',\n",
       "   'svc_nm': '이벤트 홍보 문구 및 이미지 생성',\n",
       "   'svc_dns': 'http://127.0.0.1:6000',\n",
       "   'svc_ws': 'ws://127.0.0.1:6000',\n",
       "   'backend_svc_id': 'epa',\n",
       "   'user_type': '현업 이벤트 기획 담당자',\n",
       "   'response_style': '이벤트 컨텐츠 제작 요청 문서 초안 생성',\n",
       "   'selected': 'N'}]}"
      ]
     },
     "execution_count": 25,
     "metadata": {},
     "output_type": "execute_result"
    }
   ],
   "source": [
    "eval(response.text)"
   ]
  },
  {
   "cell_type": "markdown",
   "metadata": {},
   "source": [
    "## question"
   ]
  },
  {
   "cell_type": "code",
   "execution_count": 26,
   "metadata": {},
   "outputs": [],
   "source": [
    "chat_id = '1234561'"
   ]
  },
  {
   "cell_type": "code",
   "execution_count": 27,
   "metadata": {},
   "outputs": [],
   "source": [
    "ws_dns = t2s_dns.replace('http:', 'ws:')"
   ]
  },
  {
   "cell_type": "code",
   "execution_count": 28,
   "metadata": {},
   "outputs": [],
   "source": [
    "body = {\"question\": \"Hello, WebSocket!\"}"
   ]
  },
  {
   "cell_type": "code",
   "execution_count": 29,
   "metadata": {},
   "outputs": [
    {
     "name": "stdout",
     "output_type": "stream",
     "text": [
      "WebSocket connection opened\n",
      "- 데이터 탐색 중입니다\n",
      "쿼리  결과는  다음과 같습니다```\n",
      "Select \n",
      "bye \n",
      "from \n",
      "dm.\n",
      "hello\n",
      "```- 쿼리 생성 중입니다\n",
      "```\n",
      "Select \n",
      "kitty \n",
      "from \n",
      "dm.\n",
      "cat\n",
      "```이상 연속쿼리 예제였습니다위버스 샵 결재 내역 뽑아줘\n",
      "법인 카드 매출 뽑아줘\n",
      "\n",
      "Received disconnect signal, closing connection\n",
      "WebSocket connection closed\n"
     ]
    }
   ],
   "source": [
    "ws = MyWebSocket()\n",
    "ws.run(f'{ws_dns}/question/{id}/{chat_id}', body)\n",
    "message_id = ws.get_received_data()"
   ]
  },
  {
   "cell_type": "markdown",
   "metadata": {},
   "source": [
    "## feedback"
   ]
  },
  {
   "cell_type": "code",
   "execution_count": 30,
   "metadata": {},
   "outputs": [],
   "source": [
    "response = requests.post(url = f'{t2s_dns}/feedback', json = {\"id\":id,\n",
    "                                                   \"chat_id\" : chat_id,\n",
    "                                                   \"message_id\": \"kkk\",\n",
    "                                                #    \"message_id\": message_id,\n",
    "                                                   \"feedback\": \"positive\"\n",
    "                                                   })"
   ]
  },
  {
   "cell_type": "code",
   "execution_count": 31,
   "metadata": {},
   "outputs": [
    {
     "data": {
      "text/plain": [
       "{'errorCodes': ['CHAT_NOT_FOUND'],\n",
       " 'detail': [{'type': 'not_found',\n",
       "   'loc': ['body', 'chat_id'],\n",
       "   'msg': '사용자의 채팅 기록을 찾을 수 없습니다.',\n",
       "   'input': {}}]}"
      ]
     },
     "execution_count": 31,
     "metadata": {},
     "output_type": "execute_result"
    }
   ],
   "source": [
    "eval(response.text)"
   ]
  },
  {
   "cell_type": "code",
   "execution_count": null,
   "metadata": {},
   "outputs": [],
   "source": []
  }
 ],
 "metadata": {
  "kernelspec": {
   "display_name": "base",
   "language": "python",
   "name": "python3"
  },
  "language_info": {
   "codemirror_mode": {
    "name": "ipython",
    "version": 3
   },
   "file_extension": ".py",
   "mimetype": "text/x-python",
   "name": "python",
   "nbconvert_exporter": "python",
   "pygments_lexer": "ipython3",
   "version": "3.11.5"
  }
 },
 "nbformat": 4,
 "nbformat_minor": 2
}
