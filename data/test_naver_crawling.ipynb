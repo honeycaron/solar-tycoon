{
 "cells": [
  {
   "cell_type": "code",
   "execution_count": 1,
   "outputs": [],
   "source": [
    "import streamlit as st\n",
    "from selenium.webdriver.common.by import By\n",
    "from selenium.webdriver.support.ui import WebDriverWait\n",
    "from selenium.webdriver.support import expected_conditions as EC\n",
    "from webdriver_manager.chrome import ChromeDriverManager\n",
    "import re\n",
    "from selenium.webdriver.common.by import By\n",
    "from urllib3.util.retry import Retry\n",
    "from requests.adapters import HTTPAdapter\n",
    "# from openpyxl import Workbook\n",
    "from bs4 import BeautifulSoup\n",
    "from selenium import webdriver\n",
    "from webdriver_manager.chrome import ChromeDriverManager\n",
    "from selenium.webdriver.common.keys import Keys\n",
    "import time\n",
    "import datetime\n",
    "import requests\n",
    "from selenium.webdriver.chrome.service import Service\n",
    "from selenium.webdriver.chrome.options import Options\n",
    "import pandas as pd\n",
    "from openai import OpenAI"
   ],
   "metadata": {
    "collapsed": false,
    "ExecuteTime": {
     "end_time": "2024-08-10T02:40:51.620929300Z",
     "start_time": "2024-08-10T02:40:49.472045500Z"
    }
   },
   "id": "3393a5c1461ce989"
  },
  {
   "cell_type": "code",
   "execution_count": 10,
   "outputs": [
    {
     "data": {
      "text/plain": "      카테고리             지역                 업체명  순위  점수(mrr)  \\\n0      음식점         제주시/함덕               우진해장국   1    0.833   \n1      음식점         제주시/함덕                자매국수   2    0.583   \n2      음식점         제주시/함덕                명진전복   3    0.500   \n3      음식점         제주시/함덕         고집돌우럭 제주공항점   5    0.222   \n4      음식점         제주시/함덕                곰막식당   4    0.277   \n5      음식점          애월/협재           제주광해 애월본점   1    0.666   \n6      음식점          애월/협재             수우동 협재점   2    0.500   \n7      음식점          애월/협재     이춘옥원조고등어쌈밥 제주애월   4    0.250   \n8      음식점          애월/협재               한림칼국수   3    0.416   \n9      음식점          애월/협재               협재칼국수   5    0.222   \n10     음식점  서귀포/중문/성산/마라도           고집돌우럭 중문점   1    0.666   \n11     음식점  서귀포/중문/성산/마라도                  연돈   2    0.500   \n12     음식점  서귀포/중문/성산/마라도              오는정 김밥   3    0.464   \n13     음식점  서귀포/중문/성산/마라도                색달식당   4    0.222   \n14     음식점  서귀포/중문/성산/마라도              가시아방국수   5    0.152   \n15    베이커리         제주시/함덕             아베베베이커리   1    0.833   \n16    베이커리         제주시/함덕             오드랑베이커리   1    0.833   \n17    베이커리         제주시/함덕        런던베이글뮤지엄 제주점   3    0.611   \n18    베이커리         제주시/함덕                  하멜   4    0.400   \n19    베이커리         제주시/함덕            노티드 제주DT   5    0.333   \n20    베이커리          애월/협재                 애월당   2    0.500   \n21    베이커리          애월/협재                 이익새   1    0.666   \n22    베이커리          애월/협재                제주만주   3    0.277   \n23    베이커리          애월/협재          rnr베이커리 협재   4    0.250   \n24    베이커리          애월/협재          청춘당꽈배기 서부점   5    0.194   \n25    베이커리  서귀포/중문/성산/마라도               제일성심당   2    0.370   \n26    베이커리  서귀포/중문/성산/마라도             보래드베이커스   3    0.333   \n27    베이커리  서귀포/중문/성산/마라도  서귀피안 베이커리 제주성산일출봉점   1    0.400   \n28    베이커리  서귀포/중문/성산/마라도                미쁜제과   4    0.277   \n29    베이커리  서귀포/중문/성산/마라도                보룡제과   5    0.189   \n30  카페/디저트         제주시/함덕                 델문도   1    1.000   \n31  카페/디저트         제주시/함덕   빽다방베이커리 제주사수점제주DT   2    0.416   \n32  카페/디저트         제주시/함덕          스타벅스 제주함덕점   4    0.277   \n33  카페/디저트         제주시/함덕           앙뚜아네트 용담점   4    0.277   \n34  카페/디저트         제주시/함덕              카페나모나모   3    0.388   \n35  카페/디저트          애월/협재                  새빌   2    0.555   \n36  카페/디저트          애월/협재                  우무   1    0.666   \n37  카페/디저트          애월/협재               레이지펌프   3    0.410   \n38  카페/디저트          애월/협재          애월빵공장 앤 카페   3    0.410   \n39  카페/디저트          애월/협재              명월국민학교   5    0.250   \n40  카페/디저트  서귀포/중문/성산/마라도                원앤온리   1    1.000   \n41  카페/디저트  서귀포/중문/성산/마라도                더클리프   2    0.410   \n42  카페/디저트  서귀포/중문/성산/마라도                유동커피   3    0.300   \n43  카페/디저트  서귀포/중문/성산/마라도           테라로사 서귀포점   4    0.261   \n44  카페/디저트  서귀포/중문/성산/마라도              허니문하우스   5    0.162   \n\n                                                  url  restaurant_num  \n0   https://m.place.naver.com/restaurant/13418405/...        13418405  \n1   https://m.place.naver.com/restaurant/37060300/...        37060300  \n2   https://m.place.naver.com/restaurant/17032617/...        17032617  \n3   https://m.place.naver.com/restaurant/38265405/...        38265405  \n4   https://m.place.naver.com/restaurant/31204698/...        31204698  \n5   https://m.place.naver.com/restaurant/137482890...      1374828905  \n6   https://m.place.naver.com/restaurant/36823910/...        36823910  \n7   https://m.place.naver.com/restaurant/19872990/...        19872990  \n8   https://m.place.naver.com/restaurant/34635305/...        34635305  \n9   https://m.place.naver.com/restaurant/37889230/...        37889230  \n10  https://m.place.naver.com/restaurant/766197218...       766197218  \n11  https://m.place.naver.com/restaurant/114210808...      1142108083  \n12  https://m.place.naver.com/restaurant/101112517...      1011125170  \n13  https://m.place.naver.com/restaurant/21697562/...        21697562  \n14  https://m.place.naver.com/restaurant/16950110/...        16950110  \n15  https://m.place.naver.com/restaurant/147660525...      1476605250  \n16  https://m.place.naver.com/restaurant/16886040/...        16886040  \n17  https://m.place.naver.com/restaurant/142254444...      1422544447  \n18  https://m.place.naver.com/restaurant/743206437...       743206437  \n19  https://m.place.naver.com/restaurant/143145018...      1431450188  \n20  https://m.place.naver.com/restaurant/125003623...      1250036232  \n21  https://m.place.naver.com/restaurant/299612944...       299612944  \n22  https://m.place.naver.com/restaurant/143184829...      1431848290  \n23  https://m.place.naver.com/restaurant/145492281...      1454922817  \n24  https://m.place.naver.com/restaurant/148287190...      1482871905  \n25  https://m.place.naver.com/restaurant/16952124/...        16952124  \n26  https://m.place.naver.com/restaurant/110123177...      1101231772  \n27  https://m.place.naver.com/restaurant/179515116...      1795151167  \n28  https://m.place.naver.com/restaurant/115369909...      1153699096  \n29  https://m.place.naver.com/restaurant/101210838...      1012108385  \n30  https://m.place.naver.com/restaurant/36859834/...        36859834  \n31  https://m.place.naver.com/restaurant/148494831...      1484948315  \n32  https://m.place.naver.com/restaurant/104441998...      1044419982  \n33  https://m.place.naver.com/restaurant/36186986/...        36186986  \n34  https://m.place.naver.com/restaurant/158231890...      1582318900  \n35  https://m.place.naver.com/restaurant/187655375...      1876553757  \n36  https://m.place.naver.com/restaurant/153794058...      1537940586  \n37  https://m.place.naver.com/restaurant/130618755...      1306187552  \n38  https://m.place.naver.com/restaurant/151621633...      1516216333  \n39  https://m.place.naver.com/restaurant/138391033...      1383910337  \n40  https://m.place.naver.com/restaurant/125624673...      1256246739  \n41  https://m.place.naver.com/restaurant/166782220...      1667822207  \n42  https://m.place.naver.com/restaurant/33225737/...        33225737  \n43  https://m.place.naver.com/restaurant/37921491/...        37921491  \n44  https://m.place.naver.com/restaurant/164980452...      1649804520  ",
      "text/html": "<div>\n<style scoped>\n    .dataframe tbody tr th:only-of-type {\n        vertical-align: middle;\n    }\n\n    .dataframe tbody tr th {\n        vertical-align: top;\n    }\n\n    .dataframe thead th {\n        text-align: right;\n    }\n</style>\n<table border=\"1\" class=\"dataframe\">\n  <thead>\n    <tr style=\"text-align: right;\">\n      <th></th>\n      <th>카테고리</th>\n      <th>지역</th>\n      <th>업체명</th>\n      <th>순위</th>\n      <th>점수(mrr)</th>\n      <th>url</th>\n      <th>restaurant_num</th>\n    </tr>\n  </thead>\n  <tbody>\n    <tr>\n      <th>0</th>\n      <td>음식점</td>\n      <td>제주시/함덕</td>\n      <td>우진해장국</td>\n      <td>1</td>\n      <td>0.833</td>\n      <td>https://m.place.naver.com/restaurant/13418405/...</td>\n      <td>13418405</td>\n    </tr>\n    <tr>\n      <th>1</th>\n      <td>음식점</td>\n      <td>제주시/함덕</td>\n      <td>자매국수</td>\n      <td>2</td>\n      <td>0.583</td>\n      <td>https://m.place.naver.com/restaurant/37060300/...</td>\n      <td>37060300</td>\n    </tr>\n    <tr>\n      <th>2</th>\n      <td>음식점</td>\n      <td>제주시/함덕</td>\n      <td>명진전복</td>\n      <td>3</td>\n      <td>0.500</td>\n      <td>https://m.place.naver.com/restaurant/17032617/...</td>\n      <td>17032617</td>\n    </tr>\n    <tr>\n      <th>3</th>\n      <td>음식점</td>\n      <td>제주시/함덕</td>\n      <td>고집돌우럭 제주공항점</td>\n      <td>5</td>\n      <td>0.222</td>\n      <td>https://m.place.naver.com/restaurant/38265405/...</td>\n      <td>38265405</td>\n    </tr>\n    <tr>\n      <th>4</th>\n      <td>음식점</td>\n      <td>제주시/함덕</td>\n      <td>곰막식당</td>\n      <td>4</td>\n      <td>0.277</td>\n      <td>https://m.place.naver.com/restaurant/31204698/...</td>\n      <td>31204698</td>\n    </tr>\n    <tr>\n      <th>5</th>\n      <td>음식점</td>\n      <td>애월/협재</td>\n      <td>제주광해 애월본점</td>\n      <td>1</td>\n      <td>0.666</td>\n      <td>https://m.place.naver.com/restaurant/137482890...</td>\n      <td>1374828905</td>\n    </tr>\n    <tr>\n      <th>6</th>\n      <td>음식점</td>\n      <td>애월/협재</td>\n      <td>수우동 협재점</td>\n      <td>2</td>\n      <td>0.500</td>\n      <td>https://m.place.naver.com/restaurant/36823910/...</td>\n      <td>36823910</td>\n    </tr>\n    <tr>\n      <th>7</th>\n      <td>음식점</td>\n      <td>애월/협재</td>\n      <td>이춘옥원조고등어쌈밥 제주애월</td>\n      <td>4</td>\n      <td>0.250</td>\n      <td>https://m.place.naver.com/restaurant/19872990/...</td>\n      <td>19872990</td>\n    </tr>\n    <tr>\n      <th>8</th>\n      <td>음식점</td>\n      <td>애월/협재</td>\n      <td>한림칼국수</td>\n      <td>3</td>\n      <td>0.416</td>\n      <td>https://m.place.naver.com/restaurant/34635305/...</td>\n      <td>34635305</td>\n    </tr>\n    <tr>\n      <th>9</th>\n      <td>음식점</td>\n      <td>애월/협재</td>\n      <td>협재칼국수</td>\n      <td>5</td>\n      <td>0.222</td>\n      <td>https://m.place.naver.com/restaurant/37889230/...</td>\n      <td>37889230</td>\n    </tr>\n    <tr>\n      <th>10</th>\n      <td>음식점</td>\n      <td>서귀포/중문/성산/마라도</td>\n      <td>고집돌우럭 중문점</td>\n      <td>1</td>\n      <td>0.666</td>\n      <td>https://m.place.naver.com/restaurant/766197218...</td>\n      <td>766197218</td>\n    </tr>\n    <tr>\n      <th>11</th>\n      <td>음식점</td>\n      <td>서귀포/중문/성산/마라도</td>\n      <td>연돈</td>\n      <td>2</td>\n      <td>0.500</td>\n      <td>https://m.place.naver.com/restaurant/114210808...</td>\n      <td>1142108083</td>\n    </tr>\n    <tr>\n      <th>12</th>\n      <td>음식점</td>\n      <td>서귀포/중문/성산/마라도</td>\n      <td>오는정 김밥</td>\n      <td>3</td>\n      <td>0.464</td>\n      <td>https://m.place.naver.com/restaurant/101112517...</td>\n      <td>1011125170</td>\n    </tr>\n    <tr>\n      <th>13</th>\n      <td>음식점</td>\n      <td>서귀포/중문/성산/마라도</td>\n      <td>색달식당</td>\n      <td>4</td>\n      <td>0.222</td>\n      <td>https://m.place.naver.com/restaurant/21697562/...</td>\n      <td>21697562</td>\n    </tr>\n    <tr>\n      <th>14</th>\n      <td>음식점</td>\n      <td>서귀포/중문/성산/마라도</td>\n      <td>가시아방국수</td>\n      <td>5</td>\n      <td>0.152</td>\n      <td>https://m.place.naver.com/restaurant/16950110/...</td>\n      <td>16950110</td>\n    </tr>\n    <tr>\n      <th>15</th>\n      <td>베이커리</td>\n      <td>제주시/함덕</td>\n      <td>아베베베이커리</td>\n      <td>1</td>\n      <td>0.833</td>\n      <td>https://m.place.naver.com/restaurant/147660525...</td>\n      <td>1476605250</td>\n    </tr>\n    <tr>\n      <th>16</th>\n      <td>베이커리</td>\n      <td>제주시/함덕</td>\n      <td>오드랑베이커리</td>\n      <td>1</td>\n      <td>0.833</td>\n      <td>https://m.place.naver.com/restaurant/16886040/...</td>\n      <td>16886040</td>\n    </tr>\n    <tr>\n      <th>17</th>\n      <td>베이커리</td>\n      <td>제주시/함덕</td>\n      <td>런던베이글뮤지엄 제주점</td>\n      <td>3</td>\n      <td>0.611</td>\n      <td>https://m.place.naver.com/restaurant/142254444...</td>\n      <td>1422544447</td>\n    </tr>\n    <tr>\n      <th>18</th>\n      <td>베이커리</td>\n      <td>제주시/함덕</td>\n      <td>하멜</td>\n      <td>4</td>\n      <td>0.400</td>\n      <td>https://m.place.naver.com/restaurant/743206437...</td>\n      <td>743206437</td>\n    </tr>\n    <tr>\n      <th>19</th>\n      <td>베이커리</td>\n      <td>제주시/함덕</td>\n      <td>노티드 제주DT</td>\n      <td>5</td>\n      <td>0.333</td>\n      <td>https://m.place.naver.com/restaurant/143145018...</td>\n      <td>1431450188</td>\n    </tr>\n    <tr>\n      <th>20</th>\n      <td>베이커리</td>\n      <td>애월/협재</td>\n      <td>애월당</td>\n      <td>2</td>\n      <td>0.500</td>\n      <td>https://m.place.naver.com/restaurant/125003623...</td>\n      <td>1250036232</td>\n    </tr>\n    <tr>\n      <th>21</th>\n      <td>베이커리</td>\n      <td>애월/협재</td>\n      <td>이익새</td>\n      <td>1</td>\n      <td>0.666</td>\n      <td>https://m.place.naver.com/restaurant/299612944...</td>\n      <td>299612944</td>\n    </tr>\n    <tr>\n      <th>22</th>\n      <td>베이커리</td>\n      <td>애월/협재</td>\n      <td>제주만주</td>\n      <td>3</td>\n      <td>0.277</td>\n      <td>https://m.place.naver.com/restaurant/143184829...</td>\n      <td>1431848290</td>\n    </tr>\n    <tr>\n      <th>23</th>\n      <td>베이커리</td>\n      <td>애월/협재</td>\n      <td>rnr베이커리 협재</td>\n      <td>4</td>\n      <td>0.250</td>\n      <td>https://m.place.naver.com/restaurant/145492281...</td>\n      <td>1454922817</td>\n    </tr>\n    <tr>\n      <th>24</th>\n      <td>베이커리</td>\n      <td>애월/협재</td>\n      <td>청춘당꽈배기 서부점</td>\n      <td>5</td>\n      <td>0.194</td>\n      <td>https://m.place.naver.com/restaurant/148287190...</td>\n      <td>1482871905</td>\n    </tr>\n    <tr>\n      <th>25</th>\n      <td>베이커리</td>\n      <td>서귀포/중문/성산/마라도</td>\n      <td>제일성심당</td>\n      <td>2</td>\n      <td>0.370</td>\n      <td>https://m.place.naver.com/restaurant/16952124/...</td>\n      <td>16952124</td>\n    </tr>\n    <tr>\n      <th>26</th>\n      <td>베이커리</td>\n      <td>서귀포/중문/성산/마라도</td>\n      <td>보래드베이커스</td>\n      <td>3</td>\n      <td>0.333</td>\n      <td>https://m.place.naver.com/restaurant/110123177...</td>\n      <td>1101231772</td>\n    </tr>\n    <tr>\n      <th>27</th>\n      <td>베이커리</td>\n      <td>서귀포/중문/성산/마라도</td>\n      <td>서귀피안 베이커리 제주성산일출봉점</td>\n      <td>1</td>\n      <td>0.400</td>\n      <td>https://m.place.naver.com/restaurant/179515116...</td>\n      <td>1795151167</td>\n    </tr>\n    <tr>\n      <th>28</th>\n      <td>베이커리</td>\n      <td>서귀포/중문/성산/마라도</td>\n      <td>미쁜제과</td>\n      <td>4</td>\n      <td>0.277</td>\n      <td>https://m.place.naver.com/restaurant/115369909...</td>\n      <td>1153699096</td>\n    </tr>\n    <tr>\n      <th>29</th>\n      <td>베이커리</td>\n      <td>서귀포/중문/성산/마라도</td>\n      <td>보룡제과</td>\n      <td>5</td>\n      <td>0.189</td>\n      <td>https://m.place.naver.com/restaurant/101210838...</td>\n      <td>1012108385</td>\n    </tr>\n    <tr>\n      <th>30</th>\n      <td>카페/디저트</td>\n      <td>제주시/함덕</td>\n      <td>델문도</td>\n      <td>1</td>\n      <td>1.000</td>\n      <td>https://m.place.naver.com/restaurant/36859834/...</td>\n      <td>36859834</td>\n    </tr>\n    <tr>\n      <th>31</th>\n      <td>카페/디저트</td>\n      <td>제주시/함덕</td>\n      <td>빽다방베이커리 제주사수점제주DT</td>\n      <td>2</td>\n      <td>0.416</td>\n      <td>https://m.place.naver.com/restaurant/148494831...</td>\n      <td>1484948315</td>\n    </tr>\n    <tr>\n      <th>32</th>\n      <td>카페/디저트</td>\n      <td>제주시/함덕</td>\n      <td>스타벅스 제주함덕점</td>\n      <td>4</td>\n      <td>0.277</td>\n      <td>https://m.place.naver.com/restaurant/104441998...</td>\n      <td>1044419982</td>\n    </tr>\n    <tr>\n      <th>33</th>\n      <td>카페/디저트</td>\n      <td>제주시/함덕</td>\n      <td>앙뚜아네트 용담점</td>\n      <td>4</td>\n      <td>0.277</td>\n      <td>https://m.place.naver.com/restaurant/36186986/...</td>\n      <td>36186986</td>\n    </tr>\n    <tr>\n      <th>34</th>\n      <td>카페/디저트</td>\n      <td>제주시/함덕</td>\n      <td>카페나모나모</td>\n      <td>3</td>\n      <td>0.388</td>\n      <td>https://m.place.naver.com/restaurant/158231890...</td>\n      <td>1582318900</td>\n    </tr>\n    <tr>\n      <th>35</th>\n      <td>카페/디저트</td>\n      <td>애월/협재</td>\n      <td>새빌</td>\n      <td>2</td>\n      <td>0.555</td>\n      <td>https://m.place.naver.com/restaurant/187655375...</td>\n      <td>1876553757</td>\n    </tr>\n    <tr>\n      <th>36</th>\n      <td>카페/디저트</td>\n      <td>애월/협재</td>\n      <td>우무</td>\n      <td>1</td>\n      <td>0.666</td>\n      <td>https://m.place.naver.com/restaurant/153794058...</td>\n      <td>1537940586</td>\n    </tr>\n    <tr>\n      <th>37</th>\n      <td>카페/디저트</td>\n      <td>애월/협재</td>\n      <td>레이지펌프</td>\n      <td>3</td>\n      <td>0.410</td>\n      <td>https://m.place.naver.com/restaurant/130618755...</td>\n      <td>1306187552</td>\n    </tr>\n    <tr>\n      <th>38</th>\n      <td>카페/디저트</td>\n      <td>애월/협재</td>\n      <td>애월빵공장 앤 카페</td>\n      <td>3</td>\n      <td>0.410</td>\n      <td>https://m.place.naver.com/restaurant/151621633...</td>\n      <td>1516216333</td>\n    </tr>\n    <tr>\n      <th>39</th>\n      <td>카페/디저트</td>\n      <td>애월/협재</td>\n      <td>명월국민학교</td>\n      <td>5</td>\n      <td>0.250</td>\n      <td>https://m.place.naver.com/restaurant/138391033...</td>\n      <td>1383910337</td>\n    </tr>\n    <tr>\n      <th>40</th>\n      <td>카페/디저트</td>\n      <td>서귀포/중문/성산/마라도</td>\n      <td>원앤온리</td>\n      <td>1</td>\n      <td>1.000</td>\n      <td>https://m.place.naver.com/restaurant/125624673...</td>\n      <td>1256246739</td>\n    </tr>\n    <tr>\n      <th>41</th>\n      <td>카페/디저트</td>\n      <td>서귀포/중문/성산/마라도</td>\n      <td>더클리프</td>\n      <td>2</td>\n      <td>0.410</td>\n      <td>https://m.place.naver.com/restaurant/166782220...</td>\n      <td>1667822207</td>\n    </tr>\n    <tr>\n      <th>42</th>\n      <td>카페/디저트</td>\n      <td>서귀포/중문/성산/마라도</td>\n      <td>유동커피</td>\n      <td>3</td>\n      <td>0.300</td>\n      <td>https://m.place.naver.com/restaurant/33225737/...</td>\n      <td>33225737</td>\n    </tr>\n    <tr>\n      <th>43</th>\n      <td>카페/디저트</td>\n      <td>서귀포/중문/성산/마라도</td>\n      <td>테라로사 서귀포점</td>\n      <td>4</td>\n      <td>0.261</td>\n      <td>https://m.place.naver.com/restaurant/37921491/...</td>\n      <td>37921491</td>\n    </tr>\n    <tr>\n      <th>44</th>\n      <td>카페/디저트</td>\n      <td>서귀포/중문/성산/마라도</td>\n      <td>허니문하우스</td>\n      <td>5</td>\n      <td>0.162</td>\n      <td>https://m.place.naver.com/restaurant/164980452...</td>\n      <td>1649804520</td>\n    </tr>\n  </tbody>\n</table>\n</div>"
     },
     "execution_count": 10,
     "metadata": {},
     "output_type": "execute_result"
    }
   ],
   "source": [
    "rest_df = pd.read_excel(\"제주도_restnum.xlsx\")\n",
    "rest_df"
   ],
   "metadata": {
    "collapsed": false,
    "ExecuteTime": {
     "end_time": "2024-08-10T02:46:57.204662400Z",
     "start_time": "2024-08-10T02:46:56.824650100Z"
    }
   },
   "id": "1cd585178a11a2cf"
  },
  {
   "cell_type": "code",
   "execution_count": 16,
   "outputs": [],
   "source": [
    "search_url = f\"https://m.place.naver.com/restaurant/13418405/review/visitor?entry=ple&reviewSort=recent\""
   ],
   "metadata": {
    "collapsed": false,
    "ExecuteTime": {
     "end_time": "2024-08-10T02:55:03.014958700Z",
     "start_time": "2024-08-10T02:55:03.003952100Z"
    }
   },
   "id": "88225bb660d9e060"
  },
  {
   "cell_type": "code",
   "execution_count": 18,
   "outputs": [],
   "source": [
    "options = Options()\n",
    "# options.add_argument(\"--headless\")\n",
    "\n",
    "# BS4 setting for secondary access\n",
    "session = requests.Session()\n",
    "headers = {\n",
    "    \"User-Agent\": \"user value\"}\n",
    "\n",
    "retries = Retry(total=5,\n",
    "                backoff_factor=0.1,\n",
    "                status_forcelist=[500, 502, 503, 504])\n",
    "\n",
    "session.mount('http://', HTTPAdapter(max_retries=retries))\n",
    "\n",
    "service = Service(ChromeDriverManager().install())\n",
    "driver = webdriver.Chrome(service=service, options=options)\n",
    "driver.get(search_url)"
   ],
   "metadata": {
    "collapsed": false,
    "ExecuteTime": {
     "end_time": "2024-08-10T03:00:46.151106800Z",
     "start_time": "2024-08-10T03:00:39.511288400Z"
    }
   },
   "id": "e813eb042c4167d0"
  },
  {
   "cell_type": "code",
   "execution_count": 13,
   "outputs": [],
   "source": [
    "def get_adr_pn(restaurant_num):\n",
    "    try:\n",
    "        search_url = f\"https://m.place.naver.com/restaurant/{restaurant_num}\"\n",
    "        options = Options()\n",
    "        # options.add_argument(\"--headless\")\n",
    "        \n",
    "        # BS4 setting for secondary access\n",
    "        session = requests.Session()\n",
    "        headers = {\n",
    "            \"User-Agent\": \"user value\"}\n",
    "        \n",
    "        retries = Retry(total=5,\n",
    "                        backoff_factor=0.1,\n",
    "                        status_forcelist=[500, 502, 503, 504])\n",
    "        \n",
    "        session.mount('http://', HTTPAdapter(max_retries=retries))\n",
    "        \n",
    "        service = Service(ChromeDriverManager().install())\n",
    "        driver = webdriver.Chrome(service=service, options=options)\n",
    "        driver.get(search_url)\n",
    "        driver.implicitly_wait(5)\n",
    "        html = driver.page_source\n",
    "        bs = BeautifulSoup(html, 'lxml')\n",
    "        address = bs.select_one('div.vV_z_>a.PkgBl>span.LDgIH')\n",
    "        phone_number = bs.select_one('div.vV_z_>span.xlx7Q')\n",
    "        return address.text,phone_number.text\n",
    "    except Exception as e:\n",
    "        print(e)\n",
    "        return None, None\n",
    "    \n",
    "    \n",
    "        "
   ],
   "metadata": {
    "collapsed": false,
    "ExecuteTime": {
     "end_time": "2024-08-10T02:49:04.221908700Z",
     "start_time": "2024-08-10T02:49:04.220390300Z"
    }
   },
   "id": "30807e4bc6256163"
  },
  {
   "cell_type": "code",
   "execution_count": 19,
   "outputs": [
    {
     "name": "stdout",
     "output_type": "stream",
     "text": [
      "제주 제주시 서사로 11\n",
      "064-757-3393\n",
      "제주 제주시 항골남길 46 자매국수\n",
      "064-746-2222\n",
      "제주 제주시 구좌읍 해맞이해안로 1282\n",
      "064-782-9944\n",
      "제주 제주시 임항로 30\n",
      "0507-1436-1008\n",
      "제주 제주시 구좌읍 구좌해안로 64\n",
      "064-727-5111\n",
      "제주 제주시 애월읍 애월해안로 867 2층\n",
      "0507-1312-4789\n",
      "제주 제주시 한림읍 협재1길 11\n",
      "064-796-5830\n",
      "제주 제주시 애월읍 일주서로 7213\n",
      "0507-1402-9914\n",
      "제주 제주시 한림읍 한림해안로 141\n",
      "0507-1442-3371\n",
      "제주 제주시 한림읍 협재로 3\n",
      "0507-1335-8107\n",
      "제주 서귀포시 일주서로 879\n",
      "0507-1408-1540\n",
      "제주 서귀포시 색달로 10 연돈\n",
      "0507-1386-7060\n",
      "제주 서귀포시 동문동로 2\n",
      "064-762-8927\n",
      "제주 서귀포시 예래로 255-18 1층\n",
      "0507-1321-1741\n",
      "제주 서귀포시 성산읍 섭지코지로 10\n",
      "064-783-0987\n",
      "제주 제주시 동문로6길 4 동문시장 12번 게이트 옆\n",
      "0507-1414-0750\n",
      "제주 제주시 조천읍 조함해안로 552-3\n",
      "064-784-5404\n",
      "'NoneType' object has no attribute 'text'\n",
      "None\n",
      "None\n",
      "제주 제주시 노형2길 51-3\n",
      "0507-1311-1653\n",
      "제주 제주시 연오로 5 1층\n",
      "010-4925-9377\n",
      "제주 제주시 애월읍 애월북서길 56 애월당\n",
      "0507-1492-8504\n",
      "제주 제주시 한림읍 명월성로 16\n",
      "0507-1414-2343\n",
      "제주 제주시 애월읍 일주서로 6707 1층\n",
      "0507-1346-0559\n",
      "제주 제주시 한림읍 협재1길 29\n",
      "0507-1387-0280\n",
      "제주 서귀포시 안덕면 신화역사로 502 청춘당 꽈배기 서부점\n",
      "0507-1448-5512\n",
      "제주 서귀포시 성산읍 고성오조로 47 1층\n",
      "064-782-3125\n",
      "제주 서귀포시 보목로64번길 178 1층 보래드 베이커스\n",
      "0507-1314-1450\n",
      "제주 서귀포시 성산읍 신양로122번길 17 2F\n",
      "0507-1338-8378\n",
      "제주 서귀포시 대정읍 도원남로 16 미쁜제과\n",
      "070-8822-9212\n",
      "제주 서귀포시 성산읍 고성오조로 48-1\n",
      "064-782-5472\n",
      "제주 제주시 조천읍 조함해안로 519-10\n",
      "064-702-0007\n",
      "제주 제주시 서해안로 291-5\n",
      "064-711-0228\n",
      "'NoneType' object has no attribute 'text'\n",
      "None\n",
      "None\n",
      "제주 제주시 서해안로 671 1층, B1층\n",
      "0507-1359-2243\n",
      "제주 제주시 도두봉6길 4 도두봉 무지개해안도로 오션뷰 대형 베이커리 카페\n",
      "064-713-7782\n",
      "제주 제주시 애월읍 평화로 1529\n",
      "0507-1315-0080\n",
      "제주 제주시 한림읍 한림로 542-1\n",
      "010-6705-0064\n",
      "제주 제주시 애월읍 애월북서길 32 lazypump\n",
      "0507-1325-8732\n",
      "'NoneType' object has no attribute 'text'\n",
      "None\n",
      "None\n",
      "제주 제주시 한림읍 명월로 48\n",
      "0507-1341-1955\n",
      "제주 서귀포시 안덕면 산방로 141\n",
      "0507-1323-6186\n",
      "제주 서귀포시 중문관광로 154-17\n",
      "0507-1312-8866\n",
      "제주 서귀포시 태평로 406-1\n",
      "064-733-6662\n",
      "제주 서귀포시 칠십리로658번길 27-16\n",
      "1668-2764\n",
      "제주 서귀포시 칠십리로 228-13\n",
      "070-4277-9922\n"
     ]
    }
   ],
   "source": [
    "for idx,row in rest_df.iterrows():\n",
    "    address,phone_number = get_adr_pn(row['restaurant_num'])\n",
    "    print(address)\n",
    "    print(phone_number)\n",
    "    rest_df.loc[idx,\"주소\"] = address\n",
    "    rest_df.loc[idx,\"전화번호\"] = phone_number"
   ],
   "metadata": {
    "collapsed": false,
    "ExecuteTime": {
     "end_time": "2024-08-10T03:19:10.880874Z",
     "start_time": "2024-08-10T03:14:43.221190300Z"
    }
   },
   "id": "acfdc790cba4b778"
  },
  {
   "cell_type": "code",
   "execution_count": 22,
   "outputs": [],
   "source": [
    "rest_df.to_excel(\"제주도_restnum_with_adr_pn.xlsx\")"
   ],
   "metadata": {
    "collapsed": false,
    "ExecuteTime": {
     "end_time": "2024-08-10T03:25:35.684904900Z",
     "start_time": "2024-08-10T03:25:35.646488900Z"
    }
   },
   "id": "39ac4430e5489a19"
  },
  {
   "cell_type": "code",
   "execution_count": null,
   "outputs": [],
   "source": [],
   "metadata": {
    "collapsed": false
   },
   "id": "780779ca2579f892"
  },
  {
   "cell_type": "code",
   "execution_count": 15,
   "outputs": [
    {
     "data": {
      "text/plain": "      카테고리             지역                 업체명  순위  점수(mrr)  \\\n0      음식점         제주시/함덕               우진해장국   1    0.833   \n1      음식점         제주시/함덕                자매국수   2    0.583   \n2      음식점         제주시/함덕                명진전복   3    0.500   \n3      음식점         제주시/함덕         고집돌우럭 제주공항점   5    0.222   \n4      음식점         제주시/함덕                곰막식당   4    0.277   \n5      음식점          애월/협재           제주광해 애월본점   1    0.666   \n6      음식점          애월/협재             수우동 협재점   2    0.500   \n7      음식점          애월/협재     이춘옥원조고등어쌈밥 제주애월   4    0.250   \n8      음식점          애월/협재               한림칼국수   3    0.416   \n9      음식점          애월/협재               협재칼국수   5    0.222   \n10     음식점  서귀포/중문/성산/마라도           고집돌우럭 중문점   1    0.666   \n11     음식점  서귀포/중문/성산/마라도                  연돈   2    0.500   \n12     음식점  서귀포/중문/성산/마라도              오는정 김밥   3    0.464   \n13     음식점  서귀포/중문/성산/마라도                색달식당   4    0.222   \n14     음식점  서귀포/중문/성산/마라도              가시아방국수   5    0.152   \n15    베이커리         제주시/함덕             아베베베이커리   1    0.833   \n16    베이커리         제주시/함덕             오드랑베이커리   1    0.833   \n17    베이커리         제주시/함덕        런던베이글뮤지엄 제주점   3    0.611   \n18    베이커리         제주시/함덕                  하멜   4    0.400   \n19    베이커리         제주시/함덕            노티드 제주DT   5    0.333   \n20    베이커리          애월/협재                 애월당   2    0.500   \n21    베이커리          애월/협재                 이익새   1    0.666   \n22    베이커리          애월/협재                제주만주   3    0.277   \n23    베이커리          애월/협재          rnr베이커리 협재   4    0.250   \n24    베이커리          애월/협재          청춘당꽈배기 서부점   5    0.194   \n25    베이커리  서귀포/중문/성산/마라도               제일성심당   2    0.370   \n26    베이커리  서귀포/중문/성산/마라도             보래드베이커스   3    0.333   \n27    베이커리  서귀포/중문/성산/마라도  서귀피안 베이커리 제주성산일출봉점   1    0.400   \n28    베이커리  서귀포/중문/성산/마라도                미쁜제과   4    0.277   \n29    베이커리  서귀포/중문/성산/마라도                보룡제과   5    0.189   \n30  카페/디저트         제주시/함덕                 델문도   1    1.000   \n31  카페/디저트         제주시/함덕   빽다방베이커리 제주사수점제주DT   2    0.416   \n32  카페/디저트         제주시/함덕          스타벅스 제주함덕점   4    0.277   \n33  카페/디저트         제주시/함덕           앙뚜아네트 용담점   4    0.277   \n34  카페/디저트         제주시/함덕              카페나모나모   3    0.388   \n35  카페/디저트          애월/협재                  새빌   2    0.555   \n36  카페/디저트          애월/협재                  우무   1    0.666   \n37  카페/디저트          애월/협재               레이지펌프   3    0.410   \n38  카페/디저트          애월/협재          애월빵공장 앤 카페   3    0.410   \n39  카페/디저트          애월/협재              명월국민학교   5    0.250   \n40  카페/디저트  서귀포/중문/성산/마라도                원앤온리   1    1.000   \n41  카페/디저트  서귀포/중문/성산/마라도                더클리프   2    0.410   \n42  카페/디저트  서귀포/중문/성산/마라도                유동커피   3    0.300   \n43  카페/디저트  서귀포/중문/성산/마라도           테라로사 서귀포점   4    0.261   \n44  카페/디저트  서귀포/중문/성산/마라도              허니문하우스   5    0.162   \n\n                                                  url  restaurant_num  \\\n0   https://m.place.naver.com/restaurant/13418405/...        13418405   \n1   https://m.place.naver.com/restaurant/37060300/...        37060300   \n2   https://m.place.naver.com/restaurant/17032617/...        17032617   \n3   https://m.place.naver.com/restaurant/38265405/...        38265405   \n4   https://m.place.naver.com/restaurant/31204698/...        31204698   \n5   https://m.place.naver.com/restaurant/137482890...      1374828905   \n6   https://m.place.naver.com/restaurant/36823910/...        36823910   \n7   https://m.place.naver.com/restaurant/19872990/...        19872990   \n8   https://m.place.naver.com/restaurant/34635305/...        34635305   \n9   https://m.place.naver.com/restaurant/37889230/...        37889230   \n10  https://m.place.naver.com/restaurant/766197218...       766197218   \n11  https://m.place.naver.com/restaurant/114210808...      1142108083   \n12  https://m.place.naver.com/restaurant/101112517...      1011125170   \n13  https://m.place.naver.com/restaurant/21697562/...        21697562   \n14  https://m.place.naver.com/restaurant/16950110/...        16950110   \n15  https://m.place.naver.com/restaurant/147660525...      1476605250   \n16  https://m.place.naver.com/restaurant/16886040/...        16886040   \n17  https://m.place.naver.com/restaurant/142254444...      1422544447   \n18  https://m.place.naver.com/restaurant/743206437...       743206437   \n19  https://m.place.naver.com/restaurant/143145018...      1431450188   \n20  https://m.place.naver.com/restaurant/125003623...      1250036232   \n21  https://m.place.naver.com/restaurant/299612944...       299612944   \n22  https://m.place.naver.com/restaurant/143184829...      1431848290   \n23  https://m.place.naver.com/restaurant/145492281...      1454922817   \n24  https://m.place.naver.com/restaurant/148287190...      1482871905   \n25  https://m.place.naver.com/restaurant/16952124/...        16952124   \n26  https://m.place.naver.com/restaurant/110123177...      1101231772   \n27  https://m.place.naver.com/restaurant/179515116...      1795151167   \n28  https://m.place.naver.com/restaurant/115369909...      1153699096   \n29  https://m.place.naver.com/restaurant/101210838...      1012108385   \n30  https://m.place.naver.com/restaurant/36859834/...        36859834   \n31  https://m.place.naver.com/restaurant/148494831...      1484948315   \n32  https://m.place.naver.com/restaurant/104441998...      1044419982   \n33  https://m.place.naver.com/restaurant/36186986/...        36186986   \n34  https://m.place.naver.com/restaurant/158231890...      1582318900   \n35  https://m.place.naver.com/restaurant/187655375...      1876553757   \n36  https://m.place.naver.com/restaurant/153794058...      1537940586   \n37  https://m.place.naver.com/restaurant/130618755...      1306187552   \n38  https://m.place.naver.com/restaurant/151621633...      1516216333   \n39  https://m.place.naver.com/restaurant/138391033...      1383910337   \n40  https://m.place.naver.com/restaurant/125624673...      1256246739   \n41  https://m.place.naver.com/restaurant/166782220...      1667822207   \n42  https://m.place.naver.com/restaurant/33225737/...        33225737   \n43  https://m.place.naver.com/restaurant/37921491/...        37921491   \n44  https://m.place.naver.com/restaurant/164980452...      1649804520   \n\n                         주소            전화번호  \n0             제주 제주시 서사로 11    064-757-3393  \n1       제주 제주시 항골남길 46 자매국수    064-746-2222  \n2    제주 제주시 구좌읍 해맞이해안로 1282    064-782-9944  \n3             제주 제주시 임항로 30  0507-1436-1008  \n4       제주 제주시 구좌읍 구좌해안로 64    064-727-5111  \n5   제주 제주시 애월읍 애월해안로 867 2층  0507-1312-4789  \n6                       NaN             NaN  \n7                       NaN             NaN  \n8                       NaN             NaN  \n9                       NaN             NaN  \n10                      NaN             NaN  \n11                      NaN             NaN  \n12                      NaN             NaN  \n13                      NaN             NaN  \n14                      NaN             NaN  \n15                      NaN             NaN  \n16                      NaN             NaN  \n17                      NaN             NaN  \n18                      NaN             NaN  \n19                      NaN             NaN  \n20                      NaN             NaN  \n21                      NaN             NaN  \n22                      NaN             NaN  \n23                      NaN             NaN  \n24                      NaN             NaN  \n25                      NaN             NaN  \n26                      NaN             NaN  \n27                      NaN             NaN  \n28                      NaN             NaN  \n29                      NaN             NaN  \n30                      NaN             NaN  \n31                      NaN             NaN  \n32                      NaN             NaN  \n33                      NaN             NaN  \n34                      NaN             NaN  \n35                      NaN             NaN  \n36                      NaN             NaN  \n37                      NaN             NaN  \n38                      NaN             NaN  \n39                      NaN             NaN  \n40                      NaN             NaN  \n41                      NaN             NaN  \n42                      NaN             NaN  \n43                      NaN             NaN  \n44                      NaN             NaN  ",
      "text/html": "<div>\n<style scoped>\n    .dataframe tbody tr th:only-of-type {\n        vertical-align: middle;\n    }\n\n    .dataframe tbody tr th {\n        vertical-align: top;\n    }\n\n    .dataframe thead th {\n        text-align: right;\n    }\n</style>\n<table border=\"1\" class=\"dataframe\">\n  <thead>\n    <tr style=\"text-align: right;\">\n      <th></th>\n      <th>카테고리</th>\n      <th>지역</th>\n      <th>업체명</th>\n      <th>순위</th>\n      <th>점수(mrr)</th>\n      <th>url</th>\n      <th>restaurant_num</th>\n      <th>주소</th>\n      <th>전화번호</th>\n    </tr>\n  </thead>\n  <tbody>\n    <tr>\n      <th>0</th>\n      <td>음식점</td>\n      <td>제주시/함덕</td>\n      <td>우진해장국</td>\n      <td>1</td>\n      <td>0.833</td>\n      <td>https://m.place.naver.com/restaurant/13418405/...</td>\n      <td>13418405</td>\n      <td>제주 제주시 서사로 11</td>\n      <td>064-757-3393</td>\n    </tr>\n    <tr>\n      <th>1</th>\n      <td>음식점</td>\n      <td>제주시/함덕</td>\n      <td>자매국수</td>\n      <td>2</td>\n      <td>0.583</td>\n      <td>https://m.place.naver.com/restaurant/37060300/...</td>\n      <td>37060300</td>\n      <td>제주 제주시 항골남길 46 자매국수</td>\n      <td>064-746-2222</td>\n    </tr>\n    <tr>\n      <th>2</th>\n      <td>음식점</td>\n      <td>제주시/함덕</td>\n      <td>명진전복</td>\n      <td>3</td>\n      <td>0.500</td>\n      <td>https://m.place.naver.com/restaurant/17032617/...</td>\n      <td>17032617</td>\n      <td>제주 제주시 구좌읍 해맞이해안로 1282</td>\n      <td>064-782-9944</td>\n    </tr>\n    <tr>\n      <th>3</th>\n      <td>음식점</td>\n      <td>제주시/함덕</td>\n      <td>고집돌우럭 제주공항점</td>\n      <td>5</td>\n      <td>0.222</td>\n      <td>https://m.place.naver.com/restaurant/38265405/...</td>\n      <td>38265405</td>\n      <td>제주 제주시 임항로 30</td>\n      <td>0507-1436-1008</td>\n    </tr>\n    <tr>\n      <th>4</th>\n      <td>음식점</td>\n      <td>제주시/함덕</td>\n      <td>곰막식당</td>\n      <td>4</td>\n      <td>0.277</td>\n      <td>https://m.place.naver.com/restaurant/31204698/...</td>\n      <td>31204698</td>\n      <td>제주 제주시 구좌읍 구좌해안로 64</td>\n      <td>064-727-5111</td>\n    </tr>\n    <tr>\n      <th>5</th>\n      <td>음식점</td>\n      <td>애월/협재</td>\n      <td>제주광해 애월본점</td>\n      <td>1</td>\n      <td>0.666</td>\n      <td>https://m.place.naver.com/restaurant/137482890...</td>\n      <td>1374828905</td>\n      <td>제주 제주시 애월읍 애월해안로 867 2층</td>\n      <td>0507-1312-4789</td>\n    </tr>\n    <tr>\n      <th>6</th>\n      <td>음식점</td>\n      <td>애월/협재</td>\n      <td>수우동 협재점</td>\n      <td>2</td>\n      <td>0.500</td>\n      <td>https://m.place.naver.com/restaurant/36823910/...</td>\n      <td>36823910</td>\n      <td>NaN</td>\n      <td>NaN</td>\n    </tr>\n    <tr>\n      <th>7</th>\n      <td>음식점</td>\n      <td>애월/협재</td>\n      <td>이춘옥원조고등어쌈밥 제주애월</td>\n      <td>4</td>\n      <td>0.250</td>\n      <td>https://m.place.naver.com/restaurant/19872990/...</td>\n      <td>19872990</td>\n      <td>NaN</td>\n      <td>NaN</td>\n    </tr>\n    <tr>\n      <th>8</th>\n      <td>음식점</td>\n      <td>애월/협재</td>\n      <td>한림칼국수</td>\n      <td>3</td>\n      <td>0.416</td>\n      <td>https://m.place.naver.com/restaurant/34635305/...</td>\n      <td>34635305</td>\n      <td>NaN</td>\n      <td>NaN</td>\n    </tr>\n    <tr>\n      <th>9</th>\n      <td>음식점</td>\n      <td>애월/협재</td>\n      <td>협재칼국수</td>\n      <td>5</td>\n      <td>0.222</td>\n      <td>https://m.place.naver.com/restaurant/37889230/...</td>\n      <td>37889230</td>\n      <td>NaN</td>\n      <td>NaN</td>\n    </tr>\n    <tr>\n      <th>10</th>\n      <td>음식점</td>\n      <td>서귀포/중문/성산/마라도</td>\n      <td>고집돌우럭 중문점</td>\n      <td>1</td>\n      <td>0.666</td>\n      <td>https://m.place.naver.com/restaurant/766197218...</td>\n      <td>766197218</td>\n      <td>NaN</td>\n      <td>NaN</td>\n    </tr>\n    <tr>\n      <th>11</th>\n      <td>음식점</td>\n      <td>서귀포/중문/성산/마라도</td>\n      <td>연돈</td>\n      <td>2</td>\n      <td>0.500</td>\n      <td>https://m.place.naver.com/restaurant/114210808...</td>\n      <td>1142108083</td>\n      <td>NaN</td>\n      <td>NaN</td>\n    </tr>\n    <tr>\n      <th>12</th>\n      <td>음식점</td>\n      <td>서귀포/중문/성산/마라도</td>\n      <td>오는정 김밥</td>\n      <td>3</td>\n      <td>0.464</td>\n      <td>https://m.place.naver.com/restaurant/101112517...</td>\n      <td>1011125170</td>\n      <td>NaN</td>\n      <td>NaN</td>\n    </tr>\n    <tr>\n      <th>13</th>\n      <td>음식점</td>\n      <td>서귀포/중문/성산/마라도</td>\n      <td>색달식당</td>\n      <td>4</td>\n      <td>0.222</td>\n      <td>https://m.place.naver.com/restaurant/21697562/...</td>\n      <td>21697562</td>\n      <td>NaN</td>\n      <td>NaN</td>\n    </tr>\n    <tr>\n      <th>14</th>\n      <td>음식점</td>\n      <td>서귀포/중문/성산/마라도</td>\n      <td>가시아방국수</td>\n      <td>5</td>\n      <td>0.152</td>\n      <td>https://m.place.naver.com/restaurant/16950110/...</td>\n      <td>16950110</td>\n      <td>NaN</td>\n      <td>NaN</td>\n    </tr>\n    <tr>\n      <th>15</th>\n      <td>베이커리</td>\n      <td>제주시/함덕</td>\n      <td>아베베베이커리</td>\n      <td>1</td>\n      <td>0.833</td>\n      <td>https://m.place.naver.com/restaurant/147660525...</td>\n      <td>1476605250</td>\n      <td>NaN</td>\n      <td>NaN</td>\n    </tr>\n    <tr>\n      <th>16</th>\n      <td>베이커리</td>\n      <td>제주시/함덕</td>\n      <td>오드랑베이커리</td>\n      <td>1</td>\n      <td>0.833</td>\n      <td>https://m.place.naver.com/restaurant/16886040/...</td>\n      <td>16886040</td>\n      <td>NaN</td>\n      <td>NaN</td>\n    </tr>\n    <tr>\n      <th>17</th>\n      <td>베이커리</td>\n      <td>제주시/함덕</td>\n      <td>런던베이글뮤지엄 제주점</td>\n      <td>3</td>\n      <td>0.611</td>\n      <td>https://m.place.naver.com/restaurant/142254444...</td>\n      <td>1422544447</td>\n      <td>NaN</td>\n      <td>NaN</td>\n    </tr>\n    <tr>\n      <th>18</th>\n      <td>베이커리</td>\n      <td>제주시/함덕</td>\n      <td>하멜</td>\n      <td>4</td>\n      <td>0.400</td>\n      <td>https://m.place.naver.com/restaurant/743206437...</td>\n      <td>743206437</td>\n      <td>NaN</td>\n      <td>NaN</td>\n    </tr>\n    <tr>\n      <th>19</th>\n      <td>베이커리</td>\n      <td>제주시/함덕</td>\n      <td>노티드 제주DT</td>\n      <td>5</td>\n      <td>0.333</td>\n      <td>https://m.place.naver.com/restaurant/143145018...</td>\n      <td>1431450188</td>\n      <td>NaN</td>\n      <td>NaN</td>\n    </tr>\n    <tr>\n      <th>20</th>\n      <td>베이커리</td>\n      <td>애월/협재</td>\n      <td>애월당</td>\n      <td>2</td>\n      <td>0.500</td>\n      <td>https://m.place.naver.com/restaurant/125003623...</td>\n      <td>1250036232</td>\n      <td>NaN</td>\n      <td>NaN</td>\n    </tr>\n    <tr>\n      <th>21</th>\n      <td>베이커리</td>\n      <td>애월/협재</td>\n      <td>이익새</td>\n      <td>1</td>\n      <td>0.666</td>\n      <td>https://m.place.naver.com/restaurant/299612944...</td>\n      <td>299612944</td>\n      <td>NaN</td>\n      <td>NaN</td>\n    </tr>\n    <tr>\n      <th>22</th>\n      <td>베이커리</td>\n      <td>애월/협재</td>\n      <td>제주만주</td>\n      <td>3</td>\n      <td>0.277</td>\n      <td>https://m.place.naver.com/restaurant/143184829...</td>\n      <td>1431848290</td>\n      <td>NaN</td>\n      <td>NaN</td>\n    </tr>\n    <tr>\n      <th>23</th>\n      <td>베이커리</td>\n      <td>애월/협재</td>\n      <td>rnr베이커리 협재</td>\n      <td>4</td>\n      <td>0.250</td>\n      <td>https://m.place.naver.com/restaurant/145492281...</td>\n      <td>1454922817</td>\n      <td>NaN</td>\n      <td>NaN</td>\n    </tr>\n    <tr>\n      <th>24</th>\n      <td>베이커리</td>\n      <td>애월/협재</td>\n      <td>청춘당꽈배기 서부점</td>\n      <td>5</td>\n      <td>0.194</td>\n      <td>https://m.place.naver.com/restaurant/148287190...</td>\n      <td>1482871905</td>\n      <td>NaN</td>\n      <td>NaN</td>\n    </tr>\n    <tr>\n      <th>25</th>\n      <td>베이커리</td>\n      <td>서귀포/중문/성산/마라도</td>\n      <td>제일성심당</td>\n      <td>2</td>\n      <td>0.370</td>\n      <td>https://m.place.naver.com/restaurant/16952124/...</td>\n      <td>16952124</td>\n      <td>NaN</td>\n      <td>NaN</td>\n    </tr>\n    <tr>\n      <th>26</th>\n      <td>베이커리</td>\n      <td>서귀포/중문/성산/마라도</td>\n      <td>보래드베이커스</td>\n      <td>3</td>\n      <td>0.333</td>\n      <td>https://m.place.naver.com/restaurant/110123177...</td>\n      <td>1101231772</td>\n      <td>NaN</td>\n      <td>NaN</td>\n    </tr>\n    <tr>\n      <th>27</th>\n      <td>베이커리</td>\n      <td>서귀포/중문/성산/마라도</td>\n      <td>서귀피안 베이커리 제주성산일출봉점</td>\n      <td>1</td>\n      <td>0.400</td>\n      <td>https://m.place.naver.com/restaurant/179515116...</td>\n      <td>1795151167</td>\n      <td>NaN</td>\n      <td>NaN</td>\n    </tr>\n    <tr>\n      <th>28</th>\n      <td>베이커리</td>\n      <td>서귀포/중문/성산/마라도</td>\n      <td>미쁜제과</td>\n      <td>4</td>\n      <td>0.277</td>\n      <td>https://m.place.naver.com/restaurant/115369909...</td>\n      <td>1153699096</td>\n      <td>NaN</td>\n      <td>NaN</td>\n    </tr>\n    <tr>\n      <th>29</th>\n      <td>베이커리</td>\n      <td>서귀포/중문/성산/마라도</td>\n      <td>보룡제과</td>\n      <td>5</td>\n      <td>0.189</td>\n      <td>https://m.place.naver.com/restaurant/101210838...</td>\n      <td>1012108385</td>\n      <td>NaN</td>\n      <td>NaN</td>\n    </tr>\n    <tr>\n      <th>30</th>\n      <td>카페/디저트</td>\n      <td>제주시/함덕</td>\n      <td>델문도</td>\n      <td>1</td>\n      <td>1.000</td>\n      <td>https://m.place.naver.com/restaurant/36859834/...</td>\n      <td>36859834</td>\n      <td>NaN</td>\n      <td>NaN</td>\n    </tr>\n    <tr>\n      <th>31</th>\n      <td>카페/디저트</td>\n      <td>제주시/함덕</td>\n      <td>빽다방베이커리 제주사수점제주DT</td>\n      <td>2</td>\n      <td>0.416</td>\n      <td>https://m.place.naver.com/restaurant/148494831...</td>\n      <td>1484948315</td>\n      <td>NaN</td>\n      <td>NaN</td>\n    </tr>\n    <tr>\n      <th>32</th>\n      <td>카페/디저트</td>\n      <td>제주시/함덕</td>\n      <td>스타벅스 제주함덕점</td>\n      <td>4</td>\n      <td>0.277</td>\n      <td>https://m.place.naver.com/restaurant/104441998...</td>\n      <td>1044419982</td>\n      <td>NaN</td>\n      <td>NaN</td>\n    </tr>\n    <tr>\n      <th>33</th>\n      <td>카페/디저트</td>\n      <td>제주시/함덕</td>\n      <td>앙뚜아네트 용담점</td>\n      <td>4</td>\n      <td>0.277</td>\n      <td>https://m.place.naver.com/restaurant/36186986/...</td>\n      <td>36186986</td>\n      <td>NaN</td>\n      <td>NaN</td>\n    </tr>\n    <tr>\n      <th>34</th>\n      <td>카페/디저트</td>\n      <td>제주시/함덕</td>\n      <td>카페나모나모</td>\n      <td>3</td>\n      <td>0.388</td>\n      <td>https://m.place.naver.com/restaurant/158231890...</td>\n      <td>1582318900</td>\n      <td>NaN</td>\n      <td>NaN</td>\n    </tr>\n    <tr>\n      <th>35</th>\n      <td>카페/디저트</td>\n      <td>애월/협재</td>\n      <td>새빌</td>\n      <td>2</td>\n      <td>0.555</td>\n      <td>https://m.place.naver.com/restaurant/187655375...</td>\n      <td>1876553757</td>\n      <td>NaN</td>\n      <td>NaN</td>\n    </tr>\n    <tr>\n      <th>36</th>\n      <td>카페/디저트</td>\n      <td>애월/협재</td>\n      <td>우무</td>\n      <td>1</td>\n      <td>0.666</td>\n      <td>https://m.place.naver.com/restaurant/153794058...</td>\n      <td>1537940586</td>\n      <td>NaN</td>\n      <td>NaN</td>\n    </tr>\n    <tr>\n      <th>37</th>\n      <td>카페/디저트</td>\n      <td>애월/협재</td>\n      <td>레이지펌프</td>\n      <td>3</td>\n      <td>0.410</td>\n      <td>https://m.place.naver.com/restaurant/130618755...</td>\n      <td>1306187552</td>\n      <td>NaN</td>\n      <td>NaN</td>\n    </tr>\n    <tr>\n      <th>38</th>\n      <td>카페/디저트</td>\n      <td>애월/협재</td>\n      <td>애월빵공장 앤 카페</td>\n      <td>3</td>\n      <td>0.410</td>\n      <td>https://m.place.naver.com/restaurant/151621633...</td>\n      <td>1516216333</td>\n      <td>NaN</td>\n      <td>NaN</td>\n    </tr>\n    <tr>\n      <th>39</th>\n      <td>카페/디저트</td>\n      <td>애월/협재</td>\n      <td>명월국민학교</td>\n      <td>5</td>\n      <td>0.250</td>\n      <td>https://m.place.naver.com/restaurant/138391033...</td>\n      <td>1383910337</td>\n      <td>NaN</td>\n      <td>NaN</td>\n    </tr>\n    <tr>\n      <th>40</th>\n      <td>카페/디저트</td>\n      <td>서귀포/중문/성산/마라도</td>\n      <td>원앤온리</td>\n      <td>1</td>\n      <td>1.000</td>\n      <td>https://m.place.naver.com/restaurant/125624673...</td>\n      <td>1256246739</td>\n      <td>NaN</td>\n      <td>NaN</td>\n    </tr>\n    <tr>\n      <th>41</th>\n      <td>카페/디저트</td>\n      <td>서귀포/중문/성산/마라도</td>\n      <td>더클리프</td>\n      <td>2</td>\n      <td>0.410</td>\n      <td>https://m.place.naver.com/restaurant/166782220...</td>\n      <td>1667822207</td>\n      <td>NaN</td>\n      <td>NaN</td>\n    </tr>\n    <tr>\n      <th>42</th>\n      <td>카페/디저트</td>\n      <td>서귀포/중문/성산/마라도</td>\n      <td>유동커피</td>\n      <td>3</td>\n      <td>0.300</td>\n      <td>https://m.place.naver.com/restaurant/33225737/...</td>\n      <td>33225737</td>\n      <td>NaN</td>\n      <td>NaN</td>\n    </tr>\n    <tr>\n      <th>43</th>\n      <td>카페/디저트</td>\n      <td>서귀포/중문/성산/마라도</td>\n      <td>테라로사 서귀포점</td>\n      <td>4</td>\n      <td>0.261</td>\n      <td>https://m.place.naver.com/restaurant/37921491/...</td>\n      <td>37921491</td>\n      <td>NaN</td>\n      <td>NaN</td>\n    </tr>\n    <tr>\n      <th>44</th>\n      <td>카페/디저트</td>\n      <td>서귀포/중문/성산/마라도</td>\n      <td>허니문하우스</td>\n      <td>5</td>\n      <td>0.162</td>\n      <td>https://m.place.naver.com/restaurant/164980452...</td>\n      <td>1649804520</td>\n      <td>NaN</td>\n      <td>NaN</td>\n    </tr>\n  </tbody>\n</table>\n</div>"
     },
     "execution_count": 15,
     "metadata": {},
     "output_type": "execute_result"
    }
   ],
   "source": [
    "rest_df"
   ],
   "metadata": {
    "collapsed": false,
    "ExecuteTime": {
     "end_time": "2024-08-10T02:50:44.086415200Z",
     "start_time": "2024-08-10T02:50:44.073855400Z"
    }
   },
   "id": "bbafcc88b304eabc"
  },
  {
   "cell_type": "code",
   "execution_count": 27,
   "id": "initial_id",
   "metadata": {
    "collapsed": true,
    "ExecuteTime": {
     "end_time": "2024-08-10T03:38:08.458497200Z",
     "start_time": "2024-08-10T03:38:08.448174600Z"
    }
   },
   "outputs": [],
   "source": [
    "\n",
    "def get_review(restaurant_num):\n",
    "    try:\n",
    "        search_url = f\"https://m.place.naver.com/restaurant/{restaurant_num}/review/visitor?entry=ple&reviewSort=recent\"\n",
    "        options = Options()\n",
    "        # options.add_argument(\"--headless\")\n",
    "    \n",
    "        # BS4 setting for secondary access\n",
    "        session = requests.Session()\n",
    "        headers = {\n",
    "            \"User-Agent\": \"user value\"}\n",
    "    \n",
    "        retries = Retry(total=5,\n",
    "                        backoff_factor=0.1,\n",
    "                        status_forcelist=[500, 502, 503, 504])\n",
    "    \n",
    "        session.mount('http://', HTTPAdapter(max_retries=retries))\n",
    "    \n",
    "        service = Service(ChromeDriverManager().install())\n",
    "        driver = webdriver.Chrome(service=service, options=options)\n",
    "        driver.get(search_url)\n",
    "    \n",
    "        driver.implicitly_wait(30)\n",
    "    \n",
    "        # Pagedown\n",
    "        driver.find_element(By.TAG_NAME, 'body').send_keys(Keys.PAGE_DOWN)\n",
    "    \n",
    "        try:\n",
    "            for i in range(20):\n",
    "                driver.find_element(By.XPATH, '//*[@id=\"app-root\"]/div/div/div/div[6]/div[2]/div[3]/div[2]/div/a').click()\n",
    "                time.sleep(1)\n",
    "        except Exception as e:\n",
    "            print('finish')\n",
    "    \n",
    "        time.sleep(1)\n",
    "        html = driver.page_source\n",
    "        bs = BeautifulSoup(html, 'lxml')\n",
    "        reviews = bs.select('li.EjjAW')\n",
    "        row_list = []\n",
    "        for r in reviews:\n",
    "            nickname = r.select_one('div.pui__JiVbY3')\n",
    "            content = r.select_one('div.pui__vn15t2')\n",
    "            date = r.select_one('div.pui__QKE5Pr>span.pui__gfuUIT>time')\n",
    "            visit_cnt = r.select('div.pui__QKE5Pr>span.pui__gfuUIT')[1]\n",
    "    \n",
    "            # exception handling\n",
    "            nickname = nickname.text if nickname else ''\n",
    "            content = content.text if content else ''\n",
    "            date = date.text if date else ''\n",
    "            visit_cnt = visit_cnt.text if visit_cnt else ''\n",
    "    \n",
    "            time.sleep(0.06)\n",
    "    \n",
    "            # print(nickname, '/', content, '/', date)\n",
    "            row_list.append([nickname, content, date, visit_cnt])\n",
    "            time.sleep(0.06)\n",
    "        df = pd.DataFrame(row_list, columns=['nickname', 'content', 'date', 'visit_cnt'])\n",
    "    \n",
    "        return df\n",
    "    except Exception as e:\n",
    "        print(e)\n",
    "        return pd.DataFrame(columns=['nickname', 'content', 'date', 'visit_cnt'])"
   ]
  },
  {
   "cell_type": "code",
   "execution_count": 28,
   "outputs": [
    {
     "name": "stdout",
     "output_type": "stream",
     "text": [
      "finish\n",
      "finish\n",
      "finish\n",
      "finish\n",
      "finish\n",
      "finish\n"
     ]
    }
   ],
   "source": [
    "for idx,row in rest_df.iterrows():\n",
    "    rest_num = row['restaurant_num']\n",
    "    result_df = get_review(rest_num)\n",
    "    result_df.to_excel(f\"네이버_review_restnum_{rest_num}.xlsx\", index=False)"
   ],
   "metadata": {
    "collapsed": false,
    "ExecuteTime": {
     "end_time": "2024-08-10T04:19:58.448388700Z",
     "start_time": "2024-08-10T03:38:24.157545300Z"
    }
   },
   "id": "40b60b38064d6ffb"
  },
  {
   "cell_type": "code",
   "execution_count": null,
   "outputs": [],
   "source": [
    "\n"
   ],
   "metadata": {
    "collapsed": false
   },
   "id": "b2faef08ca8980f0"
  }
 ],
 "metadata": {
  "kernelspec": {
   "display_name": "Python 3",
   "language": "python",
   "name": "python3"
  },
  "language_info": {
   "codemirror_mode": {
    "name": "ipython",
    "version": 2
   },
   "file_extension": ".py",
   "mimetype": "text/x-python",
   "name": "python",
   "nbconvert_exporter": "python",
   "pygments_lexer": "ipython2",
   "version": "2.7.6"
  }
 },
 "nbformat": 4,
 "nbformat_minor": 5
}
