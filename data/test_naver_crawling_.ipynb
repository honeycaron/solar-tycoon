{
 "cells": [
  {
   "cell_type": "code",
   "execution_count": 21,
   "outputs": [],
   "source": [
    "from selenium.webdriver.common.by import By\n",
    "from urllib3.util.retry import Retry\n",
    "from requests.adapters import HTTPAdapter\n",
    "from openpyxl import Workbook\n",
    "from bs4 import BeautifulSoup\n",
    "from selenium import webdriver\n",
    "from webdriver_manager.chrome import ChromeDriverManager\n",
    "from selenium.webdriver.common.keys import Keys\n",
    "import time\n",
    "import datetime\n",
    "import requests\n",
    "from selenium.webdriver.chrome.service import Service\n",
    "from selenium.webdriver.chrome.options import Options\n",
    "\n",
    "# url\n",
    "url = 'https://m.place.naver.com/restaurant/1085956231/review/visitor?entry=ple&reviewSort=recent'\n",
    "\n",
    "# Webdriver headless mode setting\n",
    "options = Options()\n",
    "options.add_argument('headless')\n",
    "options.add_argument('window-size=1920x1080')\n",
    "options.add_argument(\"disable-gpu\")\n",
    "\n",
    "# BS4 setting for secondary access\n",
    "session = requests.Session()\n",
    "headers = {\n",
    "    \"User-Agent\": \"user value\"}\n",
    "\n",
    "retries = Retry(total=5,\n",
    "                backoff_factor=0.1,\n",
    "                status_forcelist=[500, 502, 503, 504])\n",
    "\n",
    "session.mount('http://', HTTPAdapter(max_retries=retries))\n",
    "\n",
    "# New xlsx file\n",
    "now = datetime.datetime.now()\n",
    "xlsx = Workbook()\n",
    "list_sheet = xlsx.create_sheet('output')\n",
    "list_sheet.append(['nickname', 'content', 'date'])"
   ],
   "metadata": {
    "collapsed": false,
    "ExecuteTime": {
     "end_time": "2024-08-04T08:46:10.149075300Z",
     "start_time": "2024-08-04T08:46:10.144964800Z"
    }
   },
   "id": "d9391b684f4e7922"
  },
  {
   "cell_type": "code",
   "execution_count": 22,
   "outputs": [
    {
     "ename": "FileNotFoundError",
     "evalue": "[WinError 2] 지정된 파일을 찾을 수 없습니다",
     "output_type": "error",
     "traceback": [
      "\u001B[1;31m---------------------------------------------------------------------------\u001B[0m",
      "\u001B[1;31mFileNotFoundError\u001B[0m                         Traceback (most recent call last)",
      "Cell \u001B[1;32mIn[22], line 4\u001B[0m\n\u001B[0;32m      1\u001B[0m url \u001B[38;5;241m=\u001B[39m \u001B[38;5;124m'\u001B[39m\u001B[38;5;124mhttps://m.place.naver.com/restaurant/1085956231/review/visitor?entry=ple&reviewSort=recent\u001B[39m\u001B[38;5;124m'\u001B[39m\n\u001B[0;32m      3\u001B[0m \u001B[38;5;28;01mfrom\u001B[39;00m \u001B[38;5;21;01mpyvirtualdisplay\u001B[39;00m \u001B[38;5;28;01mimport\u001B[39;00m Display\n\u001B[1;32m----> 4\u001B[0m display \u001B[38;5;241m=\u001B[39m \u001B[43mDisplay\u001B[49m\u001B[43m(\u001B[49m\u001B[43mvisible\u001B[49m\u001B[38;5;241;43m=\u001B[39;49m\u001B[38;5;241;43m0\u001B[39;49m\u001B[43m,\u001B[49m\u001B[43m \u001B[49m\u001B[43msize\u001B[49m\u001B[38;5;241;43m=\u001B[39;49m\u001B[43m(\u001B[49m\u001B[38;5;241;43m1024\u001B[39;49m\u001B[43m,\u001B[49m\u001B[43m \u001B[49m\u001B[38;5;241;43m768\u001B[39;49m\u001B[43m)\u001B[49m\u001B[43m)\u001B[49m\n\u001B[0;32m      5\u001B[0m display\u001B[38;5;241m.\u001B[39mstart()\n\u001B[0;32m      7\u001B[0m \u001B[38;5;66;03m# Webdriver headless mode setting\u001B[39;00m\n",
      "File \u001B[1;32m~\\PycharmProjects\\solar_tycoon\\venv\\Lib\\site-packages\\pyvirtualdisplay\\display.py:54\u001B[0m, in \u001B[0;36mDisplay.__init__\u001B[1;34m(self, backend, visible, size, color_depth, bgcolor, use_xauth, retries, extra_args, manage_global_env, **kwargs)\u001B[0m\n\u001B[0;32m     51\u001B[0m \u001B[38;5;28;01mif\u001B[39;00m \u001B[38;5;129;01mnot\u001B[39;00m \u001B[38;5;28mcls\u001B[39m:\n\u001B[0;32m     52\u001B[0m     \u001B[38;5;28;01mraise\u001B[39;00m \u001B[38;5;167;01mValueError\u001B[39;00m(\u001B[38;5;124m\"\u001B[39m\u001B[38;5;124munknown backend: \u001B[39m\u001B[38;5;132;01m%s\u001B[39;00m\u001B[38;5;124m\"\u001B[39m \u001B[38;5;241m%\u001B[39m \u001B[38;5;28mself\u001B[39m\u001B[38;5;241m.\u001B[39m_backend)\n\u001B[1;32m---> 54\u001B[0m \u001B[38;5;28mself\u001B[39m\u001B[38;5;241m.\u001B[39m_obj \u001B[38;5;241m=\u001B[39m \u001B[38;5;28;43mcls\u001B[39;49m\u001B[43m(\u001B[49m\n\u001B[0;32m     55\u001B[0m \u001B[43m    \u001B[49m\u001B[43msize\u001B[49m\u001B[38;5;241;43m=\u001B[39;49m\u001B[43msize\u001B[49m\u001B[43m,\u001B[49m\n\u001B[0;32m     56\u001B[0m \u001B[43m    \u001B[49m\u001B[43mcolor_depth\u001B[49m\u001B[38;5;241;43m=\u001B[39;49m\u001B[43mcolor_depth\u001B[49m\u001B[43m,\u001B[49m\n\u001B[0;32m     57\u001B[0m \u001B[43m    \u001B[49m\u001B[43mbgcolor\u001B[49m\u001B[38;5;241;43m=\u001B[39;49m\u001B[43mbgcolor\u001B[49m\u001B[43m,\u001B[49m\n\u001B[0;32m     58\u001B[0m \u001B[43m    \u001B[49m\u001B[43mretries\u001B[49m\u001B[38;5;241;43m=\u001B[39;49m\u001B[43mretries\u001B[49m\u001B[43m,\u001B[49m\n\u001B[0;32m     59\u001B[0m \u001B[43m    \u001B[49m\u001B[43muse_xauth\u001B[49m\u001B[38;5;241;43m=\u001B[39;49m\u001B[43muse_xauth\u001B[49m\u001B[43m,\u001B[49m\n\u001B[0;32m     60\u001B[0m \u001B[43m    \u001B[49m\u001B[38;5;66;43;03m# check_startup=check_startup,\u001B[39;49;00m\n\u001B[0;32m     61\u001B[0m \u001B[43m    \u001B[49m\u001B[43mextra_args\u001B[49m\u001B[38;5;241;43m=\u001B[39;49m\u001B[43mextra_args\u001B[49m\u001B[43m,\u001B[49m\n\u001B[0;32m     62\u001B[0m \u001B[43m    \u001B[49m\u001B[43mmanage_global_env\u001B[49m\u001B[38;5;241;43m=\u001B[39;49m\u001B[43mmanage_global_env\u001B[49m\u001B[43m,\u001B[49m\n\u001B[0;32m     63\u001B[0m \u001B[43m    \u001B[49m\u001B[38;5;241;43m*\u001B[39;49m\u001B[38;5;241;43m*\u001B[39;49m\u001B[43mkwargs\u001B[49m\n\u001B[0;32m     64\u001B[0m \u001B[43m\u001B[49m\u001B[43m)\u001B[49m\n",
      "File \u001B[1;32m~\\PycharmProjects\\solar_tycoon\\venv\\Lib\\site-packages\\pyvirtualdisplay\\xvfb.py:44\u001B[0m, in \u001B[0;36mXvfbDisplay.__init__\u001B[1;34m(self, size, color_depth, bgcolor, use_xauth, fbdir, dpi, retries, extra_args, manage_global_env)\u001B[0m\n\u001B[0;32m     41\u001B[0m \u001B[38;5;28mself\u001B[39m\u001B[38;5;241m.\u001B[39m_fbdir \u001B[38;5;241m=\u001B[39m fbdir\n\u001B[0;32m     42\u001B[0m \u001B[38;5;28mself\u001B[39m\u001B[38;5;241m.\u001B[39m_dpi \u001B[38;5;241m=\u001B[39m dpi\n\u001B[1;32m---> 44\u001B[0m \u001B[43mAbstractDisplay\u001B[49m\u001B[38;5;241;43m.\u001B[39;49m\u001B[38;5;21;43m__init__\u001B[39;49m\u001B[43m(\u001B[49m\n\u001B[0;32m     45\u001B[0m \u001B[43m    \u001B[49m\u001B[38;5;28;43mself\u001B[39;49m\u001B[43m,\u001B[49m\n\u001B[0;32m     46\u001B[0m \u001B[43m    \u001B[49m\u001B[43mPROGRAM\u001B[49m\u001B[43m,\u001B[49m\n\u001B[0;32m     47\u001B[0m \u001B[43m    \u001B[49m\u001B[43muse_xauth\u001B[49m\u001B[38;5;241;43m=\u001B[39;49m\u001B[43muse_xauth\u001B[49m\u001B[43m,\u001B[49m\n\u001B[0;32m     48\u001B[0m \u001B[43m    \u001B[49m\u001B[43mretries\u001B[49m\u001B[38;5;241;43m=\u001B[39;49m\u001B[43mretries\u001B[49m\u001B[43m,\u001B[49m\n\u001B[0;32m     49\u001B[0m \u001B[43m    \u001B[49m\u001B[43mextra_args\u001B[49m\u001B[38;5;241;43m=\u001B[39;49m\u001B[43mextra_args\u001B[49m\u001B[43m,\u001B[49m\n\u001B[0;32m     50\u001B[0m \u001B[43m    \u001B[49m\u001B[43mmanage_global_env\u001B[49m\u001B[38;5;241;43m=\u001B[39;49m\u001B[43mmanage_global_env\u001B[49m\u001B[43m,\u001B[49m\n\u001B[0;32m     51\u001B[0m \u001B[43m\u001B[49m\u001B[43m)\u001B[49m\n",
      "File \u001B[1;32m~\\PycharmProjects\\solar_tycoon\\venv\\Lib\\site-packages\\pyvirtualdisplay\\abstractdisplay.py:85\u001B[0m, in \u001B[0;36mAbstractDisplay.__init__\u001B[1;34m(self, program, use_xauth, retries, extra_args, manage_global_env)\u001B[0m\n\u001B[0;32m     82\u001B[0m \u001B[38;5;28mself\u001B[39m\u001B[38;5;241m.\u001B[39m_pipe_wfd \u001B[38;5;241m=\u001B[39m \u001B[38;5;28;01mNone\u001B[39;00m\n\u001B[0;32m     83\u001B[0m \u001B[38;5;28mself\u001B[39m\u001B[38;5;241m.\u001B[39m_retries_current \u001B[38;5;241m=\u001B[39m \u001B[38;5;241m0\u001B[39m\n\u001B[1;32m---> 85\u001B[0m helptext \u001B[38;5;241m=\u001B[39m \u001B[43mget_helptext\u001B[49m\u001B[43m(\u001B[49m\u001B[43mprogram\u001B[49m\u001B[43m)\u001B[49m\n\u001B[0;32m     86\u001B[0m \u001B[38;5;28mself\u001B[39m\u001B[38;5;241m.\u001B[39m_has_displayfd \u001B[38;5;241m=\u001B[39m \u001B[38;5;124m\"\u001B[39m\u001B[38;5;124m-displayfd\u001B[39m\u001B[38;5;124m\"\u001B[39m \u001B[38;5;129;01min\u001B[39;00m helptext\n\u001B[0;32m     87\u001B[0m \u001B[38;5;28;01mif\u001B[39;00m \u001B[38;5;129;01mnot\u001B[39;00m \u001B[38;5;28mself\u001B[39m\u001B[38;5;241m.\u001B[39m_has_displayfd:\n",
      "File \u001B[1;32m~\\PycharmProjects\\solar_tycoon\\venv\\Lib\\site-packages\\pyvirtualdisplay\\util.py:13\u001B[0m, in \u001B[0;36mget_helptext\u001B[1;34m(program)\u001B[0m\n\u001B[0;32m      6\u001B[0m cmd \u001B[38;5;241m=\u001B[39m [program, \u001B[38;5;124m\"\u001B[39m\u001B[38;5;124m-help\u001B[39m\u001B[38;5;124m\"\u001B[39m]\n\u001B[0;32m      8\u001B[0m \u001B[38;5;66;03m# py3.7+\u001B[39;00m\n\u001B[0;32m      9\u001B[0m \u001B[38;5;66;03m# p = subprocess.run(cmd, capture_output=True)\u001B[39;00m\n\u001B[0;32m     10\u001B[0m \u001B[38;5;66;03m# stderr = p.stderr\u001B[39;00m\n\u001B[0;32m     11\u001B[0m \n\u001B[0;32m     12\u001B[0m \u001B[38;5;66;03m# py3.6 also\u001B[39;00m\n\u001B[1;32m---> 13\u001B[0m p \u001B[38;5;241m=\u001B[39m \u001B[43msubprocess\u001B[49m\u001B[38;5;241;43m.\u001B[39;49m\u001B[43mPopen\u001B[49m\u001B[43m(\u001B[49m\n\u001B[0;32m     14\u001B[0m \u001B[43m    \u001B[49m\u001B[43mcmd\u001B[49m\u001B[43m,\u001B[49m\n\u001B[0;32m     15\u001B[0m \u001B[43m    \u001B[49m\u001B[43mstdout\u001B[49m\u001B[38;5;241;43m=\u001B[39;49m\u001B[43msubprocess\u001B[49m\u001B[38;5;241;43m.\u001B[39;49m\u001B[43mPIPE\u001B[49m\u001B[43m,\u001B[49m\n\u001B[0;32m     16\u001B[0m \u001B[43m    \u001B[49m\u001B[43mstderr\u001B[49m\u001B[38;5;241;43m=\u001B[39;49m\u001B[43msubprocess\u001B[49m\u001B[38;5;241;43m.\u001B[39;49m\u001B[43mPIPE\u001B[49m\u001B[43m,\u001B[49m\n\u001B[0;32m     17\u001B[0m \u001B[43m    \u001B[49m\u001B[43mshell\u001B[49m\u001B[38;5;241;43m=\u001B[39;49m\u001B[38;5;28;43;01mFalse\u001B[39;49;00m\u001B[43m,\u001B[49m\n\u001B[0;32m     18\u001B[0m \u001B[43m\u001B[49m\u001B[43m)\u001B[49m\n\u001B[0;32m     19\u001B[0m _, stderr \u001B[38;5;241m=\u001B[39m p\u001B[38;5;241m.\u001B[39mcommunicate()\n\u001B[0;32m     21\u001B[0m helptext \u001B[38;5;241m=\u001B[39m stderr\u001B[38;5;241m.\u001B[39mdecode(\u001B[38;5;124m\"\u001B[39m\u001B[38;5;124mutf-8\u001B[39m\u001B[38;5;124m\"\u001B[39m, \u001B[38;5;124m\"\u001B[39m\u001B[38;5;124mignore\u001B[39m\u001B[38;5;124m\"\u001B[39m)\n",
      "File \u001B[1;32m~\\AppData\\Local\\Programs\\Python\\Python311\\Lib\\subprocess.py:1026\u001B[0m, in \u001B[0;36mPopen.__init__\u001B[1;34m(self, args, bufsize, executable, stdin, stdout, stderr, preexec_fn, close_fds, shell, cwd, env, universal_newlines, startupinfo, creationflags, restore_signals, start_new_session, pass_fds, user, group, extra_groups, encoding, errors, text, umask, pipesize, process_group)\u001B[0m\n\u001B[0;32m   1022\u001B[0m         \u001B[38;5;28;01mif\u001B[39;00m \u001B[38;5;28mself\u001B[39m\u001B[38;5;241m.\u001B[39mtext_mode:\n\u001B[0;32m   1023\u001B[0m             \u001B[38;5;28mself\u001B[39m\u001B[38;5;241m.\u001B[39mstderr \u001B[38;5;241m=\u001B[39m io\u001B[38;5;241m.\u001B[39mTextIOWrapper(\u001B[38;5;28mself\u001B[39m\u001B[38;5;241m.\u001B[39mstderr,\n\u001B[0;32m   1024\u001B[0m                     encoding\u001B[38;5;241m=\u001B[39mencoding, errors\u001B[38;5;241m=\u001B[39merrors)\n\u001B[1;32m-> 1026\u001B[0m     \u001B[38;5;28;43mself\u001B[39;49m\u001B[38;5;241;43m.\u001B[39;49m\u001B[43m_execute_child\u001B[49m\u001B[43m(\u001B[49m\u001B[43margs\u001B[49m\u001B[43m,\u001B[49m\u001B[43m \u001B[49m\u001B[43mexecutable\u001B[49m\u001B[43m,\u001B[49m\u001B[43m \u001B[49m\u001B[43mpreexec_fn\u001B[49m\u001B[43m,\u001B[49m\u001B[43m \u001B[49m\u001B[43mclose_fds\u001B[49m\u001B[43m,\u001B[49m\n\u001B[0;32m   1027\u001B[0m \u001B[43m                        \u001B[49m\u001B[43mpass_fds\u001B[49m\u001B[43m,\u001B[49m\u001B[43m \u001B[49m\u001B[43mcwd\u001B[49m\u001B[43m,\u001B[49m\u001B[43m \u001B[49m\u001B[43menv\u001B[49m\u001B[43m,\u001B[49m\n\u001B[0;32m   1028\u001B[0m \u001B[43m                        \u001B[49m\u001B[43mstartupinfo\u001B[49m\u001B[43m,\u001B[49m\u001B[43m \u001B[49m\u001B[43mcreationflags\u001B[49m\u001B[43m,\u001B[49m\u001B[43m \u001B[49m\u001B[43mshell\u001B[49m\u001B[43m,\u001B[49m\n\u001B[0;32m   1029\u001B[0m \u001B[43m                        \u001B[49m\u001B[43mp2cread\u001B[49m\u001B[43m,\u001B[49m\u001B[43m \u001B[49m\u001B[43mp2cwrite\u001B[49m\u001B[43m,\u001B[49m\n\u001B[0;32m   1030\u001B[0m \u001B[43m                        \u001B[49m\u001B[43mc2pread\u001B[49m\u001B[43m,\u001B[49m\u001B[43m \u001B[49m\u001B[43mc2pwrite\u001B[49m\u001B[43m,\u001B[49m\n\u001B[0;32m   1031\u001B[0m \u001B[43m                        \u001B[49m\u001B[43merrread\u001B[49m\u001B[43m,\u001B[49m\u001B[43m \u001B[49m\u001B[43merrwrite\u001B[49m\u001B[43m,\u001B[49m\n\u001B[0;32m   1032\u001B[0m \u001B[43m                        \u001B[49m\u001B[43mrestore_signals\u001B[49m\u001B[43m,\u001B[49m\n\u001B[0;32m   1033\u001B[0m \u001B[43m                        \u001B[49m\u001B[43mgid\u001B[49m\u001B[43m,\u001B[49m\u001B[43m \u001B[49m\u001B[43mgids\u001B[49m\u001B[43m,\u001B[49m\u001B[43m \u001B[49m\u001B[43muid\u001B[49m\u001B[43m,\u001B[49m\u001B[43m \u001B[49m\u001B[43mumask\u001B[49m\u001B[43m,\u001B[49m\n\u001B[0;32m   1034\u001B[0m \u001B[43m                        \u001B[49m\u001B[43mstart_new_session\u001B[49m\u001B[43m,\u001B[49m\u001B[43m \u001B[49m\u001B[43mprocess_group\u001B[49m\u001B[43m)\u001B[49m\n\u001B[0;32m   1035\u001B[0m \u001B[38;5;28;01mexcept\u001B[39;00m:\n\u001B[0;32m   1036\u001B[0m     \u001B[38;5;66;03m# Cleanup if the child failed starting.\u001B[39;00m\n\u001B[0;32m   1037\u001B[0m     \u001B[38;5;28;01mfor\u001B[39;00m f \u001B[38;5;129;01min\u001B[39;00m \u001B[38;5;28mfilter\u001B[39m(\u001B[38;5;28;01mNone\u001B[39;00m, (\u001B[38;5;28mself\u001B[39m\u001B[38;5;241m.\u001B[39mstdin, \u001B[38;5;28mself\u001B[39m\u001B[38;5;241m.\u001B[39mstdout, \u001B[38;5;28mself\u001B[39m\u001B[38;5;241m.\u001B[39mstderr)):\n",
      "File \u001B[1;32m~\\AppData\\Local\\Programs\\Python\\Python311\\Lib\\subprocess.py:1538\u001B[0m, in \u001B[0;36mPopen._execute_child\u001B[1;34m(self, args, executable, preexec_fn, close_fds, pass_fds, cwd, env, startupinfo, creationflags, shell, p2cread, p2cwrite, c2pread, c2pwrite, errread, errwrite, unused_restore_signals, unused_gid, unused_gids, unused_uid, unused_umask, unused_start_new_session, unused_process_group)\u001B[0m\n\u001B[0;32m   1536\u001B[0m \u001B[38;5;66;03m# Start the process\u001B[39;00m\n\u001B[0;32m   1537\u001B[0m \u001B[38;5;28;01mtry\u001B[39;00m:\n\u001B[1;32m-> 1538\u001B[0m     hp, ht, pid, tid \u001B[38;5;241m=\u001B[39m _winapi\u001B[38;5;241m.\u001B[39mCreateProcess(executable, args,\n\u001B[0;32m   1539\u001B[0m                              \u001B[38;5;66;03m# no special security\u001B[39;00m\n\u001B[0;32m   1540\u001B[0m                              \u001B[38;5;28;01mNone\u001B[39;00m, \u001B[38;5;28;01mNone\u001B[39;00m,\n\u001B[0;32m   1541\u001B[0m                              \u001B[38;5;28mint\u001B[39m(\u001B[38;5;129;01mnot\u001B[39;00m close_fds),\n\u001B[0;32m   1542\u001B[0m                              creationflags,\n\u001B[0;32m   1543\u001B[0m                              env,\n\u001B[0;32m   1544\u001B[0m                              cwd,\n\u001B[0;32m   1545\u001B[0m                              startupinfo)\n\u001B[0;32m   1546\u001B[0m \u001B[38;5;28;01mfinally\u001B[39;00m:\n\u001B[0;32m   1547\u001B[0m     \u001B[38;5;66;03m# Child is launched. Close the parent's copy of those pipe\u001B[39;00m\n\u001B[0;32m   1548\u001B[0m     \u001B[38;5;66;03m# handles that only the child should have open.  You need\u001B[39;00m\n\u001B[1;32m   (...)\u001B[0m\n\u001B[0;32m   1551\u001B[0m     \u001B[38;5;66;03m# pipe will not close when the child process exits and the\u001B[39;00m\n\u001B[0;32m   1552\u001B[0m     \u001B[38;5;66;03m# ReadFile will hang.\u001B[39;00m\n\u001B[0;32m   1553\u001B[0m     \u001B[38;5;28mself\u001B[39m\u001B[38;5;241m.\u001B[39m_close_pipe_fds(p2cread, p2cwrite,\n\u001B[0;32m   1554\u001B[0m                          c2pread, c2pwrite,\n\u001B[0;32m   1555\u001B[0m                          errread, errwrite)\n",
      "\u001B[1;31mFileNotFoundError\u001B[0m: [WinError 2] 지정된 파일을 찾을 수 없습니다"
     ]
    }
   ],
   "source": [
    "url = 'https://m.place.naver.com/restaurant/1085956231/review/visitor?entry=ple&reviewSort=recent'\n",
    "\n",
    "from pyvirtualdisplay import Display\n",
    "display = Display(visible=0, size=(1024, 768))\n",
    "display.start()\n",
    "\n",
    "# Webdriver headless mode setting\n",
    "\n",
    "service = Service(ChromeDriverManager().install())\n",
    "driver = webdriver.Chrome(service=service, options=options)\n",
    "res = driver.get(url)"
   ],
   "metadata": {
    "collapsed": false,
    "ExecuteTime": {
     "end_time": "2024-08-04T08:46:14.167339500Z",
     "start_time": "2024-08-04T08:46:14.109584400Z"
    }
   },
   "id": "f4c952e90d056bfb"
  },
  {
   "cell_type": "code",
   "execution_count": 19,
   "outputs": [
    {
     "data": {
      "text/plain": "'<html><head><title>429 Too Many Requests</title></head>\\n<body bgcolor=\"white\">\\n<center><h1>429 Too Many Requests</h1></center>\\n<hr><center>nginx/1.14.2</center>\\n\\n\\n\\n\\n\\n\\n\\n\\n</body></html>'"
     },
     "execution_count": 19,
     "metadata": {},
     "output_type": "execute_result"
    }
   ],
   "source": [
    "driver.page_source"
   ],
   "metadata": {
    "collapsed": false,
    "ExecuteTime": {
     "end_time": "2024-08-04T08:39:44.261171500Z",
     "start_time": "2024-08-04T08:39:44.245809600Z"
    }
   },
   "id": "c55918b501850f76"
  },
  {
   "cell_type": "code",
   "execution_count": 11,
   "outputs": [
    {
     "name": "stdout",
     "output_type": "stream",
     "text": [
      "finish\n"
     ]
    }
   ],
   "source": [
    "\n",
    "\n",
    "# Start crawling/scraping!\n",
    "\n",
    "service = Service(ChromeDriverManager().install())\n",
    "driver = webdriver.Chrome(service=service, options=options)\n",
    "res = driver.get(url)\n",
    "driver.implicitly_wait(30)\n",
    "\n",
    "# Pagedown\n",
    "driver.find_element(By.TAG_NAME, 'body').send_keys(Keys.PAGE_DOWN)\n",
    "\n",
    "try:\n",
    "    for i in range(5):\n",
    "        driver.find_element(By.XPATH, '//*[@id=\"app-root\"]/div/div/div/div[6]/div[2]/div[3]/div[2]/div/a').click()\n",
    "        time.sleep(0.4)\n",
    "except Exception as e:\n",
    "    print('finish')\n",
    "\n",
    "time.sleep(5)\n",
    "html = driver.page_source\n",
    "bs = BeautifulSoup(html, 'lxml')\n",
    "reviews = bs.select('li.owAeM')\n",
    "\n",
    "for r in reviews:\n",
    "    nickname = r.select_one('div.qgLL3')\n",
    "    content = r.select_one('div.vg7Fp')\n",
    "    date = r.select('div.D40bm>span.CKUdu>span.place_blind')[1]\n",
    "\n",
    "    # exception handling\n",
    "    nickname = nickname.text if nickname else ''\n",
    "    content = content.text if content else ''\n",
    "    date = date.text if date else ''\n",
    "\n",
    "    time.sleep(0.06)\n",
    "\n",
    "    print(nickname, '/', content, '/', date)\n",
    "    list_sheet.append([nickname, content, date])\n",
    "    time.sleep(0.06)\n",
    "# Save the file\n",
    "file_name = 'naver_review_' + now.strftime('%Y-%m-%d_%H-%M-%S') + '.xlsx'\n",
    "xlsx.save(file_name)\n",
    "\n"
   ],
   "metadata": {
    "collapsed": false,
    "ExecuteTime": {
     "end_time": "2024-08-04T08:35:54.013228400Z",
     "start_time": "2024-08-04T08:35:12.143519600Z"
    }
   },
   "id": "18664576a91d0191"
  },
  {
   "cell_type": "code",
   "execution_count": 12,
   "outputs": [
    {
     "data": {
      "text/plain": "'<html><head><title>429 Too Many Requests</title></head>\\n<body bgcolor=\"white\">\\n<center><h1>429 Too Many Requests</h1></center>\\n<hr><center>nginx/1.14.2</center>\\n\\n\\n\\n\\n\\n\\n\\n\\n</body></html>'"
     },
     "execution_count": 12,
     "metadata": {},
     "output_type": "execute_result"
    }
   ],
   "source": [
    "driver.page_source"
   ],
   "metadata": {
    "collapsed": false,
    "ExecuteTime": {
     "end_time": "2024-08-04T08:36:34.798717600Z",
     "start_time": "2024-08-04T08:36:34.773916200Z"
    }
   },
   "id": "51dcb3793b585c5d"
  },
  {
   "cell_type": "code",
   "execution_count": 4,
   "outputs": [
    {
     "data": {
      "text/plain": "50"
     },
     "execution_count": 4,
     "metadata": {},
     "output_type": "execute_result"
    }
   ],
   "source": [
    "len(reviews)"
   ],
   "metadata": {
    "collapsed": false,
    "ExecuteTime": {
     "end_time": "2024-08-04T08:27:15.057020800Z",
     "start_time": "2024-08-04T08:27:15.034326200Z"
    }
   },
   "id": "df97f7a6eee3f4a9"
  },
  {
   "cell_type": "code",
   "execution_count": null,
   "outputs": [],
   "source": [],
   "metadata": {
    "collapsed": false
   },
   "id": "d5e608c8940daddd"
  },
  {
   "cell_type": "code",
   "execution_count": null,
   "outputs": [],
   "source": [],
   "metadata": {
    "collapsed": false
   },
   "id": "767568bd7be65a90"
  },
  {
   "cell_type": "code",
   "execution_count": null,
   "outputs": [],
   "source": [],
   "metadata": {
    "collapsed": false
   },
   "id": "708eaeb0a58a2b34"
  },
  {
   "cell_type": "code",
   "execution_count": 1,
   "outputs": [],
   "source": [
    "restaurant_name = \"먹돌 제주\""
   ],
   "metadata": {
    "collapsed": false,
    "ExecuteTime": {
     "end_time": "2024-08-04T06:32:16.391442Z",
     "start_time": "2024-08-04T06:32:16.387633500Z"
    }
   },
   "id": "515806ff9a2380b4"
  },
  {
   "cell_type": "code",
   "execution_count": 18,
   "outputs": [],
   "source": [
    "from selenium import webdriver\n",
    "from selenium.webdriver.chrome.service import Service\n",
    "from selenium.webdriver.chrome.options import Options\n",
    "from selenium.webdriver.common.by import By\n",
    "from selenium.webdriver.support.ui import WebDriverWait\n",
    "from selenium.webdriver.support import expected_conditions as EC\n",
    "from webdriver_manager.chrome import ChromeDriverManager\n",
    "import time\n",
    "\n",
    "def search_restaurant(restaurant_name):\n",
    "    base_url = \"https://pcmap.place.naver.com/place/list?query=\"\n",
    "    search_url = f\"{base_url}{restaurant_name}\"\n",
    "\n",
    "    service = Service(ChromeDriverManager().install())\n",
    "    driver = webdriver.Chrome(service=service)\n",
    "\n",
    "\n",
    "    driver.get(search_url)\n",
    "    WebDriverWait(driver, 10).until(\n",
    "        EC.presence_of_element_located((By.TAG_NAME, \"li\"))\n",
    "    )\n",
    "    # Extract the required data\n",
    "    restaurants = []\n",
    "    li_tags = driver.find_elements(By.TAG_NAME, \"li\")\n",
    "\n",
    "    for li in li_tags:\n",
    "        place_bluelink = li.find_element(By.CLASS_NAME, 'place_bluelink')\n",
    "        name_tag = place_bluelink.find_element(By.TAG_NAME, 'span')\n",
    "        restaurant_name = name_tag.text.strip()\n",
    "        href_tag = li.find_element(By.TAG_NAME, 'a')\n",
    "    \n",
    "        restaurant_url = href_tag.get_attribute('href')\n",
    "        restaurants.append((restaurant_name, restaurant_url))\n",
    "    \n",
    "    return restaurants\n"
   ],
   "metadata": {
    "collapsed": false,
    "ExecuteTime": {
     "end_time": "2024-08-04T07:33:54.725208400Z",
     "start_time": "2024-08-04T07:33:54.722400Z"
    }
   },
   "id": "4be9796ef3532a5b"
  },
  {
   "cell_type": "code",
   "execution_count": 19,
   "outputs": [
    {
     "name": "stdout",
     "output_type": "stream",
     "text": [
      "Restaurant Name: 먹돌 제주본점, URL: https://pcmap.place.naver.com/place/list?query=%EB%A8%B9%EB%8F%8C%20%EC%A0%9C%EC%A3%BC#\n",
      "Restaurant Name: 먹돌새기, URL: https://pcmap.place.naver.com/place/list?query=%EB%A8%B9%EB%8F%8C%20%EC%A0%9C%EC%A3%BC#\n",
      "Restaurant Name: 먹돌, URL: https://pcmap.place.naver.com/place/list?query=%EB%A8%B9%EB%8F%8C%20%EC%A0%9C%EC%A3%BC#\n",
      "Restaurant Name: 먹돌새기교차로, URL: https://pcmap.place.naver.com/place/list?query=%EB%A8%B9%EB%8F%8C%20%EC%A0%9C%EC%A3%BC#\n",
      "Restaurant Name: 먹돌새기, URL: https://pcmap.place.naver.com/place/list?query=%EB%A8%B9%EB%8F%8C%20%EC%A0%9C%EC%A3%BC#\n",
      "Restaurant Name: J J아로마스킨&바디, URL: https://pcmap.place.naver.com/place/list?query=%EB%A8%B9%EB%8F%8C%20%EC%A0%9C%EC%A3%BC#\n"
     ]
    }
   ],
   "source": [
    "restaurants = search_restaurant(restaurant_name)\n",
    "for name, url in restaurants:\n",
    "    print(f\"Restaurant Name: {name}, URL: {url}\")"
   ],
   "metadata": {
    "collapsed": false,
    "ExecuteTime": {
     "end_time": "2024-08-04T07:34:06.810690900Z",
     "start_time": "2024-08-04T07:34:01.519436900Z"
    }
   },
   "id": "25f4a82e2368eb78"
  },
  {
   "cell_type": "code",
   "execution_count": 35,
   "outputs": [],
   "source": [
    "import chromedriver_autoinstaller\n",
    "import subprocess\n",
    "\n",
    "def make_chrome_driver():\n",
    "\n",
    "    option = Options()\n",
    "    option.add_experimental_option(\"debuggerAddress\", \"127.0.0.1:9222\")\n",
    "    caps = DesiredCapabilities().CHROME\n",
    "    caps[\"pageLoadStrategy\"] = \"eager\"\n",
    "    chrome_ver = chromedriver_autoinstaller.get_chrome_version().split('.')[0]\n",
    "    try:\n",
    "        driver = webdriver.Chrome(f'./{chrome_ver}/chromedriver.exe', options=option,desired_capabilities=caps)\n",
    "    except:\n",
    "        chromedriver_autoinstaller.install(True)\n",
    "        driver = webdriver.Chrome(f'./{chrome_ver}/chromedriver.exe', options=option,desired_capabilities=caps)\n",
    "    driver.implicitly_wait(10)\n",
    "    return driver\n",
    "\n",
    "proc = subprocess.Popen(\n",
    "    r'C:\\Program Files\\Google\\Chrome\\Application\\chrome.exe --remote-debugging-port=9222 --user-data-dir=\"C:\\chrometemp\"')  # 디버거 크롬 구동\n",
    "service = Service(ChromeDriverManager().install())\n",
    "driver = webdriver.Chrome(service=service,options=options)\n",
    "driver.get(search_url)"
   ],
   "metadata": {
    "collapsed": false,
    "ExecuteTime": {
     "end_time": "2024-08-04T07:55:32.623206400Z",
     "start_time": "2024-08-04T07:55:27.758622100Z"
    }
   },
   "id": "6f1a3124caec7fad"
  },
  {
   "cell_type": "code",
   "execution_count": 36,
   "outputs": [
    {
     "data": {
      "text/plain": "'<html lang=\"ko\"><head><meta charset=\"utf-8\"><meta name=\"viewport\" content=\"width=device-width,initial-scale=1\"><meta property=\"og:type\" content=\"website\"><meta name=\"referrer\" content=\"always\"><title>먹돌 제주 검색 - 네이버 지도</title><meta data-rh=\"true\" name=\"Description\" content=\"공간을 검색합니다. 생활을 연결합니다. 장소, 버스, 지하철, 도로 등 모든 공간의 정보를 하나의 검색으로 연결한 새로운 지도를 만나보세요.\"><meta data-rh=\"true\" property=\"og:description\" content=\"공간을 검색합니다. 생활을 연결합니다. 장소, 버스, 지하철, 도로 등 모든 공간의 정보를 하나의 검색으로 연결한 새로운 지도를 만나보세요.\"><meta data-rh=\"true\" property=\"twitter:description\" content=\"공간을 검색합니다. 생활을 연결합니다. 장소, 버스, 지하철, 도로 등 모든 공간의 정보를 하나의 검색으로 연결한 새로운 지도를 만나보세요.\"><meta data-rh=\"true\" property=\"og:image\" content=\"https://search.pstatic.net/common/?src=https%3A%2F%2Fssl.pstatic.net%2Fstatic%2Fmaps%2Fv5%2Fpc%2Fnaver-map.png&amp;type=f&amp;size=1200x630&amp;quality=80&amp;opt=2\"><meta data-rh=\"true\" property=\"twitter:image\" content=\"https://search.pstatic.net/common/?src=https%3A%2F%2Fssl.pstatic.net%2Fstatic%2Fmaps%2Fv5%2Fpc%2Fnaver-map.png&amp;type=f&amp;size=1200x600&amp;quality=80&amp;opt=2\"><meta data-rh=\"true\" property=\"twitter:card\" content=\"https://search.pstatic.net/common/?src=https%3A%2F%2Fssl.pstatic.net%2Fstatic%2Fmaps%2Fv5%2Fpc%2Fnaver-map.png&amp;type=f&amp;size=600x600&amp;quality=80&amp;opt=2\"><style data-styled=\"active\" data-styled-version=\"5.3.6\"></style><base href=\"/p/\"><link rel=\"search\" type=\"application/opensearchdescription+xml\" href=\"assets/opensearch.xml\" title=\"네이버지도\"><link rel=\"manifest\" href=\"assets/manifest.json\" crossorigin=\"use-credentials\"><link rel=\"shortcut icon\" type=\"image/x-icon\" href=\"assets/icons/favicon.ico\"><link rel=\"apple-touch-icon\" sizes=\"180x180\" href=\"assets/icons/apple-touch-icon.png\"><link rel=\"icon\" type=\"image/png\" sizes=\"32x32\" href=\"assets/icons/favicon-32x32.png\"><link rel=\"icon\" type=\"image/png\" sizes=\"16x16\" href=\"assets/icons/favicon-16x16.png\"><meta name=\"msapplication-TileColor\" content=\"#03c75b\"><meta name=\"theme-color\" content=\"#ffffff\"><meta property=\"og:title\" content=\"먹돌 제주 검색 - 네이버 지도\" data-rh=\"true\"><meta property=\"twitter:title\" content=\"먹돌 제주 검색 - 네이버 지도\" data-rh=\"true\"><style id=\"gnb_style\" type=\"text/css\">@charset \"UTF-8\";\\n/* NTS UIT Development Office YJH 140717 */\\na.gnb_my, .gnb_icon, #gnb .gnb_my_interface, .gnb_my_li .gnb_my_content .gnb_membership, #gnb .gnb_ico_num .gnb_ico_new, #gnb .gnb_ico_num .gnb_ico_new .gnb_count, .gnb_lst .ico_arrow, a.gnb_my .filter_mask, .gnb_my_lyr, .gnb_my_li .gnb_my_content .gnb_mask, .gnb_my_li .gnb_my_content .gnb_edit_lst li, .gnb_notice_li .gnb_notice_lyr, .gnb_notice_li .svc_list .gnb_ico_mail, .gnb_notice_li .svc_list .gnb_btn_remove span, .gnb_notice_li .svc_list .gnb_btn_remove i, .gnb_notice_li .gnb_error .gnb_ico_error, .gnb_ly_alert .gnb_btn_close i, .gnb_first_visit, .gnb_search_box, .gnb_search_box .gnb_del_txt, .gnb_svc_more .gnb_svc_lstwrp li.gnb_event em.ic_gnb_new, .gnb_svc_more .svc_btnwrp button { background: url(https://ssl.pstatic.net/static/common/gnb/one/sp_gnb_v16.png?v=202307) no-repeat -999px -999px;}\\n.gnb_favorite_area, .gnb_search_area, .gnb_banner, .gnb_linkwrp{background:url(https://ssl.pstatic.net/static/common/gnb/2014/bg_svclyr2_v2.png) no-repeat -999px -999px}\\n#gnb .gnb_my_li .gnb_my_community a, .gnb_notice_li .gnb_notice_all, a.gnb_service_all, .gnb_svc_more .svc_btns{display:block;height:38px;border-top:1px solid #ebebeb;background-color:#f8f8f8;text-align:center;font-weight:bold;text-decoration:none;letter-spacing:-1px;line-height:38px}\\n#gnb .gnb_my_li .gnb_my_community a:visited, .gnb_notice_li .gnb_notice_all:visited, a.gnb_service_all:visited, .gnb_svc_more .svc_btns:visited{color:#444}\\n.gnb_login_li, .gnb_my_li, .gnb_notice_li, .gnb_talk_li, .mail_li, .gnb_service_li{float:left;margin-right:2px;overflow:visible}\\n.gnb_login_li a, .gnb_my_li a, .gnb_notice_li a, .gnb_talk_li a, .mail_li a, .gnb_service_li a{position:relative;z-index:100;}\\na.gnb_my, .gnb_icon{position:relative}\\n#gnb{position:relative;z-index:2147483646;font-family:\\'나눔고딕\\',NanumGothic,\\'돋움\\',Dotum,\\'Apple SD Gothic Neo\\',Helvetica,Sans-serif !important;color:#444;font-size:12px;letter-spacing:0 !important;line-height:normal !important;text-align:left !important}\\n#gnb div, #gnb p, #gnb span, #gnb em, #gnb strong, #gnb h1, #gnb h2, #gnb h3, #gnb h4, #gnb h5, #gnb h6, #gnb ul, #gnb ol, #gnb li, #gnb dl, #gnb dt, #gnb dd, #gnb table, #gnb th, #gnb td, #gnb form, #gnb fieldset, #gnb legend, #gnb input, #gnb textarea, #gnb button, #gnb label{font-family:\\'나눔고딕\\',NanumGothic,\\'돋움\\',Dotum,\\'Apple SD Gothic Neo\\',Helvetica,Sans-serif !important}\\n#gnb a, #gnb label, #gnb button{cursor:pointer}\\n#gnb a, #gnb a:visited, #gnb a:active, #gnb a:focus{color:#444}\\n#gnb a:hover{color:#444;text-decoration:underline;vertical-align: baseline;}\\n#gnb input::-ms-clear{display:none}\\n#gnb em{font-style:normal}\\n#gnb ul{list-style:none}\\n#gnb .blind{display:block;overflow:hidden;position:absolute;top:-1000em;left:0;width:1px;height:1px;margin:0;padding:0;font-size:0;line-height:0}\\n#gnb .gnb_my_membership{padding: 0;display: block;width: 64px;height: 16px;background: url(https://ssl.pstatic.net/static/common/gnb/one/ico_gnb_membership.png) no-repeat; background-size: 64px 16px;margin: 0;}\\n#gnb .gnb_my_interface{padding:5px;position:absolute;top:12px;right:8px;display:block;width:17px;height:16px;background-position:-90px 5px}\\n#gnb .gnb_my_interface:hover{background-position:-90px -20px}\\n#gnb .gnb_my_interface:focus{background-position:-90px -20px}\\n#gnb .gnb_pad_lyr{position:absolute}\\n#gnb .gnb_ico_num{display:block;position:absolute;top:1px;width:40px;text-align:center}\\n#gnb .gnb_ico_num .gnb_ico_new{height:15px;display:inline-block;background-position: -331px 0;zoom:1}\\n#gnb .gnb_ico_num .gnb_ico_new .gnb_count{position:relative;top:0;right:-5px;height:15px;margin:0;padding:0 4px 0 1px;display:inline-block;*display:inline;vertical-align:top;background-position: 100% 0;text-indent:-2px;font-family:tahoma !important;font-weight:bold;color:#fff;zoom:1}\\n#gnb .gnb_ico_num .gnb_ico_new .plus{margin:1px -1px 0 2px;font-size:8px;display:inline-block;color:#fff;vertical-align:top}\\n:root #gnb .gnb_pad_lyr{opacity:1 !important;/* background:#fff */}\\n.gnb_lst{margin:0;padding:0;zoom:1}\\n.gnb_lst:after{display:block;clear:both;content:\\'\\'}\\n.gnb_lst ul{margin:0;padding:0}\\n.gnb_lst .ico_arrow{display:none;position:absolute;left:50%;top:27px;width:10px;height:8px;margin-left:-5px;background-position:-175px -10px}\\n.gnb_lyr_opened .gnb_my_lyr, .gnb_lyr_opened .gnb_service_lyr, .gnb_lyr_opened .gnb_notice_lyr, .gnb_lyr_opened .ico_arrow{display:block !important}\\n.gnb_login_li{height:23px;padding:5px 7px 0 0}\\n.gnb_btn_login, .gnb_bg, .gnb_bdr{display:inline-block;width:46px;height:20px;font-size:12px}\\n.gnb_btn_login{position:relative}\\n.gnb_bg{background-color: #fff;opacity: 0.05;filter: alpha(opacity=5);}\\n.gnb_bdr{position:absolute;top: -1px;left: -1px;width: 46px;height: 20px;border: 1px solid #000;opacity: 0.12;filter: alpha(opacity=12);}\\n.gnb_txt{position:absolute;top:0;left:0;width:45px;height:20px;padding-left:1px;line-height:21px;color:#666;text-align:center}\\n.gnb_btn_login:hover{text-decoration:none !important}\\n.gnb_account .gnb_btn_login{width:54px;margin:-1px 0 0 8px;vertical-align:top}\\n.gnb_account a.gnb_btn_login .gnb_txt {padding-left: 0;}\\n.gnb_account .gnb_bdr{width:52px}\\n.gnb_account .gnb_txt{width:53px}\\n.gnb_my_li{margin-right:7px}\\n.gnb_my_namebox{padding:2px 9px 0 0;background-repeat:no-repeat;background-position:100% 50%;zoom:1}\\n.gnb_my_namebox:after{display:block;clear:both;content:\\'\\'}\\na.gnb_my{float:left;display:block;font-size:12px;vertical-align:middle}\\na.gnb_my .filter_mask {position: absolute; top: -1px; left: -1px; z-index: 1; width: 28px; height: 28px; background-position: -260px -60px;}\\na.gnb_my img{vertical-align:top;border-radius:16px}\\na.gnb_my .gnb_name{margin-right:-1px;padding-left:5px;display:inline-block;height:28px;line-height:28px;vertical-align:top;font-size:11px;color:#444}\\na.gnb_my:visited{color:#444}\\na.gnb_my:hover, a.gnb_my:active, a.gnb_my:visited, a.gnb_my:focus{text-decoration:none !important}\\na.gnb_my:hover .gnb_name{text-decoration:underline}\\na.gnb_my .ico_arrow{top:25px;margin-left:8px}\\n.gnb_my_namebox a.gnb_emp{float:left;display:inline-block;height:28px;margin-left:3px;line-height:28px;font-size:11px;color:#777 !important}\\n.gnb_my_lyr{display:none;position:absolute;top:26px;right:-8px;padding:9px 5px 4px 4px;width:316px;height:155px;background-position:-2px -1310px;z-index:10}\\n.gnb_my_lyr.gnb_groupid{height:144px;background-position:-2px -1500px}\\n.gnb_my_lyr.gnb_groupid .gnb_my_content{height:80px}\\n.gnb_my_lyr.gnb_groupid.gnb_longid1{height:144px;/*background-position:-2px -1664px*/}\\n.gnb_my_lyr.gnb_groupid.gnb_longid2{height:144px;background-position:-2px -1828px}\\n.gnb_my_lyr.gnb_longid1{/*width:318px;*/ /*background-position:-2px -1118px;*/}\\n.gnb_my_lyr.gnb_longid2{width:348px;background-position:-2px -926px}\\n.gnb_my_li .gnb_my_content{zoom:1;height:91px;padding:15px 0 10px 15px}\\n.gnb_my_li .gnb_my_content:after{display:block;clear:both;content:\\'\\'}\\n.gnb_my_li .gnb_my_content .gnb_img_area{float:left;position:relative;display:block;width:80px;margin: 1px 0 0 1px;}\\n.gnb_my_li .gnb_my_content .gnb_img_area img{vertical-align:top}\\n.gnb_my_li .gnb_my_content .gnb_mask{position:absolute;top:0;left:0;display:block;width:80px;height:80px;background-position:-70px -60px}\\n.gnb_my_li .gnb_my_content .gnb_change{position:absolute;bottom:-2px;left:-2px;display:block;width:28px;height:28px;background: url(https://ssl.pstatic.net/static/common/gnb/one/ico_gnb_change.png) no-repeat !important; background-size: 28px 28px !important;}\\n.gnb_my_li .gnb_my_content .gnb_change:hover{background-image: url(https://ssl.pstatic.net/static/common/gnb/one/ico_gnb_change_hover.png) !important;}\\n.gnb_my_li .gnb_my_content .gnb_txt_area{float:left;width:210px;margin:0 0 0 10px}\\n.gnb_longid1 .gnb_my_content .gnb_txt_area{/* width:210px; */}\\n.gnb_longid2 .gnb_my_content .gnb_txt_area{width:235px}\\n.gnb_my_li .gnb_my_content .gnb_account{margin-bottom:3px 0 1px;font-size:0}\\n.gnb_my_li .gnb_my_content .gnb_name{color:#666;font-size:14px;vertical-align: top}\\n.gnb_my_li .gnb_my_content .gnb_name a{display:inline-block;vertical-align:top;font-weight:bold;color:#222 !important}\\n.gnb_my_li .gnb_my_content a.gnb_mail_address{margin-left:1px;font-family:tahoma;color:#666 !important;font-size:12px}\\n.gnb_my_li .gnb_my_content .gnb_edit_lst{zoom:1;margin-top:7px !important}\\n.gnb_my_li .gnb_my_content .gnb_edit_lst:after{display:block;clear:both;content:\\'\\'}\\n.gnb_my_li .gnb_my_content .gnb_edit_lst li{float:left;padding-left:6px;margin-left:5px;background-position:-290px -25px}\\n.gnb_my_li .gnb_my_content .gnb_edit_lst li.gnb_info{padding-left:0;margin-left:0;background:none}\\n.gnb_my_li .gnb_my_content .gnb_edit_lst a{color:#666 !important;letter-spacing:-1px}\\n.gnb_my_li .gnb_my_content .gnb_membership {display: inline-block;margin: 0 5px 0 1px !important; padding-right: 8px !important; background-position: -288px -403px;}\\n.gnb_my_li .gnb_my_content .gnb_pay_check{height:16px;margin:7px -4px 0 0 !important}\\n@media screen and (min-width: 0\\\\0) { .gnb_my_li .gnb_my_content .gnb_pay_check{margin-top:17px} }\\n.gnb_my_li .gnb_my_content .gnb_pay_check em{display:inline-block;width:16px;height:16px;background: url(https://ssl.pstatic.net/static/common/gnb/one/ico_gnb_pay_check.svg) no-repeat !important; background-size: 16px 16px !important;margin:0 4px 0 0;overflow:hidden;font-size:0;line-height:0;vertical-align:top}\\n.gnb_my_li .gnb_my_content .gnb_pay_check a{font-size:14px;letter-spacing:-1px;line-height:16px;vertical-align:top}\\n.gnb_my_li .gnb_my_content .gnb_pay_check span{font-weight: bold; vertical-align: top;}\\n.gnb_my_li .gnb_my_content .gnb_pay_check strong{font-family:tahoma;letter-spacing:0;vertical-align:top;}\\n.gnb_my_li .gnb_my_content .gnb_pay_check a, .gnb_my_li .gnb_my_content .gnb_pay_check span, .gnb_my_li .gnb_my_content .gnb_pay_check strong{font-size:12px;color:#222 !important}\\n#gnb .gnb_my_li .gnb_my_community{clear:both;zoom:1}\\n#gnb .gnb_my_li .gnb_my_community:after{display:block;clear:both;content:\\'\\'}\\n#gnb .gnb_my_li .gnb_my_community a{float:left;width:106px;margin-right: 0;border-right:1px solid #ebebeb}\\n#gnb .gnb_my_li .gnb_my_community a.gnb_pay{width:102px;border-right:0;line-height:0}\\n#gnb .gnb_my_li .gnb_my_community a.gnb_pay span{display:inline-block;width:41px;height:16px;background: url(https://ssl.pstatic.net/static/common/gnb/one/ico_gnb_pay.svg) no-repeat !important; background-size: 41px 16px !important;margin:11px auto 0;font-size:0;line-height:0}\\n#gnb .gnb_my_li .gnb_my_community a.gnb_pay i {display: inline-block;width: 61px;height: 20px;margin: 9px auto 0;background: url(https://ssl.pstatic.net/static/common/gnb/banner/promo_membership.png) no-repeat !important;background-size: 61px 20px !important;font-size: 0;line-height: 0;}\\n#gnb .gnb_my_li .gnb_my_community a:active, #gnb .gnb_my_li .gnb_my_community a:focus, #gnb .gnb_my_li .gnb_my_community a:visited{text-decoration:none !important}\\n#gnb .gnb_my_li .gnb_my_community a:hover{text-decoration:underline !important}\\n#gnb .gnb_my_lyr.gnb_longid1 .gnb_my_community a{/*width:105px;*/}\\n#gnb .gnb_my_lyr.gnb_longid1 .gnb_my_community a.gnb_pay{/* width:106px;*/}\\n#gnb .gnb_my_lyr.gnb_longid2 .gnb_my_community a{width:115px}\\n#gnb .gnb_my_lyr.gnb_longid2 .gnb_my_community a.gnb_pay{width:116px}\\n#gnb.gnb_one .gnb_my_community a, #gnb.gnb_one_small .gnb_my_community a{margin-right: 0 !important;}\\n.gnb_notice_li a.gnb_notice{display:block;width:15px;height:17px;padding:7px 9px 4px;text-decoration:none !important}\\n.gnb_notice_li a.gnb_notice .gnb_ico_num{left:1px;top:0}\\n.gnb_notice_li a.gnb_notice .gnb_icon{display:block;width:15px;height:17px;background-position:-3px -60px}\\n.gnb_notice_li a.gnb_notice:hover .gnb_icon{background-position:-38px -60px;text-decoration:none !important}\\n.gnb_notice_li .gnb_notice_lyr{display:none;position:absolute;top:26px;right:-7px;width:297px;height:330px;padding:9px 4px 4px;background-position:-2px -584px;z-index:10;overflow:hidden}\\n.gnb_notice_li .svc_scroll{height:291px;overflow:scroll;overflow-x:hidden;position:relative;zoom:1}\\n.gnb_notice_li .svc_panel{width:100%;height:330px;overflow:hidden}\\n.gnb_notice_li .svc_head{position:relative;height:36px;padding-left:15px;line-height:20px;border-bottom:1px solid #eaeaea;zoom:1}\\n.gnb_notice_li .svc_head .gnb_tit{color:#6b6d70;margin-right:1px;line-height:36px}\\n.gnb_notice_li .svc_head .task_right{position:absolute;right:8px;top:8px;font-size:0}\\n.gnb_notice_li .svc_head .task_right button{height:20px;padding:0 6px;margin-left:4px;border:1px solid #ddd;color:#888;background-color:#fff;font-family:\\'나눔고딕\\', NanumGothic;font-size:12px;letter-spacing:-1px;line-height:18px;*line-height:16px;overflow:visible}\\n.gnb_notice_li .svc_list .gnb_btn_remove i, .gnb_notice_li .svc_list .gnb_btn_remove span, .gnb_notice_li .svc_noti .gnb_ico_mail, .gnb_notice_li .svc_blank .svc_msg_box, .gnb_notice_li .svc_blank .gnb_v_guide{display:inline-block;*display:inline;*zoom:1}\\n.gnb_notice_li .svc_list{margin-top:-1px}\\n.gnb_notice_li .svc_list li{position:relative;padding:7px 34px 7px 15px;border-top:1px solid #eaeaea;line-height:18px}\\n.gnb_notice_li .svc_list .gnb_new{background:#ffffd8}\\n.gnb_notice_li .svc_list .gnb_unread .gnb_subject{color:#444}\\n.gnb_notice_li .svc_list .gnb_unread .d_cnt{color:#ff630e}\\n.gnb_notice_li .svc_list .gnb_unread a:hover .gnb_subject, .gnb_notice_li .svc_list .gnb_unread .gnb_unread a:hover .d_cnt{color:#390}\\n.gnb_notice_li .svc_list .gnb_unread .svc_name{color:#444}\\n.gnb_notice_li .svc_list a.gnb_list_cover{text-decoration:none !important;display:block;position:relative;zoom:1}\\n.gnb_notice_li .svc_list a:hover .gnb_subject{text-decoration:underline}\\n.gnb_notice_li .svc_list .gnb_subject{overflow:hidden;text-overflow:ellipsis;white-space:nowrap;width:100%;color:#adadad}\\n.gnb_notice_li .svc_list .d_cnt{font-family:tahoma;font-size:10px}\\n.gnb_notice_li .svc_list .gnb_info{color:#adadad}\\n.gnb_notice_li .svc_list .svc_name{margin-right:3px;color:#adadad}\\n.gnb_notice_li .svc_list .cchr{margin-right:3px}\\n.gnb_notice_li .svc_list .dona{position:absolute;top:8px;right:34px;text-decoration:underline}\\n.gnb_notice_li .svc_list .dona a{color:#adadad}\\n.gnb_notice_li .svc_list .dona a:hover{color:#390}\\n.gnb_notice_li .svc_list .gnb_ico_mail{width:14px;height:15px;font-size:0;line-height:0;color:#fff;vertical-align:top}\\n.gnb_notice_li .svc_list .gnb_ico_mail.gnb_yes{background-position:-245px -17px}\\n.gnb_notice_li .svc_list .gnb_ico_mail.gnb_no{background-position:-245px 4px}\\n.gnb_notice_li .svc_list .gnb_btn_remove{position:absolute;right:4px;top:50%;z-index:100;margin-top:-13px;padding:10px;line-height:6px;font-size:0;background:none !important;border:0 !important}\\n.gnb_notice_li .svc_list .gnb_btn_remove span, .gnb_notice_li .svc_list .gnb_btn_remove i{display:block !important;width:7px;height:7px;font-size:0;line-height:0;color:transparent;white-space:nowrap;overflow:hidden;vertical-align:top;background-position:-175px 0}\\n.gnb_notice_li .svc_blank{position:absolute;top:104px;left:0;width:100%;white-space:nowrap;height:100px;font-size:0;text-align:center}\\n.gnb_notice_li .svc_blank .svc_msg_box{white-space:normal;font-size:12px;width:100%}\\n.gnb_notice_li .svc_blank .gnb_tit{display:block;color:#2f3743;font-size:14px;margin:0 0 15px}\\n.gnb_notice_li .svc_blank .gnb_tit strong{font-weight:normal;color:#390}\\n.gnb_notice_li .svc_blank .gnb_desc{line-height:19px;color:#2f3743;margin-bottom:7px}\\n.gnb_notice_li .svc_blank .gnb_desc a, .gnb_notice_li .svc_blank .gnb_link{color:#390;text-decoration:underline}\\n.gnb_notice_li .svc_blank .gnb_v_guide{vertical-align:middle;height:100%;width:0}\\n.gnb_notice_li .svc_blank .gnb_link_wrap{text-align:center}\\n.gnb_notice_li .svc_blank .gnb_link_wrap .gnb_link{display:block;width:40px;margin:0 auto !important;text-align:center}\\n.gnb_notice_li .svc_loading{background:url(https://ssl.pstatic.net/static/www/2014/loading.gif) no-repeat #fff center center;position:absolute;top:33px;left:0;width:100%;height:245px}\\n.gnb_notice_li .gnb_error{position:absolute;top:81px;left:2px;width:100%;color:#444;text-align:center}\\n.gnb_notice_li .gnb_error .gnb_ico_error{display:inline-block;width:57px;height:57px;background-position:-280px -190px}\\n.gnb_notice_li .gnb_error .gnb_tit{font-size:14px;margin:15px 0 11px}\\n.gnb_notice_li .gnb_error .gnb_desc{margin-bottom:13px;line-height:18px}\\n.gnb_notice_li .gnb_error .gnb_link{text-decoration:underline}\\n.gnb_ly_alert{position:absolute;top:110px;left:13px;background-color:#fff;border:1px solid #b7b9bc;width:260px;padding:34px 0 20px;zoom:1;z-index:100}\\n.gnb_ly_alert .gnb_msg{text-align:center;line-height:17px;margin-bottom:14px;color:#2f3743}\\n.gnb_.ly_alert .gnb_btn_close{position:absolute;right:2px;top:0;*overflow:visible}\\n.gnb_ly_alert .gnb_btns{text-align:center}\\n.gnb_ly_alert .gnb_btns button{height:27px;line-height:27px;*line-height:22px;font-weight:bold;font-size:12px;padding:0 8px;color:#2f3743;border:1px solid #ddd;background-color:white}\\n.gnb_ly_alert .gnb_btns button:first-child{margin-right:4px}\\n.gnb_ly_alert .gnb_btn_close{position:absolute;right:2px;top:0;width:35px;border:0;background:none;cursor:pointer;border-radius:0;padding:10px}\\n.gnb_ly_alert .gnb_btn_close i{display:block;width:15px;height:15px;font:0/0 a;color:transparent;white-space:nowrap;overflow:hidden;vertical-align:top;background-position:-240px -60px}\\n.gnb_talk_li a.gnb_talk{display:block;width:20px;height:20px;padding: 6px 7px 3px;text-decoration: none !important;}\\n.gnb_talk_li a.gnb_talk .gnb_icon{display: block;width: 20px;height: 20px;background-position: -260px -160px;}\\n.gnb_talk_li a.gnb_talk:hover .gnb_icon{background-position: -280px -160px;text-decoration: none !important;}\\n.mail_li a.gnb_mail{display:block;width:20px;height:15px;padding:7px 9px 6px;text-decoration:none !important}\\n.mail_li a.gnb_mail .gnb_icon{display:block;width:20px;height:15px;background-position:0px -95px}\\n.mail_li a.gnb_mail:hover .gnb_icon{background-position:-35px -95px;text-decoration:none !important}\\n.mail_li .gnb_ico_num{left:6px;top:0}\\n.gnb_service_li{margin-right:0}\\n.gnb_service_li a.gnb_service{display:block;width:16px;height:16px;padding:7px 9px 5px}\\n.gnb_service_li a.gnb_service .gnb_icon{display:block;width:16px;height:16px;background-position:-2px -130px}\\n.gnb_service_li a.gnb_service:hover .gnb_icon{background-position:-37px -130px;text-decoration:none !important}\\n.gnb_service_li .gnb_service_lyr{display:none;position:absolute;top:27px;right:-7px;z-index:10}\\n.gnb_favorite_search{width:301px;letter-spacing:-1px}\\n.gnb_response .gnb_favorite_search{display:none}\\n.gnb_favorite_area{height:93px;padding:8px 4px 0;background-position:0 0}\\n.gnb_favorite_lstwrp{position:relative;padding:22px 1px 15px 15px;border-bottom:1px solid #ebebeb}\\n.gnb_favorite_lstwrp .gnb_my_interface{top:3px !important;right:3px !important}\\n.gnb_first_visit{position:absolute;top:0;left:0;width:293px;height:92px;background-position:0 -310px;z-index:200}\\n.gnb_first_visit .gnb_close{position:absolute;top:0;right:0;display:block;width:32px;height:32px}\\n.gnb_favorite_lst{zoom:1}\\n.gnb_favorite_lst:after{display:block;clear:both;content:\\'\\'}\\n.gnb_favorite_lst li{float:left;width:65px;text-align:center;white-space:nowrap}\\n.gnb_favorite_lst a{display:inline-block;text-align:center;font-weight:bold}\\n.gnb_favorite_lst .gnb_add a{display:block;test-align:center;}\\n.gnb_favorite_lst .gnb_add a span.ic_add{display:block;width:36px;height:36px;margin:0 auto 4px;background-image: url(https://ssl.pstatic.net/static/common/gnb/one/sp_gnb_4b16e6.png);background-position: 0px 0px;background-repeat: no-repeat;width: 36px;height: 36px;vertical-align: top;}\\n.gnb_favorite_lst .gnb_add a:hover span.ic_add{background-image: url(https://ssl.pstatic.net/static/common/gnb/one/sp_gnb_4b16e6.png);background-position: -42px 0px;background-repeat: no-repeat;width: 36px;height: 36px;vertical-align: top;}\\n.gnb_favorite_lst img{display:block;margin:0 auto 4px;vertical-align:top}\\n.gnb_search_area{position:relative;z-index:200;padding:18px 4px 17px;background-position:-301px 0;background-repeat:repeat-y}\\n.gnb_search_box{position:relative;z-index:101;margin:0 12px 16px 0;padding-left:10px;display:block;width:270px;height:35px;background-position:10px -190px}\\n.gnb_search_box.over{background-position:10px -230px}\\n.gnb_search_box.fcs{background-position:10px -270px}\\n.gnb_search_box.fcs input{width:200px;font-size:16px;font-weight:bold;color:#444;outline:0}\\n.gnb_search_box input{float:left;display:block;width:210px;height:22px;margin-top:6px;padding-left:10px;font-family:\\'나눔고딕\\',NamumGothic;letter-spacing:-1px;color:#adadad;font-size:13px;border:0;line-height:22px;background:transparent}\\n.gnb_search_box .gnb_del_txt{position:absolute;top:8px;right:32px;display:block;width:17px;height:17px;background-position:-190px 0px}\\n.gnb_search_box .gnb_del_txt:hover{background-position:-190px -20px}\\n.gnb_search_box .gnb_pop_input{position:absolute;top:34px;left:10px;width:268px;height:170px;*height:172px;border:1px solid #cbc5c5;border-top:0;background:#fff;overflow-x:hidden;overflow-y:scroll;z-index:110}\\n.gnb_search_box .gnb_pop_lst{padding:4px 0 2px}\\n.gnb_search_box .gnb_pop_lst a{display:block;padding:6px 0 6px 10px;font-weight:bold}\\n.gnb_search_box .gnb_pop_lst .on{background-color:#f5f5f5}\\n.gnb_search_lstwrp{zoom:1;height:118px;padding-left:12px}\\n.gnb_search_lstwrp:after{display:block;clear:both;content:\\'\\'}\\n.gnb_search_lstwrp .gnb_search_lst{float:left;width:69px;border-left:1px solid #eaeaea}\\n.gnb_search_lstwrp .gnb_search_lst.gnb_first{width:64px;border:0}\\n.gnb_search_lstwrp li{padding:12px 0 0 8px}\\n.gnb_search_lstwrp li.gnb_first{font-weight:bold;padding-top:0}\\n.gnb_search_lstwrp li a{display:inline-block;vertical-align:top}\\n.gnb_banner{height:47px;margin:0;padding:0 18px;background-position:-301px 0;background-repeat:repeat-y}\\n.gnb_banner .gnb_service_event{display:inline-block;border-top:1px solid #ebebeb}\\n.gnb_linkwrp{padding:0 4px 4px;background-position:-602px 0}\\na.gnb_service_all:hover, a.gnb_service_all:visited, a.gnb_service_all:active, a.gnb_service_all:focus{text-decoration:none}\\n.gnb_svc_more{display:none;position:absolute;top:4px;right:303px;width:589px;overflow:hidden;zoom:1;z-index:1000}\\n.gnb_svc_more:after{display:block;clear:both;content:\\'\\'}\\n.gnb_response .gnb_svc_more{right:2px}\\n.gnb_bg_top{height:6px;background:url(https://ssl.pstatic.net/static/common/gnb/2014/bg_svclyr1_v2.png) no-repeat}\\n.gnb_bg_btm{position:relative;height:6px;background:url(https://ssl.pstatic.net/static/common/gnb/2014/bg_svclyr1_v2.png) no-repeat -1282px 0}\\n.gnb_svc_more .gnb_svc_hd{position:relative;padding:0 18px 2px 23px;letter-spacing:-1px;background:url(https://ssl.pstatic.net/static/common/gnb/2014/bg_svclyr1_v2.png) repeat-y -641px 0}\\n.gnb_svc_more .gnb_svc_hd .gnb_svc_tit{display:block;padding:12px 0 13px;border-bottom:1px solid #ebebeb;font-size:14px;color:#222}\\n.gnb_svc_more .gnb_svc_hd .link{position:absolute;top:14px;right:19px;font-size:12px;color:#444}\\n.gnb_svc_more .gnb_svc_hd .link a{color:#444 !important;line-height:16px !important}\\n.gnb_svc_more .gnb_svc_lstwrp{position:relative;height:283px;overflow:hidden;padding:15px 15px 0 20px;letter-spacing:-1px;background:url(https://ssl.pstatic.net/static/common/gnb/2014/bg_svclyr1_v2.png) repeat-y -641px 0;zoom:1}\\n.gnb_svc_more .gnb_svc_lstwrp:after{display:block;clear:both;content:\\'\\'}\\n.gnb_svc_more .gnb_svc_lstwrp li{height:15px;margin-bottom:5px;color:#6b6d70;white-space:nowrap;line-height:15px}\\n.gnb_svc_more .gnb_svc_lstwrp li.gnb_event label{color:#444;font-weight:bold}\\n.gnb_svc_more .gnb_svc_lstwrp li.gnb_event em.ic_gnb_new{display:inline-block;width:11px;height:11px;background-position:-215px 0px;margin:2px 0 0 4px;font-size:0;line-height:0;vertical-align:top}\\n@media screen and (min-width: 0\\\\0) { .gnb_svc_more .gnb_svc_lstwrp li.gnb_event em.ic{margin-top:3px} }\\n.gnb_svc_more .gnb_svc_lstwrp .gnb_input_check{width:13px;height:13px;margin:2px 3px 0 3px;padding:0;vertical-align:top;-webkit-appearance:checkbox;}\\n.gnb_svc_more .gnb_svc_lstwrp label{vertical-align:0px}\\n.gnb_svc_more .gnb_svc_lstwrp .gnb_disabled strong{color:#a8acb0}\\n.gnb_svc_more .gnb_svc_lstwrp .gnb_disabled li{color:#cbcbcb}\\n.gnb_svc_more .gnb_svc_lst1{float:left;width:328px;height:280px}\\n.gnb_svc_more .gnb_svc_lst1 ul{float:left;width:102px;min-height:260px;padding:5px 0 0 10px;border-left:1px solid #eee}\\n.gnb_svc_more .gnb_svc_lst1 ul.gnb_first{padding-left:0;border:0}\\n.gnb_svc_more .svc_lst2{float:left;position:relative;width:221px;border:1px solid #eee;background:#fbfbfb;zoom:1}\\n.gnb_svc_more .svc_lst2:after{display:block;clear:both;content:\\'\\'}\\n.gnb_svc_more .svc_spc{float:left;position:relative;width:100px;min-height:254px;padding:9px 0 0 10px}\\n.gnb_svc_more .svc_spc.gnb_first{border-right:1px solid #eee}\\n.gnb_svc_more .svc_spc strong{height:20px;color:#2f3743;line-height:16px}\\n.gnb_svc_more .svc_spc a:visited{color:#2f3743}\\n.gnb_svc_more .svc_spc ul{padding:8px 0}\\n.gnb_svc_more .svc_spc li{margin-bottom:0;padding-bottom:5px;color:#848689}\\n.gnb_svc_more .svc_stroy{width:89px;margin-top:-5px;padding:12px 0 0;border-top:1px solid #eee}\\n.gnb_svc_more .svc_btns{position:relative;height:33px;overflow:hidden;padding-top:5px;line-height:normal}\\n.gnb_svc_more .svc_btnwrp{position:relative;*height:39px;background:url(https://ssl.pstatic.net/static/common/gnb/2014/bg_svclyr1_v2.png) repeat-y -641px 0;padding:0 2px 0 4px}\\n.gnb_svc_more .svc_btnwrp button{display:inline-block;width:60px;height:25px;border:0;vertical-align:top}\\n.gnb_svc_more .svc_btnwrp .gnb_save{background-position:0 -160px}\\n.gnb_svc_more .svc_btnwrp .gnb_close{margin-left:1px;background-position:-65px -160px}\\n.gnb_svc_more .svc_btnwrp .gnb_return{position:absolute;top:5px;left:15px;background-position:-130px -160px}\\n.gnb_type2 .gnb_notice_li a.gnb_notice .gnb_icon{background-position:-155px -120px}\\n.gnb_type2 .gnb_notice_li a.gnb_notice:hover .gnb_icon{background-position:-155px -140px}\\n.gnb_type2 .gnb_service_li .gnb_service .gnb_icon{background-position:-200px -120px}\\n.gnb_type2 .gnb_service_li .gnb_service:hover .gnb_icon{background-position:-200px -140px}\\n.gnb_type2 .mail_li a.gnb_mail .gnb_icon{background-position:-175px -120px}\\n.gnb_type2 .mail_li a.gnb_mail:hover .gnb_icon{background-position:-175px -140px}\\n.gnb_dark .gnb_my_li .gnb_my .gnb_name, .gnb_dark .gnb_login_li .gnb_btn_login .gnb_txt{color:#fff}\\n.gnb_dark .gnb_notice_li a.gnb_notice .gnb_icon{background-position:-220px -140px}\\n.gnb_dark .gnb_notice_li a.gnb_notice:hover .gnb_icon{background-position:-220px -120px}\\n.gnb_dark .gnb_talk_li a.gnb_talk .gnb_icon{background-position: -300px -160px;}\\n.gnb_dark .gnb_talk_li a.gnb_talk:hover .gnb_icon{background-position: -320px -160px;}\\n.gnb_dark .mail_li a.gnb_mail .gnb_icon{background-position:-238px -141px}\\n.gnb_dark .mail_li a.gnb_mail:hover .gnb_icon{background-position:-238px -121px}\\n.gnb_dark .gnb_service_li .gnb_service .gnb_icon{background-position:-261px -140px}\\n.gnb_dark .gnb_service_li .gnb_service:hover .gnb_icon{background-position:-261px -120px}\\n.gnb_dark_type2 .gnb_my_li .gnb_my .gnb_name, .gnb_dark_type2 .gnb_login_li .gnb_btn_login .gnb_txt{color:#fff}\\n.gnb_dark_type2 .gnb_notice_li a.gnb_notice .gnb_icon{background-position:-220px -120px}\\n.gnb_dark_type2 .gnb_notice_li a.gnb_notice:hover .gnb_icon{background-position:-220px -140px}\\n.gnb_dark_type2 .gnb_talk_li a.gnb_talk .gnb_icon{background-position: -320px -160px;}\\n.gnb_dark_type2 .gnb_talk_li a.gnb_talk:hover .gnb_icon{background-position: -300px -160px;}\\n.gnb_dark_type2 .mail_li a.gnb_mail .gnb_icon{background-position:-238px -121px}\\n.gnb_dark_type2 .mail_li a.gnb_mail:hover .gnb_icon{background-position:-238px -141px}\\n.gnb_dark_type2 .gnb_service_li .gnb_service .gnb_icon{background-position:-261px -120px}\\n.gnb_dark_type2 .gnb_service_li .gnb_service:hover .gnb_icon{background-position:-261px -140px;}\\n.gnb_dark .gnb_notice_li a.gnb_notice, .gnb_dark_type2 .gnb_notice_li a.gnb_notice {width: 17px;height: 19px;padding: 6px 8px 3px;}\\n.gnb_dark .gnb_notice_li a.gnb_notice .gnb_icon, .gnb_dark_type2 .gnb_notice_li a.gnb_notice .gnb_icon {width: 17px;height: 19px;}\\n.gnb_dark .mail_li a.gnb_mail, .gnb_dark_type2 .mail_li a.gnb_mail {width: 22px;height: 16px;padding: 7px 8px 4px;}\\n.gnb_dark .mail_li a.gnb_mail .gnb_icon, .gnb_dark_type2 .mail_li a.gnb_mail .gnb_icon {width: 22px;height: 16px;}\\n.gnb_dark .gnb_service_li a.gnb_service, .gnb_dark_type2 .gnb_service_li a.gnb_service {width: 18px;height: 18px;padding: 6px 8px 4px;}\\n.gnb_dark .gnb_service_li .gnb_service .gnb_icon, .gnb_dark_type2 .gnb_service_li .gnb_service .gnb_icon {width: 18px;height: 18px;}\\n#gnb.gnb_one .gnb_my_li .gnb_my .gnb_name, #gnb.gnb_one_small .gnb_my_li .gnb_my .gnb_name, #gnb.gnb_one .gnb_login_li .gnb_btn_login .gnb_txt, #gnb.gnb_one_small .gnb_login_li .gnb_btn_login .gnb_txt{color:#fff}\\n#gnb.gnb_one .gnb_login_li, #gnb.gnb_one_small .gnb_login_li {height: 28px;}\\n#gnb.gnb_one .gnb_login_li .gnb_btn_login, #gnb.gnb_one_small .gnb_login_li .gnb_btn_login, #gnb.gnb_one .gnb_login_li .gnb_bg, #gnb.gnb_one_small .gnb_login_li .gnb_bg, #gnb.gnb_one .gnb_login_li .gnb_bdr, #gnb.gnb_one_small .gnb_login_li .gnb_bdr, #gnb.gnb_one .gnb_login_li .gnb_txt, #gnb.gnb_one_small .gnb_login_li .gnb_txt {width: 53px;height: 23px;}\\n#gnb.gnb_one .gnb_login_li .gnb_btn_login .gnb_txt, #gnb.gnb_one_small .gnb_login_li .gnb_btn_login .gnb_txt {top: -1px;width: 53px;height: 23px;line-height: 28px;font-size: 11px;}\\n#gnb.gnb_one .gnb_login_li, #gnb.gnb_one_small .gnb_login_li, #gnb.gnb_one .gnb_my_li, #gnb.gnb_one_small .gnb_my_li, #gnb.gnb_one .gnb_notice_li, #gnb.gnb_one_small .gnb_notice_li,#gnb.gnb_one .gnb_talk_li, #gnb.gnb_one_small .gnb_talk_li, #gnb.gnb_one .mail_li, #gnb.gnb_one_small .mail_li, #gnb.gnb_one .gnb_service_li, #gnb.gnb_one_small .gnb_service_li{margin-right: 0;margin-left: 0; background: url(https://ssl.pstatic.net/static/common/gnb/bg_one_line.png) repeat-y right 0;}\\n#gnb.gnb_one .gnb_login_li a, #gnb.gnb_one_small .gnb_login_li a, #gnb.gnb_one .gnb_my_li a, #gnb.gnb_one_small .gnb_my_li a, #gnb.gnb_one .gnb_notice_li a, #gnb.gnb_one_small .gnb_notice_li a, #gnb.gnb_one .gnb_talk_li a, #gnb.gnb_one_small .gnb_talk_li a, #gnb.gnb_one .mail_li a, #gnb.gnb_one_small .mail_li a, #gnb.gnb_one .gnb_service_li a, #gnb.gnb_one_small .gnb_service_li a {margin-right: 1px;}\\n#gnb.gnb_one .gnb_login_li.hover .gnb_service, #gnb.gnb_one_small .gnb_login_li.hover .gnb_service, #gnb.gnb_one .gnb_login_li.hover .gnb_notice, #gnb.gnb_one_small .gnb_login_li.hover .gnb_notice, #gnb.gnb_one .gnb_login_li.hover .gnb_mail, #gnb.gnb_one_small .gnb_login_li.hover .gnb_mail, #gnb.gnb_one .gnb_login_li.hover .gnb_service, #gnb.gnb_one_small .gnb_login_li.hover .gnb_service, #gnb.gnb_one .gnb_my_li.hover .gnb_service, #gnb.gnb_one_small .gnb_my_li.hover .gnb_service, #gnb.gnb_one .gnb_my_li.hover .gnb_notice, #gnb.gnb_one_small .gnb_my_li.hover .gnb_notice, #gnb.gnb_one .gnb_my_li.hover .gnb_mail, #gnb.gnb_one_small .gnb_my_li.hover .gnb_mail, #gnb.gnb_one .gnb_my_li.hover .gnb_service, #gnb.gnb_one_small .gnb_my_li.hover .gnb_service, #gnb.gnb_one .gnb_notice_li.hover .gnb_service, #gnb.gnb_one_small .gnb_notice_li.hover .gnb_service, #gnb.gnb_one .gnb_notice_li.hover .gnb_notice, #gnb.gnb_one_small .gnb_notice_li.hover .gnb_notice,\\n#gnb.gnb_one .gnb_notice_li.hover .gnb_mail, #gnb.gnb_one_small .gnb_notice_li.hover .gnb_mail, #gnb.gnb_one .gnb_notice_li.hover .gnb_service, #gnb.gnb_one_small .gnb_notice_li.hover .gnb_service,\\n#gnb.gnb_one .gnb_talk_li.hover .gnb_talk,\\n#gnb.gnb_one_small .gnb_talk_li.hover .gnb_talk,\\n#gnb.gnb_one .mail_li.hover .gnb_service, #gnb.gnb_one_small .mail_li.hover .gnb_service, #gnb.gnb_one .mail_li.hover .gnb_notice, #gnb.gnb_one_small .mail_li.hover .gnb_notice, #gnb.gnb_one .mail_li.hover .gnb_mail, #gnb.gnb_one_small .mail_li.hover .gnb_mail, #gnb.gnb_one .mail_li.hover .gnb_service, #gnb.gnb_one_small .mail_li.hover .gnb_service, #gnb.gnb_one .gnb_service_li.hover .gnb_service, #gnb.gnb_one_small .gnb_service_li.hover .gnb_service, #gnb.gnb_one .gnb_service_li.hover .gnb_notice, #gnb.gnb_one_small .gnb_service_li.hover .gnb_notice, #gnb.gnb_one .gnb_service_li.hover .gnb_mail, #gnb.gnb_one_small .gnb_service_li.hover .gnb_mail, #gnb.gnb_one .gnb_service_li.hover .gnb_service, #gnb.gnb_one_small .gnb_service_li.hover .gnb_service {background: url(https://ssl.pstatic.net/static/common/gnb/bg_one_hover.png) repeat 0 0;}\\n#gnb.gnb_one .gnb_my_li .gnb_my .gnb_name, #gnb.gnb_one_small .gnb_my_li .gnb_my .gnb_name{margin:0 0 0 1px;}\\n#gnb.gnb_one .gnb_notice_li a.gnb_notice, #gnb.gnb_one_small .gnb_notice_li a.gnb_notice #gnb.gnb_one .gnb_talk_li a.gnb_talk, #gnb.gnb_one_small .gnb_talk_li a.gnb_talk{width:17px;height:19px}\\n#gnb.gnb_one .gnb_notice_li a.gnb_notice .gnb_icon, #gnb.gnb_one_small .gnb_notice_li a.gnb_notice .gnb_icon{width:17px;height:19px;background-position:-284px -119px}\\n#gnb.gnb_one .gnb_notice_li a.gnb_notice:hover .gnb_icon, #gnb.gnb_one_small .gnb_notice_li a.gnb_notice:hover .gnb_icon{background-position:-284px -119px}\\n#gnb.gnb_one .gnb_talk_li a.gnb_talk .gnb_icon, #gnb.gnb_one_small .gnb_talk_li a.gnb_talk .gnb_icon{background-position: -220px -160px;}\\n#gnb.gnb_one .gnb_talk_li a.gnb_talk:hover .gnb_icon, #gnb.gnb_one_small .gnb_talk_li a.gnb_talk:hover .gnb_icon{background-position: -220px -160px;}\\n#gnb.gnb_one_flat .gnb_talk_li a.gnb_talk .gnb_icon, #gnb.gnb_one_flat .gnb_talk_li a.gnb_talk:hover .gnb_icon{background-position: -240px -160px;}\\n#gnb.gnb_one .mail_li a.gnb_mail, #gnb.gnb_one_small .mail_li a.gnb_mail{width:21px;height:17px}\\n#gnb.gnb_one .mail_li a.gnb_mail .gnb_icon, #gnb.gnb_one_small .mail_li a.gnb_mail .gnb_icon{width:21px;height:17px;background-position:-302px -120px}\\n#gnb.gnb_one .mail_li a.gnb_mail:hover .gnb_icon, #gnb.gnb_one_small .mail_li a.gnb_mail:hover .gnb_icon{background-position:-302px -120px}\\n#gnb.gnb_one .gnb_service_li .gnb_service, #gnb.gnb_one_small .gnb_service_li .gnb_service{width:17px;height:17px}\\n#gnb.gnb_one .gnb_service_li .gnb_service .gnb_icon, #gnb.gnb_one_small .gnb_service_li .gnb_service .gnb_icon{width:17px;height:17px;background-position:-324px -120px}\\n#gnb.gnb_one .gnb_service_li .gnb_service:hover .gnb_icon, #gnb.gnb_one_small .gnb_service_li .gnb_service:hover .gnb_icon{background-position:-324px -120px}\\n#gnb.gnb_one .gnb_my_lyr, #gnb.gnb_one_small .gnb_my_lyr, #gnb.gnb_one .gnb_notice_lyr, #gnb.gnb_one_small .gnb_notice_lyr, #gnb.gnb_one .gnb_service_lyr, #gnb.gnb_one_small .gnb_service_lyr {right: 7px;}\\n#gnb.gnb_one .gnb_ico_num, #gnb.gnb_one_small .gnb_ico_num{width:34px;top:10px;right:3px;left:auto;vertical-align:top}\\n#gnb.gnb_one .gnb_ico_num .gnb_ico_new, #gnb.gnb_one_small .gnb_ico_num .gnb_ico_new{vertical-align:top;height:13px;background-position:-332px -60px;}\\n#gnb.gnb_one .gnb_ico_num .gnb_count, #gnb.gnb_one_small .gnb_ico_num .gnb_count {height: 13px;padding: 0 6px 0 2px;background-position: 100% -60px;font-size: 10px;font-weight: normal;}\\n#gnb.gnb_one .gnb_ico_num .plus, #gnb.gnb_one_small .gnb_ico_num .plus{margin:1px 0 0 2px}\\n#gnb.gnb_one .ico_arrow{top:48px}\\n#gnb.gnb_one .gnb_my_lyr, #gnb.gnb_one .gnb_notice_lyr{top:47px}\\n#gnb.gnb_one .gnb_service_lyr{top:48px;}\\n#gnb.gnb_one .gnb_login_li{padding:16px 21px 10px 1px;}\\n#gnb.gnb_one .gnb_my_li{padding:12px 20px 12px 2px}\\n#gnb.gnb_one .gnb_my_li .ico_arrow{top:34px}\\n#gnb.gnb_one .gnb_notice_li a.gnb_notice{padding:18px 19px 17px 19px}\\n#gnb.gnb_one .gnb_talk_li a.gnb_talk{width: 20px; height: 20px; padding: 17px 17px 17px 18px;}\\n#gnb.gnb_one .mail_li a.gnb_mail{padding:19px 17px 18px 17px}\\n#gnb.gnb_one .gnb_service_li .gnb_service{padding:19px 19px 18px 19px}\\n#gnb.gnb_one_small .ico_arrow{top:33px}\\n#gnb.gnb_one_small .gnb_my_lyr, #gnb.gnb_one_small .gnb_notice_lyr{top:32px}\\n#gnb.gnb_one_small .gnb_service_lyr{top:33px}\\n#gnb.gnb_one_small .gnb_login_li{padding:7px 12px 4px 2px}\\n#gnb.gnb_one_small .gnb_my_li{padding:5px 20px 4px 2px}\\n#gnb.gnb_one_small .gnb_my_li .ico_arrow{top:27px}\\n#gnb.gnb_one_small .gnb_notice_li a.gnb_notice{padding:10px 11px 10px 12px}\\n#gnb.gnb_one_small .gnb_talk_li a.gnb_talk{padding:10px 11px 10px 12px}\\n#gnb.gnb_one_small .mail_li a.gnb_mail{padding:11px 10px 11px 9px}\\n#gnb.gnb_one_small .gnb_service_li .gnb_service{padding:11px 12px 11px 11px}\\n#gnb.gnb_one_small .gnb_ico_num{top:5px;right:6px;width:24px}\\n#gnb.gnb_one_flat .gnb_login_li,\\n#gnb.gnb_one_flat .gnb_my_li,\\n#gnb.gnb_one_flat .gnb_notice_li,\\n#gnb.gnb_one_flat .mail_li,\\n#gnb.gnb_one_flat .gnb_service_li {border-color: #e0e0e0;}\\n#gnb.gnb_one_flat .gnb_notice_li.hover,\\n#gnb.gnb_one_flat .gnb_talk_li.hover,\\n#gnb.gnb_one_flat .mail_li.hover,\\n#gnb.gnb_one_flat .gnb_service_li.hover {background-color: rgba(0, 0, 0, 0.04);}\\n#gnb.gnb_one_flat .gnb_service_li .gnb_service .gnb_icon,\\n#gnb.gnb_one_flat .gnb_service_li .gnb_service:hover .gnb_icon {background-image: url(https://ssl.pstatic.net/static/common/gnb/one/sp_gnb_4b16e6.png);background-position: -84px -24px;background-repeat: no-repeat; width: 16px;height: 16px;vertical-align: top; margin: 0 1px;}\\n#gnb.gnb_one_flat .mail_li a.gnb_mail .gnb_icon,\\n#gnb.gnb_one_flat .mail_li a.gnb_mail:hover .gnb_icon {background-image: url(https://ssl.pstatic.net/static/common/gnb/one/sp_gnb_4b16e6.png);background-position: 0px -42px;background-repeat: no-repeat;width: 20px;height: 16px;vertical-align: top;margin: 0 1px;}\\n#gnb.gnb_one_flat .gnb_notice_li a.gnb_notice .gnb_icon,\\n#gnb.gnb_one_flat .gnb_notice_li a.gnb_notice:hover .gnb_icon {background-image: url(https://ssl.pstatic.net/static/common/gnb/one/sp_gnb_4b16e6.png);background-position: -84px 0px;background-repeat: no-repeat;width: 16px;height: 18px;vertical-align: top;margin: 0 1px;}\\n#gnb.gnb_one_flat .gnb_my_li .gnb_my .gnb_name,\\n#gnb.gnb_one_flat .gnb_login_li .gnb_btn_login .gnb_txt {color: #666;}\\n#gnb.gnb_one_pwe .gnb_my .filter_mask {box-sizing: border-box;background: none;border: 1px solid rgba(0,0,0,.1);border-radius: 100%;}\\n#gnb.gnb_one_pwe .gnb_my_namebox {background-image: url(https://ssl.pstatic.net/static/common/gnb/pwe/ico_arrow_wh.svg) !important;}\\n#gnb.gnb_one_pwe .gnb_notice_li a.gnb_notice .gnb_icon,\\n#gnb.gnb_one_pwe .gnb_notice_li a.gnb_notice:hover .gnb_icon {width: 17px;height: 19px;background: url(https://ssl.pstatic.net/static/common/gnb/pwe/gnb_notice.svg) no-repeat;}\\n#gnb.gnb_one_pwe .gnb_talk_li a.gnb_talk .gnb_icon,\\n#gnb.gnb_one_pwe .gnb_talk_li a.gnb_talk:hover .gnb_icon {width: 20px; height: 20px; background: url(https://ssl.pstatic.net/static/common/gnb/pwe/gnb_talk.svg) no-repeat; }\\n#gnb.gnb_one_pwe .gnb_service_li .gnb_service .gnb_icon,\\n#gnb.gnb_one_pwe .gnb_service_li .gnb_service:hover .gnb_icon {width: 17px;height: 17px;background: url(https://ssl.pstatic.net/static/common/gnb/pwe/gnb_service.svg) no-repeat;}\\n#gnb.gnb_one_pwe .gnb_ico_num .gnb_ico_new,\\n#gnb.gnb_one_pwe .gnb_ico_num .gnb_count {background: #e1523a;}\\n#gnb.gnb_one_pwe .gnb_ico_num .gnb_ico_new {border-radius: 13px 0 0 13px;}\\n#gnb.gnb_one_pwe .gnb_ico_num .gnb_count {border-radius: 0 13px 13px 0;}</style><script src=\"https://ssl.pstatic.net/static.gn/js/clickcrD.js\" id=\"gnb_clickcrD\" charset=\"utf-8\"></script></head><body><div id=\"root\"><div class=\"sc-ibaz69 cZBFVy\"><div class=\"sc-13mbent kjghqO\"><a href=\"#section_content\"><span>본문 바로가기</span></a><a href=\"#header\"><span>주 메뉴 바로가기</span></a></div><header id=\"header\" class=\"sc-15dd2w iKHZwl\"><h1 class=\"logo_box\"><a class=\"link_logo\" href=\"https://www.naver.com\"><span class=\"blind\">네이버 지도</span></a></h1><nav class=\"sc-1d8u9oq htgAOx\"><ul class=\"list_navbar -fold\"><li class=\"sc-13bg05j hXOgMI\"><button type=\"button\" class=\"btn_navbar active\"><span class=\"navbar_text\">지도 홈</span><span class=\"blind\">선택됨</span></button></li><li class=\"sc-13bg05j ekfNzw\"><button type=\"button\" class=\"btn_navbar\"><span class=\"navbar_text\">길찾기</span></button></li><li class=\"sc-13bg05j eqRVPw\"><button type=\"button\" class=\"btn_navbar\"><span class=\"navbar_text\">버스</span></button></li><li class=\"sc-13bg05j iFHPII\"><button type=\"button\" class=\"btn_navbar\"><span class=\"navbar_text\">지하철</span></button></li><li class=\"sc-13bg05j hWyAOA\"><button type=\"button\" class=\"btn_navbar\"><span class=\"navbar_text\">기차</span></button></li><li class=\"sc-13bg05j cDlNZo\"><button type=\"button\" class=\"btn_navbar\"><span class=\"sc-cmjm8o kBmiGB\"><span class=\"blind\">new</span></span><span class=\"navbar_text\">저장</span></button></li><li class=\"sc-13bg05j gjUtKA\"><button type=\"button\" class=\"btn_navbar\"><span class=\"navbar_text\">더보기</span></button></li></ul></nav><div class=\"sc-rlx3or cJIsvj\"><div id=\"gnb\" class=\"\"><strong class=\"blind\">사용자 링크</strong><ul class=\"gnb_lst\" id=\"gnb_lst\" style=\"display: block;\"><li class=\"gnb_login_li\" id=\"gnb_login_layer\" style=\"display: inline-block;\"><a class=\"gnb_btn_login\" href=\"https://nid.naver.com/nidlogin.login\" id=\"gnb_login_button\"><span class=\"gnb_bg\"></span><span class=\"gnb_bdr\"></span><span class=\"gnb_txt\">로그인</span></a></li><li class=\"gnb_my_li\" id=\"gnb_my_layer\" style=\"display:none\"><div class=\"gnb_my_namebox\" id=\"gnb_my_namebox\" style=\"background-image: url(&quot;https://ssl.pstatic.net/static/common/gnb/2014/ico_arrow_bl1.gif&quot;);\"><a href=\"javascript:;\" id=\"gnb_my\" class=\"gnb_my\" onclick=\"gnbUserLayer.clickToggle(); return false;\"><img id=\"gnb_profile_img\" src=\"data:image/gif;base64,R0lGODlhAQABAAD/ACwAAAAAAQABAAACADs%3D\" onerror=\"this.src=\\'data:image/png;base64,iVBORw0KGgoAAAANSUhEUgAAAFAAAABQCAMAAAC5zwKfAAAAGXRFWHRTb2Z0d2FyZQBBZG9iZSBJbWFnZVJlYWR5ccllPAAAADNQTFRF8PDw5ubm+vr6+/v76enp+Pj47e3t5+fn9/f37Ozs9PT08vLy7+/v6urq9fX15OTk/f39pqwodgAAAQNJREFUeNrs11EOgyAMgOEWUAF19f6n3cMeplJHoSZbsv4H+DIWaCNsNwcGGmiggQZ+D/Q5reuasr8H9ID0CsHfALpA74JTgwPSPnRK0Ac6FrwOXOjcogIdlTkNuDDgogGRAVEBDsQ19IMzC879ILAgGNgAZhbMP3RttonxJs1Lgea/sDYcyreHXjW+oPUHVid2MWC1K+A0sqsDW7CksGmlCNZoFt9pIfjYgY8bwMMexUENQuOtqYCxfHtT7AddYodDcp0gIPEh9IBxous+nBuaTis4Nw/OSLVwloN+JEmjGJR5FyIDRpIWZeAoBkcZGMRgkIEkz0D7GjXQQAMN/GvwKcAAEGGHJh0mmaAAAAAASUVORK5CYII=\\'\" width=\"26\" height=\"26\" alt=\"내 프로필 이미지\"><span id=\"gnb_profile_filter_mask\" class=\"filter_mask\"></span> <span class=\"gnb_name\" id=\"gnb_name1\"></span><em class=\"blind\">내정보 보기</em><span class=\"ico_arrow\"></span></a><a href=\"#\" class=\"gnb_emp\" id=\"gnb_emp\">(임직원혜택)</a></div><div class=\"gnb_my_lyr\" id=\"gnb_my_lyr\"><div class=\"gnb_my_content\"><div class=\"gnb_img_area\"><span class=\"gnb_mask\"></span><img src=\"data:image/gif;base64,R0lGODlhAQABAAD/ACwAAAAAAQABAAACADs%3D\" onerror=\"this.src=\\'data:image/png;base64,iVBORw0KGgoAAAANSUhEUgAAAFAAAABQCAMAAAC5zwKfAAAAGXRFWHRTb2Z0d2FyZQBBZG9iZSBJbWFnZVJlYWR5ccllPAAAADNQTFRF8PDw5ubm+vr6+/v76enp+Pj47e3t5+fn9/f37Ozs9PT08vLy7+/v6urq9fX15OTk/f39pqwodgAAAQNJREFUeNrs11EOgyAMgOEWUAF19f6n3cMeplJHoSZbsv4H+DIWaCNsNwcGGmiggQZ+D/Q5reuasr8H9ID0CsHfALpA74JTgwPSPnRK0Ac6FrwOXOjcogIdlTkNuDDgogGRAVEBDsQ19IMzC879ILAgGNgAZhbMP3RttonxJs1Lgea/sDYcyreHXjW+oPUHVid2MWC1K+A0sqsDW7CksGmlCNZoFt9pIfjYgY8bwMMexUENQuOtqYCxfHtT7AddYodDcp0gIPEh9IBxous+nBuaTis4Nw/OSLVwloN+JEmjGJR5FyIDRpIWZeAoBkcZGMRgkIEkz0D7GjXQQAMN/GvwKcAAEGGHJh0mmaAAAAAASUVORK5CYII=\\'\" width=\"80\" height=\"80\" alt=\"프로필 이미지\"><a href=\"https://nid.naver.com/user2/api/naverProfile?m=checkIdType\" class=\"gnb_change\"><span class=\"blind\">프로필 사진 변경</span></a></div><div class=\"gnb_txt_area\"><p class=\"gnb_account\"><span class=\"gnb_name\" id=\"gnb_name2\"><a class=\"gnb_nick\" href=\"https://nid.naver.com/user2/api/naverProfile?m=checkIdType\">_</a>님</span><a class=\"gnb_btn_login\" href=\"https://nid.naver.com/nidlogin.logout?returl=/\" id=\"gnb_logout_button\"><span class=\"gnb_bg\"></span><span class=\"gnb_bdr\"></span><span class=\"gnb_txt\">로그아웃</span></a></p><a href=\"https://mail.naver.com\" class=\"gnb_mail_address\">@naver.com</a><ul class=\"gnb_edit_lst\"><li class=\"gnb_info\"><a href=\"https://nid.naver.com/user2/help/myInfo?menu=home\">네이버ID</a></li><li class=\"gnb_secure\" id=\"gnb_secure_lnk\"><a href=\"https://nid.naver.com/user2/help/myInfo?m=viewSecurity&amp;menu=security\">보안설정</a></li><li class=\"gnb_cert\" id=\"gnb_cert_lnk\"><a href=\"https://nid.naver.com/user2/eSign/v1/home/land\" id=\"gnb_cert_lnk_a\">내인증서</a></li></ul><div class=\"gnb_pay_check\" id=\"gnb_pay_check\"><p class=\"gnb_membership\" style=\"display: none;\" id=\"gnb_membership\"><a href=\"https://nid.naver.com/membership/my\" class=\"gnb_my_membership\" id=\"gnb_my_membership\"><i class=\"blind\">네이버 멤버쉽</i></a></p><em>N Pay</em><a href=\"https://pay.naver.com\" id=\"gnb_pay_point\"><span style=\"display: none\">내 페이포인트</span></a></div></div></div><div class=\"gnb_my_community\"><a href=\"https://blog.naver.com/MyBlog.naver\" class=\"gnb_blog\">내 블로그</a><a href=\"https://section.cafe.naver.com\" class=\"gnb_cafe\">가입한 카페</a><a href=\"https://pay.naver.com\" class=\"gnb_pay\" id=\"gnb_pay_banner_membership\" style=\"display: block;\"><span>N Pay</span></a><a href=\"https://nid.naver.com/membership/join\" class=\"gnb_pay\" id=\"gnb_pay_banner_newbie\" style=\"display: none;\"><i>네이버 멤버십 최대 5% 적립</i></a></div><a href=\"#\" class=\"gnb_my_interface\" style=\"display:none\"><span class=\"blind\">환경설정</span></a></div><iframe id=\"gnb_my_lyr_iframe\" title=\"빈 프레임\" class=\"gnb_pad_lyr\" name=\"padding\" width=\"0\" height=\"0\" scrolling=\"no\" frameborder=\"0\" style=\"top:34px;right:-4px;width:320px;height:158px;display:none;opacity:0;-ms-filter:alpha(opacity=0)\"></iframe></li><li class=\"gnb_talk_li\" id=\"gnb_talk_layer\" style=\"display:none\"><a id=\"gnb_talks_button\" class=\"gnb_talk\" target=\"_blank\" rel=\"noopener noreferrer\" href=\"https://talks.naver.com/?frm=pcgnb&amp;anchor=&amp;category=\"><span class=\"blind\">네이버톡</span><span class=\"gnb_icon\"></span><em class=\"gnb_ico_num\" id=\"gnb_talk_menu\" style=\"display:none\"><span class=\"gnb_ico_new\"><span class=\"gnb_count\" id=\"gnb_talk_count\"></span></span></em><span class=\"ico_arrow\"></span></a></li><li class=\"gnb_notice_li\" id=\"gnb_notice_layer\" style=\"display:none\"><a href=\"https://m.notify.naver.com/?from=pcmain\" class=\"gnb_notice\" target=\"_blank\" rel=\"noopener noreferrer\"><span class=\"blind\">알림</span><span class=\"gnb_icon\"></span><em class=\"gnb_ico_num\" id=\"gnb_me_menu\" style=\"display:none\"><span class=\"gnb_ico_new\"><span class=\"gnb_count\" id=\"gnb_me_count\"></span></span></em><span class=\"ico_arrow\"></span></a><div class=\"gnb_notice_lyr\" id=\"gnb_notice_lyr\"><div class=\"svc_noti svc_panel\"><div class=\"svc_scroll\"><div class=\"svc_head\"><strong class=\"gnb_tit\">전체 알림</strong><div class=\"task_right\"><button onclick=\"gnbNaverMeLayer.deleteReadList(this, event);\" id=\"gnb_btn_read_noti_del\">읽은 알림 삭제</button><button onclick=\"gnbNaverMeLayer.showDeleteAlert();\" id=\"gnb_btn_all_noti_del\">모두 삭제</button></div></div><div class=\"svc_body\" id=\"gnb_naverme_layer\"></div></div><div class=\"gnb_ly_alert\" id=\"gnb_ly_alert\" style=\"display: none;\"><p class=\"gnb_msg\"><strong>알림을 모두 삭제하시겠습니까?</strong></p><div class=\"gnb_btns\"><button id=\"ly_alert_confirm\" onclick=\"gnbNaverMeLayer.deleteAllList(this, event);\">확인</button><button onclick=\"gnbNaverMeLayer.hideDeleteAlert();\">취소</button></div><button class=\"gnb_btn_close\" onclick=\"gnbNaverMeLayer.hideDeleteAlert();\"><i>레이어 닫기</i></button></div><a href=\"https://m.notify.naver.com/?from=pcmain\" class=\"gnb_notice_all\">내 알림 전체보기</a></div></div><iframe id=\"gnb_notice_lyr_iframe\" title=\"빈 프레임\" class=\"gnb_pad_lyr\" name=\"padding\" width=\"0\" height=\"0\" scrolling=\"no\" frameborder=\"0\" style=\"top:34px;right:-4px;width:299px;height:332px;display:none;opacity:0;-ms-filter:alpha(opacity=0)\"></iframe></li><li class=\"mail_li\" id=\"gnb_mail_layer\" style=\"display:none\"><a href=\"https://mail.naver.com\" class=\"gnb_mail\"><span class=\"blind\">메일</span><span class=\"gnb_icon\"></span><em class=\"gnb_ico_num\" id=\"gnb_mail_menu\" style=\"display:none\"><span class=\"gnb_ico_new\"><span class=\"gnb_count\" id=\"gnb_mail_count\"></span></span></em></a></li><li class=\"gnb_service_li\" id=\"gnb_service_layer\" style=\"display: inline-block;\"><a href=\"javascript:;\" class=\"gnb_service\" onclick=\"gnbMoreLayer.clickToggle(); return false;\"><span class=\"blind\">서비스 더보기</span><span class=\"gnb_icon\"></span><span class=\"ico_arrow\"></span></a><div class=\"gnb_service_lyr\" id=\"gnb_service_lyr\"><div class=\"gnb_favorite_search\" id=\"gnb_favorite_search\"><div class=\"gnb_favorite_area\"><div class=\"gnb_favorite_lstwrp\"><div class=\"gnb_first_visit\" style=\"display:none\"><span class=\"blind\">나만의 즐겨찾기를 추가해 보세요!</span><a href=\"#\" class=\"gnb_close\"><span class=\"blind\">닫기</span></a></div><strong class=\"blind\">즐겨찾는 서비스</strong><ul class=\"gnb_favorite_lst\" id=\"gnb_favorite_lst\"><li class=\"gnb_add\"><a href=\"#\"><span class=\"ic_add\"></span>추가</a></li><li class=\"gnb_add\"><a href=\"#\"><span class=\"ic_add\"></span>추가</a></li><li class=\"gnb_add\"><a href=\"#\"><span class=\"ic_add\"></span>추가</a></li><li class=\"gnb_add\"><a href=\"#\"><span class=\"ic_add\"></span>추가</a></li></ul><a href=\"#\" class=\"gnb_my_interface\" onclick=\"gnbMoreLayer.clickToggleWhole(); return false;\"><span class=\"blind\">즐겨찾기 설정</span></a></div></div><div class=\"gnb_search_area\"><div class=\"gnb_search_box\" onmouseover=\"gnb_search.mouseOver(this);\" onmouseout=\"gnb_search.mouseOut(this);\"><input id=\"gnb_svc_search_input\" type=\"text\" title=\"서비스 검색\" value=\"더 많은 서비스를 간편하게 시작하세요!\" onfocus=\"gnb_search.clearInput(this);\" onblur=\"gnb_search.resetInput(this);\" onkeydown=\"gnb_search.keyDown(event);\" onkeyup=\"gnb_search.keyUp(event);\"><a href=\"#\" class=\"gnb_del_txt\" id=\"gnb_del_txt\" style=\"display:none\"><span class=\"blind\">삭제</span></a><div class=\"gnb_pop_input\" id=\"gnb_pop_input\" tabindex=\"0\" onfocus=\"gnb_search.searchPopOnMouse = true; return false;\" onfocusout=\"gnb_search.searchPopOnMouse = false; return false;\" onmouseover=\"gnb_search.searchPopOnMouse = true; return false;\" onmouseout=\"gnb_search.searchPopOnMouse = false; return false;\" style=\"display:none\"><ul class=\"gnb_pop_lst\"></ul></div></div><div id=\"gnb_search_lstwrp\" class=\"gnb_search_lstwrp\"><ul class=\"gnb_search_lst gnb_first\"><li class=\"gnb_first\"><a id=\"gnb_search_lst_first_item\" href=\"https://cafe.naver.com/\">카페</a></li><li><a href=\"https://news.naver.com/\">뉴스</a></li><li><a href=\"https://map.naver.com/\">지도</a></li><li><a href=\"https://sports.news.naver.com/\">스포츠</a></li><li><a href=\"https://game.naver.com/\">게임</a></li></ul><ul class=\"gnb_search_lst\"><li class=\"gnb_first\"><a href=\"https://section.blog.naver.com/\">블로그</a></li><li><a href=\"https://post.naver.com/main.nhn\">포스트</a></li><li><a href=\"https://dict.naver.com/\">사전</a></li><li><a href=\"https://kin.naver.com/\">지식iN</a></li><li><a href=\"https://weather.naver.com/\">날씨</a></li></ul><ul class=\"gnb_search_lst\"><li class=\"gnb_first\"><a href=\"https://mail.naver.com/\">메일</a></li><li><a href=\"https://stock.naver.com/\">증권</a></li><li><a href=\"https://land.naver.com/\">부동산</a></li><li><a href=\"https://vibe.naver.com/today/\">VIBE</a></li><li><a href=\"https://book.naver.com\">책</a></li></ul><ul class=\"gnb_search_lst\"><li class=\"gnb_first\"><a href=\"https://shopping.naver.com/\">쇼핑</a></li><li><a href=\"https://comic.naver.com/\">웹툰</a></li><li><a href=\"https://movie.naver.com/\">영화</a></li><li><a href=\"https://mybox.naver.com/\">MYBOX</a></li><li><a href=\"https://novel.naver.com/webnovel/weekday\">웹소설</a></li></ul></div></div><div class=\"gnb_banner\"><a href=\"https://campaign.naver.com/npay/rediret/index.nhn\" class=\"gnb_service_event\"><img id=\"gnb_promo\" alt=\"N페이, 이벤트 참여하면 포인트 적립!\" width=\"265\" height=\"47\" src=\"https://ssl.pstatic.net/static/common/gnb/banner/promo_npay_2309.png\"></a></div><div class=\"gnb_linkwrp\"><a href=\"https://www.naver.com/more.html\" class=\"gnb_service_all\" id=\"gnb_service_all\">전체 서비스 보기</a></div></div><div class=\"gnb_svc_more\" id=\"gnb_svc_more\" style=\"\"><strong class=\"blind\">네이버 주요 서비스</strong><div class=\"gnb_bg_top\"></div><div class=\"gnb_svc_hd\" id=\"gnb_svc_hd\" tabindex=\"0\"><strong class=\"gnb_svc_tit\">바로가기 설정</strong><span class=\"link\"><a href=\"https://www.naver.com/more.html\">전체 서비스 보기</a></span></div><div class=\"gnb_svc_lstwrp\"><div class=\"gnb_svc_lst1\"><ul class=\"gnb_first\"><li><input type=\"checkbox\" id=\"nsvc_game\" name=\"selmenu\" class=\"gnb_input_check\" value=\"\"> <label for=\"nsvc_game\">게임</label></li><li><input type=\"checkbox\" id=\"nsvc_weather\" name=\"selmenu\" class=\"gnb_input_check\" value=\"\"> <label for=\"nsvc_weather\">날씨</label></li><li><input type=\"checkbox\" id=\"nsvc_shopping\" name=\"selmenu\" class=\"gnb_input_check\" value=\"\"> <label for=\"nsvc_shopping\">네이버쇼핑</label></li><li><input type=\"checkbox\" id=\"nsvc_navercast\" name=\"selmenu\" class=\"gnb_input_check\" value=\"\"> <label for=\"nsvc_navercast\">네이버캐스트</label></li><li class=\"gnb_event\"><input type=\"checkbox\" id=\"nsvc_naverpay\" name=\"selmenu\" class=\"gnb_input_check\" value=\"\"> <label for=\"nsvc_naverpay\">네이버페이<em class=\"ic_gnb_new\">New</em></label></li><li><input type=\"checkbox\" id=\"nsvc_mybox\" name=\"selmenu\" class=\"gnb_input_check\" value=\"\"> <label for=\"nsvc_mybox\">네이버 MYBOX</label></li><li><input type=\"checkbox\" id=\"nsvc_news\" name=\"selmenu\" class=\"gnb_input_check\" value=\"\"> <label for=\"nsvc_news\">뉴스</label></li><li><input type=\"checkbox\" id=\"nsvc_comic\" name=\"selmenu\" class=\"gnb_input_check\" value=\"\"> <label for=\"nsvc_comic\">웹툰</label></li><li><input type=\"checkbox\" id=\"nsvc_memo\" name=\"selmenu\" class=\"gnb_input_check\" value=\"\"> <label for=\"nsvc_memo\">메모</label></li><li><input type=\"checkbox\" id=\"nsvc_mail\" name=\"selmenu\" class=\"gnb_input_check\" value=\"\"> <label for=\"nsvc_mail\">메일</label></li><li><input type=\"checkbox\" id=\"nsvc_land\" name=\"selmenu\" class=\"gnb_input_check\" value=\"\"> <label for=\"nsvc_land\">부동산</label></li><li><input type=\"checkbox\" id=\"nsvc_bookmark\" name=\"selmenu\" class=\"gnb_input_check\" value=\"\"> <label for=\"nsvc_bookmark\">북마크</label></li><li><input type=\"checkbox\" id=\"nsvc_blog\" name=\"selmenu\" class=\"gnb_input_check\" value=\"\"> <label for=\"nsvc_blog\">블로그</label></li></ul><ul class=\"\"><li><input type=\"checkbox\" id=\"nsvc_dic\" name=\"selmenu\" class=\"gnb_input_check\" value=\"\"> <label for=\"nsvc_dic\">사전</label></li><li><input type=\"checkbox\" id=\"nsvc_smartboard\" name=\"selmenu\" class=\"gnb_input_check\" value=\"\"> <label for=\"nsvc_smartboard\">스마트보드</label></li><li><input type=\"checkbox\" id=\"nsvc_sports\" name=\"selmenu\" class=\"gnb_input_check\" value=\"\"> <label for=\"nsvc_sports\">스포츠</label></li><li><input type=\"checkbox\" id=\"nsvc_series\" name=\"selmenu\" class=\"gnb_input_check\" value=\"\"> <label for=\"nsvc_series\">시리즈</label></li><li><input type=\"checkbox\" id=\"nsvc_serieson\" name=\"selmenu\" class=\"gnb_input_check\" value=\"\"> <label for=\"nsvc_serieson\">시리즈on</label></li><li><input type=\"checkbox\" id=\"nsvc_movie\" name=\"selmenu\" class=\"gnb_input_check\" value=\"\"> <label for=\"nsvc_movie\">영화</label></li><li><input type=\"checkbox\" id=\"nsvc_office\" name=\"selmenu\" class=\"gnb_input_check\" value=\"\"> <label for=\"nsvc_office\">오피스</label></li><li><input type=\"checkbox\" id=\"nsvc_novel\" name=\"selmenu\" class=\"gnb_input_check\" value=\"\"> <label for=\"nsvc_novel\">웹소설</label></li><li><input type=\"checkbox\" id=\"nsvc_contact\" name=\"selmenu\" class=\"gnb_input_check\" value=\"\"> <label for=\"nsvc_contact\">주소록</label></li><li><input type=\"checkbox\" id=\"nsvc_finance\" name=\"selmenu\" class=\"gnb_input_check\" value=\"\"> <label for=\"nsvc_finance\">증권(금융)</label></li><li><input type=\"checkbox\" id=\"nsvc_map\" name=\"selmenu\" class=\"gnb_input_check\" value=\"\"> <label for=\"nsvc_map\">지도</label></li><li><input type=\"checkbox\" id=\"nsvc_kin\" name=\"selmenu\" class=\"gnb_input_check\" value=\"\"> <label for=\"nsvc_kin\">지식iN</label></li><li><input type=\"checkbox\" id=\"nsvc_terms\" name=\"selmenu\" class=\"gnb_input_check\" value=\"\"> <label for=\"nsvc_terms\">지식백과</label></li></ul><ul class=\"\"><li><input type=\"checkbox\" id=\"nsvc_book\" name=\"selmenu\" class=\"gnb_input_check\" value=\"\"> <label for=\"nsvc_book\">책</label></li><li><input type=\"checkbox\" id=\"nsvc_cafe\" name=\"selmenu\" class=\"gnb_input_check\" value=\"\"> <label for=\"nsvc_cafe\">카페</label></li><li><input type=\"checkbox\" id=\"nsvc_calendar\" name=\"selmenu\" class=\"gnb_input_check\" value=\"\"> <label for=\"nsvc_calendar\">캘린더</label></li><li><input type=\"checkbox\" id=\"nsvc_navertv\" name=\"selmenu\" class=\"gnb_input_check\" value=\"\"> <label for=\"nsvc_navertv\">네이버TV</label></li></ul></div><div class=\"svc_lst2\"><div class=\"svc_spc gnb_first\"><strong><a href=\"https://dict.naver.com/\">어학사전</a></strong><ul class=\"\"><li><input type=\"checkbox\" id=\"nsvc_krdic\" name=\"selmenu\" class=\"gnb_input_check\" value=\"\"> <label for=\"nsvc_krdic\">국어사전</label></li><li><input type=\"checkbox\" id=\"nsvc_endic\" name=\"selmenu\" class=\"gnb_input_check\" value=\"\"> <label for=\"nsvc_endic\">영어/영영사전</label></li><li><input type=\"checkbox\" id=\"nsvc_hanja\" name=\"selmenu\" class=\"gnb_input_check\" value=\"\"> <label for=\"nsvc_hanja\">한자사전</label></li><li><input type=\"checkbox\" id=\"nsvc_jpdic\" name=\"selmenu\" class=\"gnb_input_check\" value=\"\"> <label for=\"nsvc_jpdic\">일어사전</label></li><li><input type=\"checkbox\" id=\"nsvc_cndic\" name=\"selmenu\" class=\"gnb_input_check\" value=\"\"> <label for=\"nsvc_cndic\">중국어사전</label></li><li><input type=\"checkbox\" id=\"nsvc_frdic\" name=\"selmenu\" class=\"gnb_input_check\" value=\"\"> <label for=\"nsvc_frdic\">프랑스어사전</label></li><li><input type=\"checkbox\" id=\"nsvc_dedic\" name=\"selmenu\" class=\"gnb_input_check\" value=\"\"> <label for=\"nsvc_dedic\">독일어사전</label></li><li><input type=\"checkbox\" id=\"nsvc_rudic\" name=\"selmenu\" class=\"gnb_input_check\" value=\"\"> <label for=\"nsvc_rudic\">러시아어사전</label></li><li><input type=\"checkbox\" id=\"nsvc_vndic\" name=\"selmenu\" class=\"gnb_input_check\" value=\"\"> <label for=\"nsvc_vndic\">베트남어사전</label></li><li><input type=\"checkbox\" id=\"nsvc_spdic\" name=\"selmenu\" class=\"gnb_input_check\" value=\"\"> <label for=\"nsvc_spdic\">스페인어사전</label></li><li><input type=\"checkbox\" id=\"nsvc_papago\" name=\"selmenu\" class=\"gnb_input_check\" value=\"\"> <label for=\"nsvc_papago\">파파고</label></li></ul></div><div class=\"svc_spc\"><strong>인기/신규서비스</strong><ul class=\"\"><li><input type=\"checkbox\" id=\"nsvc_grafolio\" name=\"selmenu\" class=\"gnb_input_check\" value=\"\"> <label for=\"nsvc_grafolio\">그라폴리오</label></li><li><input type=\"checkbox\" id=\"nsvc_post\" name=\"selmenu\" class=\"gnb_input_check\" value=\"\"> <label for=\"nsvc_post\">포스트</label></li><li><input type=\"checkbox\" id=\"nsvc_band\" name=\"selmenu\" class=\"gnb_input_check\" value=\"\"> <label for=\"nsvc_band\">밴드</label></li><li><input type=\"checkbox\" id=\"nsvc_line\" name=\"selmenu\" class=\"gnb_input_check\" value=\"\"> <label for=\"nsvc_line\">라인</label></li><li class=\"gnb_event\"><input type=\"checkbox\" id=\"nsvc_vibe\" name=\"selmenu\" class=\"gnb_input_check\" value=\"\"> <label for=\"nsvc_vibe\">VIBE<em class=\"ic_gnb_new\">New</em></label></li><li><input type=\"checkbox\" id=\"nsvc_pcontents\" name=\"selmenu\" class=\"gnb_input_check\" value=\"\"> <label for=\"nsvc_pcontents\">프리미엄콘텐츠</label></li></ul></div></div></div><div class=\"svc_btnwrp\"><div class=\"svc_btns\"><button class=\"gnb_save\" onclick=\"if(gnbFavorite.addService()){gnbMoreLayer.clickToggleWhole()} return false;\"><strong class=\"blind\">확인</strong></button><button class=\"gnb_close\" onclick=\"gnbFavorite.cancel(); return false;\"><span class=\"blind\">취소</span></button><button class=\"gnb_return\" onclick=\"gnbFavorite.resetService(); return false;\"><span class=\"blind\">초기 설정으로 변경</span></button></div></div><div class=\"gnb_bg_btm\"></div></div></div><iframe id=\"gnb_service_lyr_iframe\" title=\"빈 프레임\" class=\"gnb_pad_lyr\" name=\"padding\" width=\"0\" height=\"0\" scrolling=\"no\" frameborder=\"0\" style=\"display:none;top:34px;right:297px;width:585px;height:385px;opacity:0;-ms-filter:alpha(opacity=0)\"></iframe><iframe id=\"gnb_svc_more_iframe\" title=\"빈 프레임\" class=\"gnb_pad_lyr\" name=\"padding\" width=\"0\" height=\"0\" scrolling=\"no\" frameborder=\"0\" style=\"display:none;top:34px;right:-4px;width:295px;height:385px;opacity:0;-ms-filter:alpha(opacity=0)\"></iframe></li></ul></div></div></header><div class=\"sc-1i7ql2m kXacOC is_webkit\" id=\"app-layout\"><div style=\"transform:translateX(0%)\" class=\"sc-wli0gr gZQCQZ\"><div class=\"sc-fjy3z9 dAwFnA\"><div id=\"home_search_input_box\" class=\"sc-iwm9f4 cQnJFf\"><div class=\"search_wrap \"><div class=\"search_box\"><button type=\"button\" class=\"button_search\">검색</button><button type=\"button\" class=\"btn_clear\"><span class=\"blind\">삭제</span></button><div class=\"input_box\"><input type=\"text\" id=\"input_search1722758132450\" class=\"input_search\" autocomplete=\"off\" maxlength=\"255\" role=\"combobox\" aria-controls=\"home-search-input\" aria-expanded=\"false\" aria-activedescendant=\"\" value=\"먹돌 제주\"></div></div></div></div><!--$--><div top=\"76\" class=\"sc-1wsjitl dXLCNj\"><div class=\"panel_content\" id=\"section_content\"><div class=\"sc-1uz1kl4 sc-eveks6 kagvMc bSVEeN\"><h2 class=\"blind\">검색</h2><div class=\"sc-tge8yo jWttLp\"><span class=\"blind\">loading</span><div class=\"loader\"><div class=\"icon\"></div><div class=\"icon\"></div><div class=\"icon\"></div></div></div><div class=\"sc-1zazcp dEIMHa\"></div><div class=\"sc-48msce bcmMFw\"><iframe id=\"searchIframe\" title=\"Naver Place Search\" src=\"https://pcmap.place.naver.com/place/list?query=%EB%A8%B9%EB%8F%8C%20%EC%A0%9C%EC%A3%BC&amp;x=126.97825&amp;y=37.566551&amp;display=70&amp;ts=1722758132611&amp;additionalHeight=76&amp;mapUrl=https%3A%2F%2Fmap.naver.com%2Fp%2Fsearch%2F%EB%A8%B9%EB%8F%8C%20%EC%A0%9C%EC%A3%BC\"></iframe></div><div class=\"sc-tge8yo bEMhUS\"><span class=\"blind\">loading</span><div class=\"loader\"><div class=\"icon\"></div><div class=\"icon\"></div><div class=\"icon\"></div></div></div></div></div><div class=\"panel_dialog\"></div><button type=\"button\" aria-expanded=\"true\" class=\"sc-agadnx fKUdgA\"><span class=\"blind\">패널 접기</span></button></div><!--/$--></div></div><div class=\"sc-1s2kvgn bxdLlF\"><div class=\"sc-nljxd hNZWUI\"><div class=\"item_carto\"><div class=\"sc-d0ncpj hAtGss\"><div role=\"presentation\" class=\"wrap_btn_carto\"><button type=\"button\" aria-current=\"true\" class=\"sc-xgpg6k hwGLWR\"><span class=\"carto_label\">일반지도</span></button></div><div role=\"presentation\" class=\"wrap_btn_carto\"><button type=\"button\" aria-current=\"false\" class=\"sc-xgpg6k kqoPzx\"><span class=\"carto_label\">위성지도</span></button><button type=\"button\" class=\"carto_hybrid_btn_more\" aria-pressed=\"false\"><span class=\"blind\">더보기</span></button></div><div role=\"presentation\" class=\"wrap_btn_carto\"><button type=\"button\" aria-current=\"false\" class=\"sc-xgpg6k jdplV\"><span class=\"carto_label\">지형지도</span></button></div></div></div><div class=\"item_toolbox\"><div class=\"sc-umqc40 sc-1ankuh7 fVJnqj gDkhRr\"><button class=\"sc-1f2xv2s ctzPME widget_theme\" aria-pressed=\"false\"><span class=\"blind\">테마</span></button><button class=\"sc-1f2xv2s ctzPME widget_favorite\" aria-pressed=\"false\"><span class=\"blind\">저장</span></button><button class=\"sc-1f2xv2s ctzPME widget_land\" aria-pressed=\"false\"><span class=\"blind\">지적편집도</span></button><button class=\"sc-1f2xv2s ctzPME widget_panorama\" aria-pressed=\"false\"><span class=\"blind\">거리뷰</span></button></div><div class=\"sc-umqc40 sc-1vbne3t fVJnqj fyKZeo\"><button class=\"sc-1f2xv2s ctzPME widget_radius\" aria-pressed=\"false\"><span class=\"blind\">반경측정</span></button><button class=\"sc-1f2xv2s ctzPME widget_area\" aria-pressed=\"false\"><span class=\"blind\">면적측정</span></button><button class=\"sc-1f2xv2s ctzPME widget_distance\" aria-pressed=\"false\"><span class=\"blind\">거리측정</span></button></div><div class=\"sc-umqc40 sc-o2f90s fVJnqj Pipek\"><button class=\"sc-16xmmt4 ccAPvv widget_save\"><span class=\"blind\">다운로드</span></button><button class=\"sc-16xmmt4 ccAPvv widget_print\"><span class=\"blind\">인쇄</span></button><button id=\":Rfgprp:\" type=\"button\" class=\"naver-splugin btn sc-uhwwac ijwvmu\" data-title=\"네이버 지도\" data-option=\"{&quot;baseElement&quot;:&quot;:Rfgprp:&quot;,&quot;layerPosition&quot;:&quot;outside-top&quot;,&quot;align&quot;:&quot;right&quot;,&quot;top&quot;:-43,&quot;left&quot;:51}\" data-prevent-short-url=\"off\" data-use-short-url=\"on\" data-style=\"type_a\" data-bookmark-display=\"off\" data-memo-display=\"off\" data-mail-display=\"off\" data-keep-display=\"on\" data-layer=\"default\" aria-pressed=\"false\" data-url=\"https://map.naver.com/p/search/%EB%A8%B9%EB%8F%8C%20%EC%A0%9C%EC%A3%BC?\"><span class=\"blind naver-splugin-c\">공유하기</span></button></div></div><div class=\"item_location\"><div class=\"sc-1tvsfzn bQqwOC\"><div class=\"sc-umqc40 sc-fmxr5 fVJnqj jXUypl\"><button type=\"button\" class=\"btn_location\" aria-pressed=\"false\"><span class=\"widget_location_icon\"><span class=\"blind\">접속위치</span></span></button></div></div><div class=\"sc-umqc40 sc-1rcdrji fVJnqj iTdIFS\"><button type=\"button\" class=\"btn_widget_zoom zoom_in\"><span class=\"blind\">확대</span></button><div class=\"sc-13f8od jrpYF\"><div class=\"wrapper-outer\"><div class=\"wrapper\"><div class=\"wrapper-inner\"><input type=\"range\" min=\"1\" max=\"100\" list=\"zoom-slider\" title=\"줌 슬라이더\" class=\"sc-hpt7w4 iCqGqm\" value=\"67\"></div></div></div><div class=\"sc-7uno6m iPLUdv\"><button type=\"button\" style=\"transform: scale(0);\" class=\"range_tooltip tooltip1\">부동산</button><button type=\"button\" style=\"transform: scale(0);\" class=\"range_tooltip tooltip2\">거리</button><button type=\"button\" style=\"transform: scale(0);\" class=\"range_tooltip tooltip3\">동</button><button type=\"button\" style=\"transform: scale(0);\" class=\"range_tooltip tooltip4\">읍/면</button><button type=\"button\" style=\"transform: scale(0);\" class=\"range_tooltip tooltip5\">시/군/구</button><button type=\"button\" style=\"transform: scale(0);\" class=\"range_tooltip tooltip6\">시/도</button></div></div><button type=\"button\" class=\"btn_widget_zoom zoom_out\"><span class=\"blind\">축소</span></button></div></div></div><div class=\"sc-6t4syl ibrQTr\"><div class=\"mantle_map\"></div></div></div><div class=\"sc-9we4qu cUEEQr\"><div class=\"subwayMap\"><div class=\"sc-tge8yo jWttLp subway_overlay\"><span class=\"blind\">loading</span><div class=\"loader\"><div class=\"icon\"></div><div class=\"icon\"></div><div class=\"icon\"></div></div></div></div></div></div></div><script async=\"\" src=\"https://ntm.pstatic.net/ex/nlog.js\"></script><script>window.__staticRouterHydrationData = JSON.parse(\"{\\\\\"loaderData\\\\\":{\\\\\"0\\\\\":null,\\\\\"0-6-0\\\\\":{\\\\\"menu\\\\\":\\\\\"search\\\\\"},\\\\\"0-6\\\\\":null},\\\\\"actionData\\\\\":null,\\\\\"errors\\\\\":null}\");</script></div><div id=\"report-screen-shot\"></div><script defer=\"defer\" src=\"runtime.9be0c7e.js\"></script><script defer=\"defer\" src=\"vendor.9be0c7e.js\"></script><script defer=\"defer\" src=\"browserChecker.js\"></script><script defer=\"defer\" src=\"main.9be0c7e.js\"></script><script async=\"\" src=\"https://ntm.pstatic.net/scripts/ntm_036d5979ba7d.js\"></script><script src=\"https://ssl.pstatic.net/static.gn/templates/gnb_utf8.nhn\" type=\"text/javascript\" state=\"active\"></script><script src=\"https://ssl.pstatic.net/sstatic.map/openapi/maps3.js?ts=1722396226547\" type=\"text/javascript\" state=\"active\"></script><script src=\"https://ssl.pstatic.net/sstatic.map/openapi/maps3-gl.js?ts=1722396226547\" type=\"text/javascript\" state=\"active\"></script></body></html>'"
     },
     "execution_count": 36,
     "metadata": {},
     "output_type": "execute_result"
    }
   ],
   "source": [
    "driver.page_source"
   ],
   "metadata": {
    "collapsed": false,
    "ExecuteTime": {
     "end_time": "2024-08-04T07:55:36.340795300Z",
     "start_time": "2024-08-04T07:55:36.322583900Z"
    }
   },
   "id": "78d80a9abf128700"
  },
  {
   "cell_type": "code",
   "execution_count": 121,
   "outputs": [],
   "source": [
    "base_url = \"https://pcmap.place.naver.com/place/list?query=\"\n",
    "search_url = f\"{base_url}{restaurant_name}\""
   ],
   "metadata": {
    "collapsed": false,
    "ExecuteTime": {
     "end_time": "2024-07-31T22:26:18.584308Z",
     "start_time": "2024-07-31T22:26:18.580681600Z"
    }
   },
   "id": "71f101056fe60a29"
  },
  {
   "cell_type": "code",
   "execution_count": 27,
   "outputs": [
    {
     "name": "stderr",
     "output_type": "stream",
     "text": [
      "could not detect version_main.therefore, we are assuming it is chrome 108 or higher\n"
     ]
    }
   ],
   "source": [
    "import undetected_chromedriver as uc\n",
    "options = Options()\n",
    "options.add_argument(\"--headless\")\n",
    "driver = uc.Chrome(options=options)"
   ],
   "metadata": {
    "collapsed": false,
    "ExecuteTime": {
     "end_time": "2024-08-04T07:44:19.810913600Z",
     "start_time": "2024-08-04T07:44:19.181301500Z"
    }
   },
   "id": "32098109c47ff108"
  },
  {
   "cell_type": "code",
   "execution_count": 28,
   "outputs": [],
   "source": [
    "driver.get(search_url)"
   ],
   "metadata": {
    "collapsed": false,
    "ExecuteTime": {
     "end_time": "2024-08-04T07:44:33.069724400Z",
     "start_time": "2024-08-04T07:44:32.422932700Z"
    }
   },
   "id": "f7562c85ffd1ed5"
  },
  {
   "cell_type": "code",
   "execution_count": 20,
   "outputs": [],
   "source": [
    "base_url = \"https://map.naver.com/p/search/\"\n",
    "search_url = f\"{base_url}{restaurant_name}\"\n",
    "options = Options()\n",
    "options.add_argument(\"--headless\")\n",
    "\n",
    "service = Service(ChromeDriverManager().install())\n",
    "driver = webdriver.Chrome(service=service, options=options)\n",
    "driver.get(search_url)"
   ],
   "metadata": {
    "collapsed": false,
    "ExecuteTime": {
     "end_time": "2024-08-04T07:38:57.232035100Z",
     "start_time": "2024-08-04T07:38:54.306764100Z"
    }
   },
   "id": "82f86f0e61099a3d"
  },
  {
   "cell_type": "code",
   "execution_count": 23,
   "outputs": [
    {
     "data": {
      "text/plain": "'<html lang=\"ko\"><head><meta charset=\"utf-8\"><meta name=\"viewport\" content=\"width=device-width,initial-scale=1\"><meta property=\"og:type\" content=\"website\"><meta name=\"referrer\" content=\"always\"><title>먹돌 제주 검색 - 네이버 지도</title><meta data-rh=\"true\" name=\"Description\" content=\"공간을 검색합니다. 생활을 연결합니다. 장소, 버스, 지하철, 도로 등 모든 공간의 정보를 하나의 검색으로 연결한 새로운 지도를 만나보세요.\"><meta data-rh=\"true\" property=\"og:description\" content=\"공간을 검색합니다. 생활을 연결합니다. 장소, 버스, 지하철, 도로 등 모든 공간의 정보를 하나의 검색으로 연결한 새로운 지도를 만나보세요.\"><meta data-rh=\"true\" property=\"twitter:description\" content=\"공간을 검색합니다. 생활을 연결합니다. 장소, 버스, 지하철, 도로 등 모든 공간의 정보를 하나의 검색으로 연결한 새로운 지도를 만나보세요.\"><meta data-rh=\"true\" property=\"og:image\" content=\"https://search.pstatic.net/common/?src=https%3A%2F%2Fssl.pstatic.net%2Fstatic%2Fmaps%2Fv5%2Fpc%2Fnaver-map.png&amp;type=f&amp;size=1200x630&amp;quality=80&amp;opt=2\"><meta data-rh=\"true\" property=\"twitter:image\" content=\"https://search.pstatic.net/common/?src=https%3A%2F%2Fssl.pstatic.net%2Fstatic%2Fmaps%2Fv5%2Fpc%2Fnaver-map.png&amp;type=f&amp;size=1200x600&amp;quality=80&amp;opt=2\"><meta data-rh=\"true\" property=\"twitter:card\" content=\"https://search.pstatic.net/common/?src=https%3A%2F%2Fssl.pstatic.net%2Fstatic%2Fmaps%2Fv5%2Fpc%2Fnaver-map.png&amp;type=f&amp;size=600x600&amp;quality=80&amp;opt=2\"><style data-styled=\"active\" data-styled-version=\"5.3.6\"></style><base href=\"/p/\"><link rel=\"search\" type=\"application/opensearchdescription+xml\" href=\"assets/opensearch.xml\" title=\"네이버지도\"><link rel=\"manifest\" href=\"assets/manifest.json\" crossorigin=\"use-credentials\"><link rel=\"shortcut icon\" type=\"image/x-icon\" href=\"assets/icons/favicon.ico\"><link rel=\"apple-touch-icon\" sizes=\"180x180\" href=\"assets/icons/apple-touch-icon.png\"><link rel=\"icon\" type=\"image/png\" sizes=\"32x32\" href=\"assets/icons/favicon-32x32.png\"><link rel=\"icon\" type=\"image/png\" sizes=\"16x16\" href=\"assets/icons/favicon-16x16.png\"><meta name=\"msapplication-TileColor\" content=\"#03c75b\"><meta name=\"theme-color\" content=\"#ffffff\"><meta property=\"og:title\" content=\"먹돌 제주 검색 - 네이버 지도\" data-rh=\"true\"><meta property=\"twitter:title\" content=\"먹돌 제주 검색 - 네이버 지도\" data-rh=\"true\"><style id=\"gnb_style\" type=\"text/css\">@charset \"UTF-8\";\\n/* NTS UIT Development Office YJH 140717 */\\na.gnb_my, .gnb_icon, #gnb .gnb_my_interface, .gnb_my_li .gnb_my_content .gnb_membership, #gnb .gnb_ico_num .gnb_ico_new, #gnb .gnb_ico_num .gnb_ico_new .gnb_count, .gnb_lst .ico_arrow, a.gnb_my .filter_mask, .gnb_my_lyr, .gnb_my_li .gnb_my_content .gnb_mask, .gnb_my_li .gnb_my_content .gnb_edit_lst li, .gnb_notice_li .gnb_notice_lyr, .gnb_notice_li .svc_list .gnb_ico_mail, .gnb_notice_li .svc_list .gnb_btn_remove span, .gnb_notice_li .svc_list .gnb_btn_remove i, .gnb_notice_li .gnb_error .gnb_ico_error, .gnb_ly_alert .gnb_btn_close i, .gnb_first_visit, .gnb_search_box, .gnb_search_box .gnb_del_txt, .gnb_svc_more .gnb_svc_lstwrp li.gnb_event em.ic_gnb_new, .gnb_svc_more .svc_btnwrp button { background: url(https://ssl.pstatic.net/static/common/gnb/one/sp_gnb_v16.png?v=202307) no-repeat -999px -999px;}\\n.gnb_favorite_area, .gnb_search_area, .gnb_banner, .gnb_linkwrp{background:url(https://ssl.pstatic.net/static/common/gnb/2014/bg_svclyr2_v2.png) no-repeat -999px -999px}\\n#gnb .gnb_my_li .gnb_my_community a, .gnb_notice_li .gnb_notice_all, a.gnb_service_all, .gnb_svc_more .svc_btns{display:block;height:38px;border-top:1px solid #ebebeb;background-color:#f8f8f8;text-align:center;font-weight:bold;text-decoration:none;letter-spacing:-1px;line-height:38px}\\n#gnb .gnb_my_li .gnb_my_community a:visited, .gnb_notice_li .gnb_notice_all:visited, a.gnb_service_all:visited, .gnb_svc_more .svc_btns:visited{color:#444}\\n.gnb_login_li, .gnb_my_li, .gnb_notice_li, .gnb_talk_li, .mail_li, .gnb_service_li{float:left;margin-right:2px;overflow:visible}\\n.gnb_login_li a, .gnb_my_li a, .gnb_notice_li a, .gnb_talk_li a, .mail_li a, .gnb_service_li a{position:relative;z-index:100;}\\na.gnb_my, .gnb_icon{position:relative}\\n#gnb{position:relative;z-index:2147483646;font-family:\\'나눔고딕\\',NanumGothic,\\'돋움\\',Dotum,\\'Apple SD Gothic Neo\\',Helvetica,Sans-serif !important;color:#444;font-size:12px;letter-spacing:0 !important;line-height:normal !important;text-align:left !important}\\n#gnb div, #gnb p, #gnb span, #gnb em, #gnb strong, #gnb h1, #gnb h2, #gnb h3, #gnb h4, #gnb h5, #gnb h6, #gnb ul, #gnb ol, #gnb li, #gnb dl, #gnb dt, #gnb dd, #gnb table, #gnb th, #gnb td, #gnb form, #gnb fieldset, #gnb legend, #gnb input, #gnb textarea, #gnb button, #gnb label{font-family:\\'나눔고딕\\',NanumGothic,\\'돋움\\',Dotum,\\'Apple SD Gothic Neo\\',Helvetica,Sans-serif !important}\\n#gnb a, #gnb label, #gnb button{cursor:pointer}\\n#gnb a, #gnb a:visited, #gnb a:active, #gnb a:focus{color:#444}\\n#gnb a:hover{color:#444;text-decoration:underline;vertical-align: baseline;}\\n#gnb input::-ms-clear{display:none}\\n#gnb em{font-style:normal}\\n#gnb ul{list-style:none}\\n#gnb .blind{display:block;overflow:hidden;position:absolute;top:-1000em;left:0;width:1px;height:1px;margin:0;padding:0;font-size:0;line-height:0}\\n#gnb .gnb_my_membership{padding: 0;display: block;width: 64px;height: 16px;background: url(https://ssl.pstatic.net/static/common/gnb/one/ico_gnb_membership.png) no-repeat; background-size: 64px 16px;margin: 0;}\\n#gnb .gnb_my_interface{padding:5px;position:absolute;top:12px;right:8px;display:block;width:17px;height:16px;background-position:-90px 5px}\\n#gnb .gnb_my_interface:hover{background-position:-90px -20px}\\n#gnb .gnb_my_interface:focus{background-position:-90px -20px}\\n#gnb .gnb_pad_lyr{position:absolute}\\n#gnb .gnb_ico_num{display:block;position:absolute;top:1px;width:40px;text-align:center}\\n#gnb .gnb_ico_num .gnb_ico_new{height:15px;display:inline-block;background-position: -331px 0;zoom:1}\\n#gnb .gnb_ico_num .gnb_ico_new .gnb_count{position:relative;top:0;right:-5px;height:15px;margin:0;padding:0 4px 0 1px;display:inline-block;*display:inline;vertical-align:top;background-position: 100% 0;text-indent:-2px;font-family:tahoma !important;font-weight:bold;color:#fff;zoom:1}\\n#gnb .gnb_ico_num .gnb_ico_new .plus{margin:1px -1px 0 2px;font-size:8px;display:inline-block;color:#fff;vertical-align:top}\\n:root #gnb .gnb_pad_lyr{opacity:1 !important;/* background:#fff */}\\n.gnb_lst{margin:0;padding:0;zoom:1}\\n.gnb_lst:after{display:block;clear:both;content:\\'\\'}\\n.gnb_lst ul{margin:0;padding:0}\\n.gnb_lst .ico_arrow{display:none;position:absolute;left:50%;top:27px;width:10px;height:8px;margin-left:-5px;background-position:-175px -10px}\\n.gnb_lyr_opened .gnb_my_lyr, .gnb_lyr_opened .gnb_service_lyr, .gnb_lyr_opened .gnb_notice_lyr, .gnb_lyr_opened .ico_arrow{display:block !important}\\n.gnb_login_li{height:23px;padding:5px 7px 0 0}\\n.gnb_btn_login, .gnb_bg, .gnb_bdr{display:inline-block;width:46px;height:20px;font-size:12px}\\n.gnb_btn_login{position:relative}\\n.gnb_bg{background-color: #fff;opacity: 0.05;filter: alpha(opacity=5);}\\n.gnb_bdr{position:absolute;top: -1px;left: -1px;width: 46px;height: 20px;border: 1px solid #000;opacity: 0.12;filter: alpha(opacity=12);}\\n.gnb_txt{position:absolute;top:0;left:0;width:45px;height:20px;padding-left:1px;line-height:21px;color:#666;text-align:center}\\n.gnb_btn_login:hover{text-decoration:none !important}\\n.gnb_account .gnb_btn_login{width:54px;margin:-1px 0 0 8px;vertical-align:top}\\n.gnb_account a.gnb_btn_login .gnb_txt {padding-left: 0;}\\n.gnb_account .gnb_bdr{width:52px}\\n.gnb_account .gnb_txt{width:53px}\\n.gnb_my_li{margin-right:7px}\\n.gnb_my_namebox{padding:2px 9px 0 0;background-repeat:no-repeat;background-position:100% 50%;zoom:1}\\n.gnb_my_namebox:after{display:block;clear:both;content:\\'\\'}\\na.gnb_my{float:left;display:block;font-size:12px;vertical-align:middle}\\na.gnb_my .filter_mask {position: absolute; top: -1px; left: -1px; z-index: 1; width: 28px; height: 28px; background-position: -260px -60px;}\\na.gnb_my img{vertical-align:top;border-radius:16px}\\na.gnb_my .gnb_name{margin-right:-1px;padding-left:5px;display:inline-block;height:28px;line-height:28px;vertical-align:top;font-size:11px;color:#444}\\na.gnb_my:visited{color:#444}\\na.gnb_my:hover, a.gnb_my:active, a.gnb_my:visited, a.gnb_my:focus{text-decoration:none !important}\\na.gnb_my:hover .gnb_name{text-decoration:underline}\\na.gnb_my .ico_arrow{top:25px;margin-left:8px}\\n.gnb_my_namebox a.gnb_emp{float:left;display:inline-block;height:28px;margin-left:3px;line-height:28px;font-size:11px;color:#777 !important}\\n.gnb_my_lyr{display:none;position:absolute;top:26px;right:-8px;padding:9px 5px 4px 4px;width:316px;height:155px;background-position:-2px -1310px;z-index:10}\\n.gnb_my_lyr.gnb_groupid{height:144px;background-position:-2px -1500px}\\n.gnb_my_lyr.gnb_groupid .gnb_my_content{height:80px}\\n.gnb_my_lyr.gnb_groupid.gnb_longid1{height:144px;/*background-position:-2px -1664px*/}\\n.gnb_my_lyr.gnb_groupid.gnb_longid2{height:144px;background-position:-2px -1828px}\\n.gnb_my_lyr.gnb_longid1{/*width:318px;*/ /*background-position:-2px -1118px;*/}\\n.gnb_my_lyr.gnb_longid2{width:348px;background-position:-2px -926px}\\n.gnb_my_li .gnb_my_content{zoom:1;height:91px;padding:15px 0 10px 15px}\\n.gnb_my_li .gnb_my_content:after{display:block;clear:both;content:\\'\\'}\\n.gnb_my_li .gnb_my_content .gnb_img_area{float:left;position:relative;display:block;width:80px;margin: 1px 0 0 1px;}\\n.gnb_my_li .gnb_my_content .gnb_img_area img{vertical-align:top}\\n.gnb_my_li .gnb_my_content .gnb_mask{position:absolute;top:0;left:0;display:block;width:80px;height:80px;background-position:-70px -60px}\\n.gnb_my_li .gnb_my_content .gnb_change{position:absolute;bottom:-2px;left:-2px;display:block;width:28px;height:28px;background: url(https://ssl.pstatic.net/static/common/gnb/one/ico_gnb_change.png) no-repeat !important; background-size: 28px 28px !important;}\\n.gnb_my_li .gnb_my_content .gnb_change:hover{background-image: url(https://ssl.pstatic.net/static/common/gnb/one/ico_gnb_change_hover.png) !important;}\\n.gnb_my_li .gnb_my_content .gnb_txt_area{float:left;width:210px;margin:0 0 0 10px}\\n.gnb_longid1 .gnb_my_content .gnb_txt_area{/* width:210px; */}\\n.gnb_longid2 .gnb_my_content .gnb_txt_area{width:235px}\\n.gnb_my_li .gnb_my_content .gnb_account{margin-bottom:3px 0 1px;font-size:0}\\n.gnb_my_li .gnb_my_content .gnb_name{color:#666;font-size:14px;vertical-align: top}\\n.gnb_my_li .gnb_my_content .gnb_name a{display:inline-block;vertical-align:top;font-weight:bold;color:#222 !important}\\n.gnb_my_li .gnb_my_content a.gnb_mail_address{margin-left:1px;font-family:tahoma;color:#666 !important;font-size:12px}\\n.gnb_my_li .gnb_my_content .gnb_edit_lst{zoom:1;margin-top:7px !important}\\n.gnb_my_li .gnb_my_content .gnb_edit_lst:after{display:block;clear:both;content:\\'\\'}\\n.gnb_my_li .gnb_my_content .gnb_edit_lst li{float:left;padding-left:6px;margin-left:5px;background-position:-290px -25px}\\n.gnb_my_li .gnb_my_content .gnb_edit_lst li.gnb_info{padding-left:0;margin-left:0;background:none}\\n.gnb_my_li .gnb_my_content .gnb_edit_lst a{color:#666 !important;letter-spacing:-1px}\\n.gnb_my_li .gnb_my_content .gnb_membership {display: inline-block;margin: 0 5px 0 1px !important; padding-right: 8px !important; background-position: -288px -403px;}\\n.gnb_my_li .gnb_my_content .gnb_pay_check{height:16px;margin:7px -4px 0 0 !important}\\n@media screen and (min-width: 0\\\\0) { .gnb_my_li .gnb_my_content .gnb_pay_check{margin-top:17px} }\\n.gnb_my_li .gnb_my_content .gnb_pay_check em{display:inline-block;width:16px;height:16px;background: url(https://ssl.pstatic.net/static/common/gnb/one/ico_gnb_pay_check.svg) no-repeat !important; background-size: 16px 16px !important;margin:0 4px 0 0;overflow:hidden;font-size:0;line-height:0;vertical-align:top}\\n.gnb_my_li .gnb_my_content .gnb_pay_check a{font-size:14px;letter-spacing:-1px;line-height:16px;vertical-align:top}\\n.gnb_my_li .gnb_my_content .gnb_pay_check span{font-weight: bold; vertical-align: top;}\\n.gnb_my_li .gnb_my_content .gnb_pay_check strong{font-family:tahoma;letter-spacing:0;vertical-align:top;}\\n.gnb_my_li .gnb_my_content .gnb_pay_check a, .gnb_my_li .gnb_my_content .gnb_pay_check span, .gnb_my_li .gnb_my_content .gnb_pay_check strong{font-size:12px;color:#222 !important}\\n#gnb .gnb_my_li .gnb_my_community{clear:both;zoom:1}\\n#gnb .gnb_my_li .gnb_my_community:after{display:block;clear:both;content:\\'\\'}\\n#gnb .gnb_my_li .gnb_my_community a{float:left;width:106px;margin-right: 0;border-right:1px solid #ebebeb}\\n#gnb .gnb_my_li .gnb_my_community a.gnb_pay{width:102px;border-right:0;line-height:0}\\n#gnb .gnb_my_li .gnb_my_community a.gnb_pay span{display:inline-block;width:41px;height:16px;background: url(https://ssl.pstatic.net/static/common/gnb/one/ico_gnb_pay.svg) no-repeat !important; background-size: 41px 16px !important;margin:11px auto 0;font-size:0;line-height:0}\\n#gnb .gnb_my_li .gnb_my_community a.gnb_pay i {display: inline-block;width: 61px;height: 20px;margin: 9px auto 0;background: url(https://ssl.pstatic.net/static/common/gnb/banner/promo_membership.png) no-repeat !important;background-size: 61px 20px !important;font-size: 0;line-height: 0;}\\n#gnb .gnb_my_li .gnb_my_community a:active, #gnb .gnb_my_li .gnb_my_community a:focus, #gnb .gnb_my_li .gnb_my_community a:visited{text-decoration:none !important}\\n#gnb .gnb_my_li .gnb_my_community a:hover{text-decoration:underline !important}\\n#gnb .gnb_my_lyr.gnb_longid1 .gnb_my_community a{/*width:105px;*/}\\n#gnb .gnb_my_lyr.gnb_longid1 .gnb_my_community a.gnb_pay{/* width:106px;*/}\\n#gnb .gnb_my_lyr.gnb_longid2 .gnb_my_community a{width:115px}\\n#gnb .gnb_my_lyr.gnb_longid2 .gnb_my_community a.gnb_pay{width:116px}\\n#gnb.gnb_one .gnb_my_community a, #gnb.gnb_one_small .gnb_my_community a{margin-right: 0 !important;}\\n.gnb_notice_li a.gnb_notice{display:block;width:15px;height:17px;padding:7px 9px 4px;text-decoration:none !important}\\n.gnb_notice_li a.gnb_notice .gnb_ico_num{left:1px;top:0}\\n.gnb_notice_li a.gnb_notice .gnb_icon{display:block;width:15px;height:17px;background-position:-3px -60px}\\n.gnb_notice_li a.gnb_notice:hover .gnb_icon{background-position:-38px -60px;text-decoration:none !important}\\n.gnb_notice_li .gnb_notice_lyr{display:none;position:absolute;top:26px;right:-7px;width:297px;height:330px;padding:9px 4px 4px;background-position:-2px -584px;z-index:10;overflow:hidden}\\n.gnb_notice_li .svc_scroll{height:291px;overflow:scroll;overflow-x:hidden;position:relative;zoom:1}\\n.gnb_notice_li .svc_panel{width:100%;height:330px;overflow:hidden}\\n.gnb_notice_li .svc_head{position:relative;height:36px;padding-left:15px;line-height:20px;border-bottom:1px solid #eaeaea;zoom:1}\\n.gnb_notice_li .svc_head .gnb_tit{color:#6b6d70;margin-right:1px;line-height:36px}\\n.gnb_notice_li .svc_head .task_right{position:absolute;right:8px;top:8px;font-size:0}\\n.gnb_notice_li .svc_head .task_right button{height:20px;padding:0 6px;margin-left:4px;border:1px solid #ddd;color:#888;background-color:#fff;font-family:\\'나눔고딕\\', NanumGothic;font-size:12px;letter-spacing:-1px;line-height:18px;*line-height:16px;overflow:visible}\\n.gnb_notice_li .svc_list .gnb_btn_remove i, .gnb_notice_li .svc_list .gnb_btn_remove span, .gnb_notice_li .svc_noti .gnb_ico_mail, .gnb_notice_li .svc_blank .svc_msg_box, .gnb_notice_li .svc_blank .gnb_v_guide{display:inline-block;*display:inline;*zoom:1}\\n.gnb_notice_li .svc_list{margin-top:-1px}\\n.gnb_notice_li .svc_list li{position:relative;padding:7px 34px 7px 15px;border-top:1px solid #eaeaea;line-height:18px}\\n.gnb_notice_li .svc_list .gnb_new{background:#ffffd8}\\n.gnb_notice_li .svc_list .gnb_unread .gnb_subject{color:#444}\\n.gnb_notice_li .svc_list .gnb_unread .d_cnt{color:#ff630e}\\n.gnb_notice_li .svc_list .gnb_unread a:hover .gnb_subject, .gnb_notice_li .svc_list .gnb_unread .gnb_unread a:hover .d_cnt{color:#390}\\n.gnb_notice_li .svc_list .gnb_unread .svc_name{color:#444}\\n.gnb_notice_li .svc_list a.gnb_list_cover{text-decoration:none !important;display:block;position:relative;zoom:1}\\n.gnb_notice_li .svc_list a:hover .gnb_subject{text-decoration:underline}\\n.gnb_notice_li .svc_list .gnb_subject{overflow:hidden;text-overflow:ellipsis;white-space:nowrap;width:100%;color:#adadad}\\n.gnb_notice_li .svc_list .d_cnt{font-family:tahoma;font-size:10px}\\n.gnb_notice_li .svc_list .gnb_info{color:#adadad}\\n.gnb_notice_li .svc_list .svc_name{margin-right:3px;color:#adadad}\\n.gnb_notice_li .svc_list .cchr{margin-right:3px}\\n.gnb_notice_li .svc_list .dona{position:absolute;top:8px;right:34px;text-decoration:underline}\\n.gnb_notice_li .svc_list .dona a{color:#adadad}\\n.gnb_notice_li .svc_list .dona a:hover{color:#390}\\n.gnb_notice_li .svc_list .gnb_ico_mail{width:14px;height:15px;font-size:0;line-height:0;color:#fff;vertical-align:top}\\n.gnb_notice_li .svc_list .gnb_ico_mail.gnb_yes{background-position:-245px -17px}\\n.gnb_notice_li .svc_list .gnb_ico_mail.gnb_no{background-position:-245px 4px}\\n.gnb_notice_li .svc_list .gnb_btn_remove{position:absolute;right:4px;top:50%;z-index:100;margin-top:-13px;padding:10px;line-height:6px;font-size:0;background:none !important;border:0 !important}\\n.gnb_notice_li .svc_list .gnb_btn_remove span, .gnb_notice_li .svc_list .gnb_btn_remove i{display:block !important;width:7px;height:7px;font-size:0;line-height:0;color:transparent;white-space:nowrap;overflow:hidden;vertical-align:top;background-position:-175px 0}\\n.gnb_notice_li .svc_blank{position:absolute;top:104px;left:0;width:100%;white-space:nowrap;height:100px;font-size:0;text-align:center}\\n.gnb_notice_li .svc_blank .svc_msg_box{white-space:normal;font-size:12px;width:100%}\\n.gnb_notice_li .svc_blank .gnb_tit{display:block;color:#2f3743;font-size:14px;margin:0 0 15px}\\n.gnb_notice_li .svc_blank .gnb_tit strong{font-weight:normal;color:#390}\\n.gnb_notice_li .svc_blank .gnb_desc{line-height:19px;color:#2f3743;margin-bottom:7px}\\n.gnb_notice_li .svc_blank .gnb_desc a, .gnb_notice_li .svc_blank .gnb_link{color:#390;text-decoration:underline}\\n.gnb_notice_li .svc_blank .gnb_v_guide{vertical-align:middle;height:100%;width:0}\\n.gnb_notice_li .svc_blank .gnb_link_wrap{text-align:center}\\n.gnb_notice_li .svc_blank .gnb_link_wrap .gnb_link{display:block;width:40px;margin:0 auto !important;text-align:center}\\n.gnb_notice_li .svc_loading{background:url(https://ssl.pstatic.net/static/www/2014/loading.gif) no-repeat #fff center center;position:absolute;top:33px;left:0;width:100%;height:245px}\\n.gnb_notice_li .gnb_error{position:absolute;top:81px;left:2px;width:100%;color:#444;text-align:center}\\n.gnb_notice_li .gnb_error .gnb_ico_error{display:inline-block;width:57px;height:57px;background-position:-280px -190px}\\n.gnb_notice_li .gnb_error .gnb_tit{font-size:14px;margin:15px 0 11px}\\n.gnb_notice_li .gnb_error .gnb_desc{margin-bottom:13px;line-height:18px}\\n.gnb_notice_li .gnb_error .gnb_link{text-decoration:underline}\\n.gnb_ly_alert{position:absolute;top:110px;left:13px;background-color:#fff;border:1px solid #b7b9bc;width:260px;padding:34px 0 20px;zoom:1;z-index:100}\\n.gnb_ly_alert .gnb_msg{text-align:center;line-height:17px;margin-bottom:14px;color:#2f3743}\\n.gnb_.ly_alert .gnb_btn_close{position:absolute;right:2px;top:0;*overflow:visible}\\n.gnb_ly_alert .gnb_btns{text-align:center}\\n.gnb_ly_alert .gnb_btns button{height:27px;line-height:27px;*line-height:22px;font-weight:bold;font-size:12px;padding:0 8px;color:#2f3743;border:1px solid #ddd;background-color:white}\\n.gnb_ly_alert .gnb_btns button:first-child{margin-right:4px}\\n.gnb_ly_alert .gnb_btn_close{position:absolute;right:2px;top:0;width:35px;border:0;background:none;cursor:pointer;border-radius:0;padding:10px}\\n.gnb_ly_alert .gnb_btn_close i{display:block;width:15px;height:15px;font:0/0 a;color:transparent;white-space:nowrap;overflow:hidden;vertical-align:top;background-position:-240px -60px}\\n.gnb_talk_li a.gnb_talk{display:block;width:20px;height:20px;padding: 6px 7px 3px;text-decoration: none !important;}\\n.gnb_talk_li a.gnb_talk .gnb_icon{display: block;width: 20px;height: 20px;background-position: -260px -160px;}\\n.gnb_talk_li a.gnb_talk:hover .gnb_icon{background-position: -280px -160px;text-decoration: none !important;}\\n.mail_li a.gnb_mail{display:block;width:20px;height:15px;padding:7px 9px 6px;text-decoration:none !important}\\n.mail_li a.gnb_mail .gnb_icon{display:block;width:20px;height:15px;background-position:0px -95px}\\n.mail_li a.gnb_mail:hover .gnb_icon{background-position:-35px -95px;text-decoration:none !important}\\n.mail_li .gnb_ico_num{left:6px;top:0}\\n.gnb_service_li{margin-right:0}\\n.gnb_service_li a.gnb_service{display:block;width:16px;height:16px;padding:7px 9px 5px}\\n.gnb_service_li a.gnb_service .gnb_icon{display:block;width:16px;height:16px;background-position:-2px -130px}\\n.gnb_service_li a.gnb_service:hover .gnb_icon{background-position:-37px -130px;text-decoration:none !important}\\n.gnb_service_li .gnb_service_lyr{display:none;position:absolute;top:27px;right:-7px;z-index:10}\\n.gnb_favorite_search{width:301px;letter-spacing:-1px}\\n.gnb_response .gnb_favorite_search{display:none}\\n.gnb_favorite_area{height:93px;padding:8px 4px 0;background-position:0 0}\\n.gnb_favorite_lstwrp{position:relative;padding:22px 1px 15px 15px;border-bottom:1px solid #ebebeb}\\n.gnb_favorite_lstwrp .gnb_my_interface{top:3px !important;right:3px !important}\\n.gnb_first_visit{position:absolute;top:0;left:0;width:293px;height:92px;background-position:0 -310px;z-index:200}\\n.gnb_first_visit .gnb_close{position:absolute;top:0;right:0;display:block;width:32px;height:32px}\\n.gnb_favorite_lst{zoom:1}\\n.gnb_favorite_lst:after{display:block;clear:both;content:\\'\\'}\\n.gnb_favorite_lst li{float:left;width:65px;text-align:center;white-space:nowrap}\\n.gnb_favorite_lst a{display:inline-block;text-align:center;font-weight:bold}\\n.gnb_favorite_lst .gnb_add a{display:block;test-align:center;}\\n.gnb_favorite_lst .gnb_add a span.ic_add{display:block;width:36px;height:36px;margin:0 auto 4px;background-image: url(https://ssl.pstatic.net/static/common/gnb/one/sp_gnb_4b16e6.png);background-position: 0px 0px;background-repeat: no-repeat;width: 36px;height: 36px;vertical-align: top;}\\n.gnb_favorite_lst .gnb_add a:hover span.ic_add{background-image: url(https://ssl.pstatic.net/static/common/gnb/one/sp_gnb_4b16e6.png);background-position: -42px 0px;background-repeat: no-repeat;width: 36px;height: 36px;vertical-align: top;}\\n.gnb_favorite_lst img{display:block;margin:0 auto 4px;vertical-align:top}\\n.gnb_search_area{position:relative;z-index:200;padding:18px 4px 17px;background-position:-301px 0;background-repeat:repeat-y}\\n.gnb_search_box{position:relative;z-index:101;margin:0 12px 16px 0;padding-left:10px;display:block;width:270px;height:35px;background-position:10px -190px}\\n.gnb_search_box.over{background-position:10px -230px}\\n.gnb_search_box.fcs{background-position:10px -270px}\\n.gnb_search_box.fcs input{width:200px;font-size:16px;font-weight:bold;color:#444;outline:0}\\n.gnb_search_box input{float:left;display:block;width:210px;height:22px;margin-top:6px;padding-left:10px;font-family:\\'나눔고딕\\',NamumGothic;letter-spacing:-1px;color:#adadad;font-size:13px;border:0;line-height:22px;background:transparent}\\n.gnb_search_box .gnb_del_txt{position:absolute;top:8px;right:32px;display:block;width:17px;height:17px;background-position:-190px 0px}\\n.gnb_search_box .gnb_del_txt:hover{background-position:-190px -20px}\\n.gnb_search_box .gnb_pop_input{position:absolute;top:34px;left:10px;width:268px;height:170px;*height:172px;border:1px solid #cbc5c5;border-top:0;background:#fff;overflow-x:hidden;overflow-y:scroll;z-index:110}\\n.gnb_search_box .gnb_pop_lst{padding:4px 0 2px}\\n.gnb_search_box .gnb_pop_lst a{display:block;padding:6px 0 6px 10px;font-weight:bold}\\n.gnb_search_box .gnb_pop_lst .on{background-color:#f5f5f5}\\n.gnb_search_lstwrp{zoom:1;height:118px;padding-left:12px}\\n.gnb_search_lstwrp:after{display:block;clear:both;content:\\'\\'}\\n.gnb_search_lstwrp .gnb_search_lst{float:left;width:69px;border-left:1px solid #eaeaea}\\n.gnb_search_lstwrp .gnb_search_lst.gnb_first{width:64px;border:0}\\n.gnb_search_lstwrp li{padding:12px 0 0 8px}\\n.gnb_search_lstwrp li.gnb_first{font-weight:bold;padding-top:0}\\n.gnb_search_lstwrp li a{display:inline-block;vertical-align:top}\\n.gnb_banner{height:47px;margin:0;padding:0 18px;background-position:-301px 0;background-repeat:repeat-y}\\n.gnb_banner .gnb_service_event{display:inline-block;border-top:1px solid #ebebeb}\\n.gnb_linkwrp{padding:0 4px 4px;background-position:-602px 0}\\na.gnb_service_all:hover, a.gnb_service_all:visited, a.gnb_service_all:active, a.gnb_service_all:focus{text-decoration:none}\\n.gnb_svc_more{display:none;position:absolute;top:4px;right:303px;width:589px;overflow:hidden;zoom:1;z-index:1000}\\n.gnb_svc_more:after{display:block;clear:both;content:\\'\\'}\\n.gnb_response .gnb_svc_more{right:2px}\\n.gnb_bg_top{height:6px;background:url(https://ssl.pstatic.net/static/common/gnb/2014/bg_svclyr1_v2.png) no-repeat}\\n.gnb_bg_btm{position:relative;height:6px;background:url(https://ssl.pstatic.net/static/common/gnb/2014/bg_svclyr1_v2.png) no-repeat -1282px 0}\\n.gnb_svc_more .gnb_svc_hd{position:relative;padding:0 18px 2px 23px;letter-spacing:-1px;background:url(https://ssl.pstatic.net/static/common/gnb/2014/bg_svclyr1_v2.png) repeat-y -641px 0}\\n.gnb_svc_more .gnb_svc_hd .gnb_svc_tit{display:block;padding:12px 0 13px;border-bottom:1px solid #ebebeb;font-size:14px;color:#222}\\n.gnb_svc_more .gnb_svc_hd .link{position:absolute;top:14px;right:19px;font-size:12px;color:#444}\\n.gnb_svc_more .gnb_svc_hd .link a{color:#444 !important;line-height:16px !important}\\n.gnb_svc_more .gnb_svc_lstwrp{position:relative;height:283px;overflow:hidden;padding:15px 15px 0 20px;letter-spacing:-1px;background:url(https://ssl.pstatic.net/static/common/gnb/2014/bg_svclyr1_v2.png) repeat-y -641px 0;zoom:1}\\n.gnb_svc_more .gnb_svc_lstwrp:after{display:block;clear:both;content:\\'\\'}\\n.gnb_svc_more .gnb_svc_lstwrp li{height:15px;margin-bottom:5px;color:#6b6d70;white-space:nowrap;line-height:15px}\\n.gnb_svc_more .gnb_svc_lstwrp li.gnb_event label{color:#444;font-weight:bold}\\n.gnb_svc_more .gnb_svc_lstwrp li.gnb_event em.ic_gnb_new{display:inline-block;width:11px;height:11px;background-position:-215px 0px;margin:2px 0 0 4px;font-size:0;line-height:0;vertical-align:top}\\n@media screen and (min-width: 0\\\\0) { .gnb_svc_more .gnb_svc_lstwrp li.gnb_event em.ic{margin-top:3px} }\\n.gnb_svc_more .gnb_svc_lstwrp .gnb_input_check{width:13px;height:13px;margin:2px 3px 0 3px;padding:0;vertical-align:top;-webkit-appearance:checkbox;}\\n.gnb_svc_more .gnb_svc_lstwrp label{vertical-align:0px}\\n.gnb_svc_more .gnb_svc_lstwrp .gnb_disabled strong{color:#a8acb0}\\n.gnb_svc_more .gnb_svc_lstwrp .gnb_disabled li{color:#cbcbcb}\\n.gnb_svc_more .gnb_svc_lst1{float:left;width:328px;height:280px}\\n.gnb_svc_more .gnb_svc_lst1 ul{float:left;width:102px;min-height:260px;padding:5px 0 0 10px;border-left:1px solid #eee}\\n.gnb_svc_more .gnb_svc_lst1 ul.gnb_first{padding-left:0;border:0}\\n.gnb_svc_more .svc_lst2{float:left;position:relative;width:221px;border:1px solid #eee;background:#fbfbfb;zoom:1}\\n.gnb_svc_more .svc_lst2:after{display:block;clear:both;content:\\'\\'}\\n.gnb_svc_more .svc_spc{float:left;position:relative;width:100px;min-height:254px;padding:9px 0 0 10px}\\n.gnb_svc_more .svc_spc.gnb_first{border-right:1px solid #eee}\\n.gnb_svc_more .svc_spc strong{height:20px;color:#2f3743;line-height:16px}\\n.gnb_svc_more .svc_spc a:visited{color:#2f3743}\\n.gnb_svc_more .svc_spc ul{padding:8px 0}\\n.gnb_svc_more .svc_spc li{margin-bottom:0;padding-bottom:5px;color:#848689}\\n.gnb_svc_more .svc_stroy{width:89px;margin-top:-5px;padding:12px 0 0;border-top:1px solid #eee}\\n.gnb_svc_more .svc_btns{position:relative;height:33px;overflow:hidden;padding-top:5px;line-height:normal}\\n.gnb_svc_more .svc_btnwrp{position:relative;*height:39px;background:url(https://ssl.pstatic.net/static/common/gnb/2014/bg_svclyr1_v2.png) repeat-y -641px 0;padding:0 2px 0 4px}\\n.gnb_svc_more .svc_btnwrp button{display:inline-block;width:60px;height:25px;border:0;vertical-align:top}\\n.gnb_svc_more .svc_btnwrp .gnb_save{background-position:0 -160px}\\n.gnb_svc_more .svc_btnwrp .gnb_close{margin-left:1px;background-position:-65px -160px}\\n.gnb_svc_more .svc_btnwrp .gnb_return{position:absolute;top:5px;left:15px;background-position:-130px -160px}\\n.gnb_type2 .gnb_notice_li a.gnb_notice .gnb_icon{background-position:-155px -120px}\\n.gnb_type2 .gnb_notice_li a.gnb_notice:hover .gnb_icon{background-position:-155px -140px}\\n.gnb_type2 .gnb_service_li .gnb_service .gnb_icon{background-position:-200px -120px}\\n.gnb_type2 .gnb_service_li .gnb_service:hover .gnb_icon{background-position:-200px -140px}\\n.gnb_type2 .mail_li a.gnb_mail .gnb_icon{background-position:-175px -120px}\\n.gnb_type2 .mail_li a.gnb_mail:hover .gnb_icon{background-position:-175px -140px}\\n.gnb_dark .gnb_my_li .gnb_my .gnb_name, .gnb_dark .gnb_login_li .gnb_btn_login .gnb_txt{color:#fff}\\n.gnb_dark .gnb_notice_li a.gnb_notice .gnb_icon{background-position:-220px -140px}\\n.gnb_dark .gnb_notice_li a.gnb_notice:hover .gnb_icon{background-position:-220px -120px}\\n.gnb_dark .gnb_talk_li a.gnb_talk .gnb_icon{background-position: -300px -160px;}\\n.gnb_dark .gnb_talk_li a.gnb_talk:hover .gnb_icon{background-position: -320px -160px;}\\n.gnb_dark .mail_li a.gnb_mail .gnb_icon{background-position:-238px -141px}\\n.gnb_dark .mail_li a.gnb_mail:hover .gnb_icon{background-position:-238px -121px}\\n.gnb_dark .gnb_service_li .gnb_service .gnb_icon{background-position:-261px -140px}\\n.gnb_dark .gnb_service_li .gnb_service:hover .gnb_icon{background-position:-261px -120px}\\n.gnb_dark_type2 .gnb_my_li .gnb_my .gnb_name, .gnb_dark_type2 .gnb_login_li .gnb_btn_login .gnb_txt{color:#fff}\\n.gnb_dark_type2 .gnb_notice_li a.gnb_notice .gnb_icon{background-position:-220px -120px}\\n.gnb_dark_type2 .gnb_notice_li a.gnb_notice:hover .gnb_icon{background-position:-220px -140px}\\n.gnb_dark_type2 .gnb_talk_li a.gnb_talk .gnb_icon{background-position: -320px -160px;}\\n.gnb_dark_type2 .gnb_talk_li a.gnb_talk:hover .gnb_icon{background-position: -300px -160px;}\\n.gnb_dark_type2 .mail_li a.gnb_mail .gnb_icon{background-position:-238px -121px}\\n.gnb_dark_type2 .mail_li a.gnb_mail:hover .gnb_icon{background-position:-238px -141px}\\n.gnb_dark_type2 .gnb_service_li .gnb_service .gnb_icon{background-position:-261px -120px}\\n.gnb_dark_type2 .gnb_service_li .gnb_service:hover .gnb_icon{background-position:-261px -140px;}\\n.gnb_dark .gnb_notice_li a.gnb_notice, .gnb_dark_type2 .gnb_notice_li a.gnb_notice {width: 17px;height: 19px;padding: 6px 8px 3px;}\\n.gnb_dark .gnb_notice_li a.gnb_notice .gnb_icon, .gnb_dark_type2 .gnb_notice_li a.gnb_notice .gnb_icon {width: 17px;height: 19px;}\\n.gnb_dark .mail_li a.gnb_mail, .gnb_dark_type2 .mail_li a.gnb_mail {width: 22px;height: 16px;padding: 7px 8px 4px;}\\n.gnb_dark .mail_li a.gnb_mail .gnb_icon, .gnb_dark_type2 .mail_li a.gnb_mail .gnb_icon {width: 22px;height: 16px;}\\n.gnb_dark .gnb_service_li a.gnb_service, .gnb_dark_type2 .gnb_service_li a.gnb_service {width: 18px;height: 18px;padding: 6px 8px 4px;}\\n.gnb_dark .gnb_service_li .gnb_service .gnb_icon, .gnb_dark_type2 .gnb_service_li .gnb_service .gnb_icon {width: 18px;height: 18px;}\\n#gnb.gnb_one .gnb_my_li .gnb_my .gnb_name, #gnb.gnb_one_small .gnb_my_li .gnb_my .gnb_name, #gnb.gnb_one .gnb_login_li .gnb_btn_login .gnb_txt, #gnb.gnb_one_small .gnb_login_li .gnb_btn_login .gnb_txt{color:#fff}\\n#gnb.gnb_one .gnb_login_li, #gnb.gnb_one_small .gnb_login_li {height: 28px;}\\n#gnb.gnb_one .gnb_login_li .gnb_btn_login, #gnb.gnb_one_small .gnb_login_li .gnb_btn_login, #gnb.gnb_one .gnb_login_li .gnb_bg, #gnb.gnb_one_small .gnb_login_li .gnb_bg, #gnb.gnb_one .gnb_login_li .gnb_bdr, #gnb.gnb_one_small .gnb_login_li .gnb_bdr, #gnb.gnb_one .gnb_login_li .gnb_txt, #gnb.gnb_one_small .gnb_login_li .gnb_txt {width: 53px;height: 23px;}\\n#gnb.gnb_one .gnb_login_li .gnb_btn_login .gnb_txt, #gnb.gnb_one_small .gnb_login_li .gnb_btn_login .gnb_txt {top: -1px;width: 53px;height: 23px;line-height: 28px;font-size: 11px;}\\n#gnb.gnb_one .gnb_login_li, #gnb.gnb_one_small .gnb_login_li, #gnb.gnb_one .gnb_my_li, #gnb.gnb_one_small .gnb_my_li, #gnb.gnb_one .gnb_notice_li, #gnb.gnb_one_small .gnb_notice_li,#gnb.gnb_one .gnb_talk_li, #gnb.gnb_one_small .gnb_talk_li, #gnb.gnb_one .mail_li, #gnb.gnb_one_small .mail_li, #gnb.gnb_one .gnb_service_li, #gnb.gnb_one_small .gnb_service_li{margin-right: 0;margin-left: 0; background: url(https://ssl.pstatic.net/static/common/gnb/bg_one_line.png) repeat-y right 0;}\\n#gnb.gnb_one .gnb_login_li a, #gnb.gnb_one_small .gnb_login_li a, #gnb.gnb_one .gnb_my_li a, #gnb.gnb_one_small .gnb_my_li a, #gnb.gnb_one .gnb_notice_li a, #gnb.gnb_one_small .gnb_notice_li a, #gnb.gnb_one .gnb_talk_li a, #gnb.gnb_one_small .gnb_talk_li a, #gnb.gnb_one .mail_li a, #gnb.gnb_one_small .mail_li a, #gnb.gnb_one .gnb_service_li a, #gnb.gnb_one_small .gnb_service_li a {margin-right: 1px;}\\n#gnb.gnb_one .gnb_login_li.hover .gnb_service, #gnb.gnb_one_small .gnb_login_li.hover .gnb_service, #gnb.gnb_one .gnb_login_li.hover .gnb_notice, #gnb.gnb_one_small .gnb_login_li.hover .gnb_notice, #gnb.gnb_one .gnb_login_li.hover .gnb_mail, #gnb.gnb_one_small .gnb_login_li.hover .gnb_mail, #gnb.gnb_one .gnb_login_li.hover .gnb_service, #gnb.gnb_one_small .gnb_login_li.hover .gnb_service, #gnb.gnb_one .gnb_my_li.hover .gnb_service, #gnb.gnb_one_small .gnb_my_li.hover .gnb_service, #gnb.gnb_one .gnb_my_li.hover .gnb_notice, #gnb.gnb_one_small .gnb_my_li.hover .gnb_notice, #gnb.gnb_one .gnb_my_li.hover .gnb_mail, #gnb.gnb_one_small .gnb_my_li.hover .gnb_mail, #gnb.gnb_one .gnb_my_li.hover .gnb_service, #gnb.gnb_one_small .gnb_my_li.hover .gnb_service, #gnb.gnb_one .gnb_notice_li.hover .gnb_service, #gnb.gnb_one_small .gnb_notice_li.hover .gnb_service, #gnb.gnb_one .gnb_notice_li.hover .gnb_notice, #gnb.gnb_one_small .gnb_notice_li.hover .gnb_notice,\\n#gnb.gnb_one .gnb_notice_li.hover .gnb_mail, #gnb.gnb_one_small .gnb_notice_li.hover .gnb_mail, #gnb.gnb_one .gnb_notice_li.hover .gnb_service, #gnb.gnb_one_small .gnb_notice_li.hover .gnb_service,\\n#gnb.gnb_one .gnb_talk_li.hover .gnb_talk,\\n#gnb.gnb_one_small .gnb_talk_li.hover .gnb_talk,\\n#gnb.gnb_one .mail_li.hover .gnb_service, #gnb.gnb_one_small .mail_li.hover .gnb_service, #gnb.gnb_one .mail_li.hover .gnb_notice, #gnb.gnb_one_small .mail_li.hover .gnb_notice, #gnb.gnb_one .mail_li.hover .gnb_mail, #gnb.gnb_one_small .mail_li.hover .gnb_mail, #gnb.gnb_one .mail_li.hover .gnb_service, #gnb.gnb_one_small .mail_li.hover .gnb_service, #gnb.gnb_one .gnb_service_li.hover .gnb_service, #gnb.gnb_one_small .gnb_service_li.hover .gnb_service, #gnb.gnb_one .gnb_service_li.hover .gnb_notice, #gnb.gnb_one_small .gnb_service_li.hover .gnb_notice, #gnb.gnb_one .gnb_service_li.hover .gnb_mail, #gnb.gnb_one_small .gnb_service_li.hover .gnb_mail, #gnb.gnb_one .gnb_service_li.hover .gnb_service, #gnb.gnb_one_small .gnb_service_li.hover .gnb_service {background: url(https://ssl.pstatic.net/static/common/gnb/bg_one_hover.png) repeat 0 0;}\\n#gnb.gnb_one .gnb_my_li .gnb_my .gnb_name, #gnb.gnb_one_small .gnb_my_li .gnb_my .gnb_name{margin:0 0 0 1px;}\\n#gnb.gnb_one .gnb_notice_li a.gnb_notice, #gnb.gnb_one_small .gnb_notice_li a.gnb_notice #gnb.gnb_one .gnb_talk_li a.gnb_talk, #gnb.gnb_one_small .gnb_talk_li a.gnb_talk{width:17px;height:19px}\\n#gnb.gnb_one .gnb_notice_li a.gnb_notice .gnb_icon, #gnb.gnb_one_small .gnb_notice_li a.gnb_notice .gnb_icon{width:17px;height:19px;background-position:-284px -119px}\\n#gnb.gnb_one .gnb_notice_li a.gnb_notice:hover .gnb_icon, #gnb.gnb_one_small .gnb_notice_li a.gnb_notice:hover .gnb_icon{background-position:-284px -119px}\\n#gnb.gnb_one .gnb_talk_li a.gnb_talk .gnb_icon, #gnb.gnb_one_small .gnb_talk_li a.gnb_talk .gnb_icon{background-position: -220px -160px;}\\n#gnb.gnb_one .gnb_talk_li a.gnb_talk:hover .gnb_icon, #gnb.gnb_one_small .gnb_talk_li a.gnb_talk:hover .gnb_icon{background-position: -220px -160px;}\\n#gnb.gnb_one_flat .gnb_talk_li a.gnb_talk .gnb_icon, #gnb.gnb_one_flat .gnb_talk_li a.gnb_talk:hover .gnb_icon{background-position: -240px -160px;}\\n#gnb.gnb_one .mail_li a.gnb_mail, #gnb.gnb_one_small .mail_li a.gnb_mail{width:21px;height:17px}\\n#gnb.gnb_one .mail_li a.gnb_mail .gnb_icon, #gnb.gnb_one_small .mail_li a.gnb_mail .gnb_icon{width:21px;height:17px;background-position:-302px -120px}\\n#gnb.gnb_one .mail_li a.gnb_mail:hover .gnb_icon, #gnb.gnb_one_small .mail_li a.gnb_mail:hover .gnb_icon{background-position:-302px -120px}\\n#gnb.gnb_one .gnb_service_li .gnb_service, #gnb.gnb_one_small .gnb_service_li .gnb_service{width:17px;height:17px}\\n#gnb.gnb_one .gnb_service_li .gnb_service .gnb_icon, #gnb.gnb_one_small .gnb_service_li .gnb_service .gnb_icon{width:17px;height:17px;background-position:-324px -120px}\\n#gnb.gnb_one .gnb_service_li .gnb_service:hover .gnb_icon, #gnb.gnb_one_small .gnb_service_li .gnb_service:hover .gnb_icon{background-position:-324px -120px}\\n#gnb.gnb_one .gnb_my_lyr, #gnb.gnb_one_small .gnb_my_lyr, #gnb.gnb_one .gnb_notice_lyr, #gnb.gnb_one_small .gnb_notice_lyr, #gnb.gnb_one .gnb_service_lyr, #gnb.gnb_one_small .gnb_service_lyr {right: 7px;}\\n#gnb.gnb_one .gnb_ico_num, #gnb.gnb_one_small .gnb_ico_num{width:34px;top:10px;right:3px;left:auto;vertical-align:top}\\n#gnb.gnb_one .gnb_ico_num .gnb_ico_new, #gnb.gnb_one_small .gnb_ico_num .gnb_ico_new{vertical-align:top;height:13px;background-position:-332px -60px;}\\n#gnb.gnb_one .gnb_ico_num .gnb_count, #gnb.gnb_one_small .gnb_ico_num .gnb_count {height: 13px;padding: 0 6px 0 2px;background-position: 100% -60px;font-size: 10px;font-weight: normal;}\\n#gnb.gnb_one .gnb_ico_num .plus, #gnb.gnb_one_small .gnb_ico_num .plus{margin:1px 0 0 2px}\\n#gnb.gnb_one .ico_arrow{top:48px}\\n#gnb.gnb_one .gnb_my_lyr, #gnb.gnb_one .gnb_notice_lyr{top:47px}\\n#gnb.gnb_one .gnb_service_lyr{top:48px;}\\n#gnb.gnb_one .gnb_login_li{padding:16px 21px 10px 1px;}\\n#gnb.gnb_one .gnb_my_li{padding:12px 20px 12px 2px}\\n#gnb.gnb_one .gnb_my_li .ico_arrow{top:34px}\\n#gnb.gnb_one .gnb_notice_li a.gnb_notice{padding:18px 19px 17px 19px}\\n#gnb.gnb_one .gnb_talk_li a.gnb_talk{width: 20px; height: 20px; padding: 17px 17px 17px 18px;}\\n#gnb.gnb_one .mail_li a.gnb_mail{padding:19px 17px 18px 17px}\\n#gnb.gnb_one .gnb_service_li .gnb_service{padding:19px 19px 18px 19px}\\n#gnb.gnb_one_small .ico_arrow{top:33px}\\n#gnb.gnb_one_small .gnb_my_lyr, #gnb.gnb_one_small .gnb_notice_lyr{top:32px}\\n#gnb.gnb_one_small .gnb_service_lyr{top:33px}\\n#gnb.gnb_one_small .gnb_login_li{padding:7px 12px 4px 2px}\\n#gnb.gnb_one_small .gnb_my_li{padding:5px 20px 4px 2px}\\n#gnb.gnb_one_small .gnb_my_li .ico_arrow{top:27px}\\n#gnb.gnb_one_small .gnb_notice_li a.gnb_notice{padding:10px 11px 10px 12px}\\n#gnb.gnb_one_small .gnb_talk_li a.gnb_talk{padding:10px 11px 10px 12px}\\n#gnb.gnb_one_small .mail_li a.gnb_mail{padding:11px 10px 11px 9px}\\n#gnb.gnb_one_small .gnb_service_li .gnb_service{padding:11px 12px 11px 11px}\\n#gnb.gnb_one_small .gnb_ico_num{top:5px;right:6px;width:24px}\\n#gnb.gnb_one_flat .gnb_login_li,\\n#gnb.gnb_one_flat .gnb_my_li,\\n#gnb.gnb_one_flat .gnb_notice_li,\\n#gnb.gnb_one_flat .mail_li,\\n#gnb.gnb_one_flat .gnb_service_li {border-color: #e0e0e0;}\\n#gnb.gnb_one_flat .gnb_notice_li.hover,\\n#gnb.gnb_one_flat .gnb_talk_li.hover,\\n#gnb.gnb_one_flat .mail_li.hover,\\n#gnb.gnb_one_flat .gnb_service_li.hover {background-color: rgba(0, 0, 0, 0.04);}\\n#gnb.gnb_one_flat .gnb_service_li .gnb_service .gnb_icon,\\n#gnb.gnb_one_flat .gnb_service_li .gnb_service:hover .gnb_icon {background-image: url(https://ssl.pstatic.net/static/common/gnb/one/sp_gnb_4b16e6.png);background-position: -84px -24px;background-repeat: no-repeat; width: 16px;height: 16px;vertical-align: top; margin: 0 1px;}\\n#gnb.gnb_one_flat .mail_li a.gnb_mail .gnb_icon,\\n#gnb.gnb_one_flat .mail_li a.gnb_mail:hover .gnb_icon {background-image: url(https://ssl.pstatic.net/static/common/gnb/one/sp_gnb_4b16e6.png);background-position: 0px -42px;background-repeat: no-repeat;width: 20px;height: 16px;vertical-align: top;margin: 0 1px;}\\n#gnb.gnb_one_flat .gnb_notice_li a.gnb_notice .gnb_icon,\\n#gnb.gnb_one_flat .gnb_notice_li a.gnb_notice:hover .gnb_icon {background-image: url(https://ssl.pstatic.net/static/common/gnb/one/sp_gnb_4b16e6.png);background-position: -84px 0px;background-repeat: no-repeat;width: 16px;height: 18px;vertical-align: top;margin: 0 1px;}\\n#gnb.gnb_one_flat .gnb_my_li .gnb_my .gnb_name,\\n#gnb.gnb_one_flat .gnb_login_li .gnb_btn_login .gnb_txt {color: #666;}\\n#gnb.gnb_one_pwe .gnb_my .filter_mask {box-sizing: border-box;background: none;border: 1px solid rgba(0,0,0,.1);border-radius: 100%;}\\n#gnb.gnb_one_pwe .gnb_my_namebox {background-image: url(https://ssl.pstatic.net/static/common/gnb/pwe/ico_arrow_wh.svg) !important;}\\n#gnb.gnb_one_pwe .gnb_notice_li a.gnb_notice .gnb_icon,\\n#gnb.gnb_one_pwe .gnb_notice_li a.gnb_notice:hover .gnb_icon {width: 17px;height: 19px;background: url(https://ssl.pstatic.net/static/common/gnb/pwe/gnb_notice.svg) no-repeat;}\\n#gnb.gnb_one_pwe .gnb_talk_li a.gnb_talk .gnb_icon,\\n#gnb.gnb_one_pwe .gnb_talk_li a.gnb_talk:hover .gnb_icon {width: 20px; height: 20px; background: url(https://ssl.pstatic.net/static/common/gnb/pwe/gnb_talk.svg) no-repeat; }\\n#gnb.gnb_one_pwe .gnb_service_li .gnb_service .gnb_icon,\\n#gnb.gnb_one_pwe .gnb_service_li .gnb_service:hover .gnb_icon {width: 17px;height: 17px;background: url(https://ssl.pstatic.net/static/common/gnb/pwe/gnb_service.svg) no-repeat;}\\n#gnb.gnb_one_pwe .gnb_ico_num .gnb_ico_new,\\n#gnb.gnb_one_pwe .gnb_ico_num .gnb_count {background: #e1523a;}\\n#gnb.gnb_one_pwe .gnb_ico_num .gnb_ico_new {border-radius: 13px 0 0 13px;}\\n#gnb.gnb_one_pwe .gnb_ico_num .gnb_count {border-radius: 0 13px 13px 0;}</style><script src=\"https://ssl.pstatic.net/static.gn/js/clickcrD.js\" id=\"gnb_clickcrD\" charset=\"utf-8\"></script></head><body><div id=\"root\"><div class=\"sc-ibaz69 cZBFVy\"><div class=\"sc-13mbent kjghqO\"><a href=\"#section_content\"><span>본문 바로가기</span></a><a href=\"#header\"><span>주 메뉴 바로가기</span></a></div><header id=\"header\" class=\"sc-15dd2w iKHZwl\"><h1 class=\"logo_box\"><a class=\"link_logo\" href=\"https://www.naver.com\"><span class=\"blind\">네이버 지도</span></a></h1><nav class=\"sc-1d8u9oq htgAOx\"><ul class=\"list_navbar -fold\"><li class=\"sc-13bg05j hXOgMI\"><button type=\"button\" class=\"btn_navbar active\"><span class=\"navbar_text\">지도 홈</span><span class=\"blind\">선택됨</span></button></li><li class=\"sc-13bg05j ekfNzw\"><button type=\"button\" class=\"btn_navbar\"><span class=\"navbar_text\">길찾기</span></button></li><li class=\"sc-13bg05j eqRVPw\"><button type=\"button\" class=\"btn_navbar\"><span class=\"navbar_text\">버스</span></button></li><li class=\"sc-13bg05j iFHPII\"><button type=\"button\" class=\"btn_navbar\"><span class=\"navbar_text\">지하철</span></button></li><li class=\"sc-13bg05j hWyAOA\"><button type=\"button\" class=\"btn_navbar\"><span class=\"navbar_text\">기차</span></button></li><li class=\"sc-13bg05j cDlNZo\"><button type=\"button\" class=\"btn_navbar\"><span class=\"sc-cmjm8o kBmiGB\"><span class=\"blind\">new</span></span><span class=\"navbar_text\">저장</span></button></li><li class=\"sc-13bg05j gjUtKA\"><button type=\"button\" class=\"btn_navbar\"><span class=\"navbar_text\">더보기</span></button></li></ul></nav><div class=\"sc-rlx3or cJIsvj\"><div id=\"gnb\" class=\"\"><strong class=\"blind\">사용자 링크</strong><ul class=\"gnb_lst\" id=\"gnb_lst\" style=\"display: block;\"><li class=\"gnb_login_li\" id=\"gnb_login_layer\" style=\"display: inline-block;\"><a class=\"gnb_btn_login\" href=\"https://nid.naver.com/nidlogin.login\" id=\"gnb_login_button\"><span class=\"gnb_bg\"></span><span class=\"gnb_bdr\"></span><span class=\"gnb_txt\">로그인</span></a></li><li class=\"gnb_my_li\" id=\"gnb_my_layer\" style=\"display:none\"><div class=\"gnb_my_namebox\" id=\"gnb_my_namebox\" style=\"background-image: url(&quot;https://ssl.pstatic.net/static/common/gnb/2014/ico_arrow_bl1.gif&quot;);\"><a href=\"javascript:;\" id=\"gnb_my\" class=\"gnb_my\" onclick=\"gnbUserLayer.clickToggle(); return false;\"><img id=\"gnb_profile_img\" src=\"data:image/gif;base64,R0lGODlhAQABAAD/ACwAAAAAAQABAAACADs%3D\" onerror=\"this.src=\\'data:image/png;base64,iVBORw0KGgoAAAANSUhEUgAAAFAAAABQCAMAAAC5zwKfAAAAGXRFWHRTb2Z0d2FyZQBBZG9iZSBJbWFnZVJlYWR5ccllPAAAADNQTFRF8PDw5ubm+vr6+/v76enp+Pj47e3t5+fn9/f37Ozs9PT08vLy7+/v6urq9fX15OTk/f39pqwodgAAAQNJREFUeNrs11EOgyAMgOEWUAF19f6n3cMeplJHoSZbsv4H+DIWaCNsNwcGGmiggQZ+D/Q5reuasr8H9ID0CsHfALpA74JTgwPSPnRK0Ac6FrwOXOjcogIdlTkNuDDgogGRAVEBDsQ19IMzC879ILAgGNgAZhbMP3RttonxJs1Lgea/sDYcyreHXjW+oPUHVid2MWC1K+A0sqsDW7CksGmlCNZoFt9pIfjYgY8bwMMexUENQuOtqYCxfHtT7AddYodDcp0gIPEh9IBxous+nBuaTis4Nw/OSLVwloN+JEmjGJR5FyIDRpIWZeAoBkcZGMRgkIEkz0D7GjXQQAMN/GvwKcAAEGGHJh0mmaAAAAAASUVORK5CYII=\\'\" width=\"26\" height=\"26\" alt=\"내 프로필 이미지\"><span id=\"gnb_profile_filter_mask\" class=\"filter_mask\"></span> <span class=\"gnb_name\" id=\"gnb_name1\"></span><em class=\"blind\">내정보 보기</em><span class=\"ico_arrow\"></span></a><a href=\"#\" class=\"gnb_emp\" id=\"gnb_emp\">(임직원혜택)</a></div><div class=\"gnb_my_lyr\" id=\"gnb_my_lyr\"><div class=\"gnb_my_content\"><div class=\"gnb_img_area\"><span class=\"gnb_mask\"></span><img src=\"data:image/gif;base64,R0lGODlhAQABAAD/ACwAAAAAAQABAAACADs%3D\" onerror=\"this.src=\\'data:image/png;base64,iVBORw0KGgoAAAANSUhEUgAAAFAAAABQCAMAAAC5zwKfAAAAGXRFWHRTb2Z0d2FyZQBBZG9iZSBJbWFnZVJlYWR5ccllPAAAADNQTFRF8PDw5ubm+vr6+/v76enp+Pj47e3t5+fn9/f37Ozs9PT08vLy7+/v6urq9fX15OTk/f39pqwodgAAAQNJREFUeNrs11EOgyAMgOEWUAF19f6n3cMeplJHoSZbsv4H+DIWaCNsNwcGGmiggQZ+D/Q5reuasr8H9ID0CsHfALpA74JTgwPSPnRK0Ac6FrwOXOjcogIdlTkNuDDgogGRAVEBDsQ19IMzC879ILAgGNgAZhbMP3RttonxJs1Lgea/sDYcyreHXjW+oPUHVid2MWC1K+A0sqsDW7CksGmlCNZoFt9pIfjYgY8bwMMexUENQuOtqYCxfHtT7AddYodDcp0gIPEh9IBxous+nBuaTis4Nw/OSLVwloN+JEmjGJR5FyIDRpIWZeAoBkcZGMRgkIEkz0D7GjXQQAMN/GvwKcAAEGGHJh0mmaAAAAAASUVORK5CYII=\\'\" width=\"80\" height=\"80\" alt=\"프로필 이미지\"><a href=\"https://nid.naver.com/user2/api/naverProfile?m=checkIdType\" class=\"gnb_change\"><span class=\"blind\">프로필 사진 변경</span></a></div><div class=\"gnb_txt_area\"><p class=\"gnb_account\"><span class=\"gnb_name\" id=\"gnb_name2\"><a class=\"gnb_nick\" href=\"https://nid.naver.com/user2/api/naverProfile?m=checkIdType\">_</a>님</span><a class=\"gnb_btn_login\" href=\"https://nid.naver.com/nidlogin.logout?returl=/\" id=\"gnb_logout_button\"><span class=\"gnb_bg\"></span><span class=\"gnb_bdr\"></span><span class=\"gnb_txt\">로그아웃</span></a></p><a href=\"https://mail.naver.com\" class=\"gnb_mail_address\">@naver.com</a><ul class=\"gnb_edit_lst\"><li class=\"gnb_info\"><a href=\"https://nid.naver.com/user2/help/myInfo?menu=home\">네이버ID</a></li><li class=\"gnb_secure\" id=\"gnb_secure_lnk\"><a href=\"https://nid.naver.com/user2/help/myInfo?m=viewSecurity&amp;menu=security\">보안설정</a></li><li class=\"gnb_cert\" id=\"gnb_cert_lnk\"><a href=\"https://nid.naver.com/user2/eSign/v1/home/land\" id=\"gnb_cert_lnk_a\">내인증서</a></li></ul><div class=\"gnb_pay_check\" id=\"gnb_pay_check\"><p class=\"gnb_membership\" style=\"display: none;\" id=\"gnb_membership\"><a href=\"https://nid.naver.com/membership/my\" class=\"gnb_my_membership\" id=\"gnb_my_membership\"><i class=\"blind\">네이버 멤버쉽</i></a></p><em>N Pay</em><a href=\"https://pay.naver.com\" id=\"gnb_pay_point\"><span style=\"display: none\">내 페이포인트</span></a></div></div></div><div class=\"gnb_my_community\"><a href=\"https://blog.naver.com/MyBlog.naver\" class=\"gnb_blog\">내 블로그</a><a href=\"https://section.cafe.naver.com\" class=\"gnb_cafe\">가입한 카페</a><a href=\"https://pay.naver.com\" class=\"gnb_pay\" id=\"gnb_pay_banner_membership\" style=\"display: block;\"><span>N Pay</span></a><a href=\"https://nid.naver.com/membership/join\" class=\"gnb_pay\" id=\"gnb_pay_banner_newbie\" style=\"display: none;\"><i>네이버 멤버십 최대 5% 적립</i></a></div><a href=\"#\" class=\"gnb_my_interface\" style=\"display:none\"><span class=\"blind\">환경설정</span></a></div><iframe id=\"gnb_my_lyr_iframe\" title=\"빈 프레임\" class=\"gnb_pad_lyr\" name=\"padding\" width=\"0\" height=\"0\" scrolling=\"no\" frameborder=\"0\" style=\"top:34px;right:-4px;width:320px;height:158px;display:none;opacity:0;-ms-filter:alpha(opacity=0)\"></iframe></li><li class=\"gnb_talk_li\" id=\"gnb_talk_layer\" style=\"display:none\"><a id=\"gnb_talks_button\" class=\"gnb_talk\" target=\"_blank\" rel=\"noopener noreferrer\" href=\"https://talks.naver.com/?frm=pcgnb&amp;anchor=&amp;category=\"><span class=\"blind\">네이버톡</span><span class=\"gnb_icon\"></span><em class=\"gnb_ico_num\" id=\"gnb_talk_menu\" style=\"display:none\"><span class=\"gnb_ico_new\"><span class=\"gnb_count\" id=\"gnb_talk_count\"></span></span></em><span class=\"ico_arrow\"></span></a></li><li class=\"gnb_notice_li\" id=\"gnb_notice_layer\" style=\"display:none\"><a href=\"https://m.notify.naver.com/?from=pcmain\" class=\"gnb_notice\" target=\"_blank\" rel=\"noopener noreferrer\"><span class=\"blind\">알림</span><span class=\"gnb_icon\"></span><em class=\"gnb_ico_num\" id=\"gnb_me_menu\" style=\"display:none\"><span class=\"gnb_ico_new\"><span class=\"gnb_count\" id=\"gnb_me_count\"></span></span></em><span class=\"ico_arrow\"></span></a><div class=\"gnb_notice_lyr\" id=\"gnb_notice_lyr\"><div class=\"svc_noti svc_panel\"><div class=\"svc_scroll\"><div class=\"svc_head\"><strong class=\"gnb_tit\">전체 알림</strong><div class=\"task_right\"><button onclick=\"gnbNaverMeLayer.deleteReadList(this, event);\" id=\"gnb_btn_read_noti_del\">읽은 알림 삭제</button><button onclick=\"gnbNaverMeLayer.showDeleteAlert();\" id=\"gnb_btn_all_noti_del\">모두 삭제</button></div></div><div class=\"svc_body\" id=\"gnb_naverme_layer\"></div></div><div class=\"gnb_ly_alert\" id=\"gnb_ly_alert\" style=\"display: none;\"><p class=\"gnb_msg\"><strong>알림을 모두 삭제하시겠습니까?</strong></p><div class=\"gnb_btns\"><button id=\"ly_alert_confirm\" onclick=\"gnbNaverMeLayer.deleteAllList(this, event);\">확인</button><button onclick=\"gnbNaverMeLayer.hideDeleteAlert();\">취소</button></div><button class=\"gnb_btn_close\" onclick=\"gnbNaverMeLayer.hideDeleteAlert();\"><i>레이어 닫기</i></button></div><a href=\"https://m.notify.naver.com/?from=pcmain\" class=\"gnb_notice_all\">내 알림 전체보기</a></div></div><iframe id=\"gnb_notice_lyr_iframe\" title=\"빈 프레임\" class=\"gnb_pad_lyr\" name=\"padding\" width=\"0\" height=\"0\" scrolling=\"no\" frameborder=\"0\" style=\"top:34px;right:-4px;width:299px;height:332px;display:none;opacity:0;-ms-filter:alpha(opacity=0)\"></iframe></li><li class=\"mail_li\" id=\"gnb_mail_layer\" style=\"display:none\"><a href=\"https://mail.naver.com\" class=\"gnb_mail\"><span class=\"blind\">메일</span><span class=\"gnb_icon\"></span><em class=\"gnb_ico_num\" id=\"gnb_mail_menu\" style=\"display:none\"><span class=\"gnb_ico_new\"><span class=\"gnb_count\" id=\"gnb_mail_count\"></span></span></em></a></li><li class=\"gnb_service_li\" id=\"gnb_service_layer\" style=\"display: inline-block;\"><a href=\"javascript:;\" class=\"gnb_service\" onclick=\"gnbMoreLayer.clickToggle(); return false;\"><span class=\"blind\">서비스 더보기</span><span class=\"gnb_icon\"></span><span class=\"ico_arrow\"></span></a><div class=\"gnb_service_lyr\" id=\"gnb_service_lyr\"><div class=\"gnb_favorite_search\" id=\"gnb_favorite_search\"><div class=\"gnb_favorite_area\"><div class=\"gnb_favorite_lstwrp\"><div class=\"gnb_first_visit\" style=\"display:none\"><span class=\"blind\">나만의 즐겨찾기를 추가해 보세요!</span><a href=\"#\" class=\"gnb_close\"><span class=\"blind\">닫기</span></a></div><strong class=\"blind\">즐겨찾는 서비스</strong><ul class=\"gnb_favorite_lst\" id=\"gnb_favorite_lst\"><li class=\"gnb_add\"><a href=\"#\"><span class=\"ic_add\"></span>추가</a></li><li class=\"gnb_add\"><a href=\"#\"><span class=\"ic_add\"></span>추가</a></li><li class=\"gnb_add\"><a href=\"#\"><span class=\"ic_add\"></span>추가</a></li><li class=\"gnb_add\"><a href=\"#\"><span class=\"ic_add\"></span>추가</a></li></ul><a href=\"#\" class=\"gnb_my_interface\" onclick=\"gnbMoreLayer.clickToggleWhole(); return false;\"><span class=\"blind\">즐겨찾기 설정</span></a></div></div><div class=\"gnb_search_area\"><div class=\"gnb_search_box\" onmouseover=\"gnb_search.mouseOver(this);\" onmouseout=\"gnb_search.mouseOut(this);\"><input id=\"gnb_svc_search_input\" type=\"text\" title=\"서비스 검색\" value=\"더 많은 서비스를 간편하게 시작하세요!\" onfocus=\"gnb_search.clearInput(this);\" onblur=\"gnb_search.resetInput(this);\" onkeydown=\"gnb_search.keyDown(event);\" onkeyup=\"gnb_search.keyUp(event);\"><a href=\"#\" class=\"gnb_del_txt\" id=\"gnb_del_txt\" style=\"display:none\"><span class=\"blind\">삭제</span></a><div class=\"gnb_pop_input\" id=\"gnb_pop_input\" tabindex=\"0\" onfocus=\"gnb_search.searchPopOnMouse = true; return false;\" onfocusout=\"gnb_search.searchPopOnMouse = false; return false;\" onmouseover=\"gnb_search.searchPopOnMouse = true; return false;\" onmouseout=\"gnb_search.searchPopOnMouse = false; return false;\" style=\"display:none\"><ul class=\"gnb_pop_lst\"></ul></div></div><div id=\"gnb_search_lstwrp\" class=\"gnb_search_lstwrp\"><ul class=\"gnb_search_lst gnb_first\"><li class=\"gnb_first\"><a id=\"gnb_search_lst_first_item\" href=\"https://cafe.naver.com/\">카페</a></li><li><a href=\"https://news.naver.com/\">뉴스</a></li><li><a href=\"https://map.naver.com/\">지도</a></li><li><a href=\"https://sports.news.naver.com/\">스포츠</a></li><li><a href=\"https://game.naver.com/\">게임</a></li></ul><ul class=\"gnb_search_lst\"><li class=\"gnb_first\"><a href=\"https://section.blog.naver.com/\">블로그</a></li><li><a href=\"https://post.naver.com/main.nhn\">포스트</a></li><li><a href=\"https://dict.naver.com/\">사전</a></li><li><a href=\"https://kin.naver.com/\">지식iN</a></li><li><a href=\"https://weather.naver.com/\">날씨</a></li></ul><ul class=\"gnb_search_lst\"><li class=\"gnb_first\"><a href=\"https://mail.naver.com/\">메일</a></li><li><a href=\"https://stock.naver.com/\">증권</a></li><li><a href=\"https://land.naver.com/\">부동산</a></li><li><a href=\"https://vibe.naver.com/today/\">VIBE</a></li><li><a href=\"https://book.naver.com\">책</a></li></ul><ul class=\"gnb_search_lst\"><li class=\"gnb_first\"><a href=\"https://shopping.naver.com/\">쇼핑</a></li><li><a href=\"https://comic.naver.com/\">웹툰</a></li><li><a href=\"https://movie.naver.com/\">영화</a></li><li><a href=\"https://mybox.naver.com/\">MYBOX</a></li><li><a href=\"https://novel.naver.com/webnovel/weekday\">웹소설</a></li></ul></div></div><div class=\"gnb_banner\"><a href=\"https://campaign.naver.com/npay/rediret/index.nhn\" class=\"gnb_service_event\"><img id=\"gnb_promo\" alt=\"N페이, 이벤트 참여하면 포인트 적립!\" width=\"265\" height=\"47\" src=\"https://ssl.pstatic.net/static/common/gnb/banner/promo_npay_2309.png\"></a></div><div class=\"gnb_linkwrp\"><a href=\"https://www.naver.com/more.html\" class=\"gnb_service_all\" id=\"gnb_service_all\">전체 서비스 보기</a></div></div><div class=\"gnb_svc_more\" id=\"gnb_svc_more\" style=\"\"><strong class=\"blind\">네이버 주요 서비스</strong><div class=\"gnb_bg_top\"></div><div class=\"gnb_svc_hd\" id=\"gnb_svc_hd\" tabindex=\"0\"><strong class=\"gnb_svc_tit\">바로가기 설정</strong><span class=\"link\"><a href=\"https://www.naver.com/more.html\">전체 서비스 보기</a></span></div><div class=\"gnb_svc_lstwrp\"><div class=\"gnb_svc_lst1\"><ul class=\"gnb_first\"><li><input type=\"checkbox\" id=\"nsvc_game\" name=\"selmenu\" class=\"gnb_input_check\" value=\"\"> <label for=\"nsvc_game\">게임</label></li><li><input type=\"checkbox\" id=\"nsvc_weather\" name=\"selmenu\" class=\"gnb_input_check\" value=\"\"> <label for=\"nsvc_weather\">날씨</label></li><li><input type=\"checkbox\" id=\"nsvc_shopping\" name=\"selmenu\" class=\"gnb_input_check\" value=\"\"> <label for=\"nsvc_shopping\">네이버쇼핑</label></li><li><input type=\"checkbox\" id=\"nsvc_navercast\" name=\"selmenu\" class=\"gnb_input_check\" value=\"\"> <label for=\"nsvc_navercast\">네이버캐스트</label></li><li class=\"gnb_event\"><input type=\"checkbox\" id=\"nsvc_naverpay\" name=\"selmenu\" class=\"gnb_input_check\" value=\"\"> <label for=\"nsvc_naverpay\">네이버페이<em class=\"ic_gnb_new\">New</em></label></li><li><input type=\"checkbox\" id=\"nsvc_mybox\" name=\"selmenu\" class=\"gnb_input_check\" value=\"\"> <label for=\"nsvc_mybox\">네이버 MYBOX</label></li><li><input type=\"checkbox\" id=\"nsvc_news\" name=\"selmenu\" class=\"gnb_input_check\" value=\"\"> <label for=\"nsvc_news\">뉴스</label></li><li><input type=\"checkbox\" id=\"nsvc_comic\" name=\"selmenu\" class=\"gnb_input_check\" value=\"\"> <label for=\"nsvc_comic\">웹툰</label></li><li><input type=\"checkbox\" id=\"nsvc_memo\" name=\"selmenu\" class=\"gnb_input_check\" value=\"\"> <label for=\"nsvc_memo\">메모</label></li><li><input type=\"checkbox\" id=\"nsvc_mail\" name=\"selmenu\" class=\"gnb_input_check\" value=\"\"> <label for=\"nsvc_mail\">메일</label></li><li><input type=\"checkbox\" id=\"nsvc_land\" name=\"selmenu\" class=\"gnb_input_check\" value=\"\"> <label for=\"nsvc_land\">부동산</label></li><li><input type=\"checkbox\" id=\"nsvc_bookmark\" name=\"selmenu\" class=\"gnb_input_check\" value=\"\"> <label for=\"nsvc_bookmark\">북마크</label></li><li><input type=\"checkbox\" id=\"nsvc_blog\" name=\"selmenu\" class=\"gnb_input_check\" value=\"\"> <label for=\"nsvc_blog\">블로그</label></li></ul><ul class=\"\"><li><input type=\"checkbox\" id=\"nsvc_dic\" name=\"selmenu\" class=\"gnb_input_check\" value=\"\"> <label for=\"nsvc_dic\">사전</label></li><li><input type=\"checkbox\" id=\"nsvc_smartboard\" name=\"selmenu\" class=\"gnb_input_check\" value=\"\"> <label for=\"nsvc_smartboard\">스마트보드</label></li><li><input type=\"checkbox\" id=\"nsvc_sports\" name=\"selmenu\" class=\"gnb_input_check\" value=\"\"> <label for=\"nsvc_sports\">스포츠</label></li><li><input type=\"checkbox\" id=\"nsvc_series\" name=\"selmenu\" class=\"gnb_input_check\" value=\"\"> <label for=\"nsvc_series\">시리즈</label></li><li><input type=\"checkbox\" id=\"nsvc_serieson\" name=\"selmenu\" class=\"gnb_input_check\" value=\"\"> <label for=\"nsvc_serieson\">시리즈on</label></li><li><input type=\"checkbox\" id=\"nsvc_movie\" name=\"selmenu\" class=\"gnb_input_check\" value=\"\"> <label for=\"nsvc_movie\">영화</label></li><li><input type=\"checkbox\" id=\"nsvc_office\" name=\"selmenu\" class=\"gnb_input_check\" value=\"\"> <label for=\"nsvc_office\">오피스</label></li><li><input type=\"checkbox\" id=\"nsvc_novel\" name=\"selmenu\" class=\"gnb_input_check\" value=\"\"> <label for=\"nsvc_novel\">웹소설</label></li><li><input type=\"checkbox\" id=\"nsvc_contact\" name=\"selmenu\" class=\"gnb_input_check\" value=\"\"> <label for=\"nsvc_contact\">주소록</label></li><li><input type=\"checkbox\" id=\"nsvc_finance\" name=\"selmenu\" class=\"gnb_input_check\" value=\"\"> <label for=\"nsvc_finance\">증권(금융)</label></li><li><input type=\"checkbox\" id=\"nsvc_map\" name=\"selmenu\" class=\"gnb_input_check\" value=\"\"> <label for=\"nsvc_map\">지도</label></li><li><input type=\"checkbox\" id=\"nsvc_kin\" name=\"selmenu\" class=\"gnb_input_check\" value=\"\"> <label for=\"nsvc_kin\">지식iN</label></li><li><input type=\"checkbox\" id=\"nsvc_terms\" name=\"selmenu\" class=\"gnb_input_check\" value=\"\"> <label for=\"nsvc_terms\">지식백과</label></li></ul><ul class=\"\"><li><input type=\"checkbox\" id=\"nsvc_book\" name=\"selmenu\" class=\"gnb_input_check\" value=\"\"> <label for=\"nsvc_book\">책</label></li><li><input type=\"checkbox\" id=\"nsvc_cafe\" name=\"selmenu\" class=\"gnb_input_check\" value=\"\"> <label for=\"nsvc_cafe\">카페</label></li><li><input type=\"checkbox\" id=\"nsvc_calendar\" name=\"selmenu\" class=\"gnb_input_check\" value=\"\"> <label for=\"nsvc_calendar\">캘린더</label></li><li><input type=\"checkbox\" id=\"nsvc_navertv\" name=\"selmenu\" class=\"gnb_input_check\" value=\"\"> <label for=\"nsvc_navertv\">네이버TV</label></li></ul></div><div class=\"svc_lst2\"><div class=\"svc_spc gnb_first\"><strong><a href=\"https://dict.naver.com/\">어학사전</a></strong><ul class=\"\"><li><input type=\"checkbox\" id=\"nsvc_krdic\" name=\"selmenu\" class=\"gnb_input_check\" value=\"\"> <label for=\"nsvc_krdic\">국어사전</label></li><li><input type=\"checkbox\" id=\"nsvc_endic\" name=\"selmenu\" class=\"gnb_input_check\" value=\"\"> <label for=\"nsvc_endic\">영어/영영사전</label></li><li><input type=\"checkbox\" id=\"nsvc_hanja\" name=\"selmenu\" class=\"gnb_input_check\" value=\"\"> <label for=\"nsvc_hanja\">한자사전</label></li><li><input type=\"checkbox\" id=\"nsvc_jpdic\" name=\"selmenu\" class=\"gnb_input_check\" value=\"\"> <label for=\"nsvc_jpdic\">일어사전</label></li><li><input type=\"checkbox\" id=\"nsvc_cndic\" name=\"selmenu\" class=\"gnb_input_check\" value=\"\"> <label for=\"nsvc_cndic\">중국어사전</label></li><li><input type=\"checkbox\" id=\"nsvc_frdic\" name=\"selmenu\" class=\"gnb_input_check\" value=\"\"> <label for=\"nsvc_frdic\">프랑스어사전</label></li><li><input type=\"checkbox\" id=\"nsvc_dedic\" name=\"selmenu\" class=\"gnb_input_check\" value=\"\"> <label for=\"nsvc_dedic\">독일어사전</label></li><li><input type=\"checkbox\" id=\"nsvc_rudic\" name=\"selmenu\" class=\"gnb_input_check\" value=\"\"> <label for=\"nsvc_rudic\">러시아어사전</label></li><li><input type=\"checkbox\" id=\"nsvc_vndic\" name=\"selmenu\" class=\"gnb_input_check\" value=\"\"> <label for=\"nsvc_vndic\">베트남어사전</label></li><li><input type=\"checkbox\" id=\"nsvc_spdic\" name=\"selmenu\" class=\"gnb_input_check\" value=\"\"> <label for=\"nsvc_spdic\">스페인어사전</label></li><li><input type=\"checkbox\" id=\"nsvc_papago\" name=\"selmenu\" class=\"gnb_input_check\" value=\"\"> <label for=\"nsvc_papago\">파파고</label></li></ul></div><div class=\"svc_spc\"><strong>인기/신규서비스</strong><ul class=\"\"><li><input type=\"checkbox\" id=\"nsvc_grafolio\" name=\"selmenu\" class=\"gnb_input_check\" value=\"\"> <label for=\"nsvc_grafolio\">그라폴리오</label></li><li><input type=\"checkbox\" id=\"nsvc_post\" name=\"selmenu\" class=\"gnb_input_check\" value=\"\"> <label for=\"nsvc_post\">포스트</label></li><li><input type=\"checkbox\" id=\"nsvc_band\" name=\"selmenu\" class=\"gnb_input_check\" value=\"\"> <label for=\"nsvc_band\">밴드</label></li><li><input type=\"checkbox\" id=\"nsvc_line\" name=\"selmenu\" class=\"gnb_input_check\" value=\"\"> <label for=\"nsvc_line\">라인</label></li><li class=\"gnb_event\"><input type=\"checkbox\" id=\"nsvc_vibe\" name=\"selmenu\" class=\"gnb_input_check\" value=\"\"> <label for=\"nsvc_vibe\">VIBE<em class=\"ic_gnb_new\">New</em></label></li><li><input type=\"checkbox\" id=\"nsvc_pcontents\" name=\"selmenu\" class=\"gnb_input_check\" value=\"\"> <label for=\"nsvc_pcontents\">프리미엄콘텐츠</label></li></ul></div></div></div><div class=\"svc_btnwrp\"><div class=\"svc_btns\"><button class=\"gnb_save\" onclick=\"if(gnbFavorite.addService()){gnbMoreLayer.clickToggleWhole()} return false;\"><strong class=\"blind\">확인</strong></button><button class=\"gnb_close\" onclick=\"gnbFavorite.cancel(); return false;\"><span class=\"blind\">취소</span></button><button class=\"gnb_return\" onclick=\"gnbFavorite.resetService(); return false;\"><span class=\"blind\">초기 설정으로 변경</span></button></div></div><div class=\"gnb_bg_btm\"></div></div></div><iframe id=\"gnb_service_lyr_iframe\" title=\"빈 프레임\" class=\"gnb_pad_lyr\" name=\"padding\" width=\"0\" height=\"0\" scrolling=\"no\" frameborder=\"0\" style=\"display:none;top:34px;right:297px;width:585px;height:385px;opacity:0;-ms-filter:alpha(opacity=0)\"></iframe><iframe id=\"gnb_svc_more_iframe\" title=\"빈 프레임\" class=\"gnb_pad_lyr\" name=\"padding\" width=\"0\" height=\"0\" scrolling=\"no\" frameborder=\"0\" style=\"display:none;top:34px;right:-4px;width:295px;height:385px;opacity:0;-ms-filter:alpha(opacity=0)\"></iframe></li></ul></div></div></header><div class=\"sc-1i7ql2m kXacOC is_webkit\" id=\"app-layout\"><div style=\"transform:translateX(0%)\" class=\"sc-wli0gr gZQCQZ\"><div class=\"sc-fjy3z9 dAwFnA\"><div id=\"home_search_input_box\" class=\"sc-iwm9f4 cQnJFf\"><div class=\"search_wrap \"><div class=\"search_box\"><button type=\"button\" class=\"button_search\">검색</button><button type=\"button\" class=\"btn_clear\"><span class=\"blind\">삭제</span></button><div class=\"input_box\"><input type=\"text\" id=\"input_search1722757137065\" class=\"input_search\" autocomplete=\"off\" maxlength=\"255\" role=\"combobox\" aria-controls=\"home-search-input\" aria-expanded=\"false\" aria-activedescendant=\"\" value=\"먹돌 제주\"></div></div></div></div><!--$--><div top=\"76\" class=\"sc-1wsjitl dXLCNj\"><div class=\"panel_content\" id=\"section_content\"><div class=\"sc-1uz1kl4 sc-eveks6 kagvMc bSVEeN\"><h2 class=\"blind\">검색</h2><div class=\"sc-tge8yo jWttLp\"><span class=\"blind\">loading</span><div class=\"loader\"><div class=\"icon\"></div><div class=\"icon\"></div><div class=\"icon\"></div></div></div><div class=\"sc-1zazcp dEIMHa\"></div><div class=\"sc-48msce bcmMFw\"><iframe id=\"searchIframe\" title=\"Naver Place Search\" src=\"https://pcmap.place.naver.com/place/list?query=%EB%A8%B9%EB%8F%8C%20%EC%A0%9C%EC%A3%BC&amp;x=126.97825&amp;y=37.566551&amp;display=70&amp;ts=1722757137262&amp;additionalHeight=76&amp;mapUrl=https%3A%2F%2Fmap.naver.com%2Fp%2Fsearch%2F%EB%A8%B9%EB%8F%8C%20%EC%A0%9C%EC%A3%BC\"></iframe></div><div class=\"sc-tge8yo bEMhUS\"><span class=\"blind\">loading</span><div class=\"loader\"><div class=\"icon\"></div><div class=\"icon\"></div><div class=\"icon\"></div></div></div></div></div><div class=\"panel_dialog\"></div><button type=\"button\" aria-expanded=\"true\" class=\"sc-agadnx fKUdgA\"><span class=\"blind\">패널 접기</span></button></div><!--/$--></div></div><div class=\"sc-1s2kvgn bxdLlF\"><div class=\"sc-nljxd hNZWUI\"><div class=\"item_carto\"><div class=\"sc-d0ncpj hAtGss\"><div role=\"presentation\" class=\"wrap_btn_carto\"><button type=\"button\" aria-current=\"true\" class=\"sc-xgpg6k hwGLWR\"><span class=\"carto_label\">일반지도</span></button></div><div role=\"presentation\" class=\"wrap_btn_carto\"><button type=\"button\" aria-current=\"false\" class=\"sc-xgpg6k kqoPzx\"><span class=\"carto_label\">위성지도</span></button><button type=\"button\" class=\"carto_hybrid_btn_more\" aria-pressed=\"false\"><span class=\"blind\">더보기</span></button></div><div role=\"presentation\" class=\"wrap_btn_carto\"><button type=\"button\" aria-current=\"false\" class=\"sc-xgpg6k jdplV\"><span class=\"carto_label\">지형지도</span></button></div></div></div><div class=\"item_toolbox\"><div class=\"sc-umqc40 sc-1ankuh7 fVJnqj gDkhRr\"><button class=\"sc-1f2xv2s ctzPME widget_theme\" aria-pressed=\"false\"><span class=\"blind\">테마</span></button><button class=\"sc-1f2xv2s ctzPME widget_favorite\" aria-pressed=\"false\"><span class=\"blind\">저장</span></button><button class=\"sc-1f2xv2s ctzPME widget_land\" aria-pressed=\"false\"><span class=\"blind\">지적편집도</span></button><button class=\"sc-1f2xv2s ctzPME widget_panorama\" aria-pressed=\"false\"><span class=\"blind\">거리뷰</span></button></div><div class=\"sc-umqc40 sc-1vbne3t fVJnqj fyKZeo\"><button class=\"sc-1f2xv2s ctzPME widget_radius\" aria-pressed=\"false\"><span class=\"blind\">반경측정</span></button><button class=\"sc-1f2xv2s ctzPME widget_area\" aria-pressed=\"false\"><span class=\"blind\">면적측정</span></button><button class=\"sc-1f2xv2s ctzPME widget_distance\" aria-pressed=\"false\"><span class=\"blind\">거리측정</span></button></div><div class=\"sc-umqc40 sc-o2f90s fVJnqj Pipek\"><button class=\"sc-16xmmt4 ccAPvv widget_save\"><span class=\"blind\">다운로드</span></button><button class=\"sc-16xmmt4 ccAPvv widget_print\"><span class=\"blind\">인쇄</span></button><button id=\":Rfgprp:\" type=\"button\" class=\"naver-splugin btn sc-uhwwac ijwvmu\" data-title=\"네이버 지도\" data-option=\"{&quot;baseElement&quot;:&quot;:Rfgprp:&quot;,&quot;layerPosition&quot;:&quot;outside-top&quot;,&quot;align&quot;:&quot;right&quot;,&quot;top&quot;:-43,&quot;left&quot;:51}\" data-prevent-short-url=\"off\" data-use-short-url=\"on\" data-style=\"type_a\" data-bookmark-display=\"off\" data-memo-display=\"off\" data-mail-display=\"off\" data-keep-display=\"on\" data-layer=\"default\" aria-pressed=\"false\" data-url=\"https://map.naver.com/p/search/%EB%A8%B9%EB%8F%8C%20%EC%A0%9C%EC%A3%BC?\"><span class=\"blind naver-splugin-c\">공유하기</span></button></div></div><div class=\"item_location\"><div class=\"sc-1tvsfzn bQqwOC\"><div class=\"sc-umqc40 sc-fmxr5 fVJnqj jXUypl\"><button type=\"button\" class=\"btn_location\" aria-pressed=\"false\"><span class=\"widget_location_icon\"><span class=\"blind\">접속위치</span></span></button></div></div><div class=\"sc-umqc40 sc-1rcdrji fVJnqj iTdIFS\"><button type=\"button\" class=\"btn_widget_zoom zoom_in\"><span class=\"blind\">확대</span></button><div class=\"sc-13f8od jrpYF\"><div class=\"wrapper-outer\"><div class=\"wrapper\"><div class=\"wrapper-inner\"><input type=\"range\" min=\"1\" max=\"100\" list=\"zoom-slider\" title=\"줌 슬라이더\" class=\"sc-hpt7w4 iCqGqm\" value=\"67\"></div></div></div><div class=\"sc-7uno6m iPLUdv\"><button type=\"button\" style=\"transform: scale(0);\" class=\"range_tooltip tooltip1\">부동산</button><button type=\"button\" style=\"transform: scale(0);\" class=\"range_tooltip tooltip2\">거리</button><button type=\"button\" style=\"transform: scale(0);\" class=\"range_tooltip tooltip3\">동</button><button type=\"button\" style=\"transform: scale(0);\" class=\"range_tooltip tooltip4\">읍/면</button><button type=\"button\" style=\"transform: scale(0);\" class=\"range_tooltip tooltip5\">시/군/구</button><button type=\"button\" style=\"transform: scale(0);\" class=\"range_tooltip tooltip6\">시/도</button></div></div><button type=\"button\" class=\"btn_widget_zoom zoom_out\"><span class=\"blind\">축소</span></button></div></div></div><div class=\"sc-6t4syl ibrQTr\"><div class=\"mantle_map\"></div></div></div><div class=\"sc-9we4qu cUEEQr\"><div class=\"subwayMap\"><div class=\"sc-tge8yo jWttLp subway_overlay\"><span class=\"blind\">loading</span><div class=\"loader\"><div class=\"icon\"></div><div class=\"icon\"></div><div class=\"icon\"></div></div></div></div></div></div></div><script async=\"\" src=\"https://ntm.pstatic.net/ex/nlog.js\"></script><script>window.__staticRouterHydrationData = JSON.parse(\"{\\\\\"loaderData\\\\\":{\\\\\"0\\\\\":null,\\\\\"0-6-0\\\\\":{\\\\\"menu\\\\\":\\\\\"search\\\\\"},\\\\\"0-6\\\\\":null},\\\\\"actionData\\\\\":null,\\\\\"errors\\\\\":null}\");</script></div><div id=\"report-screen-shot\"></div><script defer=\"defer\" src=\"runtime.9be0c7e.js\"></script><script defer=\"defer\" src=\"vendor.9be0c7e.js\"></script><script defer=\"defer\" src=\"browserChecker.js\"></script><script defer=\"defer\" src=\"main.9be0c7e.js\"></script><script async=\"\" src=\"https://ntm.pstatic.net/scripts/ntm_036d5979ba7d.js\"></script><script src=\"https://ssl.pstatic.net/static.gn/templates/gnb_utf8.nhn\" type=\"text/javascript\" state=\"active\"></script><script src=\"https://ssl.pstatic.net/sstatic.map/openapi/maps3.js?ts=1722396226547\" type=\"text/javascript\" state=\"active\"></script><script src=\"https://ssl.pstatic.net/sstatic.map/openapi/maps3-gl.js?ts=1722396226547\" type=\"text/javascript\" state=\"active\"></script></body></html>'"
     },
     "execution_count": 23,
     "metadata": {},
     "output_type": "execute_result"
    }
   ],
   "source": [
    "driver.page_source"
   ],
   "metadata": {
    "collapsed": false,
    "ExecuteTime": {
     "end_time": "2024-08-04T07:39:29.857973100Z",
     "start_time": "2024-08-04T07:39:29.831971700Z"
    }
   },
   "id": "3d795c01055f90d8"
  },
  {
   "cell_type": "code",
   "execution_count": 37,
   "outputs": [],
   "source": [
    "frame = driver.find_element(By.CSS_SELECTOR, \"#searchIframe\")\n",
    "driver.switch_to.frame(frame)"
   ],
   "metadata": {
    "collapsed": false,
    "ExecuteTime": {
     "end_time": "2024-08-04T07:55:49.234431500Z",
     "start_time": "2024-08-04T07:55:49.203419400Z"
    }
   },
   "id": "e3fc4a3fbe4ad023"
  },
  {
   "cell_type": "code",
   "execution_count": 38,
   "outputs": [
    {
     "data": {
      "text/plain": "'<html><head><title>429 Too Many Requests</title></head>\\n<body bgcolor=\"white\">\\n<center><h1>429 Too Many Requests</h1></center>\\n<hr><center>nginx/1.14.2</center>\\n\\n\\n\\n\\n\\n\\n\\n\\n</body></html>'"
     },
     "execution_count": 38,
     "metadata": {},
     "output_type": "execute_result"
    }
   ],
   "source": [
    "driver.page_source"
   ],
   "metadata": {
    "collapsed": false,
    "ExecuteTime": {
     "end_time": "2024-08-04T07:55:52.060905500Z",
     "start_time": "2024-08-04T07:55:52.041055100Z"
    }
   },
   "id": "ad4a71596668d5a1"
  },
  {
   "cell_type": "code",
   "execution_count": 17,
   "outputs": [],
   "source": [
    "base_url = \"https://map.naver.com/p/search/\"\n",
    "search_url = f\"{base_url}{restaurant_name}\"\n",
    "\n",
    "service = Service(ChromeDriverManager().install())\n",
    "driver = webdriver.Chrome(service=service)\n",
    "driver.get(search_url)\n",
    "WebDriverWait(driver, 10).until(\n",
    "    EC.presence_of_element_located((By.CSS_SELECTOR, \"#searchIframe\"))\n",
    ")\n",
    "frame = driver.find_element(By.CSS_SELECTOR, \"#searchIframe\")\n",
    "driver.switch_to.frame(frame)\n",
    "WebDriverWait(driver, 10).until(\n",
    "    EC.presence_of_element_located((By.TAG_NAME, \"li\"))\n",
    ")\n",
    "\n",
    "# Extract the required data\n",
    "restaurants = []\n",
    "li_tags = driver.find_elements(By.TAG_NAME, \"li\")"
   ],
   "metadata": {
    "collapsed": false,
    "ExecuteTime": {
     "end_time": "2024-08-04T07:28:46.620649200Z",
     "start_time": "2024-08-04T07:28:42.267080800Z"
    }
   },
   "id": "eb0471c9a44e7e2e"
  },
  {
   "cell_type": "code",
   "execution_count": 11,
   "outputs": [],
   "source": [
    "li_tags[0].find_elements(By.CLASS_NAME, 'place_bluelink')[0].click()"
   ],
   "metadata": {
    "collapsed": false,
    "ExecuteTime": {
     "end_time": "2024-08-04T06:38:07.670008800Z",
     "start_time": "2024-08-04T06:38:07.586368300Z"
    }
   },
   "id": "9844315703760e"
  },
  {
   "cell_type": "code",
   "execution_count": 12,
   "outputs": [
    {
     "name": "stdout",
     "output_type": "stream",
     "text": [
      "Current URL: https://map.naver.com/p/search/%EB%A8%B9%EB%8F%8C%20%EC%A0%9C%EC%A3%BC/place/1131737857?c=15.00,0,0,0,dh&placePath=%3Fentry%253Dbmp\n"
     ]
    }
   ],
   "source": [
    "time.sleep(1)\n",
    "current_url = driver.current_url\n",
    "print(\"Current URL:\", current_url)"
   ],
   "metadata": {
    "collapsed": false,
    "ExecuteTime": {
     "end_time": "2024-08-04T06:39:50.671376700Z",
     "start_time": "2024-08-04T06:39:49.663332Z"
    }
   },
   "id": "ae0db1bf2868326d"
  },
  {
   "cell_type": "code",
   "execution_count": 13,
   "outputs": [],
   "source": [
    "li_tags[1].find_elements(By.CLASS_NAME, 'place_bluelink')[0].click()"
   ],
   "metadata": {
    "collapsed": false,
    "ExecuteTime": {
     "end_time": "2024-08-04T06:40:07.366846800Z",
     "start_time": "2024-08-04T06:40:07.278008400Z"
    }
   },
   "id": "28c305f9691637da"
  },
  {
   "cell_type": "code",
   "execution_count": 14,
   "outputs": [
    {
     "name": "stdout",
     "output_type": "stream",
     "text": [
      "Current URL: https://map.naver.com/p/search/%EB%A8%B9%EB%8F%8C%20%EC%A0%9C%EC%A3%BC/place/16899024?c=15.00,0,0,0,dh&placePath=%3Fentry%253Dbmp\n"
     ]
    }
   ],
   "source": [
    "time.sleep(1)\n",
    "current_url = driver.current_url\n",
    "print(\"Current URL:\", current_url)"
   ],
   "metadata": {
    "collapsed": false,
    "ExecuteTime": {
     "end_time": "2024-08-04T06:40:11.203441600Z",
     "start_time": "2024-08-04T06:40:10.197141100Z"
    }
   },
   "id": "1e14e886fc279847"
  },
  {
   "cell_type": "code",
   "execution_count": 15,
   "outputs": [],
   "source": [
    "import re\n",
    "def extract_number_from_pattern(text):\n",
    "    # Define the regex pattern to match /place/{number}\n",
    "    pattern = r'/place/(\\d+)'\n",
    "    \n",
    "    # Search for the pattern in the given text\n",
    "    match = re.search(pattern, text)\n",
    "    \n",
    "    # Check if the pattern was found\n",
    "    if match:\n",
    "        # Extract and return the number\n",
    "        return int(match.group(1))\n",
    "    else:\n",
    "        # If no match found, return None\n",
    "        return None"
   ],
   "metadata": {
    "collapsed": false,
    "ExecuteTime": {
     "end_time": "2024-08-04T06:42:23.717772800Z",
     "start_time": "2024-08-04T06:42:23.702391300Z"
    }
   },
   "id": "428ec57f37b42bbd"
  },
  {
   "cell_type": "code",
   "execution_count": 16,
   "outputs": [
    {
     "data": {
      "text/plain": "16899024"
     },
     "execution_count": 16,
     "metadata": {},
     "output_type": "execute_result"
    }
   ],
   "source": [
    "number = extract_number_from_pattern(current_url)\n",
    "number"
   ],
   "metadata": {
    "collapsed": false,
    "ExecuteTime": {
     "end_time": "2024-08-04T06:42:47.157086400Z",
     "start_time": "2024-08-04T06:42:47.136745500Z"
    }
   },
   "id": "f79da8c3e8e4e925"
  },
  {
   "cell_type": "code",
   "execution_count": 83,
   "outputs": [],
   "source": [
    "from selenium.webdriver.common.desired_capabilities import DesiredCapabilities\n",
    "\n",
    "caps = DesiredCapabilities.CHROME\n",
    "caps['pageLoadStrategy'] = \"normal\"  # can also try using \"eager\" or \"none\"\n"
   ],
   "metadata": {
    "collapsed": false,
    "ExecuteTime": {
     "end_time": "2024-07-31T13:26:47.539154800Z",
     "start_time": "2024-07-31T13:26:47.525137100Z"
    }
   },
   "id": "61b631cb543943b4"
  },
  {
   "cell_type": "code",
   "execution_count": 115,
   "outputs": [],
   "source": [
    "base_url = \"https://pcmap.place.naver.com/place/list?query=\"\n",
    "search_url = f\"{base_url}{restaurant_name}\"\n",
    "\n",
    "# Set up headless Chrome browser\n",
    "options = Options()\n",
    "options.add_argument(\"--headless\")\n",
    "options.add_argument(\"--window-size=1920x1080\")  # Typical desktop window size\n",
    "options.add_argument(\"user-agent=Mozilla/5.0 (Windows NT 10.0; Win64; x64) AppleWebKit/537.36 (KHTML, like Gecko) Chrome/88.0.4324.150 Safari/537.36\")\n",
    "options.add_argument(\"--disable-blink-features=AutomationControlled\")\n",
    "service = Service(ChromeDriverManager().install())\n",
    "driver = webdriver.Chrome(service=service, options=options)"
   ],
   "metadata": {
    "collapsed": false,
    "ExecuteTime": {
     "end_time": "2024-07-31T13:42:36.428719100Z",
     "start_time": "2024-07-31T13:42:31.889076900Z"
    }
   },
   "id": "877b88111dc525f9"
  },
  {
   "cell_type": "code",
   "execution_count": 136,
   "outputs": [],
   "source": [
    "service = Service(ChromeDriverManager().install())\n",
    "driver = webdriver.Chrome(service=service)"
   ],
   "metadata": {
    "collapsed": false,
    "ExecuteTime": {
     "end_time": "2024-07-31T22:32:01.474106Z",
     "start_time": "2024-07-31T22:31:56.908459900Z"
    }
   },
   "id": "ab64cfff499537a"
  },
  {
   "cell_type": "code",
   "execution_count": 137,
   "outputs": [],
   "source": [
    "driver.get(search_url)"
   ],
   "metadata": {
    "collapsed": false,
    "ExecuteTime": {
     "end_time": "2024-07-31T22:32:03.148331900Z",
     "start_time": "2024-07-31T22:32:02.533070100Z"
    }
   },
   "id": "e7dd15be0fe67a40"
  },
  {
   "cell_type": "code",
   "execution_count": 117,
   "outputs": [
    {
     "data": {
      "text/plain": "'<html><head><title>429 Too Many Requests</title></head>\\n<body bgcolor=\"white\">\\n<center><h1>429 Too Many Requests</h1></center>\\n<hr><center>nginx/1.14.2</center>\\n\\n\\n\\n\\n\\n\\n\\n\\n</body></html>'"
     },
     "execution_count": 117,
     "metadata": {},
     "output_type": "execute_result"
    }
   ],
   "source": [
    "html_source = driver.page_source\n",
    "html_source"
   ],
   "metadata": {
    "collapsed": false,
    "ExecuteTime": {
     "end_time": "2024-07-31T13:42:41.963252700Z",
     "start_time": "2024-07-31T13:42:41.948868200Z"
    }
   },
   "id": "c0f472997895e4c5"
  },
  {
   "cell_type": "code",
   "execution_count": null,
   "outputs": [],
   "source": [
    "driver.get(search_url)"
   ],
   "metadata": {
    "collapsed": false
   },
   "id": "72389acbac72421"
  },
  {
   "cell_type": "code",
   "execution_count": 103,
   "outputs": [],
   "source": [
    "driver.get(search_url)\n",
    "driver.execute_script(\"return document.readyState\")\n",
    "driver.save_screenshot(\"debug_screenshot.png\")  # Save screenshot to file\n",
    "html_source = driver.page_source\n"
   ],
   "metadata": {
    "collapsed": false,
    "ExecuteTime": {
     "end_time": "2024-07-31T13:37:00.098748100Z",
     "start_time": "2024-07-31T13:36:59.932838600Z"
    }
   },
   "id": "c187d4f2fbf86ad1"
  },
  {
   "cell_type": "code",
   "execution_count": 104,
   "outputs": [
    {
     "data": {
      "text/plain": "'<html><head><title>429 Too Many Requests</title></head>\\n<body bgcolor=\"white\">\\n<center><h1>429 Too Many Requests</h1></center>\\n<hr><center>nginx/1.14.2</center>\\n\\n\\n\\n\\n\\n\\n\\n\\n</body></html>'"
     },
     "execution_count": 104,
     "metadata": {},
     "output_type": "execute_result"
    }
   ],
   "source": [
    "html_source"
   ],
   "metadata": {
    "collapsed": false,
    "ExecuteTime": {
     "end_time": "2024-07-31T13:37:04.505863100Z",
     "start_time": "2024-07-31T13:37:04.477191700Z"
    }
   },
   "id": "bec5b1cd3341e115"
  },
  {
   "cell_type": "code",
   "execution_count": 88,
   "outputs": [
    {
     "ename": "TimeoutException",
     "evalue": "Message: \nStacktrace:\n\tGetHandleVerifier [0x00468923+23283]\n\t(No symbol) [0x0042E934]\n\t(No symbol) [0x00360733]\n\t(No symbol) [0x003A326F]\n\t(No symbol) [0x003A34AB]\n\t(No symbol) [0x003DEE42]\n\t(No symbol) [0x003C4464]\n\t(No symbol) [0x003DCB8D]\n\t(No symbol) [0x003C41B6]\n\t(No symbol) [0x00398017]\n\t(No symbol) [0x0039890D]\n\tGetHandleVerifier [0x0055A5F3+1013699]\n\tGetHandleVerifier [0x00563E4C+1052700]\n\tGetHandleVerifier [0x0055D4B4+1025668]\n\tGetHandleVerifier [0x0048EA2B+179195]\n\t(No symbol) [0x00436833]\n\t(No symbol) [0x00433198]\n\t(No symbol) [0x00433337]\n\t(No symbol) [0x0042B4BE]\n\tBaseThreadInitThunk [0x75E4FCC9+25]\n\tRtlGetAppContainerNamedObjectPath [0x77C77C5E+286]\n\tRtlGetAppContainerNamedObjectPath [0x77C77C2E+238]\n",
     "output_type": "error",
     "traceback": [
      "\u001B[1;31m---------------------------------------------------------------------------\u001B[0m",
      "\u001B[1;31mTimeoutException\u001B[0m                          Traceback (most recent call last)",
      "Cell \u001B[1;32mIn[88], line 1\u001B[0m\n\u001B[1;32m----> 1\u001B[0m \u001B[43mWebDriverWait\u001B[49m\u001B[43m(\u001B[49m\u001B[43mdriver\u001B[49m\u001B[43m,\u001B[49m\u001B[43m \u001B[49m\u001B[38;5;241;43m10\u001B[39;49m\u001B[43m)\u001B[49m\u001B[38;5;241;43m.\u001B[39;49m\u001B[43muntil\u001B[49m\u001B[43m(\u001B[49m\n\u001B[0;32m      2\u001B[0m \u001B[43m    \u001B[49m\u001B[43mEC\u001B[49m\u001B[38;5;241;43m.\u001B[39;49m\u001B[43mpresence_of_element_located\u001B[49m\u001B[43m(\u001B[49m\u001B[43m(\u001B[49m\u001B[43mBy\u001B[49m\u001B[38;5;241;43m.\u001B[39;49m\u001B[43mTAG_NAME\u001B[49m\u001B[43m,\u001B[49m\u001B[43m \u001B[49m\u001B[38;5;124;43m\"\u001B[39;49m\u001B[38;5;124;43mli\u001B[39;49m\u001B[38;5;124;43m\"\u001B[39;49m\u001B[43m)\u001B[49m\u001B[43m)\u001B[49m\n\u001B[0;32m      3\u001B[0m \u001B[43m)\u001B[49m\n",
      "File \u001B[1;32m~\\PycharmProjects\\solar_tycoon\\venv\\Lib\\site-packages\\selenium\\webdriver\\support\\wait.py:105\u001B[0m, in \u001B[0;36mWebDriverWait.until\u001B[1;34m(self, method, message)\u001B[0m\n\u001B[0;32m    103\u001B[0m     \u001B[38;5;28;01mif\u001B[39;00m time\u001B[38;5;241m.\u001B[39mmonotonic() \u001B[38;5;241m>\u001B[39m end_time:\n\u001B[0;32m    104\u001B[0m         \u001B[38;5;28;01mbreak\u001B[39;00m\n\u001B[1;32m--> 105\u001B[0m \u001B[38;5;28;01mraise\u001B[39;00m TimeoutException(message, screen, stacktrace)\n",
      "\u001B[1;31mTimeoutException\u001B[0m: Message: \nStacktrace:\n\tGetHandleVerifier [0x00468923+23283]\n\t(No symbol) [0x0042E934]\n\t(No symbol) [0x00360733]\n\t(No symbol) [0x003A326F]\n\t(No symbol) [0x003A34AB]\n\t(No symbol) [0x003DEE42]\n\t(No symbol) [0x003C4464]\n\t(No symbol) [0x003DCB8D]\n\t(No symbol) [0x003C41B6]\n\t(No symbol) [0x00398017]\n\t(No symbol) [0x0039890D]\n\tGetHandleVerifier [0x0055A5F3+1013699]\n\tGetHandleVerifier [0x00563E4C+1052700]\n\tGetHandleVerifier [0x0055D4B4+1025668]\n\tGetHandleVerifier [0x0048EA2B+179195]\n\t(No symbol) [0x00436833]\n\t(No symbol) [0x00433198]\n\t(No symbol) [0x00433337]\n\t(No symbol) [0x0042B4BE]\n\tBaseThreadInitThunk [0x75E4FCC9+25]\n\tRtlGetAppContainerNamedObjectPath [0x77C77C5E+286]\n\tRtlGetAppContainerNamedObjectPath [0x77C77C2E+238]\n"
     ]
    }
   ],
   "source": [
    "WebDriverWait(driver, 10).until(\n",
    "    EC.presence_of_element_located((By.TAG_NAME, \"li\"))\n",
    ")"
   ],
   "metadata": {
    "collapsed": false,
    "ExecuteTime": {
     "end_time": "2024-07-31T13:28:52.039278700Z",
     "start_time": "2024-07-31T13:28:41.900673300Z"
    }
   },
   "id": "b18fb6ae6182e897"
  },
  {
   "cell_type": "code",
   "execution_count": 89,
   "outputs": [
    {
     "ename": "TimeoutException",
     "evalue": "Message: \nStacktrace:\n\tGetHandleVerifier [0x00468923+23283]\n\t(No symbol) [0x0042E934]\n\t(No symbol) [0x00360733]\n\t(No symbol) [0x003A326F]\n\t(No symbol) [0x003A34AB]\n\t(No symbol) [0x003DEE42]\n\t(No symbol) [0x003C4464]\n\t(No symbol) [0x003DCB8D]\n\t(No symbol) [0x003C41B6]\n\t(No symbol) [0x00398017]\n\t(No symbol) [0x0039890D]\n\tGetHandleVerifier [0x0055A5F3+1013699]\n\tGetHandleVerifier [0x00563E4C+1052700]\n\tGetHandleVerifier [0x0055D4B4+1025668]\n\tGetHandleVerifier [0x0048EA2B+179195]\n\t(No symbol) [0x00436833]\n\t(No symbol) [0x00433198]\n\t(No symbol) [0x00433337]\n\t(No symbol) [0x0042B4BE]\n\tBaseThreadInitThunk [0x75E4FCC9+25]\n\tRtlGetAppContainerNamedObjectPath [0x77C77C5E+286]\n\tRtlGetAppContainerNamedObjectPath [0x77C77C2E+238]\n",
     "output_type": "error",
     "traceback": [
      "\u001B[1;31m---------------------------------------------------------------------------\u001B[0m",
      "\u001B[1;31mTimeoutException\u001B[0m                          Traceback (most recent call last)",
      "Cell \u001B[1;32mIn[89], line 4\u001B[0m\n\u001B[0;32m      3\u001B[0m \u001B[38;5;28;01mtry\u001B[39;00m:\n\u001B[1;32m----> 4\u001B[0m     \u001B[43mWebDriverWait\u001B[49m\u001B[43m(\u001B[49m\u001B[43mdriver\u001B[49m\u001B[43m,\u001B[49m\u001B[43m \u001B[49m\u001B[38;5;241;43m10\u001B[39;49m\u001B[43m)\u001B[49m\u001B[38;5;241;43m.\u001B[39;49m\u001B[43muntil\u001B[49m\u001B[43m(\u001B[49m\n\u001B[0;32m      5\u001B[0m \u001B[43m        \u001B[49m\u001B[43mEC\u001B[49m\u001B[38;5;241;43m.\u001B[39;49m\u001B[43mpresence_of_element_located\u001B[49m\u001B[43m(\u001B[49m\u001B[43m(\u001B[49m\u001B[43mBy\u001B[49m\u001B[38;5;241;43m.\u001B[39;49m\u001B[43mTAG_NAME\u001B[49m\u001B[43m,\u001B[49m\u001B[43m \u001B[49m\u001B[38;5;124;43m\"\u001B[39;49m\u001B[38;5;124;43mli\u001B[39;49m\u001B[38;5;124;43m\"\u001B[39;49m\u001B[43m)\u001B[49m\u001B[43m)\u001B[49m\n\u001B[0;32m      6\u001B[0m \u001B[43m    \u001B[49m\u001B[43m)\u001B[49m\n\u001B[0;32m      7\u001B[0m \u001B[38;5;28;01mexcept\u001B[39;00m TimeoutException:\n\u001B[0;32m      8\u001B[0m     \u001B[38;5;66;03m# Scroll the page or interact with the page in some other way\u001B[39;00m\n",
      "File \u001B[1;32m~\\PycharmProjects\\solar_tycoon\\venv\\Lib\\site-packages\\selenium\\webdriver\\support\\wait.py:105\u001B[0m, in \u001B[0;36mWebDriverWait.until\u001B[1;34m(self, method, message)\u001B[0m\n\u001B[0;32m    104\u001B[0m         \u001B[38;5;28;01mbreak\u001B[39;00m\n\u001B[1;32m--> 105\u001B[0m \u001B[38;5;28;01mraise\u001B[39;00m TimeoutException(message, screen, stacktrace)\n",
      "\u001B[1;31mTimeoutException\u001B[0m: Message: \nStacktrace:\n\tGetHandleVerifier [0x00468923+23283]\n\t(No symbol) [0x0042E934]\n\t(No symbol) [0x00360733]\n\t(No symbol) [0x003A326F]\n\t(No symbol) [0x003A34AB]\n\t(No symbol) [0x003DEE42]\n\t(No symbol) [0x003C4464]\n\t(No symbol) [0x003DCB8D]\n\t(No symbol) [0x003C41B6]\n\t(No symbol) [0x00398017]\n\t(No symbol) [0x0039890D]\n\tGetHandleVerifier [0x0055A5F3+1013699]\n\tGetHandleVerifier [0x00563E4C+1052700]\n\tGetHandleVerifier [0x0055D4B4+1025668]\n\tGetHandleVerifier [0x0048EA2B+179195]\n\t(No symbol) [0x00436833]\n\t(No symbol) [0x00433198]\n\t(No symbol) [0x00433337]\n\t(No symbol) [0x0042B4BE]\n\tBaseThreadInitThunk [0x75E4FCC9+25]\n\tRtlGetAppContainerNamedObjectPath [0x77C77C5E+286]\n\tRtlGetAppContainerNamedObjectPath [0x77C77C2E+238]\n",
      "\nDuring handling of the above exception, another exception occurred:\n",
      "\u001B[1;31mTimeoutException\u001B[0m                          Traceback (most recent call last)",
      "Cell \u001B[1;32mIn[89], line 10\u001B[0m\n\u001B[0;32m      7\u001B[0m \u001B[38;5;28;01mexcept\u001B[39;00m TimeoutException:\n\u001B[0;32m      8\u001B[0m     \u001B[38;5;66;03m# Scroll the page or interact with the page in some other way\u001B[39;00m\n\u001B[0;32m      9\u001B[0m     driver\u001B[38;5;241m.\u001B[39mexecute_script(\u001B[38;5;124m\"\u001B[39m\u001B[38;5;124mwindow.scrollTo(0, document.body.scrollHeight);\u001B[39m\u001B[38;5;124m\"\u001B[39m)\n\u001B[1;32m---> 10\u001B[0m     \u001B[43mWebDriverWait\u001B[49m\u001B[43m(\u001B[49m\u001B[43mdriver\u001B[49m\u001B[43m,\u001B[49m\u001B[43m \u001B[49m\u001B[38;5;241;43m10\u001B[39;49m\u001B[43m)\u001B[49m\u001B[38;5;241;43m.\u001B[39;49m\u001B[43muntil\u001B[49m\u001B[43m(\u001B[49m\n\u001B[0;32m     11\u001B[0m \u001B[43m        \u001B[49m\u001B[43mEC\u001B[49m\u001B[38;5;241;43m.\u001B[39;49m\u001B[43mpresence_of_element_located\u001B[49m\u001B[43m(\u001B[49m\u001B[43m(\u001B[49m\u001B[43mBy\u001B[49m\u001B[38;5;241;43m.\u001B[39;49m\u001B[43mTAG_NAME\u001B[49m\u001B[43m,\u001B[49m\u001B[43m \u001B[49m\u001B[38;5;124;43m\"\u001B[39;49m\u001B[38;5;124;43mli\u001B[39;49m\u001B[38;5;124;43m\"\u001B[39;49m\u001B[43m)\u001B[49m\u001B[43m)\u001B[49m\n\u001B[0;32m     12\u001B[0m \u001B[43m    \u001B[49m\u001B[43m)\u001B[49m\n",
      "File \u001B[1;32m~\\PycharmProjects\\solar_tycoon\\venv\\Lib\\site-packages\\selenium\\webdriver\\support\\wait.py:105\u001B[0m, in \u001B[0;36mWebDriverWait.until\u001B[1;34m(self, method, message)\u001B[0m\n\u001B[0;32m    103\u001B[0m     \u001B[38;5;28;01mif\u001B[39;00m time\u001B[38;5;241m.\u001B[39mmonotonic() \u001B[38;5;241m>\u001B[39m end_time:\n\u001B[0;32m    104\u001B[0m         \u001B[38;5;28;01mbreak\u001B[39;00m\n\u001B[1;32m--> 105\u001B[0m \u001B[38;5;28;01mraise\u001B[39;00m TimeoutException(message, screen, stacktrace)\n",
      "\u001B[1;31mTimeoutException\u001B[0m: Message: \nStacktrace:\n\tGetHandleVerifier [0x00468923+23283]\n\t(No symbol) [0x0042E934]\n\t(No symbol) [0x00360733]\n\t(No symbol) [0x003A326F]\n\t(No symbol) [0x003A34AB]\n\t(No symbol) [0x003DEE42]\n\t(No symbol) [0x003C4464]\n\t(No symbol) [0x003DCB8D]\n\t(No symbol) [0x003C41B6]\n\t(No symbol) [0x00398017]\n\t(No symbol) [0x0039890D]\n\tGetHandleVerifier [0x0055A5F3+1013699]\n\tGetHandleVerifier [0x00563E4C+1052700]\n\tGetHandleVerifier [0x0055D4B4+1025668]\n\tGetHandleVerifier [0x0048EA2B+179195]\n\t(No symbol) [0x00436833]\n\t(No symbol) [0x00433198]\n\t(No symbol) [0x00433337]\n\t(No symbol) [0x0042B4BE]\n\tBaseThreadInitThunk [0x75E4FCC9+25]\n\tRtlGetAppContainerNamedObjectPath [0x77C77C5E+286]\n\tRtlGetAppContainerNamedObjectPath [0x77C77C2E+238]\n"
     ]
    }
   ],
   "source": [
    "from selenium.common.exceptions import TimeoutException\n",
    "\n",
    "try:\n",
    "    WebDriverWait(driver, 10).until(\n",
    "        EC.presence_of_element_located((By.TAG_NAME, \"li\"))\n",
    "    )\n",
    "except TimeoutException:\n",
    "    # Scroll the page or interact with the page in some other way\n",
    "    driver.execute_script(\"window.scrollTo(0, document.body.scrollHeight);\")\n",
    "    WebDriverWait(driver, 10).until(\n",
    "        EC.presence_of_element_located((By.TAG_NAME, \"li\"))\n",
    "    )"
   ],
   "metadata": {
    "collapsed": false,
    "ExecuteTime": {
     "end_time": "2024-07-31T13:29:35.036515800Z",
     "start_time": "2024-07-31T13:29:14.771442200Z"
    }
   },
   "id": "9acf0e78e5486050"
  },
  {
   "cell_type": "code",
   "execution_count": 91,
   "outputs": [],
   "source": [
    "driver.get(search_url)\n",
    "driver.save_screenshot(\"debug_screenshot.png\")  # Save screenshot to file\n",
    "html_source = driver.page_source"
   ],
   "metadata": {
    "collapsed": false,
    "ExecuteTime": {
     "end_time": "2024-07-31T13:29:42.832277600Z",
     "start_time": "2024-07-31T13:29:42.755577700Z"
    }
   },
   "id": "729a4d11fe6fbb7b"
  },
  {
   "cell_type": "code",
   "execution_count": 74,
   "outputs": [
    {
     "ename": "TimeoutException",
     "evalue": "Message: \nStacktrace:\n\tGetHandleVerifier [0x00468923+23283]\n\t(No symbol) [0x0042E934]\n\t(No symbol) [0x00360733]\n\t(No symbol) [0x003A326F]\n\t(No symbol) [0x003A34AB]\n\t(No symbol) [0x003DEE42]\n\t(No symbol) [0x003C4464]\n\t(No symbol) [0x003DCB8D]\n\t(No symbol) [0x003C41B6]\n\t(No symbol) [0x00398017]\n\t(No symbol) [0x0039890D]\n\tGetHandleVerifier [0x0055A5F3+1013699]\n\tGetHandleVerifier [0x00563E4C+1052700]\n\tGetHandleVerifier [0x0055D4B4+1025668]\n\tGetHandleVerifier [0x0048EA2B+179195]\n\t(No symbol) [0x00436833]\n\t(No symbol) [0x00433198]\n\t(No symbol) [0x00433337]\n\t(No symbol) [0x0042B4BE]\n\tBaseThreadInitThunk [0x75E4FCC9+25]\n\tRtlGetAppContainerNamedObjectPath [0x77C77C5E+286]\n\tRtlGetAppContainerNamedObjectPath [0x77C77C2E+238]\n",
     "output_type": "error",
     "traceback": [
      "\u001B[1;31m---------------------------------------------------------------------------\u001B[0m",
      "\u001B[1;31mTimeoutException\u001B[0m                          Traceback (most recent call last)",
      "Cell \u001B[1;32mIn[74], line 2\u001B[0m\n\u001B[0;32m      1\u001B[0m driver\u001B[38;5;241m.\u001B[39mget(search_url)\n\u001B[1;32m----> 2\u001B[0m \u001B[43mWebDriverWait\u001B[49m\u001B[43m(\u001B[49m\u001B[43mdriver\u001B[49m\u001B[43m,\u001B[49m\u001B[43m \u001B[49m\u001B[38;5;241;43m10\u001B[39;49m\u001B[43m)\u001B[49m\u001B[38;5;241;43m.\u001B[39;49m\u001B[43muntil\u001B[49m\u001B[43m(\u001B[49m\n\u001B[0;32m      3\u001B[0m \u001B[43m    \u001B[49m\u001B[43mEC\u001B[49m\u001B[38;5;241;43m.\u001B[39;49m\u001B[43mpresence_of_element_located\u001B[49m\u001B[43m(\u001B[49m\u001B[43m(\u001B[49m\u001B[43mBy\u001B[49m\u001B[38;5;241;43m.\u001B[39;49m\u001B[43mTAG_NAME\u001B[49m\u001B[43m,\u001B[49m\u001B[43m \u001B[49m\u001B[38;5;124;43m\"\u001B[39;49m\u001B[38;5;124;43mli\u001B[39;49m\u001B[38;5;124;43m\"\u001B[39;49m\u001B[43m)\u001B[49m\u001B[43m)\u001B[49m\n\u001B[0;32m      4\u001B[0m \u001B[43m)\u001B[49m\n",
      "File \u001B[1;32m~\\PycharmProjects\\solar_tycoon\\venv\\Lib\\site-packages\\selenium\\webdriver\\support\\wait.py:105\u001B[0m, in \u001B[0;36mWebDriverWait.until\u001B[1;34m(self, method, message)\u001B[0m\n\u001B[0;32m    103\u001B[0m     \u001B[38;5;28;01mif\u001B[39;00m time\u001B[38;5;241m.\u001B[39mmonotonic() \u001B[38;5;241m>\u001B[39m end_time:\n\u001B[0;32m    104\u001B[0m         \u001B[38;5;28;01mbreak\u001B[39;00m\n\u001B[1;32m--> 105\u001B[0m \u001B[38;5;28;01mraise\u001B[39;00m TimeoutException(message, screen, stacktrace)\n",
      "\u001B[1;31mTimeoutException\u001B[0m: Message: \nStacktrace:\n\tGetHandleVerifier [0x00468923+23283]\n\t(No symbol) [0x0042E934]\n\t(No symbol) [0x00360733]\n\t(No symbol) [0x003A326F]\n\t(No symbol) [0x003A34AB]\n\t(No symbol) [0x003DEE42]\n\t(No symbol) [0x003C4464]\n\t(No symbol) [0x003DCB8D]\n\t(No symbol) [0x003C41B6]\n\t(No symbol) [0x00398017]\n\t(No symbol) [0x0039890D]\n\tGetHandleVerifier [0x0055A5F3+1013699]\n\tGetHandleVerifier [0x00563E4C+1052700]\n\tGetHandleVerifier [0x0055D4B4+1025668]\n\tGetHandleVerifier [0x0048EA2B+179195]\n\t(No symbol) [0x00436833]\n\t(No symbol) [0x00433198]\n\t(No symbol) [0x00433337]\n\t(No symbol) [0x0042B4BE]\n\tBaseThreadInitThunk [0x75E4FCC9+25]\n\tRtlGetAppContainerNamedObjectPath [0x77C77C5E+286]\n\tRtlGetAppContainerNamedObjectPath [0x77C77C2E+238]\n"
     ]
    }
   ],
   "source": [
    "driver.get(search_url)\n",
    "WebDriverWait(driver, 10).until(\n",
    "    EC.presence_of_element_located((By.TAG_NAME, \"li\"))\n",
    ")"
   ],
   "metadata": {
    "collapsed": false,
    "ExecuteTime": {
     "end_time": "2024-07-31T13:22:57.622368500Z",
     "start_time": "2024-07-31T13:22:47.404160600Z"
    }
   },
   "id": "8be7e22968aa421d"
  },
  {
   "cell_type": "code",
   "execution_count": 118,
   "outputs": [],
   "source": [
    "import requests\n",
    "from bs4 import BeautifulSoup\n",
    "response = requests.get(search_url)\n",
    "\n",
    "\n",
    "soup = BeautifulSoup(response.text, 'html.parser')"
   ],
   "metadata": {
    "collapsed": false,
    "ExecuteTime": {
     "end_time": "2024-07-31T13:44:43.173355400Z",
     "start_time": "2024-07-31T13:44:43.118312700Z"
    }
   },
   "id": "8f1dfb7dbe613e4a"
  },
  {
   "cell_type": "code",
   "execution_count": 119,
   "outputs": [
    {
     "data": {
      "text/plain": "<html>\n<head><title>429 Too Many Requests</title></head>\n<body bgcolor=\"white\">\n<center><h1>429 Too Many Requests</h1></center>\n<hr/><center>nginx/1.14.2</center>\n</body>\n</html>"
     },
     "execution_count": 119,
     "metadata": {},
     "output_type": "execute_result"
    }
   ],
   "source": [
    "soup"
   ],
   "metadata": {
    "collapsed": false,
    "ExecuteTime": {
     "end_time": "2024-07-31T13:44:54.983617400Z",
     "start_time": "2024-07-31T13:44:54.950446300Z"
    }
   },
   "id": "8438904d40fd47b6"
  },
  {
   "cell_type": "code",
   "execution_count": 56,
   "outputs": [],
   "source": [
    "restaurants = []\n",
    "li_tags = driver.find_elements(By.TAG_NAME, \"li\")"
   ],
   "metadata": {
    "collapsed": false,
    "ExecuteTime": {
     "end_time": "2024-07-31T13:17:58.721567600Z",
     "start_time": "2024-07-31T13:17:58.698225800Z"
    }
   },
   "id": "667f2ddc945fd3c0"
  },
  {
   "cell_type": "code",
   "execution_count": 67,
   "outputs": [],
   "source": [
    "for li in li_tags:\n",
    "    place_bluelink = li.find_element(By.CLASS_NAME, 'place_bluelink')\n",
    "    name_tag = place_bluelink.find_element(By.TAG_NAME, 'span')\n",
    "    restaurant_name = name_tag.text.strip()\n",
    "    href_tag = li.find_element(By.TAG_NAME, 'a')\n",
    "\n",
    "    restaurant_url = href_tag.get_attribute('href')\n",
    "    restaurants.append((restaurant_name, restaurant_url))"
   ],
   "metadata": {
    "collapsed": false,
    "ExecuteTime": {
     "end_time": "2024-07-31T13:19:55.149181900Z",
     "start_time": "2024-07-31T13:19:55.009447900Z"
    }
   },
   "id": "7b3d5079d3cd4972"
  },
  {
   "cell_type": "code",
   "execution_count": 68,
   "outputs": [
    {
     "data": {
      "text/plain": "[('먹돌 제주본점',\n  'https://pcmap.place.naver.com/place/list?query=%EB%A8%B9%EB%8F%8C%20%EC%A0%9C%EC%A3%BC#'),\n ('먹돌새기',\n  'https://pcmap.place.naver.com/place/list?query=%EB%A8%B9%EB%8F%8C%20%EC%A0%9C%EC%A3%BC#'),\n ('먹돌',\n  'https://pcmap.place.naver.com/place/list?query=%EB%A8%B9%EB%8F%8C%20%EC%A0%9C%EC%A3%BC#'),\n ('먹돌새기교차로',\n  'https://pcmap.place.naver.com/place/list?query=%EB%A8%B9%EB%8F%8C%20%EC%A0%9C%EC%A3%BC#'),\n ('먹돌새기',\n  'https://pcmap.place.naver.com/place/list?query=%EB%A8%B9%EB%8F%8C%20%EC%A0%9C%EC%A3%BC#'),\n ('J J아로마스킨&바디',\n  'https://pcmap.place.naver.com/place/list?query=%EB%A8%B9%EB%8F%8C%20%EC%A0%9C%EC%A3%BC#')]"
     },
     "execution_count": 68,
     "metadata": {},
     "output_type": "execute_result"
    }
   ],
   "source": [
    "restaurants"
   ],
   "metadata": {
    "collapsed": false,
    "ExecuteTime": {
     "end_time": "2024-07-31T13:20:06.060698400Z",
     "start_time": "2024-07-31T13:20:06.029035900Z"
    }
   },
   "id": "6dbd9d221e46b5a7"
  },
  {
   "cell_type": "code",
   "execution_count": 59,
   "outputs": [],
   "source": [
    "li = li_tags[0]"
   ],
   "metadata": {
    "collapsed": false,
    "ExecuteTime": {
     "end_time": "2024-07-31T13:18:32.207977700Z",
     "start_time": "2024-07-31T13:18:32.197459200Z"
    }
   },
   "id": "b9494ad7cee823a1"
  },
  {
   "cell_type": "code",
   "execution_count": 60,
   "outputs": [],
   "source": [
    "place_bluelink = li.find_element(By.CLASS_NAME, 'place_bluelink')"
   ],
   "metadata": {
    "collapsed": false,
    "ExecuteTime": {
     "end_time": "2024-07-31T13:18:38.744695800Z",
     "start_time": "2024-07-31T13:18:38.728145Z"
    }
   },
   "id": "fd76897fe030b4bd"
  },
  {
   "cell_type": "code",
   "execution_count": 61,
   "outputs": [],
   "source": [
    "name_tag = place_bluelink.find_element(By.TAG_NAME, 'span')\n",
    "restaurant_name = name_tag.text.strip()"
   ],
   "metadata": {
    "collapsed": false,
    "ExecuteTime": {
     "end_time": "2024-07-31T13:18:51.771548600Z",
     "start_time": "2024-07-31T13:18:51.756635Z"
    }
   },
   "id": "d329189cfcf93a54"
  },
  {
   "cell_type": "code",
   "execution_count": 62,
   "outputs": [
    {
     "data": {
      "text/plain": "'먹돌 제주본점'"
     },
     "execution_count": 62,
     "metadata": {},
     "output_type": "execute_result"
    }
   ],
   "source": [
    "restaurant_name"
   ],
   "metadata": {
    "collapsed": false,
    "ExecuteTime": {
     "end_time": "2024-07-31T13:18:57.618268400Z",
     "start_time": "2024-07-31T13:18:57.600655800Z"
    }
   },
   "id": "17418019f3671f2a"
  },
  {
   "cell_type": "code",
   "execution_count": 63,
   "outputs": [],
   "source": [
    "href_tag = li.find_element(By.TAG_NAME, 'a')"
   ],
   "metadata": {
    "collapsed": false,
    "ExecuteTime": {
     "end_time": "2024-07-31T13:19:09.371232900Z",
     "start_time": "2024-07-31T13:19:09.355334600Z"
    }
   },
   "id": "25013b2bfcd2429c"
  },
  {
   "cell_type": "code",
   "execution_count": 65,
   "outputs": [],
   "source": [
    "restaurant_url = href_tag.get_attribute('href')"
   ],
   "metadata": {
    "collapsed": false,
    "ExecuteTime": {
     "end_time": "2024-07-31T13:19:38.645494500Z",
     "start_time": "2024-07-31T13:19:38.629295600Z"
    }
   },
   "id": "d81ce9ee70c65d49"
  },
  {
   "cell_type": "code",
   "execution_count": 66,
   "outputs": [
    {
     "data": {
      "text/plain": "'https://pcmap.place.naver.com/place/list?query=%EB%A8%B9%EB%8F%8C%20%EC%A0%9C%EC%A3%BC#'"
     },
     "execution_count": 66,
     "metadata": {},
     "output_type": "execute_result"
    }
   ],
   "source": [
    "restaurant_url"
   ],
   "metadata": {
    "collapsed": false,
    "ExecuteTime": {
     "end_time": "2024-07-31T13:19:43.943631200Z",
     "start_time": "2024-07-31T13:19:43.926633200Z"
    }
   },
   "id": "b4978559b918aa7a"
  },
  {
   "cell_type": "code",
   "execution_count": 64,
   "outputs": [
    {
     "data": {
      "text/plain": "<selenium.webdriver.remote.webelement.WebElement (session=\"29d4adbe6ed3d250d5968586b42f4ff7\", element=\"f.857F1DBD1F6A7AFD38A8B11039CA42D7.d.AF6565452855D52B119DC9935A2C1E63.e.187\")>"
     },
     "execution_count": 64,
     "metadata": {},
     "output_type": "execute_result"
    }
   ],
   "source": [
    "href_tag"
   ],
   "metadata": {
    "collapsed": false,
    "ExecuteTime": {
     "end_time": "2024-07-31T13:19:13.788600900Z",
     "start_time": "2024-07-31T13:19:13.773890500Z"
    }
   },
   "id": "6f56d945b87271d8"
  },
  {
   "cell_type": "code",
   "execution_count": 47,
   "outputs": [
    {
     "data": {
      "text/plain": "6"
     },
     "execution_count": 47,
     "metadata": {},
     "output_type": "execute_result"
    }
   ],
   "source": [
    "len(li_tags)"
   ],
   "metadata": {
    "collapsed": false,
    "ExecuteTime": {
     "end_time": "2024-07-31T13:13:00.929613100Z",
     "start_time": "2024-07-31T13:13:00.903484800Z"
    }
   },
   "id": "c817e971f2654be6"
  },
  {
   "cell_type": "code",
   "execution_count": 48,
   "outputs": [],
   "source": [
    "li = li_tags[0]"
   ],
   "metadata": {
    "collapsed": false,
    "ExecuteTime": {
     "end_time": "2024-07-31T13:13:15.892330Z",
     "start_time": "2024-07-31T13:13:15.863892Z"
    }
   },
   "id": "41479674df3eb085"
  },
  {
   "cell_type": "code",
   "execution_count": 49,
   "outputs": [],
   "source": [
    "name_tag = li.find_element(By.CLASS_NAME, 'place_bluelink')"
   ],
   "metadata": {
    "collapsed": false,
    "ExecuteTime": {
     "end_time": "2024-07-31T13:13:25.279924Z",
     "start_time": "2024-07-31T13:13:25.264400200Z"
    }
   },
   "id": "3f60d1091926e874"
  },
  {
   "cell_type": "code",
   "execution_count": null,
   "outputs": [],
   "source": [],
   "metadata": {
    "collapsed": false
   },
   "id": "bdf17e0459810dd7"
  },
  {
   "cell_type": "code",
   "execution_count": null,
   "outputs": [],
   "source": [],
   "metadata": {
    "collapsed": false
   },
   "id": "7a7def487eeaa3ac"
  },
  {
   "cell_type": "code",
   "execution_count": 72,
   "outputs": [
    {
     "name": "stdout",
     "output_type": "stream",
     "text": [
      "An error occurred: Message: \n",
      "Stacktrace:\n",
      "\tGetHandleVerifier [0x00468923+23283]\n",
      "\t(No symbol) [0x0042E934]\n",
      "\t(No symbol) [0x00360733]\n",
      "\t(No symbol) [0x003A326F]\n",
      "\t(No symbol) [0x003A34AB]\n",
      "\t(No symbol) [0x003DEE42]\n",
      "\t(No symbol) [0x003C4464]\n",
      "\t(No symbol) [0x003DCB8D]\n",
      "\t(No symbol) [0x003C41B6]\n",
      "\t(No symbol) [0x00398017]\n",
      "\t(No symbol) [0x0039890D]\n",
      "\tGetHandleVerifier [0x0055A5F3+1013699]\n",
      "\tGetHandleVerifier [0x00563E4C+1052700]\n",
      "\tGetHandleVerifier [0x0055D4B4+1025668]\n",
      "\tGetHandleVerifier [0x0048EA2B+179195]\n",
      "\t(No symbol) [0x00436833]\n",
      "\t(No symbol) [0x00433198]\n",
      "\t(No symbol) [0x00433337]\n",
      "\t(No symbol) [0x0042B4BE]\n",
      "\tBaseThreadInitThunk [0x75E4FCC9+25]\n",
      "\tRtlGetAppContainerNamedObjectPath [0x77C77C5E+286]\n",
      "\tRtlGetAppContainerNamedObjectPath [0x77C77C2E+238]\n"
     ]
    },
    {
     "ename": "TypeError",
     "evalue": "'NoneType' object is not iterable",
     "output_type": "error",
     "traceback": [
      "\u001B[1;31m---------------------------------------------------------------------------\u001B[0m",
      "\u001B[1;31mTypeError\u001B[0m                                 Traceback (most recent call last)",
      "Cell \u001B[1;32mIn[72], line 2\u001B[0m\n\u001B[0;32m      1\u001B[0m restaurants \u001B[38;5;241m=\u001B[39m search_restaurant(restaurant_name)\n\u001B[1;32m----> 2\u001B[0m \u001B[38;5;28;43;01mfor\u001B[39;49;00m\u001B[43m \u001B[49m\u001B[43mname\u001B[49m\u001B[43m,\u001B[49m\u001B[43m \u001B[49m\u001B[43murl\u001B[49m\u001B[43m \u001B[49m\u001B[38;5;129;43;01min\u001B[39;49;00m\u001B[43m \u001B[49m\u001B[43mrestaurants\u001B[49m\u001B[43m:\u001B[49m\n\u001B[0;32m      3\u001B[0m \u001B[43m    \u001B[49m\u001B[38;5;28;43mprint\u001B[39;49m\u001B[43m(\u001B[49m\u001B[38;5;124;43mf\u001B[39;49m\u001B[38;5;124;43m\"\u001B[39;49m\u001B[38;5;124;43mRestaurant Name: \u001B[39;49m\u001B[38;5;132;43;01m{\u001B[39;49;00m\u001B[43mname\u001B[49m\u001B[38;5;132;43;01m}\u001B[39;49;00m\u001B[38;5;124;43m, URL: \u001B[39;49m\u001B[38;5;132;43;01m{\u001B[39;49;00m\u001B[43murl\u001B[49m\u001B[38;5;132;43;01m}\u001B[39;49;00m\u001B[38;5;124;43m\"\u001B[39;49m\u001B[43m)\u001B[49m\n",
      "\u001B[1;31mTypeError\u001B[0m: 'NoneType' object is not iterable"
     ]
    }
   ],
   "source": [
    "restaurants = search_restaurant(restaurant_name)\n",
    "for name, url in restaurants:\n",
    "    print(f\"Restaurant Name: {name}, URL: {url}\")"
   ],
   "metadata": {
    "collapsed": false,
    "ExecuteTime": {
     "end_time": "2024-07-31T13:21:46.617612700Z",
     "start_time": "2024-07-31T13:21:28.002651100Z"
    }
   },
   "id": "9a59761af597bb59"
  },
  {
   "cell_type": "code",
   "execution_count": null,
   "outputs": [],
   "source": [],
   "metadata": {
    "collapsed": false
   },
   "id": "8c88a8ac9c459f4a"
  },
  {
   "cell_type": "code",
   "execution_count": null,
   "outputs": [],
   "source": [],
   "metadata": {
    "collapsed": false
   },
   "id": "779bb7d3b8d6cde5"
  }
 ],
 "metadata": {
  "kernelspec": {
   "display_name": "Python 3",
   "language": "python",
   "name": "python3"
  },
  "language_info": {
   "codemirror_mode": {
    "name": "ipython",
    "version": 2
   },
   "file_extension": ".py",
   "mimetype": "text/x-python",
   "name": "python",
   "nbconvert_exporter": "python",
   "pygments_lexer": "ipython2",
   "version": "2.7.6"
  }
 },
 "nbformat": 4,
 "nbformat_minor": 5
}
