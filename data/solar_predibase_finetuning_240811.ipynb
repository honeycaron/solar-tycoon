{
 "cells": [
  {
   "cell_type": "code",
   "execution_count": 1,
   "metadata": {
    "id": "Cv33Gzur-fcv",
    "executionInfo": {
     "status": "ok",
     "timestamp": 1723045705760,
     "user_tz": -540,
     "elapsed": 311,
     "user": {
      "displayName": "손헌",
      "userId": "13463721025683679719"
     }
    },
    "ExecuteTime": {
     "end_time": "2024-08-17T07:08:20.244859700Z",
     "start_time": "2024-08-17T07:08:20.234851400Z"
    }
   },
   "outputs": [],
   "source": [
    "import warnings\n",
    "\n",
    "warnings.filterwarnings(\"ignore\")"
   ]
  },
  {
   "cell_type": "code",
   "execution_count": 2,
   "metadata": {
    "colab": {
     "base_uri": "https://localhost:8080/",
     "height": 34
    },
    "executionInfo": {
     "elapsed": 1575,
     "status": "ok",
     "timestamp": 1722227097320,
     "user": {
      "displayName": "Sung Kim",
      "userId": "08400978335606574364"
     },
     "user_tz": -540
    },
    "id": "e4cajluH9skw",
    "outputId": "3f0a94f7-ea8e-44ba-992e-7a0e3c803dbe",
    "ExecuteTime": {
     "end_time": "2024-08-17T07:08:23.872266900Z",
     "start_time": "2024-08-17T07:08:20.238868400Z"
    }
   },
   "outputs": [
    {
     "name": "stderr",
     "output_type": "stream",
     "text": [
      "None of PyTorch, TensorFlow >= 2.0, or Flax have been found. Models won't be available and only tokenizers, configuration and file/data utilities can be used.\n"
     ]
    },
    {
     "data": {
      "text/plain": "\u001B[1;34mConnected to Predibase as \u001B[0m\u001B[1;35mUser\u001B[0m\u001B[1;34m(\u001B[0m\u001B[1;33mid\u001B[0m\u001B[1;34m=\u001B[0m\u001B[93ma1b3fab2\u001B[0m\u001B[93m-ed51-4544-a61b-d8f74cdf0351\u001B[0m\u001B[1;34m, \u001B[0m\u001B[1;33musername\u001B[0m\u001B[1;34m=\u001B[0m\u001B[1;35mhun\u001B[0m\u001B[1;34m.sohn@kr.ey.com\u001B[0m\u001B[1;34m)\u001B[0m\n",
      "text/html": "<pre style=\"white-space:pre;overflow-x:auto;line-height:normal;font-family:Menlo,'DejaVu Sans Mono',consolas,'Courier New',monospace\"><span style=\"color: #000080; text-decoration-color: #000080; font-weight: bold\">Connected to Predibase as </span><span style=\"color: #800080; text-decoration-color: #800080; font-weight: bold\">User</span><span style=\"color: #000080; text-decoration-color: #000080; font-weight: bold\">(</span><span style=\"color: #808000; text-decoration-color: #808000; font-weight: bold\">id</span><span style=\"color: #000080; text-decoration-color: #000080; font-weight: bold\">=</span><span style=\"color: #ffff00; text-decoration-color: #ffff00\">a1b3fab2</span><span style=\"color: #ffff00; text-decoration-color: #ffff00\">-ed51-4544-a61b-d8f74cdf0351</span><span style=\"color: #000080; text-decoration-color: #000080; font-weight: bold\">, </span><span style=\"color: #808000; text-decoration-color: #808000; font-weight: bold\">username</span><span style=\"color: #000080; text-decoration-color: #000080; font-weight: bold\">=</span><span style=\"color: #800080; text-decoration-color: #800080; font-weight: bold\">hun</span><span style=\"color: #000080; text-decoration-color: #000080; font-weight: bold\">.sohn@kr.ey.com)</span>\n</pre>\n"
     },
     "metadata": {},
     "output_type": "display_data"
    }
   ],
   "source": [
    "from predibase import Predibase, FinetuningConfig, DeploymentConfig\n",
    "from dotenv import load_dotenv\n",
    "import os\n",
    "import pandas as pd\n",
    "\n",
    "# .env 파일 로드\n",
    "load_dotenv()\n",
    "\n",
    "# Get a KEY from https://app.predibase.com/\n",
    "api_token: str = os.getenv('PREDIBASE_API_KEY')\n",
    "pb = Predibase(api_token=api_token)"
   ]
  },
  {
   "cell_type": "code",
   "execution_count": 3,
   "metadata": {
    "id": "cynviurWddpN",
    "executionInfo": {
     "status": "ok",
     "timestamp": 1723045722506,
     "user_tz": -540,
     "elapsed": 1584,
     "user": {
      "displayName": "손헌",
      "userId": "13463721025683679719"
     }
    },
    "ExecuteTime": {
     "end_time": "2024-08-17T07:08:27.027399300Z",
     "start_time": "2024-08-17T07:08:27.005390Z"
    }
   },
   "outputs": [],
   "source": [
    "\n",
    "def review_data_to_dataframe(review_df, max=-1):\n",
    "    template = {\n",
    "        \"prompt\": \"\"\"system\\n다음은 해당 업체에 대한 소비자의 리뷰입니다. 해당 리뷰를 positive, neutral, negative 중 하나로 분류하세요.\\nreview\\n {content}\\nclassification\\n\"\"\",\n",
    "        \"completion\": \"{label}\",\n",
    "        \"split\": \"train\"\n",
    "    }\n",
    "    \n",
    "    # Shuffle the DataFrame\n",
    "    shuffled_df = review_df.sample(frac=1, random_state=42).reset_index(drop=True)\n",
    "\n",
    "    # Limit to max rows if specified\n",
    "    if max != -1:\n",
    "        shuffled_df = shuffled_df.head(max)\n",
    "    \n",
    "    data = []\n",
    "\n",
    "    for _, r in shuffled_df.iterrows():\n",
    "        row = {\n",
    "            \"prompt\": template[\"prompt\"].format(content=r[\"content\"]),\n",
    "            \"completion\": template[\"completion\"].format(label=r[\"human_label\"]),\n",
    "            \"split\": \"train\"\n",
    "        }\n",
    "        data.append(row)\n",
    "    \n",
    "    return pd.DataFrame(data)"
   ]
  },
  {
   "cell_type": "code",
   "execution_count": 4,
   "metadata": {
    "id": "xHK6tUOVMCxO",
    "ExecuteTime": {
     "end_time": "2024-08-17T07:08:27.683370400Z",
     "start_time": "2024-08-17T07:08:27.339109800Z"
    }
   },
   "outputs": [],
   "source": [
    "from tokenizers import Tokenizer\n",
    "tokenizer = Tokenizer.from_pretrained(\"upstage/solar-1-mini-tokenizer\")\n",
    "\n",
    "def compute_cost_from_dataframe(df, price_per_million_tokens=0.5):\n",
    "    \"\"\" Compute the cost of the dataset from a DataFrame \"\"\"\n",
    "\n",
    "    total_num_of_tokens = 0\n",
    "    # get all values from the DataFrame\n",
    "    values = df.apply(lambda row: row['completion'] + \" \" + row['prompt'], axis=1)\n",
    "    \n",
    "    for value in values:\n",
    "        # tokenize\n",
    "        enc = tokenizer.encode(value)\n",
    "        num_of_tokens = len(enc.tokens)\n",
    "        total_num_of_tokens += num_of_tokens\n",
    "\n",
    "    return total_num_of_tokens / 1000000 * price_per_million_tokens"
   ]
  },
  {
   "cell_type": "code",
   "execution_count": 4,
   "outputs": [],
   "source": [],
   "metadata": {
    "collapsed": false,
    "ExecuteTime": {
     "end_time": "2024-08-17T07:08:28.022842600Z",
     "start_time": "2024-08-17T07:08:27.987846Z"
    }
   }
  },
  {
   "cell_type": "code",
   "execution_count": 5,
   "outputs": [],
   "source": [
    "def load_review_data(path):\n",
    "    review_df = pd.read_excel(path)\n",
    "\n",
    "    return review_df"
   ],
   "metadata": {
    "collapsed": false,
    "ExecuteTime": {
     "end_time": "2024-08-17T07:08:28.318175900Z",
     "start_time": "2024-08-17T07:08:28.312163600Z"
    }
   }
  },
  {
   "cell_type": "code",
   "source": [
    "review_df = load_review_data(path=\"review_label_df.xlsx\")\n",
    "review_df.head()"
   ],
   "metadata": {
    "colab": {
     "base_uri": "https://localhost:8080/",
     "height": 209,
     "referenced_widgets": [
      "46834e867db842c890af24e196b1726a",
      "4956193a077b4a47a3a675e85a2dfb38",
      "e4a49dcd89374efb92e3fc6bca9e2ce0",
      "a7cb9d54150141b39484fb4ab48e1868",
      "80c135492746428781a09ce938f61b39",
      "6d8c4c70d68d4297846f7f293c4ec77e",
      "6d2c2c57d00a47d2a606a0bed49f79ed",
      "7b2eb3f9360747429ff339b2ddf30844",
      "da09061c355a4630888d1ac0c7c635b4",
      "0a3c03307b8641839c181ef67de0aea1",
      "8d51aa1397594e5e8704d40f7d25ec24",
      "68f58665e02e40ca87eb7fa7d308af2f",
      "8c1a6e5b24804769a17811c48bc7bc63",
      "48b8cb776282474ebb74055b19d48a50",
      "c340a446536742d29e76a8512bea0279",
      "767b4b7d68de47e39a756826a6140a01",
      "44b9b5d2150349548abc1e2872a1a3d3",
      "5876b25a3b9646a39864e284e3ab8938",
      "a488b39949d548d09037d2e0e402179d",
      "a5ba56ea9c8442a1900a504fadd77294",
      "e7aa1d4a11204e9bbdd29fa4b3ad83ff",
      "011696dbaafb4131b07dba2c7ef3411e",
      "db0f33df64d3498ab4bbbe67ce32ebcd",
      "a37b810cda434680b6ba6ca3dcb5aa04",
      "6e3d36ffb3f54acd9fc6503e7649235a",
      "82e3ec0c74e741bfbc7d6e6490b825b7",
      "c7f3a16f908f49e0ba32bf4a36c79471",
      "931489148737424aae77199555c39f79",
      "a3ce731c71b34fa3ae0dbe38750a354f",
      "9b0e0bf1e1d94542a9104d1ff449b537",
      "2d84ac4ff0ee493392ce860cacd1a690",
      "dc578aac6a344aaa96790e145cb2119b",
      "c44028f6e9284ab38fa6df3f059ebefe",
      "cde1d52cf2f84ecca05f663ac4d8b4f2",
      "5ebe528d2c0142e3b7ceaa398c9f9443",
      "af1ccc1f38a84ca3822e74d4efb8caab",
      "6c8a6f8584654eb7b9f33e05d3756f94",
      "18535e9f42ab430ca593cd41ffd61112",
      "1d499b5ff9a247aa9f4756e31e5e082a",
      "6cee8fb53c5e4c3eb22c0f1353e71ffb",
      "091b8326d85948998e2b75651dc1f0fb",
      "b1e4021212894f92aed1e8cc3c56198e",
      "ecd8e6ff11674bdbac9850aaed66a794",
      "18a45203a94345199d89f2c2bd68f244",
      "042f22f2a1f24edbace99157c993cb04",
      "5c3cbfaee3de4204bc01793b72dcff81",
      "edee650985324f72abbf40e76a897511",
      "a3b539bc55b145a480e451362d4c4d1f",
      "3745436abc7c4bac90c46e60a9666ab1",
      "f677a95247f2460c86e96a3d57457bfc",
      "e0b12581981b42f9879236e3a1aac8c5",
      "c159832f7b1642a98fbd0935cad8ba78",
      "005a773912a54ea6af381e4cdc78b1d8",
      "821f5b3824cf4a59ab4a480dc839197e",
      "67c718567e6e4beaa39ce6f8202150d1",
      "e3b94a36cb7d4a0d83a14a619e9f7884",
      "a43e7479ecd74eb8a4f935d1749eef14",
      "26164c7dcc534462986665f87f7d0293",
      "8db296684f4144b08dc474edf0800a23",
      "1b1044c77b244a75ba4143c923bb22eb",
      "8d3dc7396ffb48a08cdf1da9b78b0e87",
      "c5ce8281c7aa479699c90b062447ac4b",
      "23c03f6435574c50afb36201934e3901",
      "8659995a598341c99fc780166ba5af98",
      "0403190390ca44098b4358b2e40d6775",
      "dc1218bfe15b46e5aa06e0658422e12c"
     ]
    },
    "id": "E9oOoclPh2Zz",
    "executionInfo": {
     "status": "ok",
     "timestamp": 1723045744485,
     "user_tz": -540,
     "elapsed": 5439,
     "user": {
      "displayName": "손헌",
      "userId": "13463721025683679719"
     }
    },
    "outputId": "cbe5e737-645f-4698-bf38-c6e302b70fd1",
    "ExecuteTime": {
     "end_time": "2024-08-17T07:08:29.308812900Z",
     "start_time": "2024-08-17T07:08:28.583783200Z"
    }
   },
   "execution_count": 6,
   "outputs": [
    {
     "data": {
      "text/plain": "       nickname                                            content   date  \\\n0         우히히밍ㅇ                                               명불허전  8.9.금   \n1        이야기 탐정  제주에서 유명한 김밥맛집 오는정김밥에 갔어요.💕예약을 하력고 전화를 하는데 통화 중...  8.9.금   \n2  jennyscampus          제 개인적으로는 짜고, 느끼했는데  친언니는  입맛에  맞다고 하네요~^^  8.8.목   \n3        연희6440  어렵다어려워 힘들게드디여 김밥 영접.당일 예약만 가능한줄 알았는데전날 예약도 가능하...  8.8.목   \n4         낙원컴퍼니  제주 맛집 블로거 디포입니다개인적으로 예전보단 맛이 덜하지만여전히 많은분들께 사랑받...  8.8.목   \n\n  visit_cnt                solar_label solar_label_eval human_label  \n0    1번째 방문  {\"sentiment\": \"positive\"}         positive    positive  \n1    1번째 방문  {\"sentiment\": \"positive\"}         positive    positive  \n2    1번째 방문  {\"sentiment\": \"negative\"}         negative     neutral  \n3    1번째 방문  {\"sentiment\": \"negative\"}         negative    negative  \n4    1번째 방문   {\"sentiment\": \"neutral\"}          neutral     neutral  ",
      "text/html": "<div>\n<style scoped>\n    .dataframe tbody tr th:only-of-type {\n        vertical-align: middle;\n    }\n\n    .dataframe tbody tr th {\n        vertical-align: top;\n    }\n\n    .dataframe thead th {\n        text-align: right;\n    }\n</style>\n<table border=\"1\" class=\"dataframe\">\n  <thead>\n    <tr style=\"text-align: right;\">\n      <th></th>\n      <th>nickname</th>\n      <th>content</th>\n      <th>date</th>\n      <th>visit_cnt</th>\n      <th>solar_label</th>\n      <th>solar_label_eval</th>\n      <th>human_label</th>\n    </tr>\n  </thead>\n  <tbody>\n    <tr>\n      <th>0</th>\n      <td>우히히밍ㅇ</td>\n      <td>명불허전</td>\n      <td>8.9.금</td>\n      <td>1번째 방문</td>\n      <td>{\"sentiment\": \"positive\"}</td>\n      <td>positive</td>\n      <td>positive</td>\n    </tr>\n    <tr>\n      <th>1</th>\n      <td>이야기 탐정</td>\n      <td>제주에서 유명한 김밥맛집 오는정김밥에 갔어요.💕예약을 하력고 전화를 하는데 통화 중...</td>\n      <td>8.9.금</td>\n      <td>1번째 방문</td>\n      <td>{\"sentiment\": \"positive\"}</td>\n      <td>positive</td>\n      <td>positive</td>\n    </tr>\n    <tr>\n      <th>2</th>\n      <td>jennyscampus</td>\n      <td>제 개인적으로는 짜고, 느끼했는데  친언니는  입맛에  맞다고 하네요~^^</td>\n      <td>8.8.목</td>\n      <td>1번째 방문</td>\n      <td>{\"sentiment\": \"negative\"}</td>\n      <td>negative</td>\n      <td>neutral</td>\n    </tr>\n    <tr>\n      <th>3</th>\n      <td>연희6440</td>\n      <td>어렵다어려워 힘들게드디여 김밥 영접.당일 예약만 가능한줄 알았는데전날 예약도 가능하...</td>\n      <td>8.8.목</td>\n      <td>1번째 방문</td>\n      <td>{\"sentiment\": \"negative\"}</td>\n      <td>negative</td>\n      <td>negative</td>\n    </tr>\n    <tr>\n      <th>4</th>\n      <td>낙원컴퍼니</td>\n      <td>제주 맛집 블로거 디포입니다개인적으로 예전보단 맛이 덜하지만여전히 많은분들께 사랑받...</td>\n      <td>8.8.목</td>\n      <td>1번째 방문</td>\n      <td>{\"sentiment\": \"neutral\"}</td>\n      <td>neutral</td>\n      <td>neutral</td>\n    </tr>\n  </tbody>\n</table>\n</div>"
     },
     "execution_count": 6,
     "metadata": {},
     "output_type": "execute_result"
    }
   ]
  },
  {
   "cell_type": "code",
   "execution_count": 7,
   "outputs": [],
   "source": [
    "from sklearn.model_selection import train_test_split\n",
    "\n",
    "train_df, test_df = train_test_split(review_df, test_size=0.1, random_state=42)"
   ],
   "metadata": {
    "collapsed": false,
    "ExecuteTime": {
     "end_time": "2024-08-17T07:08:30.105987200Z",
     "start_time": "2024-08-17T07:08:29.301812700Z"
    }
   }
  },
  {
   "cell_type": "code",
   "source": [
    "train_df = train_df.reset_index(drop=True)\n",
    "print(len(train_df))\n",
    "train_df.head(3)"
   ],
   "metadata": {
    "colab": {
     "base_uri": "https://localhost:8080/"
    },
    "id": "EXYZ6KaWiATK",
    "executionInfo": {
     "status": "ok",
     "timestamp": 1723045777122,
     "user_tz": -540,
     "elapsed": 325,
     "user": {
      "displayName": "손헌",
      "userId": "13463721025683679719"
     }
    },
    "outputId": "6e61075c-381f-4467-821b-290d9184cbc4",
    "ExecuteTime": {
     "end_time": "2024-08-17T07:08:30.123056700Z",
     "start_time": "2024-08-17T07:08:30.107988800Z"
    }
   },
   "execution_count": 8,
   "outputs": [
    {
     "name": "stdout",
     "output_type": "stream",
     "text": [
      "5373\n"
     ]
    },
    {
     "data": {
      "text/plain": "       nickname                                            content    date  \\\n0       프린세스BIN  베스트 이불빵이예요. 맘모스같은데 팥,크림,팥 겹겹이 들어있고 크기도 커요.요런종류...   1.1.월   \n1  A Sun Shower  마농바게트 몇개씩 사가는 이유가 있네요한개구입한개 아쉽네요 마늘빵 좋아하시는분들은 ...  7.23.화   \n2         라꽁비에뜨                                         넘 귀여운 도넛집💗  1.25.목   \n\n  visit_cnt                solar_label solar_label_eval human_label  \n0    1번째 방문  {\"sentiment\": \"positive\"}         positive    positive  \n1    1번째 방문  {\"sentiment\": \"positive\"}         positive    positive  \n2    3번째 방문  {\"sentiment\": \"positive\"}         positive    positive  ",
      "text/html": "<div>\n<style scoped>\n    .dataframe tbody tr th:only-of-type {\n        vertical-align: middle;\n    }\n\n    .dataframe tbody tr th {\n        vertical-align: top;\n    }\n\n    .dataframe thead th {\n        text-align: right;\n    }\n</style>\n<table border=\"1\" class=\"dataframe\">\n  <thead>\n    <tr style=\"text-align: right;\">\n      <th></th>\n      <th>nickname</th>\n      <th>content</th>\n      <th>date</th>\n      <th>visit_cnt</th>\n      <th>solar_label</th>\n      <th>solar_label_eval</th>\n      <th>human_label</th>\n    </tr>\n  </thead>\n  <tbody>\n    <tr>\n      <th>0</th>\n      <td>프린세스BIN</td>\n      <td>베스트 이불빵이예요. 맘모스같은데 팥,크림,팥 겹겹이 들어있고 크기도 커요.요런종류...</td>\n      <td>1.1.월</td>\n      <td>1번째 방문</td>\n      <td>{\"sentiment\": \"positive\"}</td>\n      <td>positive</td>\n      <td>positive</td>\n    </tr>\n    <tr>\n      <th>1</th>\n      <td>A Sun Shower</td>\n      <td>마농바게트 몇개씩 사가는 이유가 있네요한개구입한개 아쉽네요 마늘빵 좋아하시는분들은 ...</td>\n      <td>7.23.화</td>\n      <td>1번째 방문</td>\n      <td>{\"sentiment\": \"positive\"}</td>\n      <td>positive</td>\n      <td>positive</td>\n    </tr>\n    <tr>\n      <th>2</th>\n      <td>라꽁비에뜨</td>\n      <td>넘 귀여운 도넛집💗</td>\n      <td>1.25.목</td>\n      <td>3번째 방문</td>\n      <td>{\"sentiment\": \"positive\"}</td>\n      <td>positive</td>\n      <td>positive</td>\n    </tr>\n  </tbody>\n</table>\n</div>"
     },
     "execution_count": 8,
     "metadata": {},
     "output_type": "execute_result"
    }
   ]
  },
  {
   "cell_type": "code",
   "source": [
    "test_df = test_df.reset_index(drop=True)\n",
    "print(len(test_df))\n",
    "test_df.head(3)"
   ],
   "metadata": {
    "colab": {
     "base_uri": "https://localhost:8080/"
    },
    "id": "Zk47Y-31h705",
    "executionInfo": {
     "status": "ok",
     "timestamp": 1723046648208,
     "user_tz": -540,
     "elapsed": 3,
     "user": {
      "displayName": "손헌",
      "userId": "13463721025683679719"
     }
    },
    "outputId": "a45b5e30-058b-4d51-b446-f84b5ea7c70d",
    "ExecuteTime": {
     "end_time": "2024-08-17T07:08:30.129067600Z",
     "start_time": "2024-08-17T07:08:30.118368100Z"
    }
   },
   "execution_count": 9,
   "outputs": [
    {
     "name": "stdout",
     "output_type": "stream",
     "text": [
      "597\n"
     ]
    },
    {
     "data": {
      "text/plain": "  nickname                                            content    date  \\\n0   사또라레84  빵 맛집 뷰 맛집입니다특히 3층이 전망 예술이네요빨리오셔야할듯 6시까지래요 ㅋㅋ잘쉬...   7.6.토   \n1     부산61                                         역시 맛이 짱이에요  7.22.월   \n2    사랑해냠냠  넓고 쾌적해요 오전이라 빵종류도 많고 넉넉하네요소금빵 정말 너무 맛남 ㅋㅋ커피도 싸...  7.30.화   \n\n  visit_cnt                      solar_label solar_label_eval human_label  \n0    1번째 방문  {\\n  \"sentiment\": \"positive\"\\n}         positive    positive  \n1    1번째 방문        {\"sentiment\": \"positive\"}         positive    positive  \n2    5번째 방문        {\"sentiment\": \"positive\"}         positive    positive  ",
      "text/html": "<div>\n<style scoped>\n    .dataframe tbody tr th:only-of-type {\n        vertical-align: middle;\n    }\n\n    .dataframe tbody tr th {\n        vertical-align: top;\n    }\n\n    .dataframe thead th {\n        text-align: right;\n    }\n</style>\n<table border=\"1\" class=\"dataframe\">\n  <thead>\n    <tr style=\"text-align: right;\">\n      <th></th>\n      <th>nickname</th>\n      <th>content</th>\n      <th>date</th>\n      <th>visit_cnt</th>\n      <th>solar_label</th>\n      <th>solar_label_eval</th>\n      <th>human_label</th>\n    </tr>\n  </thead>\n  <tbody>\n    <tr>\n      <th>0</th>\n      <td>사또라레84</td>\n      <td>빵 맛집 뷰 맛집입니다특히 3층이 전망 예술이네요빨리오셔야할듯 6시까지래요 ㅋㅋ잘쉬...</td>\n      <td>7.6.토</td>\n      <td>1번째 방문</td>\n      <td>{\\n  \"sentiment\": \"positive\"\\n}</td>\n      <td>positive</td>\n      <td>positive</td>\n    </tr>\n    <tr>\n      <th>1</th>\n      <td>부산61</td>\n      <td>역시 맛이 짱이에요</td>\n      <td>7.22.월</td>\n      <td>1번째 방문</td>\n      <td>{\"sentiment\": \"positive\"}</td>\n      <td>positive</td>\n      <td>positive</td>\n    </tr>\n    <tr>\n      <th>2</th>\n      <td>사랑해냠냠</td>\n      <td>넓고 쾌적해요 오전이라 빵종류도 많고 넉넉하네요소금빵 정말 너무 맛남 ㅋㅋ커피도 싸...</td>\n      <td>7.30.화</td>\n      <td>5번째 방문</td>\n      <td>{\"sentiment\": \"positive\"}</td>\n      <td>positive</td>\n      <td>positive</td>\n    </tr>\n  </tbody>\n</table>\n</div>"
     },
     "execution_count": 9,
     "metadata": {},
     "output_type": "execute_result"
    }
   ]
  },
  {
   "cell_type": "code",
   "execution_count": 11,
   "metadata": {
    "colab": {
     "base_uri": "https://localhost:8080/"
    },
    "executionInfo": {
     "elapsed": 3,
     "status": "ok",
     "timestamp": 1722227098633,
     "user": {
      "displayName": "Sung Kim",
      "userId": "08400978335606574364"
     },
     "user_tz": -540
    },
    "id": "PCAtnZBN-0Yn",
    "outputId": "3e93f3e5-d052-4284-d69a-279d399284dc",
    "ExecuteTime": {
     "end_time": "2024-08-17T07:11:10.291433900Z",
     "start_time": "2024-08-17T07:10:11.745381500Z"
    }
   },
   "outputs": [
    {
     "name": "stdout",
     "output_type": "stream",
     "text": [
      "Dataset not found, creating...\n",
      "One step FT Cost: 0.0172775 USD\n",
      "Uploading daatset...\n"
     ]
    }
   ],
   "source": [
    "import time\n",
    "\n",
    "dataset_name = \"jeju_review_240817\"\n",
    "try:\n",
    "  pb_dataset = pb.datasets.get(dataset_name)\n",
    "  print(f\"Dataset found: {pb_dataset}\")\n",
    "except RuntimeError:\n",
    "  print(\"Dataset not found, creating...\")\n",
    "\n",
    "  review_df_final = review_data_to_dataframe(train_df, max=500)\n",
    "\n",
    "  print(f\"One step FT Cost: {compute_cost_from_dataframe(review_df_final)} USD\")\n",
    "  review_df_final.to_csv(f\"{dataset_name}.csv\",encoding=\"utf-8\",index=False)\n",
    "  print(\"Uploading dataset...\")\n",
    "  pb_dataset = pb.datasets.from_file(f\"{dataset_name}.csv\", name=dataset_name)\n",
    "\n",
    "  # Dataset Validation: True\n",
    "  # One step FT Cost: 0.0078415 USD\n",
    "\n",
    "# FIXME1: how to delete or update the data"
   ]
  },
  {
   "cell_type": "code",
   "execution_count": 12,
   "metadata": {
    "colab": {
     "base_uri": "https://localhost:8080/"
    },
    "executionInfo": {
     "elapsed": 2,
     "status": "ok",
     "timestamp": 1722227098633,
     "user": {
      "displayName": "Sung Kim",
      "userId": "08400978335606574364"
     },
     "user_tz": -540
    },
    "id": "CwjxIt8qHX_A",
    "outputId": "9c143b2e-cdd3-48af-ca0c-780557810d4a",
    "ExecuteTime": {
     "end_time": "2024-08-17T07:11:16.486413400Z",
     "start_time": "2024-08-17T07:11:16.013815100Z"
    }
   },
   "outputs": [
    {
     "name": "stdout",
     "output_type": "stream",
     "text": [
      "uuid='58d29514-a663-4883-9083-f7504f27e8da' name='review-classification-model_test1' description='Review Classification Experiments'\n"
     ]
    }
   ],
   "source": [
    "# Create an adapter repository\n",
    "repo_name = \"review-classification-model_test1\"\n",
    "repo = pb.repos.create(name=repo_name, description=\"Review Classification Experiments\", exists_ok=True)\n",
    "print(repo)"
   ]
  },
  {
   "cell_type": "code",
   "execution_count": 13,
   "metadata": {
    "colab": {
     "base_uri": "https://localhost:8080/"
    },
    "executionInfo": {
     "elapsed": 1081289,
     "status": "ok",
     "timestamp": 1722228179920,
     "user": {
      "displayName": "Sung Kim",
      "userId": "08400978335606574364"
     },
     "user_tz": -540
    },
    "id": "iKJFinRi97mc",
    "outputId": "65e2fa1e-deec-4668-b892-39aed97572ab",
    "ExecuteTime": {
     "end_time": "2024-08-17T07:18:47.131884500Z",
     "start_time": "2024-08-17T07:11:40.352433700Z"
    }
   },
   "outputs": [
    {
     "name": "stdout",
     "output_type": "stream",
     "text": [
      "Successfully requested finetuning of solar-1-mini-chat-240612 as `review-classification-model_test1/1`. (Job UUID: 7f92f995-b033-4f0f-a00c-c95f2c91e565).\n",
      "\n",
      "Watching progress of finetuning job 7f92f995-b033-4f0f-a00c-c95f2c91e565. This call will block until the job has finished. Canceling or terminating this call will NOT cancel or terminate the job itself.\n",
      "Job is starting. Total queue time: 0:00:46         \n",
      "Waiting to receive training metrics...\n",
      "┌────────────┬────────────┬─────────────────┐\n",
      "│ checkpoint \u001B[0m│ train_loss \u001B[0m│ validation_loss \u001B[0m│\n",
      "├────────────┼────────────┼─────────────────┤\n",
      "│     1      \u001B[0m│   0.0518   \u001B[0m│        --       \u001B[0m│\n",
      "│     2      \u001B[0m│   1.0782   \u001B[0m│        --       \u001B[0m│\n",
      "│     3      \u001B[0m│   0.0096   \u001B[0m│        --       \u001B[0m│\n",
      "└────────────┴────────────┴─────────────────┘\n"
     ]
    }
   ],
   "source": [
    "\n",
    "\n",
    "# Start a fine-tuning job, blocks until training is finished\n",
    "adapter = pb.adapters.create(\n",
    "    config=FinetuningConfig(\n",
    "        base_model=\"solar-1-mini-chat-240612\",\n",
    "        epochs=3, # default: 3\n",
    "        rank=16, # default: 16\n",
    "    ),\n",
    "    dataset=pb_dataset, # Also accepts the dataset name as a string\n",
    "    repo=repo,\n",
    "    description=\"initial model with defaults\"\n",
    ")"
   ]
  },
  {
   "cell_type": "code",
   "execution_count": 14,
   "metadata": {
    "colab": {
     "base_uri": "https://localhost:8080/"
    },
    "executionInfo": {
     "elapsed": 20,
     "status": "ok",
     "timestamp": 1722228179920,
     "user": {
      "displayName": "Sung Kim",
      "userId": "08400978335606574364"
     },
     "user_tz": -540
    },
    "id": "9rCUvWE9qHO_",
    "outputId": "79f63791-2676-47a6-d24f-014068dae752",
    "ExecuteTime": {
     "end_time": "2024-08-17T07:19:14.935587400Z",
     "start_time": "2024-08-17T07:19:14.931158200Z"
    }
   },
   "outputs": [
    {
     "data": {
      "text/plain": "Adapter(repo='review-classification-model_test1', tag=1, archived=False, base_model='solar-1-mini-chat-240612', description='initial model with defaults', artifact_path='7f92f995-b033-4f0f-a00c-c95f2c91e565/8cff6e5bd6724b0091b4fff90a2e3f37/artifacts/model/model_weights', finetuning_error=None, finetuning_job_uuid='7f92f995-b033-4f0f-a00c-c95f2c91e565')"
     },
     "execution_count": 14,
     "metadata": {},
     "output_type": "execute_result"
    }
   ],
   "source": [
    "adapter"
   ]
  },
  {
   "cell_type": "code",
   "execution_count": 15,
   "metadata": {
    "colab": {
     "base_uri": "https://localhost:8080/",
     "height": 448
    },
    "executionInfo": {
     "elapsed": 6,
     "status": "ok",
     "timestamp": 1722228179920,
     "user": {
      "displayName": "Sung Kim",
      "userId": "08400978335606574364"
     },
     "user_tz": -540
    },
    "id": "9shNogDlk7Vn",
    "outputId": "8637f7dd-edda-4858-f5f8-af97d17162be",
    "ExecuteTime": {
     "end_time": "2024-08-17T07:19:25.061502Z",
     "start_time": "2024-08-17T07:19:25.057326100Z"
    }
   },
   "outputs": [
    {
     "data": {
      "text/plain": "'review-classification-model_test1/1'"
     },
     "execution_count": 15,
     "metadata": {},
     "output_type": "execute_result"
    }
   ],
   "source": [
    "adapter_id = adapter.repo + \"/\" + str(adapter.tag)\n",
    "adapter_id"
   ]
  },
  {
   "cell_type": "code",
   "execution_count": 16,
   "metadata": {
    "colab": {
     "base_uri": "https://localhost:8080/"
    },
    "executionInfo": {
     "elapsed": 6,
     "status": "ok",
     "timestamp": 1722228179921,
     "user": {
      "displayName": "Sung Kim",
      "userId": "08400978335606574364"
     },
     "user_tz": -540
    },
    "id": "YdpMxJQ-HoHA",
    "outputId": "15749831-d168-4095-d4c5-1889415a2ca4",
    "ExecuteTime": {
     "end_time": "2024-08-17T07:19:29.886206800Z",
     "start_time": "2024-08-17T07:19:29.399568Z"
    }
   },
   "outputs": [
    {
     "data": {
      "text/plain": "Adapter(repo='review-classification-model_test1', tag=1, archived=False, base_model='solar-1-mini-chat-240612', description='initial model with defaults', artifact_path='7f92f995-b033-4f0f-a00c-c95f2c91e565/8cff6e5bd6724b0091b4fff90a2e3f37/artifacts/model/model_weights', finetuning_error=None, finetuning_job_uuid='7f92f995-b033-4f0f-a00c-c95f2c91e565')"
     },
     "execution_count": 16,
     "metadata": {},
     "output_type": "execute_result"
    }
   ],
   "source": [
    "# Get adapter, blocking call if training is still in progress\n",
    "adapter = pb.adapters.get(adapter_id)\n",
    "adapter"
   ]
  },
  {
   "cell_type": "code",
   "execution_count": null,
   "outputs": [],
   "source": [],
   "metadata": {
    "collapsed": false
   }
  },
  {
   "cell_type": "code",
   "execution_count": 17,
   "metadata": {
    "id": "1X6yH-NSHtKr",
    "ExecuteTime": {
     "end_time": "2024-08-17T07:19:35.597678200Z",
     "start_time": "2024-08-17T07:19:35.594161400Z"
    }
   },
   "outputs": [],
   "source": [
    "input_prompt=\"\"\"\n",
    "<|im_start|>system\\n다음은 해당 업체에 대한 소비자의 리뷰입니다. 해당 리뷰를 positive, neutral, negative 중 하나로 분류하세요.<|im_end|>\n",
    "<|im_start|>review\\n 아이가 가장 좋아하는 맛집이라 공항가기전에 들렀어요. 여기 고기국수는 쿰쿰한 냄새가 없어서 좋아요. 김치도 진짜 최고구요ㅠㅠ 돔베고기 짱짱맛있어요... 아이랑 제주여행 간다면 무조건 필수코스로 들릴예정입니다😋😘🫶🏻<|im_end|>\n",
    "<|im_start|>classification\n",
    "\"\"\"\n"
   ]
  },
  {
   "cell_type": "code",
   "execution_count": 20,
   "outputs": [],
   "source": [
    "input_prompt=\"\"\"\n",
    "<|im_start|>system\\n다음은 해당 업체에 대한 소비자의 리뷰입니다. 해당 리뷰를 positive, neutral, negative 중 하나로 분류하세요.<|im_end|>\n",
    "<|im_start|>review\\n 굿<|im_end|>\n",
    "<|im_start|>classification\n",
    "\"\"\""
   ],
   "metadata": {
    "collapsed": false,
    "ExecuteTime": {
     "end_time": "2024-08-17T07:20:37.183088800Z",
     "start_time": "2024-08-17T07:20:37.150570600Z"
    }
   }
  },
  {
   "cell_type": "code",
   "execution_count": 18,
   "metadata": {
    "colab": {
     "base_uri": "https://localhost:8080/"
    },
    "executionInfo": {
     "elapsed": 7738,
     "status": "ok",
     "timestamp": 1722228187655,
     "user": {
      "displayName": "Sung Kim",
      "userId": "08400978335606574364"
     },
     "user_tz": -540
    },
    "id": "Fpt7UwsKMOL2",
    "outputId": "b6f9272b-f2bc-48f2-ef6c-f34c0075793c",
    "ExecuteTime": {
     "end_time": "2024-08-17T07:19:53.835719600Z",
     "start_time": "2024-08-17T07:19:42.355575200Z"
    }
   },
   "outputs": [
    {
     "name": "stdout",
     "output_type": "stream",
     "text": [
      "positive\n"
     ]
    }
   ],
   "source": [
    "lorax_client = pb.deployments.client(\"solar-1-mini-chat-240612\")\n",
    "print(lorax_client.generate(input_prompt, adapter_id=adapter_id, max_new_tokens=1000).generated_text)"
   ]
  },
  {
   "cell_type": "code",
   "execution_count": 21,
   "metadata": {
    "colab": {
     "base_uri": "https://localhost:8080/"
    },
    "executionInfo": {
     "elapsed": 950,
     "status": "ok",
     "timestamp": 1722228188603,
     "user": {
      "displayName": "Sung Kim",
      "userId": "08400978335606574364"
     },
     "user_tz": -540
    },
    "id": "iIHVQgyiJmcB",
    "outputId": "842b4477-d411-44f1-d40b-646c2f53a955",
    "ExecuteTime": {
     "end_time": "2024-08-17T07:20:42.775278700Z",
     "start_time": "2024-08-17T07:20:41.992345Z"
    }
   },
   "outputs": [
    {
     "name": "stdout",
     "output_type": "stream",
     "text": [
      "{\"generated_text\":\"positive\"}\n"
     ]
    }
   ],
   "source": [
    "# CURL test\n",
    "import requests\n",
    "import json\n",
    "\n",
    "url = \"https://serving.app.predibase.com/7ea6d0/deployments/v2/llms/solar-1-mini-chat-240612/generate\"\n",
    "\n",
    "\n",
    "payload = {\n",
    "    \"inputs\": input_prompt,\n",
    "    \"parameters\": {\n",
    "        \"adapter_id\": adapter_id,\n",
    "        \"adapter_source\": \"pbase\",\n",
    "        \"max_new_tokens\": 20,\n",
    "        \"temperature\": 0.1\n",
    "    }\n",
    "}\n",
    "\n",
    "headers = {\n",
    "    \"Content-Type\": \"application/json\",\n",
    "    \"Authorization\": f\"Bearer {api_token}\"\n",
    "}\n",
    "\n",
    "response = requests.post(url, data=json.dumps(payload), headers=headers)\n",
    "\n",
    "print(eval(response.text)[\"generated_text\"])"
   ]
  },
  {
   "cell_type": "code",
   "execution_count": 24,
   "outputs": [
    {
     "data": {
      "text/plain": "'positive'"
     },
     "execution_count": 24,
     "metadata": {},
     "output_type": "execute_result"
    }
   ],
   "source": [
    "eval(response.text)[\"generated_text\"]"
   ],
   "metadata": {
    "collapsed": false,
    "ExecuteTime": {
     "end_time": "2024-08-18T01:06:04.263391100Z",
     "start_time": "2024-08-18T01:06:04.241861200Z"
    }
   }
  },
  {
   "cell_type": "code",
   "execution_count": 22,
   "metadata": {
    "colab": {
     "base_uri": "https://localhost:8080/"
    },
    "executionInfo": {
     "elapsed": 460,
     "status": "ok",
     "timestamp": 1722228189057,
     "user": {
      "displayName": "Sung Kim",
      "userId": "08400978335606574364"
     },
     "user_tz": -540
    },
    "id": "NR41447NKasL",
    "outputId": "d90bea84-d726-4c98-e77b-045351621cfd",
    "ExecuteTime": {
     "end_time": "2024-08-17T07:25:24.072442Z",
     "start_time": "2024-08-17T07:25:21.391410100Z"
    }
   },
   "outputs": [
    {
     "name": "stdout",
     "output_type": "stream",
     "text": [
      "Downloading adapter review-classification-model_test1/1 as 1.zip...\n",
      "Done!\n"
     ]
    }
   ],
   "source": [
    "# Download adapter\n",
    "pb.adapters.download(adapter_id, dest=f\"{adapter.tag}.zip\")"
   ]
  },
  {
   "cell_type": "code",
   "source": [],
   "metadata": {
    "id": "ZlZs1-hv-vGW"
   },
   "execution_count": null,
   "outputs": []
  }
 ],
 "metadata": {
  "colab": {
   "provenance": [
    {
     "file_id": "1WrM_mfupNIVE7RL8SGL5P8z6EUySHJKb",
     "timestamp": 1722929877362
    }
   ]
  },
  "kernelspec": {
   "name": "python3",
   "language": "python",
   "display_name": "Python 3 (ipykernel)"
  },
  "language_info": {
   "name": "python"
  },
  "widgets": {
   "application/vnd.jupyter.widget-state+json": {
    "46834e867db842c890af24e196b1726a": {
     "model_module": "@jupyter-widgets/controls",
     "model_name": "HBoxModel",
     "model_module_version": "1.5.0",
     "state": {
      "_dom_classes": [],
      "_model_module": "@jupyter-widgets/controls",
      "_model_module_version": "1.5.0",
      "_model_name": "HBoxModel",
      "_view_count": null,
      "_view_module": "@jupyter-widgets/controls",
      "_view_module_version": "1.5.0",
      "_view_name": "HBoxView",
      "box_style": "",
      "children": [
       "IPY_MODEL_4956193a077b4a47a3a675e85a2dfb38",
       "IPY_MODEL_e4a49dcd89374efb92e3fc6bca9e2ce0",
       "IPY_MODEL_a7cb9d54150141b39484fb4ab48e1868"
      ],
      "layout": "IPY_MODEL_80c135492746428781a09ce938f61b39"
     }
    },
    "4956193a077b4a47a3a675e85a2dfb38": {
     "model_module": "@jupyter-widgets/controls",
     "model_name": "HTMLModel",
     "model_module_version": "1.5.0",
     "state": {
      "_dom_classes": [],
      "_model_module": "@jupyter-widgets/controls",
      "_model_module_version": "1.5.0",
      "_model_name": "HTMLModel",
      "_view_count": null,
      "_view_module": "@jupyter-widgets/controls",
      "_view_module_version": "1.5.0",
      "_view_name": "HTMLView",
      "description": "",
      "description_tooltip": null,
      "layout": "IPY_MODEL_6d8c4c70d68d4297846f7f293c4ec77e",
      "placeholder": "​",
      "style": "IPY_MODEL_6d2c2c57d00a47d2a606a0bed49f79ed",
      "value": "Downloading builder script: 100%"
     }
    },
    "e4a49dcd89374efb92e3fc6bca9e2ce0": {
     "model_module": "@jupyter-widgets/controls",
     "model_name": "FloatProgressModel",
     "model_module_version": "1.5.0",
     "state": {
      "_dom_classes": [],
      "_model_module": "@jupyter-widgets/controls",
      "_model_module_version": "1.5.0",
      "_model_name": "FloatProgressModel",
      "_view_count": null,
      "_view_module": "@jupyter-widgets/controls",
      "_view_module_version": "1.5.0",
      "_view_name": "ProgressView",
      "bar_style": "success",
      "description": "",
      "description_tooltip": null,
      "layout": "IPY_MODEL_7b2eb3f9360747429ff339b2ddf30844",
      "max": 3557,
      "min": 0,
      "orientation": "horizontal",
      "style": "IPY_MODEL_da09061c355a4630888d1ac0c7c635b4",
      "value": 3557
     }
    },
    "a7cb9d54150141b39484fb4ab48e1868": {
     "model_module": "@jupyter-widgets/controls",
     "model_name": "HTMLModel",
     "model_module_version": "1.5.0",
     "state": {
      "_dom_classes": [],
      "_model_module": "@jupyter-widgets/controls",
      "_model_module_version": "1.5.0",
      "_model_name": "HTMLModel",
      "_view_count": null,
      "_view_module": "@jupyter-widgets/controls",
      "_view_module_version": "1.5.0",
      "_view_name": "HTMLView",
      "description": "",
      "description_tooltip": null,
      "layout": "IPY_MODEL_0a3c03307b8641839c181ef67de0aea1",
      "placeholder": "​",
      "style": "IPY_MODEL_8d51aa1397594e5e8704d40f7d25ec24",
      "value": " 3.56k/3.56k [00:00&lt;00:00, 127kB/s]"
     }
    },
    "80c135492746428781a09ce938f61b39": {
     "model_module": "@jupyter-widgets/base",
     "model_name": "LayoutModel",
     "model_module_version": "1.2.0",
     "state": {
      "_model_module": "@jupyter-widgets/base",
      "_model_module_version": "1.2.0",
      "_model_name": "LayoutModel",
      "_view_count": null,
      "_view_module": "@jupyter-widgets/base",
      "_view_module_version": "1.2.0",
      "_view_name": "LayoutView",
      "align_content": null,
      "align_items": null,
      "align_self": null,
      "border": null,
      "bottom": null,
      "display": null,
      "flex": null,
      "flex_flow": null,
      "grid_area": null,
      "grid_auto_columns": null,
      "grid_auto_flow": null,
      "grid_auto_rows": null,
      "grid_column": null,
      "grid_gap": null,
      "grid_row": null,
      "grid_template_areas": null,
      "grid_template_columns": null,
      "grid_template_rows": null,
      "height": null,
      "justify_content": null,
      "justify_items": null,
      "left": null,
      "margin": null,
      "max_height": null,
      "max_width": null,
      "min_height": null,
      "min_width": null,
      "object_fit": null,
      "object_position": null,
      "order": null,
      "overflow": null,
      "overflow_x": null,
      "overflow_y": null,
      "padding": null,
      "right": null,
      "top": null,
      "visibility": null,
      "width": null
     }
    },
    "6d8c4c70d68d4297846f7f293c4ec77e": {
     "model_module": "@jupyter-widgets/base",
     "model_name": "LayoutModel",
     "model_module_version": "1.2.0",
     "state": {
      "_model_module": "@jupyter-widgets/base",
      "_model_module_version": "1.2.0",
      "_model_name": "LayoutModel",
      "_view_count": null,
      "_view_module": "@jupyter-widgets/base",
      "_view_module_version": "1.2.0",
      "_view_name": "LayoutView",
      "align_content": null,
      "align_items": null,
      "align_self": null,
      "border": null,
      "bottom": null,
      "display": null,
      "flex": null,
      "flex_flow": null,
      "grid_area": null,
      "grid_auto_columns": null,
      "grid_auto_flow": null,
      "grid_auto_rows": null,
      "grid_column": null,
      "grid_gap": null,
      "grid_row": null,
      "grid_template_areas": null,
      "grid_template_columns": null,
      "grid_template_rows": null,
      "height": null,
      "justify_content": null,
      "justify_items": null,
      "left": null,
      "margin": null,
      "max_height": null,
      "max_width": null,
      "min_height": null,
      "min_width": null,
      "object_fit": null,
      "object_position": null,
      "order": null,
      "overflow": null,
      "overflow_x": null,
      "overflow_y": null,
      "padding": null,
      "right": null,
      "top": null,
      "visibility": null,
      "width": null
     }
    },
    "6d2c2c57d00a47d2a606a0bed49f79ed": {
     "model_module": "@jupyter-widgets/controls",
     "model_name": "DescriptionStyleModel",
     "model_module_version": "1.5.0",
     "state": {
      "_model_module": "@jupyter-widgets/controls",
      "_model_module_version": "1.5.0",
      "_model_name": "DescriptionStyleModel",
      "_view_count": null,
      "_view_module": "@jupyter-widgets/base",
      "_view_module_version": "1.2.0",
      "_view_name": "StyleView",
      "description_width": ""
     }
    },
    "7b2eb3f9360747429ff339b2ddf30844": {
     "model_module": "@jupyter-widgets/base",
     "model_name": "LayoutModel",
     "model_module_version": "1.2.0",
     "state": {
      "_model_module": "@jupyter-widgets/base",
      "_model_module_version": "1.2.0",
      "_model_name": "LayoutModel",
      "_view_count": null,
      "_view_module": "@jupyter-widgets/base",
      "_view_module_version": "1.2.0",
      "_view_name": "LayoutView",
      "align_content": null,
      "align_items": null,
      "align_self": null,
      "border": null,
      "bottom": null,
      "display": null,
      "flex": null,
      "flex_flow": null,
      "grid_area": null,
      "grid_auto_columns": null,
      "grid_auto_flow": null,
      "grid_auto_rows": null,
      "grid_column": null,
      "grid_gap": null,
      "grid_row": null,
      "grid_template_areas": null,
      "grid_template_columns": null,
      "grid_template_rows": null,
      "height": null,
      "justify_content": null,
      "justify_items": null,
      "left": null,
      "margin": null,
      "max_height": null,
      "max_width": null,
      "min_height": null,
      "min_width": null,
      "object_fit": null,
      "object_position": null,
      "order": null,
      "overflow": null,
      "overflow_x": null,
      "overflow_y": null,
      "padding": null,
      "right": null,
      "top": null,
      "visibility": null,
      "width": null
     }
    },
    "da09061c355a4630888d1ac0c7c635b4": {
     "model_module": "@jupyter-widgets/controls",
     "model_name": "ProgressStyleModel",
     "model_module_version": "1.5.0",
     "state": {
      "_model_module": "@jupyter-widgets/controls",
      "_model_module_version": "1.5.0",
      "_model_name": "ProgressStyleModel",
      "_view_count": null,
      "_view_module": "@jupyter-widgets/base",
      "_view_module_version": "1.2.0",
      "_view_name": "StyleView",
      "bar_color": null,
      "description_width": ""
     }
    },
    "0a3c03307b8641839c181ef67de0aea1": {
     "model_module": "@jupyter-widgets/base",
     "model_name": "LayoutModel",
     "model_module_version": "1.2.0",
     "state": {
      "_model_module": "@jupyter-widgets/base",
      "_model_module_version": "1.2.0",
      "_model_name": "LayoutModel",
      "_view_count": null,
      "_view_module": "@jupyter-widgets/base",
      "_view_module_version": "1.2.0",
      "_view_name": "LayoutView",
      "align_content": null,
      "align_items": null,
      "align_self": null,
      "border": null,
      "bottom": null,
      "display": null,
      "flex": null,
      "flex_flow": null,
      "grid_area": null,
      "grid_auto_columns": null,
      "grid_auto_flow": null,
      "grid_auto_rows": null,
      "grid_column": null,
      "grid_gap": null,
      "grid_row": null,
      "grid_template_areas": null,
      "grid_template_columns": null,
      "grid_template_rows": null,
      "height": null,
      "justify_content": null,
      "justify_items": null,
      "left": null,
      "margin": null,
      "max_height": null,
      "max_width": null,
      "min_height": null,
      "min_width": null,
      "object_fit": null,
      "object_position": null,
      "order": null,
      "overflow": null,
      "overflow_x": null,
      "overflow_y": null,
      "padding": null,
      "right": null,
      "top": null,
      "visibility": null,
      "width": null
     }
    },
    "8d51aa1397594e5e8704d40f7d25ec24": {
     "model_module": "@jupyter-widgets/controls",
     "model_name": "DescriptionStyleModel",
     "model_module_version": "1.5.0",
     "state": {
      "_model_module": "@jupyter-widgets/controls",
      "_model_module_version": "1.5.0",
      "_model_name": "DescriptionStyleModel",
      "_view_count": null,
      "_view_module": "@jupyter-widgets/base",
      "_view_module_version": "1.2.0",
      "_view_name": "StyleView",
      "description_width": ""
     }
    },
    "68f58665e02e40ca87eb7fa7d308af2f": {
     "model_module": "@jupyter-widgets/controls",
     "model_name": "HBoxModel",
     "model_module_version": "1.5.0",
     "state": {
      "_dom_classes": [],
      "_model_module": "@jupyter-widgets/controls",
      "_model_module_version": "1.5.0",
      "_model_name": "HBoxModel",
      "_view_count": null,
      "_view_module": "@jupyter-widgets/controls",
      "_view_module_version": "1.5.0",
      "_view_name": "HBoxView",
      "box_style": "",
      "children": [
       "IPY_MODEL_8c1a6e5b24804769a17811c48bc7bc63",
       "IPY_MODEL_48b8cb776282474ebb74055b19d48a50",
       "IPY_MODEL_c340a446536742d29e76a8512bea0279"
      ],
      "layout": "IPY_MODEL_767b4b7d68de47e39a756826a6140a01"
     }
    },
    "8c1a6e5b24804769a17811c48bc7bc63": {
     "model_module": "@jupyter-widgets/controls",
     "model_name": "HTMLModel",
     "model_module_version": "1.5.0",
     "state": {
      "_dom_classes": [],
      "_model_module": "@jupyter-widgets/controls",
      "_model_module_version": "1.5.0",
      "_model_name": "HTMLModel",
      "_view_count": null,
      "_view_module": "@jupyter-widgets/controls",
      "_view_module_version": "1.5.0",
      "_view_name": "HTMLView",
      "description": "",
      "description_tooltip": null,
      "layout": "IPY_MODEL_44b9b5d2150349548abc1e2872a1a3d3",
      "placeholder": "​",
      "style": "IPY_MODEL_5876b25a3b9646a39864e284e3ab8938",
      "value": "Downloading metadata: 100%"
     }
    },
    "48b8cb776282474ebb74055b19d48a50": {
     "model_module": "@jupyter-widgets/controls",
     "model_name": "FloatProgressModel",
     "model_module_version": "1.5.0",
     "state": {
      "_dom_classes": [],
      "_model_module": "@jupyter-widgets/controls",
      "_model_module_version": "1.5.0",
      "_model_name": "FloatProgressModel",
      "_view_count": null,
      "_view_module": "@jupyter-widgets/controls",
      "_view_module_version": "1.5.0",
      "_view_name": "ProgressView",
      "bar_style": "success",
      "description": "",
      "description_tooltip": null,
      "layout": "IPY_MODEL_a488b39949d548d09037d2e0e402179d",
      "max": 1502,
      "min": 0,
      "orientation": "horizontal",
      "style": "IPY_MODEL_a5ba56ea9c8442a1900a504fadd77294",
      "value": 1502
     }
    },
    "c340a446536742d29e76a8512bea0279": {
     "model_module": "@jupyter-widgets/controls",
     "model_name": "HTMLModel",
     "model_module_version": "1.5.0",
     "state": {
      "_dom_classes": [],
      "_model_module": "@jupyter-widgets/controls",
      "_model_module_version": "1.5.0",
      "_model_name": "HTMLModel",
      "_view_count": null,
      "_view_module": "@jupyter-widgets/controls",
      "_view_module_version": "1.5.0",
      "_view_name": "HTMLView",
      "description": "",
      "description_tooltip": null,
      "layout": "IPY_MODEL_e7aa1d4a11204e9bbdd29fa4b3ad83ff",
      "placeholder": "​",
      "style": "IPY_MODEL_011696dbaafb4131b07dba2c7ef3411e",
      "value": " 1.50k/1.50k [00:00&lt;00:00, 95.3kB/s]"
     }
    },
    "767b4b7d68de47e39a756826a6140a01": {
     "model_module": "@jupyter-widgets/base",
     "model_name": "LayoutModel",
     "model_module_version": "1.2.0",
     "state": {
      "_model_module": "@jupyter-widgets/base",
      "_model_module_version": "1.2.0",
      "_model_name": "LayoutModel",
      "_view_count": null,
      "_view_module": "@jupyter-widgets/base",
      "_view_module_version": "1.2.0",
      "_view_name": "LayoutView",
      "align_content": null,
      "align_items": null,
      "align_self": null,
      "border": null,
      "bottom": null,
      "display": null,
      "flex": null,
      "flex_flow": null,
      "grid_area": null,
      "grid_auto_columns": null,
      "grid_auto_flow": null,
      "grid_auto_rows": null,
      "grid_column": null,
      "grid_gap": null,
      "grid_row": null,
      "grid_template_areas": null,
      "grid_template_columns": null,
      "grid_template_rows": null,
      "height": null,
      "justify_content": null,
      "justify_items": null,
      "left": null,
      "margin": null,
      "max_height": null,
      "max_width": null,
      "min_height": null,
      "min_width": null,
      "object_fit": null,
      "object_position": null,
      "order": null,
      "overflow": null,
      "overflow_x": null,
      "overflow_y": null,
      "padding": null,
      "right": null,
      "top": null,
      "visibility": null,
      "width": null
     }
    },
    "44b9b5d2150349548abc1e2872a1a3d3": {
     "model_module": "@jupyter-widgets/base",
     "model_name": "LayoutModel",
     "model_module_version": "1.2.0",
     "state": {
      "_model_module": "@jupyter-widgets/base",
      "_model_module_version": "1.2.0",
      "_model_name": "LayoutModel",
      "_view_count": null,
      "_view_module": "@jupyter-widgets/base",
      "_view_module_version": "1.2.0",
      "_view_name": "LayoutView",
      "align_content": null,
      "align_items": null,
      "align_self": null,
      "border": null,
      "bottom": null,
      "display": null,
      "flex": null,
      "flex_flow": null,
      "grid_area": null,
      "grid_auto_columns": null,
      "grid_auto_flow": null,
      "grid_auto_rows": null,
      "grid_column": null,
      "grid_gap": null,
      "grid_row": null,
      "grid_template_areas": null,
      "grid_template_columns": null,
      "grid_template_rows": null,
      "height": null,
      "justify_content": null,
      "justify_items": null,
      "left": null,
      "margin": null,
      "max_height": null,
      "max_width": null,
      "min_height": null,
      "min_width": null,
      "object_fit": null,
      "object_position": null,
      "order": null,
      "overflow": null,
      "overflow_x": null,
      "overflow_y": null,
      "padding": null,
      "right": null,
      "top": null,
      "visibility": null,
      "width": null
     }
    },
    "5876b25a3b9646a39864e284e3ab8938": {
     "model_module": "@jupyter-widgets/controls",
     "model_name": "DescriptionStyleModel",
     "model_module_version": "1.5.0",
     "state": {
      "_model_module": "@jupyter-widgets/controls",
      "_model_module_version": "1.5.0",
      "_model_name": "DescriptionStyleModel",
      "_view_count": null,
      "_view_module": "@jupyter-widgets/base",
      "_view_module_version": "1.2.0",
      "_view_name": "StyleView",
      "description_width": ""
     }
    },
    "a488b39949d548d09037d2e0e402179d": {
     "model_module": "@jupyter-widgets/base",
     "model_name": "LayoutModel",
     "model_module_version": "1.2.0",
     "state": {
      "_model_module": "@jupyter-widgets/base",
      "_model_module_version": "1.2.0",
      "_model_name": "LayoutModel",
      "_view_count": null,
      "_view_module": "@jupyter-widgets/base",
      "_view_module_version": "1.2.0",
      "_view_name": "LayoutView",
      "align_content": null,
      "align_items": null,
      "align_self": null,
      "border": null,
      "bottom": null,
      "display": null,
      "flex": null,
      "flex_flow": null,
      "grid_area": null,
      "grid_auto_columns": null,
      "grid_auto_flow": null,
      "grid_auto_rows": null,
      "grid_column": null,
      "grid_gap": null,
      "grid_row": null,
      "grid_template_areas": null,
      "grid_template_columns": null,
      "grid_template_rows": null,
      "height": null,
      "justify_content": null,
      "justify_items": null,
      "left": null,
      "margin": null,
      "max_height": null,
      "max_width": null,
      "min_height": null,
      "min_width": null,
      "object_fit": null,
      "object_position": null,
      "order": null,
      "overflow": null,
      "overflow_x": null,
      "overflow_y": null,
      "padding": null,
      "right": null,
      "top": null,
      "visibility": null,
      "width": null
     }
    },
    "a5ba56ea9c8442a1900a504fadd77294": {
     "model_module": "@jupyter-widgets/controls",
     "model_name": "ProgressStyleModel",
     "model_module_version": "1.5.0",
     "state": {
      "_model_module": "@jupyter-widgets/controls",
      "_model_module_version": "1.5.0",
      "_model_name": "ProgressStyleModel",
      "_view_count": null,
      "_view_module": "@jupyter-widgets/base",
      "_view_module_version": "1.2.0",
      "_view_name": "StyleView",
      "bar_color": null,
      "description_width": ""
     }
    },
    "e7aa1d4a11204e9bbdd29fa4b3ad83ff": {
     "model_module": "@jupyter-widgets/base",
     "model_name": "LayoutModel",
     "model_module_version": "1.2.0",
     "state": {
      "_model_module": "@jupyter-widgets/base",
      "_model_module_version": "1.2.0",
      "_model_name": "LayoutModel",
      "_view_count": null,
      "_view_module": "@jupyter-widgets/base",
      "_view_module_version": "1.2.0",
      "_view_name": "LayoutView",
      "align_content": null,
      "align_items": null,
      "align_self": null,
      "border": null,
      "bottom": null,
      "display": null,
      "flex": null,
      "flex_flow": null,
      "grid_area": null,
      "grid_auto_columns": null,
      "grid_auto_flow": null,
      "grid_auto_rows": null,
      "grid_column": null,
      "grid_gap": null,
      "grid_row": null,
      "grid_template_areas": null,
      "grid_template_columns": null,
      "grid_template_rows": null,
      "height": null,
      "justify_content": null,
      "justify_items": null,
      "left": null,
      "margin": null,
      "max_height": null,
      "max_width": null,
      "min_height": null,
      "min_width": null,
      "object_fit": null,
      "object_position": null,
      "order": null,
      "overflow": null,
      "overflow_x": null,
      "overflow_y": null,
      "padding": null,
      "right": null,
      "top": null,
      "visibility": null,
      "width": null
     }
    },
    "011696dbaafb4131b07dba2c7ef3411e": {
     "model_module": "@jupyter-widgets/controls",
     "model_name": "DescriptionStyleModel",
     "model_module_version": "1.5.0",
     "state": {
      "_model_module": "@jupyter-widgets/controls",
      "_model_module_version": "1.5.0",
      "_model_name": "DescriptionStyleModel",
      "_view_count": null,
      "_view_module": "@jupyter-widgets/base",
      "_view_module_version": "1.2.0",
      "_view_name": "StyleView",
      "description_width": ""
     }
    },
    "db0f33df64d3498ab4bbbe67ce32ebcd": {
     "model_module": "@jupyter-widgets/controls",
     "model_name": "HBoxModel",
     "model_module_version": "1.5.0",
     "state": {
      "_dom_classes": [],
      "_model_module": "@jupyter-widgets/controls",
      "_model_module_version": "1.5.0",
      "_model_name": "HBoxModel",
      "_view_count": null,
      "_view_module": "@jupyter-widgets/controls",
      "_view_module_version": "1.5.0",
      "_view_name": "HBoxView",
      "box_style": "",
      "children": [
       "IPY_MODEL_a37b810cda434680b6ba6ca3dcb5aa04",
       "IPY_MODEL_6e3d36ffb3f54acd9fc6503e7649235a",
       "IPY_MODEL_82e3ec0c74e741bfbc7d6e6490b825b7"
      ],
      "layout": "IPY_MODEL_c7f3a16f908f49e0ba32bf4a36c79471"
     }
    },
    "a37b810cda434680b6ba6ca3dcb5aa04": {
     "model_module": "@jupyter-widgets/controls",
     "model_name": "HTMLModel",
     "model_module_version": "1.5.0",
     "state": {
      "_dom_classes": [],
      "_model_module": "@jupyter-widgets/controls",
      "_model_module_version": "1.5.0",
      "_model_name": "HTMLModel",
      "_view_count": null,
      "_view_module": "@jupyter-widgets/controls",
      "_view_module_version": "1.5.0",
      "_view_name": "HTMLView",
      "description": "",
      "description_tooltip": null,
      "layout": "IPY_MODEL_931489148737424aae77199555c39f79",
      "placeholder": "​",
      "style": "IPY_MODEL_a3ce731c71b34fa3ae0dbe38750a354f",
      "value": "Downloading readme: 100%"
     }
    },
    "6e3d36ffb3f54acd9fc6503e7649235a": {
     "model_module": "@jupyter-widgets/controls",
     "model_name": "FloatProgressModel",
     "model_module_version": "1.5.0",
     "state": {
      "_dom_classes": [],
      "_model_module": "@jupyter-widgets/controls",
      "_model_module_version": "1.5.0",
      "_model_name": "FloatProgressModel",
      "_view_count": null,
      "_view_module": "@jupyter-widgets/controls",
      "_view_module_version": "1.5.0",
      "_view_name": "ProgressView",
      "bar_style": "success",
      "description": "",
      "description_tooltip": null,
      "layout": "IPY_MODEL_9b0e0bf1e1d94542a9104d1ff449b537",
      "max": 5237,
      "min": 0,
      "orientation": "horizontal",
      "style": "IPY_MODEL_2d84ac4ff0ee493392ce860cacd1a690",
      "value": 5237
     }
    },
    "82e3ec0c74e741bfbc7d6e6490b825b7": {
     "model_module": "@jupyter-widgets/controls",
     "model_name": "HTMLModel",
     "model_module_version": "1.5.0",
     "state": {
      "_dom_classes": [],
      "_model_module": "@jupyter-widgets/controls",
      "_model_module_version": "1.5.0",
      "_model_name": "HTMLModel",
      "_view_count": null,
      "_view_module": "@jupyter-widgets/controls",
      "_view_module_version": "1.5.0",
      "_view_name": "HTMLView",
      "description": "",
      "description_tooltip": null,
      "layout": "IPY_MODEL_dc578aac6a344aaa96790e145cb2119b",
      "placeholder": "​",
      "style": "IPY_MODEL_c44028f6e9284ab38fa6df3f059ebefe",
      "value": " 5.24k/5.24k [00:00&lt;00:00, 279kB/s]"
     }
    },
    "c7f3a16f908f49e0ba32bf4a36c79471": {
     "model_module": "@jupyter-widgets/base",
     "model_name": "LayoutModel",
     "model_module_version": "1.2.0",
     "state": {
      "_model_module": "@jupyter-widgets/base",
      "_model_module_version": "1.2.0",
      "_model_name": "LayoutModel",
      "_view_count": null,
      "_view_module": "@jupyter-widgets/base",
      "_view_module_version": "1.2.0",
      "_view_name": "LayoutView",
      "align_content": null,
      "align_items": null,
      "align_self": null,
      "border": null,
      "bottom": null,
      "display": null,
      "flex": null,
      "flex_flow": null,
      "grid_area": null,
      "grid_auto_columns": null,
      "grid_auto_flow": null,
      "grid_auto_rows": null,
      "grid_column": null,
      "grid_gap": null,
      "grid_row": null,
      "grid_template_areas": null,
      "grid_template_columns": null,
      "grid_template_rows": null,
      "height": null,
      "justify_content": null,
      "justify_items": null,
      "left": null,
      "margin": null,
      "max_height": null,
      "max_width": null,
      "min_height": null,
      "min_width": null,
      "object_fit": null,
      "object_position": null,
      "order": null,
      "overflow": null,
      "overflow_x": null,
      "overflow_y": null,
      "padding": null,
      "right": null,
      "top": null,
      "visibility": null,
      "width": null
     }
    },
    "931489148737424aae77199555c39f79": {
     "model_module": "@jupyter-widgets/base",
     "model_name": "LayoutModel",
     "model_module_version": "1.2.0",
     "state": {
      "_model_module": "@jupyter-widgets/base",
      "_model_module_version": "1.2.0",
      "_model_name": "LayoutModel",
      "_view_count": null,
      "_view_module": "@jupyter-widgets/base",
      "_view_module_version": "1.2.0",
      "_view_name": "LayoutView",
      "align_content": null,
      "align_items": null,
      "align_self": null,
      "border": null,
      "bottom": null,
      "display": null,
      "flex": null,
      "flex_flow": null,
      "grid_area": null,
      "grid_auto_columns": null,
      "grid_auto_flow": null,
      "grid_auto_rows": null,
      "grid_column": null,
      "grid_gap": null,
      "grid_row": null,
      "grid_template_areas": null,
      "grid_template_columns": null,
      "grid_template_rows": null,
      "height": null,
      "justify_content": null,
      "justify_items": null,
      "left": null,
      "margin": null,
      "max_height": null,
      "max_width": null,
      "min_height": null,
      "min_width": null,
      "object_fit": null,
      "object_position": null,
      "order": null,
      "overflow": null,
      "overflow_x": null,
      "overflow_y": null,
      "padding": null,
      "right": null,
      "top": null,
      "visibility": null,
      "width": null
     }
    },
    "a3ce731c71b34fa3ae0dbe38750a354f": {
     "model_module": "@jupyter-widgets/controls",
     "model_name": "DescriptionStyleModel",
     "model_module_version": "1.5.0",
     "state": {
      "_model_module": "@jupyter-widgets/controls",
      "_model_module_version": "1.5.0",
      "_model_name": "DescriptionStyleModel",
      "_view_count": null,
      "_view_module": "@jupyter-widgets/base",
      "_view_module_version": "1.2.0",
      "_view_name": "StyleView",
      "description_width": ""
     }
    },
    "9b0e0bf1e1d94542a9104d1ff449b537": {
     "model_module": "@jupyter-widgets/base",
     "model_name": "LayoutModel",
     "model_module_version": "1.2.0",
     "state": {
      "_model_module": "@jupyter-widgets/base",
      "_model_module_version": "1.2.0",
      "_model_name": "LayoutModel",
      "_view_count": null,
      "_view_module": "@jupyter-widgets/base",
      "_view_module_version": "1.2.0",
      "_view_name": "LayoutView",
      "align_content": null,
      "align_items": null,
      "align_self": null,
      "border": null,
      "bottom": null,
      "display": null,
      "flex": null,
      "flex_flow": null,
      "grid_area": null,
      "grid_auto_columns": null,
      "grid_auto_flow": null,
      "grid_auto_rows": null,
      "grid_column": null,
      "grid_gap": null,
      "grid_row": null,
      "grid_template_areas": null,
      "grid_template_columns": null,
      "grid_template_rows": null,
      "height": null,
      "justify_content": null,
      "justify_items": null,
      "left": null,
      "margin": null,
      "max_height": null,
      "max_width": null,
      "min_height": null,
      "min_width": null,
      "object_fit": null,
      "object_position": null,
      "order": null,
      "overflow": null,
      "overflow_x": null,
      "overflow_y": null,
      "padding": null,
      "right": null,
      "top": null,
      "visibility": null,
      "width": null
     }
    },
    "2d84ac4ff0ee493392ce860cacd1a690": {
     "model_module": "@jupyter-widgets/controls",
     "model_name": "ProgressStyleModel",
     "model_module_version": "1.5.0",
     "state": {
      "_model_module": "@jupyter-widgets/controls",
      "_model_module_version": "1.5.0",
      "_model_name": "ProgressStyleModel",
      "_view_count": null,
      "_view_module": "@jupyter-widgets/base",
      "_view_module_version": "1.2.0",
      "_view_name": "StyleView",
      "bar_color": null,
      "description_width": ""
     }
    },
    "dc578aac6a344aaa96790e145cb2119b": {
     "model_module": "@jupyter-widgets/base",
     "model_name": "LayoutModel",
     "model_module_version": "1.2.0",
     "state": {
      "_model_module": "@jupyter-widgets/base",
      "_model_module_version": "1.2.0",
      "_model_name": "LayoutModel",
      "_view_count": null,
      "_view_module": "@jupyter-widgets/base",
      "_view_module_version": "1.2.0",
      "_view_name": "LayoutView",
      "align_content": null,
      "align_items": null,
      "align_self": null,
      "border": null,
      "bottom": null,
      "display": null,
      "flex": null,
      "flex_flow": null,
      "grid_area": null,
      "grid_auto_columns": null,
      "grid_auto_flow": null,
      "grid_auto_rows": null,
      "grid_column": null,
      "grid_gap": null,
      "grid_row": null,
      "grid_template_areas": null,
      "grid_template_columns": null,
      "grid_template_rows": null,
      "height": null,
      "justify_content": null,
      "justify_items": null,
      "left": null,
      "margin": null,
      "max_height": null,
      "max_width": null,
      "min_height": null,
      "min_width": null,
      "object_fit": null,
      "object_position": null,
      "order": null,
      "overflow": null,
      "overflow_x": null,
      "overflow_y": null,
      "padding": null,
      "right": null,
      "top": null,
      "visibility": null,
      "width": null
     }
    },
    "c44028f6e9284ab38fa6df3f059ebefe": {
     "model_module": "@jupyter-widgets/controls",
     "model_name": "DescriptionStyleModel",
     "model_module_version": "1.5.0",
     "state": {
      "_model_module": "@jupyter-widgets/controls",
      "_model_module_version": "1.5.0",
      "_model_name": "DescriptionStyleModel",
      "_view_count": null,
      "_view_module": "@jupyter-widgets/base",
      "_view_module_version": "1.2.0",
      "_view_name": "StyleView",
      "description_width": ""
     }
    },
    "cde1d52cf2f84ecca05f663ac4d8b4f2": {
     "model_module": "@jupyter-widgets/controls",
     "model_name": "HBoxModel",
     "model_module_version": "1.5.0",
     "state": {
      "_dom_classes": [],
      "_model_module": "@jupyter-widgets/controls",
      "_model_module_version": "1.5.0",
      "_model_name": "HBoxModel",
      "_view_count": null,
      "_view_module": "@jupyter-widgets/controls",
      "_view_module_version": "1.5.0",
      "_view_name": "HBoxView",
      "box_style": "",
      "children": [
       "IPY_MODEL_5ebe528d2c0142e3b7ceaa398c9f9443",
       "IPY_MODEL_af1ccc1f38a84ca3822e74d4efb8caab",
       "IPY_MODEL_6c8a6f8584654eb7b9f33e05d3756f94"
      ],
      "layout": "IPY_MODEL_18535e9f42ab430ca593cd41ffd61112"
     }
    },
    "5ebe528d2c0142e3b7ceaa398c9f9443": {
     "model_module": "@jupyter-widgets/controls",
     "model_name": "HTMLModel",
     "model_module_version": "1.5.0",
     "state": {
      "_dom_classes": [],
      "_model_module": "@jupyter-widgets/controls",
      "_model_module_version": "1.5.0",
      "_model_name": "HTMLModel",
      "_view_count": null,
      "_view_module": "@jupyter-widgets/controls",
      "_view_module_version": "1.5.0",
      "_view_name": "HTMLView",
      "description": "",
      "description_tooltip": null,
      "layout": "IPY_MODEL_1d499b5ff9a247aa9f4756e31e5e082a",
      "placeholder": "​",
      "style": "IPY_MODEL_6cee8fb53c5e4c3eb22c0f1353e71ffb",
      "value": "Downloading data: 100%"
     }
    },
    "af1ccc1f38a84ca3822e74d4efb8caab": {
     "model_module": "@jupyter-widgets/controls",
     "model_name": "FloatProgressModel",
     "model_module_version": "1.5.0",
     "state": {
      "_dom_classes": [],
      "_model_module": "@jupyter-widgets/controls",
      "_model_module_version": "1.5.0",
      "_model_name": "FloatProgressModel",
      "_view_count": null,
      "_view_module": "@jupyter-widgets/controls",
      "_view_module_version": "1.5.0",
      "_view_name": "ProgressView",
      "bar_style": "success",
      "description": "",
      "description_tooltip": null,
      "layout": "IPY_MODEL_091b8326d85948998e2b75651dc1f0fb",
      "max": 1706037,
      "min": 0,
      "orientation": "horizontal",
      "style": "IPY_MODEL_b1e4021212894f92aed1e8cc3c56198e",
      "value": 1706037
     }
    },
    "6c8a6f8584654eb7b9f33e05d3756f94": {
     "model_module": "@jupyter-widgets/controls",
     "model_name": "HTMLModel",
     "model_module_version": "1.5.0",
     "state": {
      "_dom_classes": [],
      "_model_module": "@jupyter-widgets/controls",
      "_model_module_version": "1.5.0",
      "_model_name": "HTMLModel",
      "_view_count": null,
      "_view_module": "@jupyter-widgets/controls",
      "_view_module_version": "1.5.0",
      "_view_name": "HTMLView",
      "description": "",
      "description_tooltip": null,
      "layout": "IPY_MODEL_ecd8e6ff11674bdbac9850aaed66a794",
      "placeholder": "​",
      "style": "IPY_MODEL_18a45203a94345199d89f2c2bd68f244",
      "value": " 1.71M/1.71M [00:00&lt;00:00, 5.98MB/s]"
     }
    },
    "18535e9f42ab430ca593cd41ffd61112": {
     "model_module": "@jupyter-widgets/base",
     "model_name": "LayoutModel",
     "model_module_version": "1.2.0",
     "state": {
      "_model_module": "@jupyter-widgets/base",
      "_model_module_version": "1.2.0",
      "_model_name": "LayoutModel",
      "_view_count": null,
      "_view_module": "@jupyter-widgets/base",
      "_view_module_version": "1.2.0",
      "_view_name": "LayoutView",
      "align_content": null,
      "align_items": null,
      "align_self": null,
      "border": null,
      "bottom": null,
      "display": null,
      "flex": null,
      "flex_flow": null,
      "grid_area": null,
      "grid_auto_columns": null,
      "grid_auto_flow": null,
      "grid_auto_rows": null,
      "grid_column": null,
      "grid_gap": null,
      "grid_row": null,
      "grid_template_areas": null,
      "grid_template_columns": null,
      "grid_template_rows": null,
      "height": null,
      "justify_content": null,
      "justify_items": null,
      "left": null,
      "margin": null,
      "max_height": null,
      "max_width": null,
      "min_height": null,
      "min_width": null,
      "object_fit": null,
      "object_position": null,
      "order": null,
      "overflow": null,
      "overflow_x": null,
      "overflow_y": null,
      "padding": null,
      "right": null,
      "top": null,
      "visibility": null,
      "width": null
     }
    },
    "1d499b5ff9a247aa9f4756e31e5e082a": {
     "model_module": "@jupyter-widgets/base",
     "model_name": "LayoutModel",
     "model_module_version": "1.2.0",
     "state": {
      "_model_module": "@jupyter-widgets/base",
      "_model_module_version": "1.2.0",
      "_model_name": "LayoutModel",
      "_view_count": null,
      "_view_module": "@jupyter-widgets/base",
      "_view_module_version": "1.2.0",
      "_view_name": "LayoutView",
      "align_content": null,
      "align_items": null,
      "align_self": null,
      "border": null,
      "bottom": null,
      "display": null,
      "flex": null,
      "flex_flow": null,
      "grid_area": null,
      "grid_auto_columns": null,
      "grid_auto_flow": null,
      "grid_auto_rows": null,
      "grid_column": null,
      "grid_gap": null,
      "grid_row": null,
      "grid_template_areas": null,
      "grid_template_columns": null,
      "grid_template_rows": null,
      "height": null,
      "justify_content": null,
      "justify_items": null,
      "left": null,
      "margin": null,
      "max_height": null,
      "max_width": null,
      "min_height": null,
      "min_width": null,
      "object_fit": null,
      "object_position": null,
      "order": null,
      "overflow": null,
      "overflow_x": null,
      "overflow_y": null,
      "padding": null,
      "right": null,
      "top": null,
      "visibility": null,
      "width": null
     }
    },
    "6cee8fb53c5e4c3eb22c0f1353e71ffb": {
     "model_module": "@jupyter-widgets/controls",
     "model_name": "DescriptionStyleModel",
     "model_module_version": "1.5.0",
     "state": {
      "_model_module": "@jupyter-widgets/controls",
      "_model_module_version": "1.5.0",
      "_model_name": "DescriptionStyleModel",
      "_view_count": null,
      "_view_module": "@jupyter-widgets/base",
      "_view_module_version": "1.2.0",
      "_view_name": "StyleView",
      "description_width": ""
     }
    },
    "091b8326d85948998e2b75651dc1f0fb": {
     "model_module": "@jupyter-widgets/base",
     "model_name": "LayoutModel",
     "model_module_version": "1.2.0",
     "state": {
      "_model_module": "@jupyter-widgets/base",
      "_model_module_version": "1.2.0",
      "_model_name": "LayoutModel",
      "_view_count": null,
      "_view_module": "@jupyter-widgets/base",
      "_view_module_version": "1.2.0",
      "_view_name": "LayoutView",
      "align_content": null,
      "align_items": null,
      "align_self": null,
      "border": null,
      "bottom": null,
      "display": null,
      "flex": null,
      "flex_flow": null,
      "grid_area": null,
      "grid_auto_columns": null,
      "grid_auto_flow": null,
      "grid_auto_rows": null,
      "grid_column": null,
      "grid_gap": null,
      "grid_row": null,
      "grid_template_areas": null,
      "grid_template_columns": null,
      "grid_template_rows": null,
      "height": null,
      "justify_content": null,
      "justify_items": null,
      "left": null,
      "margin": null,
      "max_height": null,
      "max_width": null,
      "min_height": null,
      "min_width": null,
      "object_fit": null,
      "object_position": null,
      "order": null,
      "overflow": null,
      "overflow_x": null,
      "overflow_y": null,
      "padding": null,
      "right": null,
      "top": null,
      "visibility": null,
      "width": null
     }
    },
    "b1e4021212894f92aed1e8cc3c56198e": {
     "model_module": "@jupyter-widgets/controls",
     "model_name": "ProgressStyleModel",
     "model_module_version": "1.5.0",
     "state": {
      "_model_module": "@jupyter-widgets/controls",
      "_model_module_version": "1.5.0",
      "_model_name": "ProgressStyleModel",
      "_view_count": null,
      "_view_module": "@jupyter-widgets/base",
      "_view_module_version": "1.2.0",
      "_view_name": "StyleView",
      "bar_color": null,
      "description_width": ""
     }
    },
    "ecd8e6ff11674bdbac9850aaed66a794": {
     "model_module": "@jupyter-widgets/base",
     "model_name": "LayoutModel",
     "model_module_version": "1.2.0",
     "state": {
      "_model_module": "@jupyter-widgets/base",
      "_model_module_version": "1.2.0",
      "_model_name": "LayoutModel",
      "_view_count": null,
      "_view_module": "@jupyter-widgets/base",
      "_view_module_version": "1.2.0",
      "_view_name": "LayoutView",
      "align_content": null,
      "align_items": null,
      "align_self": null,
      "border": null,
      "bottom": null,
      "display": null,
      "flex": null,
      "flex_flow": null,
      "grid_area": null,
      "grid_auto_columns": null,
      "grid_auto_flow": null,
      "grid_auto_rows": null,
      "grid_column": null,
      "grid_gap": null,
      "grid_row": null,
      "grid_template_areas": null,
      "grid_template_columns": null,
      "grid_template_rows": null,
      "height": null,
      "justify_content": null,
      "justify_items": null,
      "left": null,
      "margin": null,
      "max_height": null,
      "max_width": null,
      "min_height": null,
      "min_width": null,
      "object_fit": null,
      "object_position": null,
      "order": null,
      "overflow": null,
      "overflow_x": null,
      "overflow_y": null,
      "padding": null,
      "right": null,
      "top": null,
      "visibility": null,
      "width": null
     }
    },
    "18a45203a94345199d89f2c2bd68f244": {
     "model_module": "@jupyter-widgets/controls",
     "model_name": "DescriptionStyleModel",
     "model_module_version": "1.5.0",
     "state": {
      "_model_module": "@jupyter-widgets/controls",
      "_model_module_version": "1.5.0",
      "_model_name": "DescriptionStyleModel",
      "_view_count": null,
      "_view_module": "@jupyter-widgets/base",
      "_view_module_version": "1.2.0",
      "_view_name": "StyleView",
      "description_width": ""
     }
    },
    "042f22f2a1f24edbace99157c993cb04": {
     "model_module": "@jupyter-widgets/controls",
     "model_name": "HBoxModel",
     "model_module_version": "1.5.0",
     "state": {
      "_dom_classes": [],
      "_model_module": "@jupyter-widgets/controls",
      "_model_module_version": "1.5.0",
      "_model_name": "HBoxModel",
      "_view_count": null,
      "_view_module": "@jupyter-widgets/controls",
      "_view_module_version": "1.5.0",
      "_view_name": "HBoxView",
      "box_style": "",
      "children": [
       "IPY_MODEL_5c3cbfaee3de4204bc01793b72dcff81",
       "IPY_MODEL_edee650985324f72abbf40e76a897511",
       "IPY_MODEL_a3b539bc55b145a480e451362d4c4d1f"
      ],
      "layout": "IPY_MODEL_3745436abc7c4bac90c46e60a9666ab1"
     }
    },
    "5c3cbfaee3de4204bc01793b72dcff81": {
     "model_module": "@jupyter-widgets/controls",
     "model_name": "HTMLModel",
     "model_module_version": "1.5.0",
     "state": {
      "_dom_classes": [],
      "_model_module": "@jupyter-widgets/controls",
      "_model_module_version": "1.5.0",
      "_model_name": "HTMLModel",
      "_view_count": null,
      "_view_module": "@jupyter-widgets/controls",
      "_view_module_version": "1.5.0",
      "_view_name": "HTMLView",
      "description": "",
      "description_tooltip": null,
      "layout": "IPY_MODEL_f677a95247f2460c86e96a3d57457bfc",
      "placeholder": "​",
      "style": "IPY_MODEL_e0b12581981b42f9879236e3a1aac8c5",
      "value": "Generating train split: 100%"
     }
    },
    "edee650985324f72abbf40e76a897511": {
     "model_module": "@jupyter-widgets/controls",
     "model_name": "FloatProgressModel",
     "model_module_version": "1.5.0",
     "state": {
      "_dom_classes": [],
      "_model_module": "@jupyter-widgets/controls",
      "_model_module_version": "1.5.0",
      "_model_name": "FloatProgressModel",
      "_view_count": null,
      "_view_module": "@jupyter-widgets/controls",
      "_view_module_version": "1.5.0",
      "_view_name": "ProgressView",
      "bar_style": "success",
      "description": "",
      "description_tooltip": null,
      "layout": "IPY_MODEL_c159832f7b1642a98fbd0935cad8ba78",
      "max": 7138,
      "min": 0,
      "orientation": "horizontal",
      "style": "IPY_MODEL_005a773912a54ea6af381e4cdc78b1d8",
      "value": 7138
     }
    },
    "a3b539bc55b145a480e451362d4c4d1f": {
     "model_module": "@jupyter-widgets/controls",
     "model_name": "HTMLModel",
     "model_module_version": "1.5.0",
     "state": {
      "_dom_classes": [],
      "_model_module": "@jupyter-widgets/controls",
      "_model_module_version": "1.5.0",
      "_model_name": "HTMLModel",
      "_view_count": null,
      "_view_module": "@jupyter-widgets/controls",
      "_view_module_version": "1.5.0",
      "_view_name": "HTMLView",
      "description": "",
      "description_tooltip": null,
      "layout": "IPY_MODEL_821f5b3824cf4a59ab4a480dc839197e",
      "placeholder": "​",
      "style": "IPY_MODEL_67c718567e6e4beaa39ce6f8202150d1",
      "value": " 7138/7138 [00:00&lt;00:00, 18903.48 examples/s]"
     }
    },
    "3745436abc7c4bac90c46e60a9666ab1": {
     "model_module": "@jupyter-widgets/base",
     "model_name": "LayoutModel",
     "model_module_version": "1.2.0",
     "state": {
      "_model_module": "@jupyter-widgets/base",
      "_model_module_version": "1.2.0",
      "_model_name": "LayoutModel",
      "_view_count": null,
      "_view_module": "@jupyter-widgets/base",
      "_view_module_version": "1.2.0",
      "_view_name": "LayoutView",
      "align_content": null,
      "align_items": null,
      "align_self": null,
      "border": null,
      "bottom": null,
      "display": null,
      "flex": null,
      "flex_flow": null,
      "grid_area": null,
      "grid_auto_columns": null,
      "grid_auto_flow": null,
      "grid_auto_rows": null,
      "grid_column": null,
      "grid_gap": null,
      "grid_row": null,
      "grid_template_areas": null,
      "grid_template_columns": null,
      "grid_template_rows": null,
      "height": null,
      "justify_content": null,
      "justify_items": null,
      "left": null,
      "margin": null,
      "max_height": null,
      "max_width": null,
      "min_height": null,
      "min_width": null,
      "object_fit": null,
      "object_position": null,
      "order": null,
      "overflow": null,
      "overflow_x": null,
      "overflow_y": null,
      "padding": null,
      "right": null,
      "top": null,
      "visibility": null,
      "width": null
     }
    },
    "f677a95247f2460c86e96a3d57457bfc": {
     "model_module": "@jupyter-widgets/base",
     "model_name": "LayoutModel",
     "model_module_version": "1.2.0",
     "state": {
      "_model_module": "@jupyter-widgets/base",
      "_model_module_version": "1.2.0",
      "_model_name": "LayoutModel",
      "_view_count": null,
      "_view_module": "@jupyter-widgets/base",
      "_view_module_version": "1.2.0",
      "_view_name": "LayoutView",
      "align_content": null,
      "align_items": null,
      "align_self": null,
      "border": null,
      "bottom": null,
      "display": null,
      "flex": null,
      "flex_flow": null,
      "grid_area": null,
      "grid_auto_columns": null,
      "grid_auto_flow": null,
      "grid_auto_rows": null,
      "grid_column": null,
      "grid_gap": null,
      "grid_row": null,
      "grid_template_areas": null,
      "grid_template_columns": null,
      "grid_template_rows": null,
      "height": null,
      "justify_content": null,
      "justify_items": null,
      "left": null,
      "margin": null,
      "max_height": null,
      "max_width": null,
      "min_height": null,
      "min_width": null,
      "object_fit": null,
      "object_position": null,
      "order": null,
      "overflow": null,
      "overflow_x": null,
      "overflow_y": null,
      "padding": null,
      "right": null,
      "top": null,
      "visibility": null,
      "width": null
     }
    },
    "e0b12581981b42f9879236e3a1aac8c5": {
     "model_module": "@jupyter-widgets/controls",
     "model_name": "DescriptionStyleModel",
     "model_module_version": "1.5.0",
     "state": {
      "_model_module": "@jupyter-widgets/controls",
      "_model_module_version": "1.5.0",
      "_model_name": "DescriptionStyleModel",
      "_view_count": null,
      "_view_module": "@jupyter-widgets/base",
      "_view_module_version": "1.2.0",
      "_view_name": "StyleView",
      "description_width": ""
     }
    },
    "c159832f7b1642a98fbd0935cad8ba78": {
     "model_module": "@jupyter-widgets/base",
     "model_name": "LayoutModel",
     "model_module_version": "1.2.0",
     "state": {
      "_model_module": "@jupyter-widgets/base",
      "_model_module_version": "1.2.0",
      "_model_name": "LayoutModel",
      "_view_count": null,
      "_view_module": "@jupyter-widgets/base",
      "_view_module_version": "1.2.0",
      "_view_name": "LayoutView",
      "align_content": null,
      "align_items": null,
      "align_self": null,
      "border": null,
      "bottom": null,
      "display": null,
      "flex": null,
      "flex_flow": null,
      "grid_area": null,
      "grid_auto_columns": null,
      "grid_auto_flow": null,
      "grid_auto_rows": null,
      "grid_column": null,
      "grid_gap": null,
      "grid_row": null,
      "grid_template_areas": null,
      "grid_template_columns": null,
      "grid_template_rows": null,
      "height": null,
      "justify_content": null,
      "justify_items": null,
      "left": null,
      "margin": null,
      "max_height": null,
      "max_width": null,
      "min_height": null,
      "min_width": null,
      "object_fit": null,
      "object_position": null,
      "order": null,
      "overflow": null,
      "overflow_x": null,
      "overflow_y": null,
      "padding": null,
      "right": null,
      "top": null,
      "visibility": null,
      "width": null
     }
    },
    "005a773912a54ea6af381e4cdc78b1d8": {
     "model_module": "@jupyter-widgets/controls",
     "model_name": "ProgressStyleModel",
     "model_module_version": "1.5.0",
     "state": {
      "_model_module": "@jupyter-widgets/controls",
      "_model_module_version": "1.5.0",
      "_model_name": "ProgressStyleModel",
      "_view_count": null,
      "_view_module": "@jupyter-widgets/base",
      "_view_module_version": "1.2.0",
      "_view_name": "StyleView",
      "bar_color": null,
      "description_width": ""
     }
    },
    "821f5b3824cf4a59ab4a480dc839197e": {
     "model_module": "@jupyter-widgets/base",
     "model_name": "LayoutModel",
     "model_module_version": "1.2.0",
     "state": {
      "_model_module": "@jupyter-widgets/base",
      "_model_module_version": "1.2.0",
      "_model_name": "LayoutModel",
      "_view_count": null,
      "_view_module": "@jupyter-widgets/base",
      "_view_module_version": "1.2.0",
      "_view_name": "LayoutView",
      "align_content": null,
      "align_items": null,
      "align_self": null,
      "border": null,
      "bottom": null,
      "display": null,
      "flex": null,
      "flex_flow": null,
      "grid_area": null,
      "grid_auto_columns": null,
      "grid_auto_flow": null,
      "grid_auto_rows": null,
      "grid_column": null,
      "grid_gap": null,
      "grid_row": null,
      "grid_template_areas": null,
      "grid_template_columns": null,
      "grid_template_rows": null,
      "height": null,
      "justify_content": null,
      "justify_items": null,
      "left": null,
      "margin": null,
      "max_height": null,
      "max_width": null,
      "min_height": null,
      "min_width": null,
      "object_fit": null,
      "object_position": null,
      "order": null,
      "overflow": null,
      "overflow_x": null,
      "overflow_y": null,
      "padding": null,
      "right": null,
      "top": null,
      "visibility": null,
      "width": null
     }
    },
    "67c718567e6e4beaa39ce6f8202150d1": {
     "model_module": "@jupyter-widgets/controls",
     "model_name": "DescriptionStyleModel",
     "model_module_version": "1.5.0",
     "state": {
      "_model_module": "@jupyter-widgets/controls",
      "_model_module_version": "1.5.0",
      "_model_name": "DescriptionStyleModel",
      "_view_count": null,
      "_view_module": "@jupyter-widgets/base",
      "_view_module_version": "1.2.0",
      "_view_name": "StyleView",
      "description_width": ""
     }
    },
    "e3b94a36cb7d4a0d83a14a619e9f7884": {
     "model_module": "@jupyter-widgets/controls",
     "model_name": "HBoxModel",
     "model_module_version": "1.5.0",
     "state": {
      "_dom_classes": [],
      "_model_module": "@jupyter-widgets/controls",
      "_model_module_version": "1.5.0",
      "_model_name": "HBoxModel",
      "_view_count": null,
      "_view_module": "@jupyter-widgets/controls",
      "_view_module_version": "1.5.0",
      "_view_name": "HBoxView",
      "box_style": "",
      "children": [
       "IPY_MODEL_a43e7479ecd74eb8a4f935d1749eef14",
       "IPY_MODEL_26164c7dcc534462986665f87f7d0293",
       "IPY_MODEL_8db296684f4144b08dc474edf0800a23"
      ],
      "layout": "IPY_MODEL_1b1044c77b244a75ba4143c923bb22eb"
     }
    },
    "a43e7479ecd74eb8a4f935d1749eef14": {
     "model_module": "@jupyter-widgets/controls",
     "model_name": "HTMLModel",
     "model_module_version": "1.5.0",
     "state": {
      "_dom_classes": [],
      "_model_module": "@jupyter-widgets/controls",
      "_model_module_version": "1.5.0",
      "_model_name": "HTMLModel",
      "_view_count": null,
      "_view_module": "@jupyter-widgets/controls",
      "_view_module_version": "1.5.0",
      "_view_name": "HTMLView",
      "description": "",
      "description_tooltip": null,
      "layout": "IPY_MODEL_8d3dc7396ffb48a08cdf1da9b78b0e87",
      "placeholder": "​",
      "style": "IPY_MODEL_c5ce8281c7aa479699c90b062447ac4b",
      "value": "Generating test split: 100%"
     }
    },
    "26164c7dcc534462986665f87f7d0293": {
     "model_module": "@jupyter-widgets/controls",
     "model_name": "FloatProgressModel",
     "model_module_version": "1.5.0",
     "state": {
      "_dom_classes": [],
      "_model_module": "@jupyter-widgets/controls",
      "_model_module_version": "1.5.0",
      "_model_name": "FloatProgressModel",
      "_view_count": null,
      "_view_module": "@jupyter-widgets/controls",
      "_view_module_version": "1.5.0",
      "_view_name": "ProgressView",
      "bar_style": "success",
      "description": "",
      "description_tooltip": null,
      "layout": "IPY_MODEL_23c03f6435574c50afb36201934e3901",
      "max": 794,
      "min": 0,
      "orientation": "horizontal",
      "style": "IPY_MODEL_8659995a598341c99fc780166ba5af98",
      "value": 794
     }
    },
    "8db296684f4144b08dc474edf0800a23": {
     "model_module": "@jupyter-widgets/controls",
     "model_name": "HTMLModel",
     "model_module_version": "1.5.0",
     "state": {
      "_dom_classes": [],
      "_model_module": "@jupyter-widgets/controls",
      "_model_module_version": "1.5.0",
      "_model_name": "HTMLModel",
      "_view_count": null,
      "_view_module": "@jupyter-widgets/controls",
      "_view_module_version": "1.5.0",
      "_view_name": "HTMLView",
      "description": "",
      "description_tooltip": null,
      "layout": "IPY_MODEL_0403190390ca44098b4358b2e40d6775",
      "placeholder": "​",
      "style": "IPY_MODEL_dc1218bfe15b46e5aa06e0658422e12c",
      "value": " 794/794 [00:00&lt;00:00, 12077.21 examples/s]"
     }
    },
    "1b1044c77b244a75ba4143c923bb22eb": {
     "model_module": "@jupyter-widgets/base",
     "model_name": "LayoutModel",
     "model_module_version": "1.2.0",
     "state": {
      "_model_module": "@jupyter-widgets/base",
      "_model_module_version": "1.2.0",
      "_model_name": "LayoutModel",
      "_view_count": null,
      "_view_module": "@jupyter-widgets/base",
      "_view_module_version": "1.2.0",
      "_view_name": "LayoutView",
      "align_content": null,
      "align_items": null,
      "align_self": null,
      "border": null,
      "bottom": null,
      "display": null,
      "flex": null,
      "flex_flow": null,
      "grid_area": null,
      "grid_auto_columns": null,
      "grid_auto_flow": null,
      "grid_auto_rows": null,
      "grid_column": null,
      "grid_gap": null,
      "grid_row": null,
      "grid_template_areas": null,
      "grid_template_columns": null,
      "grid_template_rows": null,
      "height": null,
      "justify_content": null,
      "justify_items": null,
      "left": null,
      "margin": null,
      "max_height": null,
      "max_width": null,
      "min_height": null,
      "min_width": null,
      "object_fit": null,
      "object_position": null,
      "order": null,
      "overflow": null,
      "overflow_x": null,
      "overflow_y": null,
      "padding": null,
      "right": null,
      "top": null,
      "visibility": null,
      "width": null
     }
    },
    "8d3dc7396ffb48a08cdf1da9b78b0e87": {
     "model_module": "@jupyter-widgets/base",
     "model_name": "LayoutModel",
     "model_module_version": "1.2.0",
     "state": {
      "_model_module": "@jupyter-widgets/base",
      "_model_module_version": "1.2.0",
      "_model_name": "LayoutModel",
      "_view_count": null,
      "_view_module": "@jupyter-widgets/base",
      "_view_module_version": "1.2.0",
      "_view_name": "LayoutView",
      "align_content": null,
      "align_items": null,
      "align_self": null,
      "border": null,
      "bottom": null,
      "display": null,
      "flex": null,
      "flex_flow": null,
      "grid_area": null,
      "grid_auto_columns": null,
      "grid_auto_flow": null,
      "grid_auto_rows": null,
      "grid_column": null,
      "grid_gap": null,
      "grid_row": null,
      "grid_template_areas": null,
      "grid_template_columns": null,
      "grid_template_rows": null,
      "height": null,
      "justify_content": null,
      "justify_items": null,
      "left": null,
      "margin": null,
      "max_height": null,
      "max_width": null,
      "min_height": null,
      "min_width": null,
      "object_fit": null,
      "object_position": null,
      "order": null,
      "overflow": null,
      "overflow_x": null,
      "overflow_y": null,
      "padding": null,
      "right": null,
      "top": null,
      "visibility": null,
      "width": null
     }
    },
    "c5ce8281c7aa479699c90b062447ac4b": {
     "model_module": "@jupyter-widgets/controls",
     "model_name": "DescriptionStyleModel",
     "model_module_version": "1.5.0",
     "state": {
      "_model_module": "@jupyter-widgets/controls",
      "_model_module_version": "1.5.0",
      "_model_name": "DescriptionStyleModel",
      "_view_count": null,
      "_view_module": "@jupyter-widgets/base",
      "_view_module_version": "1.2.0",
      "_view_name": "StyleView",
      "description_width": ""
     }
    },
    "23c03f6435574c50afb36201934e3901": {
     "model_module": "@jupyter-widgets/base",
     "model_name": "LayoutModel",
     "model_module_version": "1.2.0",
     "state": {
      "_model_module": "@jupyter-widgets/base",
      "_model_module_version": "1.2.0",
      "_model_name": "LayoutModel",
      "_view_count": null,
      "_view_module": "@jupyter-widgets/base",
      "_view_module_version": "1.2.0",
      "_view_name": "LayoutView",
      "align_content": null,
      "align_items": null,
      "align_self": null,
      "border": null,
      "bottom": null,
      "display": null,
      "flex": null,
      "flex_flow": null,
      "grid_area": null,
      "grid_auto_columns": null,
      "grid_auto_flow": null,
      "grid_auto_rows": null,
      "grid_column": null,
      "grid_gap": null,
      "grid_row": null,
      "grid_template_areas": null,
      "grid_template_columns": null,
      "grid_template_rows": null,
      "height": null,
      "justify_content": null,
      "justify_items": null,
      "left": null,
      "margin": null,
      "max_height": null,
      "max_width": null,
      "min_height": null,
      "min_width": null,
      "object_fit": null,
      "object_position": null,
      "order": null,
      "overflow": null,
      "overflow_x": null,
      "overflow_y": null,
      "padding": null,
      "right": null,
      "top": null,
      "visibility": null,
      "width": null
     }
    },
    "8659995a598341c99fc780166ba5af98": {
     "model_module": "@jupyter-widgets/controls",
     "model_name": "ProgressStyleModel",
     "model_module_version": "1.5.0",
     "state": {
      "_model_module": "@jupyter-widgets/controls",
      "_model_module_version": "1.5.0",
      "_model_name": "ProgressStyleModel",
      "_view_count": null,
      "_view_module": "@jupyter-widgets/base",
      "_view_module_version": "1.2.0",
      "_view_name": "StyleView",
      "bar_color": null,
      "description_width": ""
     }
    },
    "0403190390ca44098b4358b2e40d6775": {
     "model_module": "@jupyter-widgets/base",
     "model_name": "LayoutModel",
     "model_module_version": "1.2.0",
     "state": {
      "_model_module": "@jupyter-widgets/base",
      "_model_module_version": "1.2.0",
      "_model_name": "LayoutModel",
      "_view_count": null,
      "_view_module": "@jupyter-widgets/base",
      "_view_module_version": "1.2.0",
      "_view_name": "LayoutView",
      "align_content": null,
      "align_items": null,
      "align_self": null,
      "border": null,
      "bottom": null,
      "display": null,
      "flex": null,
      "flex_flow": null,
      "grid_area": null,
      "grid_auto_columns": null,
      "grid_auto_flow": null,
      "grid_auto_rows": null,
      "grid_column": null,
      "grid_gap": null,
      "grid_row": null,
      "grid_template_areas": null,
      "grid_template_columns": null,
      "grid_template_rows": null,
      "height": null,
      "justify_content": null,
      "justify_items": null,
      "left": null,
      "margin": null,
      "max_height": null,
      "max_width": null,
      "min_height": null,
      "min_width": null,
      "object_fit": null,
      "object_position": null,
      "order": null,
      "overflow": null,
      "overflow_x": null,
      "overflow_y": null,
      "padding": null,
      "right": null,
      "top": null,
      "visibility": null,
      "width": null
     }
    },
    "dc1218bfe15b46e5aa06e0658422e12c": {
     "model_module": "@jupyter-widgets/controls",
     "model_name": "DescriptionStyleModel",
     "model_module_version": "1.5.0",
     "state": {
      "_model_module": "@jupyter-widgets/controls",
      "_model_module_version": "1.5.0",
      "_model_name": "DescriptionStyleModel",
      "_view_count": null,
      "_view_module": "@jupyter-widgets/base",
      "_view_module_version": "1.2.0",
      "_view_name": "StyleView",
      "description_width": ""
     }
    }
   }
  }
 },
 "nbformat": 4,
 "nbformat_minor": 0
}
