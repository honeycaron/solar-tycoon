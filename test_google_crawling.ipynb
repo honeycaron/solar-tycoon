{
 "cells": [
  {
   "cell_type": "code",
   "execution_count": 1,
   "id": "initial_id",
   "metadata": {
    "collapsed": true,
    "ExecuteTime": {
     "end_time": "2024-08-04T06:05:10.059741200Z",
     "start_time": "2024-08-04T06:05:10.042221500Z"
    }
   },
   "outputs": [],
   "source": [
    "import time\n",
    "\n",
    "import warnings\n",
    "warnings.filterwarnings('ignore')"
   ]
  },
  {
   "cell_type": "code",
   "execution_count": 3,
   "outputs": [],
   "source": [
    "from selenium import webdriver  # 동적크롤링\n",
    "from webdriver_manager.chrome import ChromeDriverManager\n",
    "from selenium.webdriver.common.keys import Keys\n",
    "from selenium.webdriver.common.by import By\n",
    "from bs4 import BeautifulSoup\n",
    "from selenium import webdriver\n",
    "from selenium.webdriver.chrome.service import Service\n",
    "from selenium.webdriver.chrome.options import Options\n",
    "from selenium.webdriver.common.by import By\n",
    "from selenium.webdriver.support.ui import WebDriverWait\n",
    "from selenium.webdriver.support import expected_conditions as EC\n",
    "from webdriver_manager.chrome import ChromeDriverManager"
   ],
   "metadata": {
    "collapsed": false,
    "ExecuteTime": {
     "end_time": "2024-08-04T06:05:46.580202600Z",
     "start_time": "2024-08-04T06:05:46.568345900Z"
    }
   },
   "id": "313fb47c7c435e55"
  },
  {
   "cell_type": "code",
   "execution_count": 5,
   "outputs": [],
   "source": [
    "url = \"https://map.kakao.com/\"\n",
    "service = Service(ChromeDriverManager().install())\n",
    "driver = webdriver.Chrome(service=service)\n",
    "driver.get(url)"
   ],
   "metadata": {
    "collapsed": false,
    "ExecuteTime": {
     "end_time": "2024-08-04T06:06:09.437625800Z",
     "start_time": "2024-08-04T06:06:05.538209400Z"
    }
   },
   "id": "d8a7e27e19730fad"
  },
  {
   "cell_type": "code",
   "execution_count": null,
   "outputs": [],
   "source": [],
   "metadata": {
    "collapsed": false
   },
   "id": "a1e69760251634b4"
  },
  {
   "cell_type": "code",
   "execution_count": 6,
   "outputs": [],
   "source": [
    "searchloc = '전주 한옥숙소'\n",
    "\n",
    "search_area = driver.find_element(By.XPATH, r'//*[@id=\"search.keyword.query\"]') # 카카오맵 검색창\n",
    "search_area.send_keys(searchloc)  # 검색어 전달\n",
    "driver.find_element(By.XPATH, r'//*[@id=\"search.keyword.submit\"]').send_keys(Keys.ENTER)  # 돋보기 클릭\n",
    "\n",
    "time.sleep(5)\n",
    "\n",
    "driver.find_element(By.XPATH, r'//*[@id=\"info.main.options\"]/li[2]/a').send_keys(Keys.ENTER)  # 장소 탭"
   ],
   "metadata": {
    "collapsed": false,
    "ExecuteTime": {
     "end_time": "2024-08-04T06:06:25.733123100Z",
     "start_time": "2024-08-04T06:06:20.568204700Z"
    }
   },
   "id": "d3664c1a3226a3a3"
  },
  {
   "cell_type": "code",
   "execution_count": 7,
   "outputs": [],
   "source": [
    "room_list = []"
   ],
   "metadata": {
    "collapsed": false,
    "ExecuteTime": {
     "end_time": "2024-08-04T06:07:06.905923100Z",
     "start_time": "2024-08-04T06:07:06.899912100Z"
    }
   },
   "id": "33a94e56a6965a01"
  },
  {
   "cell_type": "code",
   "execution_count": 9,
   "outputs": [],
   "source": [
    "def extract_review():\n",
    "    html = driver.page_source\n",
    "    soup = BeautifulSoup(html, 'html.parser')\n",
    "    \n",
    "    # 후기 목록 찾기\n",
    "    review_lists = soup.select('.list_evaluation > li')\n",
    "    \n",
    "    count = 0\n",
    "    rev = []\n",
    "    # 리뷰가 있는 경우\n",
    "    if len(review_lists) != 0:\n",
    "        for review in review_lists:\n",
    "            comment = review.select('.txt_comment > span')[0].text  # 리뷰\n",
    "            if len(comment) != 0:\n",
    "                rev.append(comment)\n",
    "    # 없으면 빈칸 추가\n",
    "    else:\n",
    "        rev.append(' ')\n",
    "        \n",
    "    \n",
    "    # 다시 검색 탭으로 전환\n",
    "    driver.close()\n",
    "    driver.switch_to.window(driver.window_handles[0])\n",
    "    time.sleep(2)\n",
    "    \n",
    "    return rev"
   ],
   "metadata": {
    "collapsed": false,
    "ExecuteTime": {
     "end_time": "2024-08-04T06:07:22.503510800Z",
     "start_time": "2024-08-04T06:07:22.471494500Z"
    }
   },
   "id": "9e5ee3111d93a9cb"
  },
  {
   "cell_type": "code",
   "execution_count": 10,
   "outputs": [],
   "source": [
    "def roomNamePrint():\n",
    "    time.sleep(0.2)\n",
    "    \n",
    "    html = driver.page_source\n",
    "    soup = BeautifulSoup(html, 'html.parser')\n",
    "    \n",
    "    room_lists = soup.select('.placelist > .PlaceItem') # 장소 정보를 모두 가져옴\n",
    "    for i, room in enumerate(room_lists):\n",
    "        temp = []\n",
    "        \n",
    "        name = room.select('.head_item > .tit_name > .link_name')[0].text\n",
    "        score = room.select('.rating > .score > em')[0].text\n",
    "        addr = room.select('.addr > p')[0].text\n",
    "        \n",
    "        # 상세정보 탭으로 이동\n",
    "        driver.find_element(By.XPATH, r'//*[@id=\"info.search.place.list\"]/li['+str(i+1)+']/div[5]/div[4]/a[1]').send_keys(Keys.ENTER)\n",
    "        driver.switch_to.window(driver.window_handles[-1])\n",
    "        time.sleep(2)\n",
    "        rev = extract_review()  # 리뷰 추출 함수 실행\n",
    "        \n",
    "        \n",
    "        # 하나의 리스트로 만들어 room_list에 추가\n",
    "        temp.append(name)\n",
    "        temp.append(score)\n",
    "        temp.append(addr[3:])\n",
    "        temp.append(rev)\n",
    "        \n",
    "        room_list.append(temp)"
   ],
   "metadata": {
    "collapsed": false,
    "ExecuteTime": {
     "end_time": "2024-08-04T06:07:23.636705100Z",
     "start_time": "2024-08-04T06:07:23.613185600Z"
    }
   },
   "id": "202ea7d8b263d068"
  },
  {
   "cell_type": "code",
   "execution_count": null,
   "outputs": [],
   "source": [],
   "metadata": {
    "collapsed": false
   },
   "id": "71d198f092654d5a"
  }
 ],
 "metadata": {
  "kernelspec": {
   "display_name": "Python 3",
   "language": "python",
   "name": "python3"
  },
  "language_info": {
   "codemirror_mode": {
    "name": "ipython",
    "version": 2
   },
   "file_extension": ".py",
   "mimetype": "text/x-python",
   "name": "python",
   "nbconvert_exporter": "python",
   "pygments_lexer": "ipython2",
   "version": "2.7.6"
  }
 },
 "nbformat": 4,
 "nbformat_minor": 5
}
